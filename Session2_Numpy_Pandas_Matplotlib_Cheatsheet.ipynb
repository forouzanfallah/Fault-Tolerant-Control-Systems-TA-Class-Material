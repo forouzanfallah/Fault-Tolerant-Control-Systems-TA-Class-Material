{
  "nbformat": 4,
  "nbformat_minor": 0,
  "metadata": {
    "kernelspec": {
      "display_name": "Python 3",
      "language": "python",
      "name": "python3"
    },
    "language_info": {
      "codemirror_mode": {
        "name": "ipython",
        "version": 3
      },
      "file_extension": ".py",
      "mimetype": "text/x-python",
      "name": "python",
      "nbconvert_exporter": "python",
      "pygments_lexer": "ipython3",
      "version": "3.6.5"
    },
    "colab": {
      "name": "Session2_Numpy-Pandas-Matplotlib_Cheatsheet.ipynb",
      "provenance": [],
      "collapsed_sections": [
        "bxt3AgF6gZHv",
        "TfcoCuYngigP",
        "6tM5KG0shPv9",
        "W_1n9aIIhR99",
        "ROnYOwDmhTsG",
        "0GuiwAZ3vWkx"
      ],
      "include_colab_link": true
    }
  },
  "cells": [
    {
      "cell_type": "markdown",
      "metadata": {
        "id": "view-in-github",
        "colab_type": "text"
      },
      "source": [
        "<a href=\"https://colab.research.google.com/github/forouzanfallah/Fault-Tolerant-Control-Systems-TA-Class-Material/blob/main/Session2_Numpy_Pandas_Matplotlib_Cheatsheet.ipynb\" target=\"_parent\"><img src=\"https://colab.research.google.com/assets/colab-badge.svg\" alt=\"Open In Colab\"/></a>"
      ]
    },
    {
      "cell_type": "markdown",
      "metadata": {
        "id": "6tM5KG0shPv9"
      },
      "source": [
        "##Numpy"
      ]
    },
    {
      "cell_type": "code",
      "metadata": {
        "ExecuteTime": {
          "end_time": "2019-12-21T18:02:02.633521Z",
          "start_time": "2019-12-21T18:02:02.629546Z"
        },
        "id": "Nu0wn6SJ4NXs"
      },
      "source": [
        "import numpy as np"
      ],
      "execution_count": null,
      "outputs": []
    },
    {
      "cell_type": "markdown",
      "metadata": {
        "id": "BneBBr3B4NXu"
      },
      "source": [
        "#### BASICS"
      ]
    },
    {
      "cell_type": "code",
      "metadata": {
        "ExecuteTime": {
          "end_time": "2019-12-21T18:02:03.170854Z",
          "start_time": "2019-12-21T18:02:02.637485Z"
        },
        "id": "EMG7ftE54NXv"
      },
      "source": [
        "a = np.array([1, 2, 3])\n",
        "\n",
        "b = np.array([\n",
        "    [1., 1.],\n",
        "    [1., 1.]\n",
        "])\n",
        "\n",
        "c = np.array([1,2, 3], dtype=\"int16\")"
      ],
      "execution_count": null,
      "outputs": []
    },
    {
      "cell_type": "code",
      "metadata": {
        "ExecuteTime": {
          "end_time": "2019-12-21T18:02:03.410214Z",
          "start_time": "2019-12-21T18:02:03.172848Z"
        },
        "id": "5zDKBnGL4NXv",
        "colab": {
          "base_uri": "https://localhost:8080/"
        },
        "outputId": "54180cab-bed3-4bce-bf2e-36526f809a32"
      },
      "source": [
        "print(a)\n",
        "print(b)\n",
        "print(c)\n",
        "print('-------')\n",
        "print(a.ndim)\n",
        "print(b.ndim)\n",
        "print(c.ndim)\n",
        "print('-------')\n",
        "print(a.shape)\n",
        "print(b.shape)\n",
        "print(c.shape)"
      ],
      "execution_count": null,
      "outputs": [
        {
          "output_type": "stream",
          "name": "stdout",
          "text": [
            "[1 2 3]\n",
            "[[1. 1.]\n",
            " [1. 1.]]\n",
            "[1 2 3]\n",
            "-------\n",
            "1\n",
            "2\n",
            "1\n",
            "-------\n",
            "(3,)\n",
            "(2, 2)\n",
            "(3,)\n"
          ]
        }
      ]
    },
    {
      "cell_type": "markdown",
      "metadata": {
        "id": "0ITV2Z2t4NXx"
      },
      "source": [
        "* **Numpy Benefits**\n",
        "\n",
        "    1) Fixed Type\n",
        "    \n",
        "    2) Contigious memory\n"
      ]
    },
    {
      "cell_type": "code",
      "metadata": {
        "ExecuteTime": {
          "end_time": "2019-12-21T18:02:03.550195Z",
          "start_time": "2019-12-21T18:02:03.411211Z"
        },
        "id": "WDumB_hv4NXz",
        "colab": {
          "base_uri": "https://localhost:8080/"
        },
        "outputId": "9c10e525-bc35-4158-b819-f9bac922e836"
      },
      "source": [
        "# get type\n",
        "print(a.dtype)\n",
        "print(b.dtype)\n",
        "print(c.dtype)"
      ],
      "execution_count": null,
      "outputs": [
        {
          "output_type": "stream",
          "name": "stdout",
          "text": [
            "int64\n",
            "float64\n",
            "int16\n"
          ]
        }
      ]
    },
    {
      "cell_type": "code",
      "metadata": {
        "ExecuteTime": {
          "end_time": "2019-12-21T18:02:03.690975Z",
          "start_time": "2019-12-21T18:02:03.552190Z"
        },
        "id": "9e4YK4_r4NX0",
        "colab": {
          "base_uri": "https://localhost:8080/"
        },
        "outputId": "e9003326-a958-420b-a181-a7543aefcbe9"
      },
      "source": [
        "# get size - size of each item (B)\n",
        "print(a.itemsize)\n",
        "print(b.itemsize)\n",
        "print(c.itemsize)"
      ],
      "execution_count": null,
      "outputs": [
        {
          "output_type": "stream",
          "name": "stdout",
          "text": [
            "8\n",
            "8\n",
            "2\n"
          ]
        }
      ]
    },
    {
      "cell_type": "code",
      "metadata": {
        "ExecuteTime": {
          "end_time": "2019-12-21T18:02:03.817736Z",
          "start_time": "2019-12-21T18:02:03.693964Z"
        },
        "id": "elh6O_zG4NX1",
        "colab": {
          "base_uri": "https://localhost:8080/"
        },
        "outputId": "2aca90ea-c543-4ffd-d365-232d7a950f32"
      },
      "source": [
        "# get total size - total space used (B )\n",
        "print(a.size * a.itemsize)\n",
        "print(a.nbytes)\n",
        "print(b.nbytes)\n",
        "print(c.nbytes)"
      ],
      "execution_count": null,
      "outputs": [
        {
          "output_type": "stream",
          "name": "stdout",
          "text": [
            "24\n",
            "24\n",
            "32\n",
            "6\n"
          ]
        }
      ]
    },
    {
      "cell_type": "code",
      "metadata": {
        "ExecuteTime": {
          "end_time": "2019-12-21T18:02:03.988276Z",
          "start_time": "2019-12-21T18:02:03.819731Z"
        },
        "id": "S1_xeR994NX2",
        "colab": {
          "base_uri": "https://localhost:8080/"
        },
        "outputId": "42a30146-fcc1-4454-e52d-8caa0f0b525c"
      },
      "source": [
        "arr = [range(1, 5), range(5, 9)] # list of lists\n",
        "e = np.array(arr) # 2d array\n",
        "print(e)\n",
        "x = e.tolist() # convert array back to list\n",
        "print(type(x))"
      ],
      "execution_count": null,
      "outputs": [
        {
          "output_type": "stream",
          "name": "stdout",
          "text": [
            "[[1 2 3 4]\n",
            " [5 6 7 8]]\n",
            "<class 'list'>\n"
          ]
        }
      ]
    },
    {
      "cell_type": "markdown",
      "metadata": {
        "ExecuteTime": {
          "end_time": "2019-12-20T20:21:51.591844Z",
          "start_time": "2019-12-20T20:21:51.586531Z"
        },
        "id": "ZWyYwgq04NX3"
      },
      "source": [
        "#### Adding and removing elements from numpy arrays"
      ]
    },
    {
      "cell_type": "code",
      "metadata": {
        "ExecuteTime": {
          "end_time": "2019-12-21T18:02:04.136119Z",
          "start_time": "2019-12-21T18:02:03.989219Z"
        },
        "id": "oiHkXYzW4NX4",
        "colab": {
          "base_uri": "https://localhost:8080/"
        },
        "outputId": "c8ff24d6-6770-467b-cbb3-2efeb1b41eea"
      },
      "source": [
        "a = np.array(np.arange(24)).reshape((2, 3, 4))\n",
        "a"
      ],
      "execution_count": null,
      "outputs": [
        {
          "output_type": "execute_result",
          "data": {
            "text/plain": [
              "array([[[ 0,  1,  2,  3],\n",
              "        [ 4,  5,  6,  7],\n",
              "        [ 8,  9, 10, 11]],\n",
              "\n",
              "       [[12, 13, 14, 15],\n",
              "        [16, 17, 18, 19],\n",
              "        [20, 21, 22, 23]]])"
            ]
          },
          "metadata": {},
          "execution_count": 8
        }
      ]
    },
    {
      "cell_type": "code",
      "metadata": {
        "ExecuteTime": {
          "end_time": "2019-12-21T18:02:04.277857Z",
          "start_time": "2019-12-21T18:02:04.138058Z"
        },
        "id": "RpClgOrt4NX4",
        "colab": {
          "base_uri": "https://localhost:8080/"
        },
        "outputId": "4e77354f-e583-45bf-e3f2-6d1e335511bc"
      },
      "source": [
        "b = np.append(a, [5, 6, 7, 8])\n",
        "b"
      ],
      "execution_count": null,
      "outputs": [
        {
          "output_type": "execute_result",
          "data": {
            "text/plain": [
              "array([ 0,  1,  2,  3,  4,  5,  6,  7,  8,  9, 10, 11, 12, 13, 14, 15, 16,\n",
              "       17, 18, 19, 20, 21, 22, 23,  5,  6,  7,  8])"
            ]
          },
          "metadata": {},
          "execution_count": 9
        }
      ]
    },
    {
      "cell_type": "code",
      "metadata": {
        "ExecuteTime": {
          "end_time": "2019-12-21T18:02:04.470884Z",
          "start_time": "2019-12-21T18:02:04.280799Z"
        },
        "id": "Ly-p1xK54NX5",
        "colab": {
          "base_uri": "https://localhost:8080/"
        },
        "outputId": "7181e0ea-8887-44be-8484-ce87ff698d70"
      },
      "source": [
        "b.shape"
      ],
      "execution_count": null,
      "outputs": [
        {
          "output_type": "execute_result",
          "data": {
            "text/plain": [
              "(28,)"
            ]
          },
          "metadata": {},
          "execution_count": 10
        }
      ]
    },
    {
      "cell_type": "code",
      "metadata": {
        "ExecuteTime": {
          "end_time": "2019-12-21T18:02:04.742265Z",
          "start_time": "2019-12-21T18:02:04.471877Z"
        },
        "id": "3SVY0Plo4NX6",
        "colab": {
          "base_uri": "https://localhost:8080/"
        },
        "outputId": "8837af8b-127c-4f40-a9ff-ce48feba016f"
      },
      "source": [
        "b.reshape((7, 4))"
      ],
      "execution_count": null,
      "outputs": [
        {
          "output_type": "execute_result",
          "data": {
            "text/plain": [
              "array([[ 0,  1,  2,  3],\n",
              "       [ 4,  5,  6,  7],\n",
              "       [ 8,  9, 10, 11],\n",
              "       [12, 13, 14, 15],\n",
              "       [16, 17, 18, 19],\n",
              "       [20, 21, 22, 23],\n",
              "       [ 5,  6,  7,  8]])"
            ]
          },
          "metadata": {},
          "execution_count": 11
        }
      ]
    },
    {
      "cell_type": "code",
      "metadata": {
        "ExecuteTime": {
          "end_time": "2019-12-21T18:02:04.877858Z",
          "start_time": "2019-12-21T18:02:04.743261Z"
        },
        "id": "s0PXdga34NX7",
        "colab": {
          "base_uri": "https://localhost:8080/"
        },
        "outputId": "2a6d573a-bb52-443a-86de-4ed6c1e17443"
      },
      "source": [
        "a"
      ],
      "execution_count": null,
      "outputs": [
        {
          "output_type": "execute_result",
          "data": {
            "text/plain": [
              "array([[[ 0,  1,  2,  3],\n",
              "        [ 4,  5,  6,  7],\n",
              "        [ 8,  9, 10, 11]],\n",
              "\n",
              "       [[12, 13, 14, 15],\n",
              "        [16, 17, 18, 19],\n",
              "        [20, 21, 22, 23]]])"
            ]
          },
          "metadata": {},
          "execution_count": 12
        }
      ]
    },
    {
      "cell_type": "code",
      "metadata": {
        "ExecuteTime": {
          "end_time": "2019-12-21T18:02:05.058452Z",
          "start_time": "2019-12-21T18:02:04.878856Z"
        },
        "id": "VFwepX4A4NX7",
        "colab": {
          "base_uri": "https://localhost:8080/"
        },
        "outputId": "bc697be8-5226-4bbe-a2b2-fb34c776dab0"
      },
      "source": [
        "c = np.array(np.arange(24)).reshape((2, 3, 4)) * 10 + 3\n",
        "c"
      ],
      "execution_count": null,
      "outputs": [
        {
          "output_type": "execute_result",
          "data": {
            "text/plain": [
              "array([[[  3,  13,  23,  33],\n",
              "        [ 43,  53,  63,  73],\n",
              "        [ 83,  93, 103, 113]],\n",
              "\n",
              "       [[123, 133, 143, 153],\n",
              "        [163, 173, 183, 193],\n",
              "        [203, 213, 223, 233]]])"
            ]
          },
          "metadata": {},
          "execution_count": 13
        }
      ]
    },
    {
      "cell_type": "code",
      "metadata": {
        "ExecuteTime": {
          "end_time": "2019-12-21T18:02:05.202247Z",
          "start_time": "2019-12-21T18:02:05.059412Z"
        },
        "id": "s9mfILjJ4NX8",
        "colab": {
          "base_uri": "https://localhost:8080/"
        },
        "outputId": "a969e986-a760-4a84-f540-fd1264f46c77"
      },
      "source": [
        "np.append(a, c, axis=0)"
      ],
      "execution_count": null,
      "outputs": [
        {
          "output_type": "execute_result",
          "data": {
            "text/plain": [
              "array([[[  0,   1,   2,   3],\n",
              "        [  4,   5,   6,   7],\n",
              "        [  8,   9,  10,  11]],\n",
              "\n",
              "       [[ 12,  13,  14,  15],\n",
              "        [ 16,  17,  18,  19],\n",
              "        [ 20,  21,  22,  23]],\n",
              "\n",
              "       [[  3,  13,  23,  33],\n",
              "        [ 43,  53,  63,  73],\n",
              "        [ 83,  93, 103, 113]],\n",
              "\n",
              "       [[123, 133, 143, 153],\n",
              "        [163, 173, 183, 193],\n",
              "        [203, 213, 223, 233]]])"
            ]
          },
          "metadata": {},
          "execution_count": 14
        }
      ]
    },
    {
      "cell_type": "code",
      "metadata": {
        "ExecuteTime": {
          "end_time": "2019-12-21T18:02:05.375704Z",
          "start_time": "2019-12-21T18:02:05.203209Z"
        },
        "id": "LMHl6AJX4NX9",
        "colab": {
          "base_uri": "https://localhost:8080/"
        },
        "outputId": "c587031f-1767-43ce-85ac-283e5f758f20"
      },
      "source": [
        "np.append(a, c, axis=0).shape"
      ],
      "execution_count": null,
      "outputs": [
        {
          "output_type": "execute_result",
          "data": {
            "text/plain": [
              "(4, 3, 4)"
            ]
          },
          "metadata": {},
          "execution_count": 15
        }
      ]
    },
    {
      "cell_type": "code",
      "metadata": {
        "ExecuteTime": {
          "end_time": "2019-12-21T18:02:05.566037Z",
          "start_time": "2019-12-21T18:02:05.376720Z"
        },
        "id": "ImiCN4394NYA",
        "colab": {
          "base_uri": "https://localhost:8080/"
        },
        "outputId": "4654ff6f-f2b2-4c3b-cd43-c8881ce177d4"
      },
      "source": [
        "np.append(a, c, axis=1)"
      ],
      "execution_count": null,
      "outputs": [
        {
          "output_type": "execute_result",
          "data": {
            "text/plain": [
              "array([[[  0,   1,   2,   3],\n",
              "        [  4,   5,   6,   7],\n",
              "        [  8,   9,  10,  11],\n",
              "        [  3,  13,  23,  33],\n",
              "        [ 43,  53,  63,  73],\n",
              "        [ 83,  93, 103, 113]],\n",
              "\n",
              "       [[ 12,  13,  14,  15],\n",
              "        [ 16,  17,  18,  19],\n",
              "        [ 20,  21,  22,  23],\n",
              "        [123, 133, 143, 153],\n",
              "        [163, 173, 183, 193],\n",
              "        [203, 213, 223, 233]]])"
            ]
          },
          "metadata": {},
          "execution_count": 16
        }
      ]
    },
    {
      "cell_type": "code",
      "metadata": {
        "ExecuteTime": {
          "end_time": "2019-12-21T18:02:05.703614Z",
          "start_time": "2019-12-21T18:02:05.567034Z"
        },
        "id": "wfUoS8Vj4NYB",
        "colab": {
          "base_uri": "https://localhost:8080/"
        },
        "outputId": "b06c8005-3917-449c-815c-a698adec4b13"
      },
      "source": [
        "np.append(a, c, axis=1).shape"
      ],
      "execution_count": null,
      "outputs": [
        {
          "output_type": "execute_result",
          "data": {
            "text/plain": [
              "(2, 6, 4)"
            ]
          },
          "metadata": {},
          "execution_count": 17
        }
      ]
    },
    {
      "cell_type": "code",
      "metadata": {
        "ExecuteTime": {
          "end_time": "2019-12-21T18:02:05.842509Z",
          "start_time": "2019-12-21T18:02:05.704609Z"
        },
        "id": "5D_uxEmA4NYB",
        "colab": {
          "base_uri": "https://localhost:8080/"
        },
        "outputId": "fd9db276-010f-4135-fa3c-816a481e6b40"
      },
      "source": [
        "np.append(a, c, axis=2)"
      ],
      "execution_count": null,
      "outputs": [
        {
          "output_type": "execute_result",
          "data": {
            "text/plain": [
              "array([[[  0,   1,   2,   3,   3,  13,  23,  33],\n",
              "        [  4,   5,   6,   7,  43,  53,  63,  73],\n",
              "        [  8,   9,  10,  11,  83,  93, 103, 113]],\n",
              "\n",
              "       [[ 12,  13,  14,  15, 123, 133, 143, 153],\n",
              "        [ 16,  17,  18,  19, 163, 173, 183, 193],\n",
              "        [ 20,  21,  22,  23, 203, 213, 223, 233]]])"
            ]
          },
          "metadata": {},
          "execution_count": 18
        }
      ]
    },
    {
      "cell_type": "code",
      "metadata": {
        "ExecuteTime": {
          "end_time": "2019-12-21T18:02:05.993644Z",
          "start_time": "2019-12-21T18:02:05.843506Z"
        },
        "id": "2NwtD5QT4NYC",
        "colab": {
          "base_uri": "https://localhost:8080/"
        },
        "outputId": "1f4cfeef-f96b-44ed-a14b-c916e5cda4ea"
      },
      "source": [
        "np.append(a, c, axis=2).shape"
      ],
      "execution_count": null,
      "outputs": [
        {
          "output_type": "execute_result",
          "data": {
            "text/plain": [
              "(2, 3, 8)"
            ]
          },
          "metadata": {},
          "execution_count": 19
        }
      ]
    },
    {
      "cell_type": "code",
      "metadata": {
        "ExecuteTime": {
          "end_time": "2019-12-21T18:02:06.133108Z",
          "start_time": "2019-12-21T18:02:05.995641Z"
        },
        "id": "cuXACA874NYC",
        "colab": {
          "base_uri": "https://localhost:8080/"
        },
        "outputId": "b948608e-9f2f-42db-9349-3a206859666b"
      },
      "source": [
        "after_insert_array = np.insert(c, 1, 444, axis=0)\n",
        "after_insert_array"
      ],
      "execution_count": null,
      "outputs": [
        {
          "output_type": "execute_result",
          "data": {
            "text/plain": [
              "array([[[  3,  13,  23,  33],\n",
              "        [ 43,  53,  63,  73],\n",
              "        [ 83,  93, 103, 113]],\n",
              "\n",
              "       [[444, 444, 444, 444],\n",
              "        [444, 444, 444, 444],\n",
              "        [444, 444, 444, 444]],\n",
              "\n",
              "       [[123, 133, 143, 153],\n",
              "        [163, 173, 183, 193],\n",
              "        [203, 213, 223, 233]]])"
            ]
          },
          "metadata": {},
          "execution_count": 20
        }
      ]
    },
    {
      "cell_type": "code",
      "metadata": {
        "ExecuteTime": {
          "end_time": "2019-12-21T18:02:06.278042Z",
          "start_time": "2019-12-21T18:02:06.134090Z"
        },
        "id": "GWuSxK_s4NYC",
        "colab": {
          "base_uri": "https://localhost:8080/"
        },
        "outputId": "13658d09-73b8-4995-900c-c735e7056399"
      },
      "source": [
        "after_insert_array = np.insert(c, 1, 444, axis=1)\n",
        "after_insert_array"
      ],
      "execution_count": null,
      "outputs": [
        {
          "output_type": "execute_result",
          "data": {
            "text/plain": [
              "array([[[  3,  13,  23,  33],\n",
              "        [444, 444, 444, 444],\n",
              "        [ 43,  53,  63,  73],\n",
              "        [ 83,  93, 103, 113]],\n",
              "\n",
              "       [[123, 133, 143, 153],\n",
              "        [444, 444, 444, 444],\n",
              "        [163, 173, 183, 193],\n",
              "        [203, 213, 223, 233]]])"
            ]
          },
          "metadata": {},
          "execution_count": 21
        }
      ]
    },
    {
      "cell_type": "code",
      "metadata": {
        "ExecuteTime": {
          "end_time": "2019-12-21T18:02:06.453763Z",
          "start_time": "2019-12-21T18:02:06.281050Z"
        },
        "id": "xkM3994B4NYC",
        "colab": {
          "base_uri": "https://localhost:8080/"
        },
        "outputId": "1897898f-f1f3-44cb-c1d1-672d280dacb7"
      },
      "source": [
        "after_insert_array = np.insert(c, 1, 444, axis=2)\n",
        "after_insert_array"
      ],
      "execution_count": null,
      "outputs": [
        {
          "output_type": "execute_result",
          "data": {
            "text/plain": [
              "array([[[  3, 444,  13,  23,  33],\n",
              "        [ 43, 444,  53,  63,  73],\n",
              "        [ 83, 444,  93, 103, 113]],\n",
              "\n",
              "       [[123, 444, 133, 143, 153],\n",
              "        [163, 444, 173, 183, 193],\n",
              "        [203, 444, 213, 223, 233]]])"
            ]
          },
          "metadata": {},
          "execution_count": 22
        }
      ]
    },
    {
      "cell_type": "code",
      "metadata": {
        "ExecuteTime": {
          "end_time": "2019-12-21T18:02:06.638027Z",
          "start_time": "2019-12-21T18:02:06.454724Z"
        },
        "id": "DecbT1QK4NYD",
        "colab": {
          "base_uri": "https://localhost:8080/"
        },
        "outputId": "a9d0bf62-f16e-4b81-9d31-b3ecb6981791"
      },
      "source": [
        "d = np.empty(c.shape)\n",
        "np.copyto(d, c)\n",
        "d"
      ],
      "execution_count": null,
      "outputs": [
        {
          "output_type": "execute_result",
          "data": {
            "text/plain": [
              "array([[[  3.,  13.,  23.,  33.],\n",
              "        [ 43.,  53.,  63.,  73.],\n",
              "        [ 83.,  93., 103., 113.]],\n",
              "\n",
              "       [[123., 133., 143., 153.],\n",
              "        [163., 173., 183., 193.],\n",
              "        [203., 213., 223., 233.]]])"
            ]
          },
          "metadata": {},
          "execution_count": 23
        }
      ]
    },
    {
      "cell_type": "code",
      "metadata": {
        "ExecuteTime": {
          "end_time": "2019-12-21T18:02:06.811997Z",
          "start_time": "2019-12-21T18:02:06.642017Z"
        },
        "id": "bQ-BKKJm4NYD",
        "colab": {
          "base_uri": "https://localhost:8080/"
        },
        "outputId": "99d28891-d31d-4536-c436-da6941e2534c"
      },
      "source": [
        "np.delete(d, 1, axis=0)"
      ],
      "execution_count": null,
      "outputs": [
        {
          "output_type": "execute_result",
          "data": {
            "text/plain": [
              "array([[[  3.,  13.,  23.,  33.],\n",
              "        [ 43.,  53.,  63.,  73.],\n",
              "        [ 83.,  93., 103., 113.]]])"
            ]
          },
          "metadata": {},
          "execution_count": 24
        }
      ]
    },
    {
      "cell_type": "code",
      "metadata": {
        "ExecuteTime": {
          "end_time": "2019-12-21T18:02:06.949593Z",
          "start_time": "2019-12-21T18:02:06.817940Z"
        },
        "id": "J_mq5W6X4NYD",
        "colab": {
          "base_uri": "https://localhost:8080/"
        },
        "outputId": "85a92220-04cc-484a-ab43-bf73d5fa550c"
      },
      "source": [
        "np.delete(d, 1, axis=1)"
      ],
      "execution_count": null,
      "outputs": [
        {
          "output_type": "execute_result",
          "data": {
            "text/plain": [
              "array([[[  3.,  13.,  23.,  33.],\n",
              "        [ 83.,  93., 103., 113.]],\n",
              "\n",
              "       [[123., 133., 143., 153.],\n",
              "        [203., 213., 223., 233.]]])"
            ]
          },
          "metadata": {},
          "execution_count": 25
        }
      ]
    },
    {
      "cell_type": "code",
      "metadata": {
        "ExecuteTime": {
          "end_time": "2019-12-21T18:02:07.106290Z",
          "start_time": "2019-12-21T18:02:06.950629Z"
        },
        "id": "swmlUNUn4NYD",
        "colab": {
          "base_uri": "https://localhost:8080/"
        },
        "outputId": "e3691538-6fd2-414d-eb9c-def1c863aac3"
      },
      "source": [
        "np.delete(d, 1, axis=2)"
      ],
      "execution_count": null,
      "outputs": [
        {
          "output_type": "execute_result",
          "data": {
            "text/plain": [
              "array([[[  3.,  23.,  33.],\n",
              "        [ 43.,  63.,  73.],\n",
              "        [ 83., 103., 113.]],\n",
              "\n",
              "       [[123., 143., 153.],\n",
              "        [163., 183., 193.],\n",
              "        [203., 223., 233.]]])"
            ]
          },
          "metadata": {},
          "execution_count": 26
        }
      ]
    },
    {
      "cell_type": "markdown",
      "metadata": {
        "id": "X-Oc84rt4NYE"
      },
      "source": [
        "#### Accessing/Changing specific elements, rows, columns, etc"
      ]
    },
    {
      "cell_type": "code",
      "metadata": {
        "ExecuteTime": {
          "end_time": "2019-12-21T18:02:07.260785Z",
          "start_time": "2019-12-21T18:02:07.111222Z"
        },
        "id": "7fFdKrh24NYE",
        "colab": {
          "base_uri": "https://localhost:8080/"
        },
        "outputId": "783b067c-7ef7-45bb-baef-1bc79332cc9e"
      },
      "source": [
        "a = np.array([[1,2, 3, 4, 5, 6, 7], [8, 9, 10, 11, 12, 13, 14]])\n",
        "print(a)\n",
        "print(a.shape)"
      ],
      "execution_count": null,
      "outputs": [
        {
          "output_type": "stream",
          "name": "stdout",
          "text": [
            "[[ 1  2  3  4  5  6  7]\n",
            " [ 8  9 10 11 12 13 14]]\n",
            "(2, 7)\n"
          ]
        }
      ]
    },
    {
      "cell_type": "code",
      "metadata": {
        "ExecuteTime": {
          "end_time": "2019-12-21T18:02:07.385959Z",
          "start_time": "2019-12-21T18:02:07.264201Z"
        },
        "id": "X3ikRQUT4NYE",
        "colab": {
          "base_uri": "https://localhost:8080/"
        },
        "outputId": "30ad9eda-d2ce-4d00-ad5a-2e6623702fd3"
      },
      "source": [
        "# get a specific element [r, c]\n",
        "print(a[1, 5])\n",
        "print(a[1][5])\n",
        "print(a[1][-2])"
      ],
      "execution_count": null,
      "outputs": [
        {
          "output_type": "stream",
          "name": "stdout",
          "text": [
            "13\n",
            "13\n",
            "13\n"
          ]
        }
      ]
    },
    {
      "cell_type": "code",
      "metadata": {
        "ExecuteTime": {
          "end_time": "2019-12-21T18:02:07.516199Z",
          "start_time": "2019-12-21T18:02:07.386955Z"
        },
        "id": "nnnyPn264NYE",
        "colab": {
          "base_uri": "https://localhost:8080/"
        },
        "outputId": "16c98ff6-8cf7-4f30-8207-65dd6e6602a3"
      },
      "source": [
        "#  get a specific row\n",
        "a[0, :]"
      ],
      "execution_count": null,
      "outputs": [
        {
          "output_type": "execute_result",
          "data": {
            "text/plain": [
              "array([1, 2, 3, 4, 5, 6, 7])"
            ]
          },
          "metadata": {},
          "execution_count": 29
        }
      ]
    },
    {
      "cell_type": "code",
      "metadata": {
        "ExecuteTime": {
          "end_time": "2019-12-21T18:02:07.657736Z",
          "start_time": "2019-12-21T18:02:07.517200Z"
        },
        "id": "FZZ_RlIP4NYE",
        "colab": {
          "base_uri": "https://localhost:8080/"
        },
        "outputId": "6df14b8f-c1aa-4431-aad2-18ff0a3f7bfa"
      },
      "source": [
        "# get a specific col\n",
        "a[:, 2]"
      ],
      "execution_count": null,
      "outputs": [
        {
          "output_type": "execute_result",
          "data": {
            "text/plain": [
              "array([ 3, 10])"
            ]
          },
          "metadata": {},
          "execution_count": 30
        }
      ]
    },
    {
      "cell_type": "code",
      "metadata": {
        "ExecuteTime": {
          "end_time": "2019-12-21T18:02:07.793423Z",
          "start_time": "2019-12-21T18:02:07.660726Z"
        },
        "id": "yskWXp6g4NYF",
        "colab": {
          "base_uri": "https://localhost:8080/"
        },
        "outputId": "2b05f058-8423-4d6c-9eb6-478602c8e4d0"
      },
      "source": [
        "# getting fancy [startindex: endindex: stepsize]\n",
        "print(a[0, 1:6:2])"
      ],
      "execution_count": null,
      "outputs": [
        {
          "output_type": "stream",
          "name": "stdout",
          "text": [
            "[2 4 6]\n"
          ]
        }
      ]
    },
    {
      "cell_type": "code",
      "metadata": {
        "ExecuteTime": {
          "end_time": "2019-12-21T18:02:07.950546Z",
          "start_time": "2019-12-21T18:02:07.795403Z"
        },
        "id": "emqV5plh4NYF",
        "colab": {
          "base_uri": "https://localhost:8080/"
        },
        "outputId": "b69f2675-47f3-4136-f9b9-e854773f63bc"
      },
      "source": [
        "# changing element(s)\n",
        "a [1, 5] = 20\n",
        "print(a)\n",
        "print('-----')\n",
        "a[:, 2] = 5\n",
        "print(a)\n",
        "print('-----')\n",
        "a[:, 2] = [1, 2]\n",
        "print(a)"
      ],
      "execution_count": null,
      "outputs": [
        {
          "output_type": "stream",
          "name": "stdout",
          "text": [
            "[[ 1  2  3  4  5  6  7]\n",
            " [ 8  9 10 11 12 20 14]]\n",
            "-----\n",
            "[[ 1  2  5  4  5  6  7]\n",
            " [ 8  9  5 11 12 20 14]]\n",
            "-----\n",
            "[[ 1  2  1  4  5  6  7]\n",
            " [ 8  9  2 11 12 20 14]]\n"
          ]
        }
      ]
    },
    {
      "cell_type": "code",
      "metadata": {
        "ExecuteTime": {
          "end_time": "2019-12-21T18:02:08.126714Z",
          "start_time": "2019-12-21T18:02:07.951544Z"
        },
        "id": "cS3RWeHi4NYF",
        "colab": {
          "base_uri": "https://localhost:8080/"
        },
        "outputId": "24e512ab-dfe9-4472-d2d0-eda23e9a5b47"
      },
      "source": [
        "# 3-d\n",
        "a = np.array([[[1, 2], [3, 4]], [[5, 6], [7, 8]]])\n",
        "print(a)\n",
        "print('------')\n",
        "print(a.shape)\n",
        "\n",
        "# think of number of rows as original number of rows\n",
        "# inside each box columns become rows and depth becomes columns\n",
        "# think of it as [1, 2] at at position a[0, 0]\n",
        "\n",
        "# NumPy’s order for printing n-dimensional arrays is that the last axis\n",
        "# is looped over the fastest, while the first is the slowest"
      ],
      "execution_count": null,
      "outputs": [
        {
          "output_type": "stream",
          "name": "stdout",
          "text": [
            "[[[1 2]\n",
            "  [3 4]]\n",
            "\n",
            " [[5 6]\n",
            "  [7 8]]]\n",
            "------\n",
            "(2, 2, 2)\n"
          ]
        }
      ]
    },
    {
      "cell_type": "code",
      "metadata": {
        "ExecuteTime": {
          "end_time": "2019-12-21T18:02:08.310885Z",
          "start_time": "2019-12-21T18:02:08.127711Z"
        },
        "id": "7K9iav1A4NYG",
        "colab": {
          "base_uri": "https://localhost:8080/"
        },
        "outputId": "1a6433b0-97be-4a1e-b009-06579f0bee3a"
      },
      "source": [
        "print(a[0, 0])\n",
        "print(a[0, 1])\n",
        "print(a[1, 0])\n",
        "print(a[1, 1])\n",
        "\n",
        "# get specific element\n",
        "print(a[0,1,1])"
      ],
      "execution_count": null,
      "outputs": [
        {
          "output_type": "stream",
          "name": "stdout",
          "text": [
            "[1 2]\n",
            "[3 4]\n",
            "[5 6]\n",
            "[7 8]\n",
            "4\n"
          ]
        }
      ]
    },
    {
      "cell_type": "code",
      "metadata": {
        "ExecuteTime": {
          "end_time": "2019-12-21T18:02:08.492602Z",
          "start_time": "2019-12-21T18:02:08.313845Z"
        },
        "id": "2IQA-Cbn4NYG",
        "colab": {
          "base_uri": "https://localhost:8080/"
        },
        "outputId": "b65911db-0796-4f41-baef-162b7ede4565"
      },
      "source": [
        "# replace\n",
        "\n",
        "a[:, 1, :] = [[10, 11], [12, 13]]\n",
        "print(a)\n",
        "print('-----')\n",
        "\n",
        "a[0, 1, :] = [99, 98]\n",
        "print(a)"
      ],
      "execution_count": null,
      "outputs": [
        {
          "output_type": "stream",
          "name": "stdout",
          "text": [
            "[[[ 1  2]\n",
            "  [10 11]]\n",
            "\n",
            " [[ 5  6]\n",
            "  [12 13]]]\n",
            "-----\n",
            "[[[ 1  2]\n",
            "  [99 98]]\n",
            "\n",
            " [[ 5  6]\n",
            "  [12 13]]]\n"
          ]
        }
      ]
    },
    {
      "cell_type": "markdown",
      "metadata": {
        "ExecuteTime": {
          "end_time": "2019-12-20T14:39:58.976557Z",
          "start_time": "2019-12-20T14:39:58.971570Z"
        },
        "id": "euCbIzPd4NYG"
      },
      "source": [
        "#### Initializing different type of arrays"
      ]
    },
    {
      "cell_type": "code",
      "metadata": {
        "ExecuteTime": {
          "end_time": "2019-12-21T18:02:08.637216Z",
          "start_time": "2019-12-21T18:02:08.496631Z"
        },
        "id": "tM3CEmkZ4NYG",
        "colab": {
          "base_uri": "https://localhost:8080/"
        },
        "outputId": "3f6403c6-2535-4aa2-8c43-fba5e784c5f6"
      },
      "source": [
        "# all 0's matrix\n",
        "np.zeros(shape=(2, 3))"
      ],
      "execution_count": null,
      "outputs": [
        {
          "output_type": "execute_result",
          "data": {
            "text/plain": [
              "array([[0., 0., 0.],\n",
              "       [0., 0., 0.]])"
            ]
          },
          "metadata": {},
          "execution_count": 36
        }
      ]
    },
    {
      "cell_type": "code",
      "metadata": {
        "ExecuteTime": {
          "end_time": "2019-12-21T18:02:08.771011Z",
          "start_time": "2019-12-21T18:02:08.639209Z"
        },
        "id": "_nWl19nw4NYG",
        "colab": {
          "base_uri": "https://localhost:8080/"
        },
        "outputId": "7ad3ed3f-c868-4c16-87ca-22a6ddbc7251"
      },
      "source": [
        "# all 1's matrix\n",
        "np.ones((4, 2, 2), dtype='int32')"
      ],
      "execution_count": null,
      "outputs": [
        {
          "output_type": "execute_result",
          "data": {
            "text/plain": [
              "array([[[1, 1],\n",
              "        [1, 1]],\n",
              "\n",
              "       [[1, 1],\n",
              "        [1, 1]],\n",
              "\n",
              "       [[1, 1],\n",
              "        [1, 1]],\n",
              "\n",
              "       [[1, 1],\n",
              "        [1, 1]]], dtype=int32)"
            ]
          },
          "metadata": {},
          "execution_count": 37
        }
      ]
    },
    {
      "cell_type": "code",
      "metadata": {
        "ExecuteTime": {
          "end_time": "2019-12-21T18:02:08.898448Z",
          "start_time": "2019-12-21T18:02:08.772009Z"
        },
        "id": "6FAo3X0d4NYH",
        "colab": {
          "base_uri": "https://localhost:8080/"
        },
        "outputId": "237c643c-8e2c-4d32-82a7-e4a84c121d6c"
      },
      "source": [
        "# any other number\n",
        "np.full((2, 2), 99)"
      ],
      "execution_count": null,
      "outputs": [
        {
          "output_type": "execute_result",
          "data": {
            "text/plain": [
              "array([[99, 99],\n",
              "       [99, 99]])"
            ]
          },
          "metadata": {},
          "execution_count": 38
        }
      ]
    },
    {
      "cell_type": "code",
      "metadata": {
        "ExecuteTime": {
          "end_time": "2019-12-21T18:02:09.038073Z",
          "start_time": "2019-12-21T18:02:08.899445Z"
        },
        "id": "SDAzO9Ln4NYH",
        "colab": {
          "base_uri": "https://localhost:8080/"
        },
        "outputId": "23ca14b1-701d-45cd-ae84-bd563828f0ad"
      },
      "source": [
        "# any other number (full_like)\n",
        "a = np.array([[1,2, 3, 4, 5, 6, 7], [8, 9, 10, 11, 12, 13, 14]])\n",
        "np.full_like(a, 8)"
      ],
      "execution_count": null,
      "outputs": [
        {
          "output_type": "execute_result",
          "data": {
            "text/plain": [
              "array([[8, 8, 8, 8, 8, 8, 8],\n",
              "       [8, 8, 8, 8, 8, 8, 8]])"
            ]
          },
          "metadata": {},
          "execution_count": 39
        }
      ]
    },
    {
      "cell_type": "code",
      "metadata": {
        "ExecuteTime": {
          "end_time": "2019-12-21T18:02:09.181410Z",
          "start_time": "2019-12-21T18:02:09.039071Z"
        },
        "id": "U8TpamAD4NYH",
        "colab": {
          "base_uri": "https://localhost:8080/"
        },
        "outputId": "d639cf5e-0b72-4e5a-fceb-0152155b7aef"
      },
      "source": [
        "# random decimal numbers\n",
        "np.random.rand(4, 2, 3)"
      ],
      "execution_count": null,
      "outputs": [
        {
          "output_type": "execute_result",
          "data": {
            "text/plain": [
              "array([[[0.89937526, 0.87074336, 0.3997907 ],\n",
              "        [0.46271516, 0.03096198, 0.43800332]],\n",
              "\n",
              "       [[0.80898211, 0.6972496 , 0.67570921],\n",
              "        [0.9873161 , 0.05157841, 0.46693771]],\n",
              "\n",
              "       [[0.72611694, 0.70478356, 0.88656896],\n",
              "        [0.58524074, 0.18748464, 0.7010712 ]],\n",
              "\n",
              "       [[0.89343921, 0.07036559, 0.84982971],\n",
              "        [0.70156513, 0.16637508, 0.85791275]]])"
            ]
          },
          "metadata": {},
          "execution_count": 40
        }
      ]
    },
    {
      "cell_type": "code",
      "metadata": {
        "ExecuteTime": {
          "end_time": "2019-12-21T18:02:09.327540Z",
          "start_time": "2019-12-21T18:02:09.184402Z"
        },
        "id": "1u9ySNeb4NYH",
        "colab": {
          "base_uri": "https://localhost:8080/"
        },
        "outputId": "daa16f2b-70fe-462e-d790-a1573c2b5a90"
      },
      "source": [
        "np.random.random_sample(a.shape)"
      ],
      "execution_count": null,
      "outputs": [
        {
          "output_type": "execute_result",
          "data": {
            "text/plain": [
              "array([[0.84230684, 0.58107132, 0.88099225, 0.60250148, 0.13594367,\n",
              "        0.6278389 , 0.73848747],\n",
              "       [0.96041886, 0.2965036 , 0.66129572, 0.04597053, 0.47356502,\n",
              "        0.94674434, 0.21707571]])"
            ]
          },
          "metadata": {},
          "execution_count": 41
        }
      ]
    },
    {
      "cell_type": "code",
      "metadata": {
        "ExecuteTime": {
          "end_time": "2019-12-21T18:02:09.466462Z",
          "start_time": "2019-12-21T18:02:09.328538Z"
        },
        "id": "fkXsfoCl4NYI",
        "colab": {
          "base_uri": "https://localhost:8080/"
        },
        "outputId": "be646823-a736-4428-88e3-e91e1c5b7273"
      },
      "source": [
        "# random integer values\n",
        "print(np.random.randint(7))\n",
        "print(np.random.randint(7, size=(3, 3)))"
      ],
      "execution_count": null,
      "outputs": [
        {
          "output_type": "stream",
          "name": "stdout",
          "text": [
            "0\n",
            "[[2 4 6]\n",
            " [5 5 1]\n",
            " [6 6 4]]\n"
          ]
        }
      ]
    },
    {
      "cell_type": "code",
      "metadata": {
        "ExecuteTime": {
          "end_time": "2019-12-21T18:02:09.644181Z",
          "start_time": "2019-12-21T18:02:09.467423Z"
        },
        "id": "zjnZjNNT4NYI",
        "colab": {
          "base_uri": "https://localhost:8080/"
        },
        "outputId": "18b8ac59-9b28-41fc-e788-9171d3c7d72e"
      },
      "source": [
        "# identity matrix\n",
        "np.identity(3)"
      ],
      "execution_count": null,
      "outputs": [
        {
          "output_type": "execute_result",
          "data": {
            "text/plain": [
              "array([[1., 0., 0.],\n",
              "       [0., 1., 0.],\n",
              "       [0., 0., 1.]])"
            ]
          },
          "metadata": {},
          "execution_count": 43
        }
      ]
    },
    {
      "cell_type": "code",
      "metadata": {
        "ExecuteTime": {
          "end_time": "2019-12-21T18:02:09.798389Z",
          "start_time": "2019-12-21T18:02:09.647138Z"
        },
        "id": "43U_-O964NYI",
        "colab": {
          "base_uri": "https://localhost:8080/"
        },
        "outputId": "1aab5e87-e888-45ca-a998-9699e1490adf"
      },
      "source": [
        "print(np.logspace(0, 3, 4)) # 10^0 to 10^3 (inclusive) with 4 points"
      ],
      "execution_count": null,
      "outputs": [
        {
          "output_type": "stream",
          "name": "stdout",
          "text": [
            "[   1.   10.  100. 1000.]\n"
          ]
        }
      ]
    },
    {
      "cell_type": "code",
      "metadata": {
        "ExecuteTime": {
          "end_time": "2019-12-21T18:02:10.010401Z",
          "start_time": "2019-12-21T18:02:09.799384Z"
        },
        "id": "F2weRtcV4NYI",
        "colab": {
          "base_uri": "https://localhost:8080/"
        },
        "outputId": "bb52d1df-4f35-4473-bcf4-c089f66dfd7b"
      },
      "source": [
        "# repeat an array\n",
        "\n",
        "arr = np.array([[1, 2, 3]])\n",
        "r1 = np.repeat(arr, 3, axis=0)\n",
        "print(r1)\n",
        "print('-----')\n",
        "r2 = np.repeat(arr, 3, axis=1)\n",
        "print(r2)"
      ],
      "execution_count": null,
      "outputs": [
        {
          "output_type": "stream",
          "name": "stdout",
          "text": [
            "[[1 2 3]\n",
            " [1 2 3]\n",
            " [1 2 3]]\n",
            "-----\n",
            "[[1 1 1 2 2 2 3 3 3]]\n"
          ]
        }
      ]
    },
    {
      "cell_type": "code",
      "metadata": {
        "ExecuteTime": {
          "end_time": "2019-12-21T18:02:10.194935Z",
          "start_time": "2019-12-21T18:02:10.011437Z"
        },
        "id": "LX3krD-44NYI",
        "colab": {
          "base_uri": "https://localhost:8080/"
        },
        "outputId": "ba53a56c-3dd1-4318-ef57-bb54bf88c65a"
      },
      "source": [
        "#  creating a customized matrix\n",
        "output = np.ones((5, 5))\n",
        "print(output)\n",
        "print('-----')\n",
        "\n",
        "z = np.zeros((3, 3))\n",
        "z[1, 1] = 9\n",
        "print(z)\n",
        "print('-----')\n",
        "\n",
        "output[1:4, 1: 4] = z\n",
        "print(output)"
      ],
      "execution_count": null,
      "outputs": [
        {
          "output_type": "stream",
          "name": "stdout",
          "text": [
            "[[1. 1. 1. 1. 1.]\n",
            " [1. 1. 1. 1. 1.]\n",
            " [1. 1. 1. 1. 1.]\n",
            " [1. 1. 1. 1. 1.]\n",
            " [1. 1. 1. 1. 1.]]\n",
            "-----\n",
            "[[0. 0. 0.]\n",
            " [0. 9. 0.]\n",
            " [0. 0. 0.]]\n",
            "-----\n",
            "[[1. 1. 1. 1. 1.]\n",
            " [1. 0. 0. 0. 1.]\n",
            " [1. 0. 9. 0. 1.]\n",
            " [1. 0. 0. 0. 1.]\n",
            " [1. 1. 1. 1. 1.]]\n"
          ]
        }
      ]
    },
    {
      "cell_type": "code",
      "metadata": {
        "ExecuteTime": {
          "end_time": "2019-12-21T18:02:10.366387Z",
          "start_time": "2019-12-21T18:02:10.196882Z"
        },
        "id": "kss-m7hS4NYJ",
        "colab": {
          "base_uri": "https://localhost:8080/"
        },
        "outputId": "b1422f2d-6215-4721-c507-c74717941146"
      },
      "source": [
        "# careful while copying\n",
        "a = np.array([1, 2, 3])\n",
        "b = a # just points\n",
        "b [0]= 100\n",
        "print(a)\n",
        "print(b)\n",
        "print('-----')\n",
        "\n",
        "a = np.array([1, 2, 3])\n",
        "b = a.copy()\n",
        "b [0]= 100\n",
        "print(a)\n",
        "print(b)\n"
      ],
      "execution_count": null,
      "outputs": [
        {
          "output_type": "stream",
          "name": "stdout",
          "text": [
            "[100   2   3]\n",
            "[100   2   3]\n",
            "-----\n",
            "[1 2 3]\n",
            "[100   2   3]\n"
          ]
        }
      ]
    },
    {
      "cell_type": "code",
      "metadata": {
        "ExecuteTime": {
          "end_time": "2019-12-21T18:02:10.502909Z",
          "start_time": "2019-12-21T18:02:10.367384Z"
        },
        "id": "8iL0W00W4NYJ",
        "colab": {
          "base_uri": "https://localhost:8080/"
        },
        "outputId": "8ee039fc-67ea-4c01-8838-b7cda749c892"
      },
      "source": [
        "# adding an axis\n",
        "a = np.array([0, 1])\n",
        "a_col = a[:, np.newaxis]\n",
        "print(a_col\n",
        "     )"
      ],
      "execution_count": null,
      "outputs": [
        {
          "output_type": "stream",
          "name": "stdout",
          "text": [
            "[[0]\n",
            " [1]]\n"
          ]
        }
      ]
    },
    {
      "cell_type": "code",
      "metadata": {
        "ExecuteTime": {
          "end_time": "2019-12-21T18:02:10.644623Z",
          "start_time": "2019-12-21T18:02:10.503893Z"
        },
        "id": "btRho-Mx4NYJ",
        "colab": {
          "base_uri": "https://localhost:8080/"
        },
        "outputId": "5855f5e5-6135-410b-be33-4258c7a1618b"
      },
      "source": [
        "a_col.T"
      ],
      "execution_count": null,
      "outputs": [
        {
          "output_type": "execute_result",
          "data": {
            "text/plain": [
              "array([[0, 1]])"
            ]
          },
          "metadata": {},
          "execution_count": 49
        }
      ]
    },
    {
      "cell_type": "code",
      "metadata": {
        "ExecuteTime": {
          "end_time": "2019-12-21T18:02:10.799298Z",
          "start_time": "2019-12-21T18:02:10.645620Z"
        },
        "id": "oihl7sJq4NYJ",
        "colab": {
          "base_uri": "https://localhost:8080/"
        },
        "outputId": "fb4f9f0e-8c6b-4903-c7d1-b2313deecdc2"
      },
      "source": [
        "# flatten array\n",
        "# always returns a flat copy of the original array\n",
        "arr = np.arange(10, dtype=float).reshape((2, 5))\n",
        "arr_flat = arr.flatten()\n",
        "arr_flat[0] = 33\n",
        "\n",
        "print(arr)\n",
        "print(arr_flat)"
      ],
      "execution_count": null,
      "outputs": [
        {
          "output_type": "stream",
          "name": "stdout",
          "text": [
            "[[0. 1. 2. 3. 4.]\n",
            " [5. 6. 7. 8. 9.]]\n",
            "[33.  1.  2.  3.  4.  5.  6.  7.  8.  9.]\n"
          ]
        }
      ]
    },
    {
      "cell_type": "code",
      "metadata": {
        "ExecuteTime": {
          "end_time": "2019-12-21T18:02:10.938491Z",
          "start_time": "2019-12-21T18:02:10.800333Z"
        },
        "id": "fPzcuO3h4NYK",
        "colab": {
          "base_uri": "https://localhost:8080/"
        },
        "outputId": "6f803f12-b5e1-4b3b-ffcb-cabc17c3fb69"
      },
      "source": [
        "# Ravel: returns a view of the original array whenever possible.\n",
        "arr_flt = arr.ravel()\n",
        "arr_flt[0] = 33\n",
        "\n",
        "print(arr)\n",
        "print(arr_flt)"
      ],
      "execution_count": null,
      "outputs": [
        {
          "output_type": "stream",
          "name": "stdout",
          "text": [
            "[[33.  1.  2.  3.  4.]\n",
            " [ 5.  6.  7.  8.  9.]]\n",
            "[33.  1.  2.  3.  4.  5.  6.  7.  8.  9.]\n"
          ]
        }
      ]
    },
    {
      "cell_type": "code",
      "metadata": {
        "ExecuteTime": {
          "end_time": "2019-12-21T18:02:11.078832Z",
          "start_time": "2019-12-21T18:02:10.939488Z"
        },
        "id": "2cSByhfE4NYK",
        "colab": {
          "base_uri": "https://localhost:8080/"
        },
        "outputId": "4f9cf476-2ebf-4697-c055-09ba25d03b7c"
      },
      "source": [
        "# creating evenly spaced number over an specified interval\n",
        "\n",
        "np.linspace(start = 0, stop=50, num=10)\n",
        "np.linspace(5, 15, 10)\n",
        "mylinspace = np.linspace(5, 15, 9, retstep=True)\n",
        "mylinspace"
      ],
      "execution_count": null,
      "outputs": [
        {
          "output_type": "execute_result",
          "data": {
            "text/plain": [
              "(array([ 5.  ,  6.25,  7.5 ,  8.75, 10.  , 11.25, 12.5 , 13.75, 15.  ]), 1.25)"
            ]
          },
          "metadata": {},
          "execution_count": 52
        }
      ]
    },
    {
      "cell_type": "markdown",
      "metadata": {
        "ExecuteTime": {
          "end_time": "2019-12-20T14:54:07.778468Z",
          "start_time": "2019-12-20T14:54:07.773481Z"
        },
        "id": "hVPizslM4NYK"
      },
      "source": [
        "#### Mathematics"
      ]
    },
    {
      "cell_type": "code",
      "metadata": {
        "ExecuteTime": {
          "end_time": "2019-12-21T18:02:11.215533Z",
          "start_time": "2019-12-21T18:02:11.079796Z"
        },
        "id": "6rJvbFsT4NYK",
        "colab": {
          "base_uri": "https://localhost:8080/"
        },
        "outputId": "19628a7c-5aec-4421-a718-d19cc008d744"
      },
      "source": [
        "a = np.array([1, 2, 3, 4])\n",
        "print(a)"
      ],
      "execution_count": null,
      "outputs": [
        {
          "output_type": "stream",
          "name": "stdout",
          "text": [
            "[1 2 3 4]\n"
          ]
        }
      ]
    },
    {
      "cell_type": "code",
      "metadata": {
        "ExecuteTime": {
          "end_time": "2019-12-21T18:02:11.355929Z",
          "start_time": "2019-12-21T18:02:11.216530Z"
        },
        "id": "coYFxOWr4NYK",
        "colab": {
          "base_uri": "https://localhost:8080/"
        },
        "outputId": "1916d0fe-73f7-45ed-b77d-dc6da55bd45a"
      },
      "source": [
        "a + 2"
      ],
      "execution_count": null,
      "outputs": [
        {
          "output_type": "execute_result",
          "data": {
            "text/plain": [
              "array([3, 4, 5, 6])"
            ]
          },
          "metadata": {},
          "execution_count": 55
        }
      ]
    },
    {
      "cell_type": "code",
      "metadata": {
        "ExecuteTime": {
          "end_time": "2019-12-21T18:02:11.512502Z",
          "start_time": "2019-12-21T18:02:11.356927Z"
        },
        "id": "EO9e-0Rl4NYL",
        "outputId": "9d24a6a2-ff61-4b8d-f4e5-8b7d5221c1ed"
      },
      "source": [
        "a - 2"
      ],
      "execution_count": null,
      "outputs": [
        {
          "data": {
            "text/plain": [
              "array([-1,  0,  1,  2])"
            ]
          },
          "execution_count": 55,
          "metadata": {},
          "output_type": "execute_result"
        }
      ]
    },
    {
      "cell_type": "code",
      "metadata": {
        "ExecuteTime": {
          "end_time": "2019-12-21T18:02:11.649284Z",
          "start_time": "2019-12-21T18:02:11.513499Z"
        },
        "id": "7U6Jio0a4NYL",
        "outputId": "1d9d290e-2224-4e5e-f1d7-8a74296dbf47"
      },
      "source": [
        "a / 2"
      ],
      "execution_count": null,
      "outputs": [
        {
          "data": {
            "text/plain": [
              "array([0.5, 1. , 1.5, 2. ])"
            ]
          },
          "execution_count": 56,
          "metadata": {},
          "output_type": "execute_result"
        }
      ]
    },
    {
      "cell_type": "code",
      "metadata": {
        "ExecuteTime": {
          "end_time": "2019-12-21T18:02:11.895858Z",
          "start_time": "2019-12-21T18:02:11.650242Z"
        },
        "id": "TBgph5cm4NYL"
      },
      "source": [
        "b = np.array([1, 0, 1, 0])"
      ],
      "execution_count": null,
      "outputs": []
    },
    {
      "cell_type": "code",
      "metadata": {
        "ExecuteTime": {
          "end_time": "2019-12-21T18:02:12.093494Z",
          "start_time": "2019-12-21T18:02:11.897856Z"
        },
        "id": "xLKVdbGB4NYL",
        "outputId": "47ef7ab2-7ab3-464e-888b-b9ae087579c2"
      },
      "source": [
        "a + b\n"
      ],
      "execution_count": null,
      "outputs": [
        {
          "data": {
            "text/plain": [
              "array([2, 2, 4, 4])"
            ]
          },
          "execution_count": 58,
          "metadata": {},
          "output_type": "execute_result"
        }
      ]
    },
    {
      "cell_type": "code",
      "metadata": {
        "ExecuteTime": {
          "end_time": "2019-12-21T18:02:12.234376Z",
          "start_time": "2019-12-21T18:02:12.094418Z"
        },
        "id": "yjxYNs1V4NYL",
        "outputId": "80abaf97-8c96-4a92-da90-bd327ec7805b"
      },
      "source": [
        "np.sin(a) "
      ],
      "execution_count": null,
      "outputs": [
        {
          "data": {
            "text/plain": [
              "array([ 0.84147098,  0.90929743,  0.14112001, -0.7568025 ])"
            ]
          },
          "execution_count": 59,
          "metadata": {},
          "output_type": "execute_result"
        }
      ]
    },
    {
      "cell_type": "markdown",
      "metadata": {
        "ExecuteTime": {
          "end_time": "2019-12-20T14:56:32.438765Z",
          "start_time": "2019-12-20T14:56:32.434790Z"
        },
        "id": "sC5u1U934NYM"
      },
      "source": [
        "#### linear algebra\n"
      ]
    },
    {
      "cell_type": "code",
      "metadata": {
        "ExecuteTime": {
          "end_time": "2019-12-21T18:02:12.373699Z",
          "start_time": "2019-12-21T18:02:12.235338Z"
        },
        "id": "kWyLpgtU4NYM",
        "outputId": "006f1ff8-7cb8-4b96-a27d-e8d0568dad8b"
      },
      "source": [
        "my_first_matrix = np.matrix([[3, 1, 4], [1, 5, 9], [2, 6, 5]])\n",
        "my_first_matrix"
      ],
      "execution_count": null,
      "outputs": [
        {
          "data": {
            "text/plain": [
              "matrix([[3, 1, 4],\n",
              "        [1, 5, 9],\n",
              "        [2, 6, 5]])"
            ]
          },
          "execution_count": 60,
          "metadata": {},
          "output_type": "execute_result"
        }
      ]
    },
    {
      "cell_type": "code",
      "metadata": {
        "ExecuteTime": {
          "end_time": "2019-12-21T18:02:12.511117Z",
          "start_time": "2019-12-21T18:02:12.374698Z"
        },
        "id": "9a9dlGDm4NYM",
        "outputId": "6ac8a718-0453-4a49-a9a5-336db03422dc"
      },
      "source": [
        "my_first_matrix.T"
      ],
      "execution_count": null,
      "outputs": [
        {
          "data": {
            "text/plain": [
              "matrix([[3, 1, 2],\n",
              "        [1, 5, 6],\n",
              "        [4, 9, 5]])"
            ]
          },
          "execution_count": 61,
          "metadata": {},
          "output_type": "execute_result"
        }
      ]
    },
    {
      "cell_type": "code",
      "metadata": {
        "ExecuteTime": {
          "end_time": "2019-12-21T18:02:12.640648Z",
          "start_time": "2019-12-21T18:02:12.512076Z"
        },
        "id": "ZxN4lUYi4NYM",
        "outputId": "c7f9a680-2b32-4576-f911-13eb5eb2b912"
      },
      "source": [
        "my_first_matrix.I # inverse of matrix"
      ],
      "execution_count": null,
      "outputs": [
        {
          "data": {
            "text/plain": [
              "matrix([[ 0.32222222, -0.21111111,  0.12222222],\n",
              "        [-0.14444444, -0.07777778,  0.25555556],\n",
              "        [ 0.04444444,  0.17777778, -0.15555556]])"
            ]
          },
          "execution_count": 62,
          "metadata": {},
          "output_type": "execute_result"
        }
      ]
    },
    {
      "cell_type": "code",
      "metadata": {
        "ExecuteTime": {
          "end_time": "2019-12-21T18:02:12.767273Z",
          "start_time": "2019-12-21T18:02:12.641610Z"
        },
        "id": "u_H2DSNm4NYM",
        "outputId": "be6d481e-e943-4140-c021-62a289946064"
      },
      "source": [
        "a = np.ones((2, 3))\n",
        "print(a)\n",
        "\n",
        "b = np.full((3, 2), 2)\n",
        "print(b)"
      ],
      "execution_count": null,
      "outputs": [
        {
          "name": "stdout",
          "output_type": "stream",
          "text": [
            "[[1. 1. 1.]\n",
            " [1. 1. 1.]]\n",
            "[[2 2]\n",
            " [2 2]\n",
            " [2 2]]\n"
          ]
        }
      ]
    },
    {
      "cell_type": "code",
      "metadata": {
        "ExecuteTime": {
          "end_time": "2019-12-21T18:02:12.907349Z",
          "start_time": "2019-12-21T18:02:12.768270Z"
        },
        "id": "ypAPniwW4NYN",
        "outputId": "74aafb34-057b-427e-d379-05ce31ed2833"
      },
      "source": [
        "c = np.identity(4) # or np.eye(5)\n",
        "print(np.linalg.det(c))"
      ],
      "execution_count": null,
      "outputs": [
        {
          "name": "stdout",
          "output_type": "stream",
          "text": [
            "1.0\n"
          ]
        }
      ]
    },
    {
      "cell_type": "code",
      "metadata": {
        "ExecuteTime": {
          "end_time": "2019-12-21T18:02:13.055201Z",
          "start_time": "2019-12-21T18:02:12.909378Z"
        },
        "id": "fu-TNqRu4NYN"
      },
      "source": [
        "# Solve simultaneous linear equations\n",
        "right_hand_side = np.matrix([[11],\n",
        "                             [22],\n",
        "                             [33]])\n",
        "\n",
        "my_first_inverse = my_first_matrix.I"
      ],
      "execution_count": null,
      "outputs": []
    },
    {
      "cell_type": "code",
      "metadata": {
        "ExecuteTime": {
          "end_time": "2019-12-21T18:02:13.195228Z",
          "start_time": "2019-12-21T18:02:13.056902Z"
        },
        "id": "DRfbDng24NYO"
      },
      "source": [
        "solution = my_first_inverse * right_hand_side"
      ],
      "execution_count": null,
      "outputs": []
    },
    {
      "cell_type": "code",
      "metadata": {
        "ExecuteTime": {
          "end_time": "2019-12-21T18:02:13.334719Z",
          "start_time": "2019-12-21T18:02:13.196204Z"
        },
        "id": "g73-EASn4NYO",
        "outputId": "d5e9d76f-c166-4e27-e07b-c5fec1aa6116"
      },
      "source": [
        "solution"
      ],
      "execution_count": null,
      "outputs": [
        {
          "data": {
            "text/plain": [
              "matrix([[ 2.93333333],\n",
              "        [ 5.13333333],\n",
              "        [-0.73333333]])"
            ]
          },
          "execution_count": 67,
          "metadata": {},
          "output_type": "execute_result"
        }
      ]
    },
    {
      "cell_type": "code",
      "metadata": {
        "ExecuteTime": {
          "end_time": "2019-12-21T18:02:13.539871Z",
          "start_time": "2019-12-21T18:02:13.335678Z"
        },
        "id": "fpKektY34NYO",
        "outputId": "82f740dc-1d39-408e-e6f1-f8e5c2985104"
      },
      "source": [
        "# more efficient for large matrices\n",
        "from numpy.linalg import solve\n",
        "solve(my_first_matrix, right_hand_side)"
      ],
      "execution_count": null,
      "outputs": [
        {
          "data": {
            "text/plain": [
              "matrix([[ 2.93333333],\n",
              "        [ 5.13333333],\n",
              "        [-0.73333333]])"
            ]
          },
          "execution_count": 68,
          "metadata": {},
          "output_type": "execute_result"
        }
      ]
    },
    {
      "cell_type": "code",
      "metadata": {
        "ExecuteTime": {
          "end_time": "2019-12-21T18:02:14.171568Z",
          "start_time": "2019-12-21T18:02:13.547794Z"
        },
        "id": "cGFxSK5W4NYP",
        "outputId": "f7a69a1c-0c85-4ad6-bae3-aca212526d89"
      },
      "source": [
        "# compute the eigenvalues and eigenvectors\n",
        "from numpy.linalg import eig\n",
        "eig(my_first_matrix)"
      ],
      "execution_count": null,
      "outputs": [
        {
          "data": {
            "text/plain": [
              "(array([13.08576474,  2.58000566, -2.66577041]),\n",
              " matrix([[-0.31542644, -0.95117074, -0.32372474],\n",
              "         [-0.72306109,  0.30781323, -0.70222933],\n",
              "         [-0.61456393,  0.02291827,  0.63409484]]))"
            ]
          },
          "execution_count": 69,
          "metadata": {},
          "output_type": "execute_result"
        }
      ]
    },
    {
      "cell_type": "markdown",
      "metadata": {
        "ExecuteTime": {
          "end_time": "2019-12-20T14:59:04.931064Z",
          "start_time": "2019-12-20T14:59:04.925082Z"
        },
        "id": "fXaqaPk64NYP"
      },
      "source": [
        "#### statistics"
      ]
    },
    {
      "cell_type": "code",
      "metadata": {
        "ExecuteTime": {
          "end_time": "2019-12-21T18:02:14.313319Z",
          "start_time": "2019-12-21T18:02:14.175556Z"
        },
        "id": "GvR5FuY74NYP",
        "outputId": "1a385970-ae68-4d8c-b99b-747a26fb0dc1"
      },
      "source": [
        "stats = np.array([[1, 2, 3], [4, 5,6]])\n",
        "stats"
      ],
      "execution_count": null,
      "outputs": [
        {
          "data": {
            "text/plain": [
              "array([[1, 2, 3],\n",
              "       [4, 5, 6]])"
            ]
          },
          "execution_count": 70,
          "metadata": {},
          "output_type": "execute_result"
        }
      ]
    },
    {
      "cell_type": "code",
      "metadata": {
        "ExecuteTime": {
          "end_time": "2019-12-21T18:02:14.452997Z",
          "start_time": "2019-12-21T18:02:14.314316Z"
        },
        "id": "TZyzRYZq4NYQ",
        "outputId": "76205e36-079b-4ad1-96bd-473b9f4efa60"
      },
      "source": [
        "print(np.min(stats, axis=0))\n",
        "print(np.min(stats, axis=1))\n",
        "\n",
        "print(np.max(stats, axis=0))\n",
        "print(np.max(stats, axis=1))"
      ],
      "execution_count": null,
      "outputs": [
        {
          "name": "stdout",
          "output_type": "stream",
          "text": [
            "[1 2 3]\n",
            "[1 4]\n",
            "[4 5 6]\n",
            "[3 6]\n"
          ]
        }
      ]
    },
    {
      "cell_type": "code",
      "metadata": {
        "ExecuteTime": {
          "end_time": "2019-12-21T18:02:14.591913Z",
          "start_time": "2019-12-21T18:02:14.453958Z"
        },
        "id": "o_3JISd34NYQ",
        "outputId": "b53d6f48-20ac-4246-e90c-c38aff14cb39"
      },
      "source": [
        "np.sum(stats, axis=0)"
      ],
      "execution_count": null,
      "outputs": [
        {
          "data": {
            "text/plain": [
              "array([5, 7, 9])"
            ]
          },
          "execution_count": 72,
          "metadata": {},
          "output_type": "execute_result"
        }
      ]
    },
    {
      "cell_type": "code",
      "metadata": {
        "ExecuteTime": {
          "end_time": "2019-12-21T18:02:14.743480Z",
          "start_time": "2019-12-21T18:02:14.592912Z"
        },
        "id": "QDdKBCkz4NYQ",
        "outputId": "895b72f1-a85e-4459-be27-7f6549495e90"
      },
      "source": [
        "rnd = np.random.randn(4, 2) # random normals in 4x2 array\n",
        "print(rnd.mean())\n",
        "print(rnd.std())\n",
        "print(rnd.argmin()) # index of minimum element\n",
        "print(rnd.sum())\n",
        "print(rnd.sum(axis=0)) # sum of columns\n",
        "print(rnd.sum(axis=1)) # sum of rows"
      ],
      "execution_count": null,
      "outputs": [
        {
          "name": "stdout",
          "output_type": "stream",
          "text": [
            "-0.0025402071626459966\n",
            "1.103773849306929\n",
            "3\n",
            "-0.020321657301167972\n",
            "[ 1.08423164 -1.1045533 ]\n",
            "[-0.565446   -1.38446781  2.39228074 -0.46268859]\n"
          ]
        }
      ]
    },
    {
      "cell_type": "markdown",
      "metadata": {
        "ExecuteTime": {
          "end_time": "2019-12-20T16:00:31.937871Z",
          "start_time": "2019-12-20T16:00:31.928976Z"
        },
        "id": "sGVHI2Dj4NYR"
      },
      "source": [
        "#### boolean masking and advanced indexing"
      ]
    },
    {
      "cell_type": "code",
      "metadata": {
        "ExecuteTime": {
          "end_time": "2019-12-21T18:02:15.054299Z",
          "start_time": "2019-12-21T18:02:14.895392Z"
        },
        "id": "LpBM0QW24NYS",
        "outputId": "ea146117-f1f3-4508-b310-f5d9582972e4"
      },
      "source": [
        "filedata > 50"
      ],
      "execution_count": null,
      "outputs": [
        {
          "data": {
            "text/plain": [
              "array([[False, False, False, False,  True,  True, False, False, False,\n",
              "        False, False, False, False, False, False, False, False, False],\n",
              "       [False, False, False, False,  True,  True, False,  True, False,\n",
              "        False, False, False, False, False, False, False, False, False],\n",
              "       [False, False, False, False,  True, False, False, False,  True,\n",
              "        False, False, False, False, False, False, False,  True,  True]])"
            ]
          },
          "execution_count": 75,
          "metadata": {},
          "output_type": "execute_result"
        }
      ]
    },
    {
      "cell_type": "code",
      "metadata": {
        "ExecuteTime": {
          "end_time": "2019-12-21T18:02:15.213175Z",
          "start_time": "2019-12-21T18:02:15.055356Z"
        },
        "id": "xs0F8GFv4NYS",
        "outputId": "b8471cfb-37d0-4894-ab57-1dc57aa4da5b"
      },
      "source": [
        "filedata[filedata > 50]"
      ],
      "execution_count": null,
      "outputs": [
        {
          "data": {
            "text/plain": [
              "array([196,  75, 766,  75,  55, 999,  78,  76,  88])"
            ]
          },
          "execution_count": 76,
          "metadata": {},
          "output_type": "execute_result"
        }
      ]
    },
    {
      "cell_type": "code",
      "metadata": {
        "ExecuteTime": {
          "end_time": "2019-12-21T18:02:15.484901Z",
          "start_time": "2019-12-21T18:02:15.214147Z"
        },
        "id": "-LMcR4y54NYS",
        "outputId": "6029f4d8-73e6-41af-d0b8-42bbe8f8b587"
      },
      "source": [
        "# we can index using a list\n",
        "a = np.array([1, 2, 3, 4,5, 6, 7,8,9])\n",
        "a[[1, 2, 8]]"
      ],
      "execution_count": null,
      "outputs": [
        {
          "data": {
            "text/plain": [
              "array([2, 3, 9])"
            ]
          },
          "execution_count": 77,
          "metadata": {},
          "output_type": "execute_result"
        }
      ]
    },
    {
      "cell_type": "code",
      "metadata": {
        "ExecuteTime": {
          "end_time": "2019-12-21T18:02:15.688818Z",
          "start_time": "2019-12-21T18:02:15.485890Z"
        },
        "id": "ZT3RRBVa4NYT",
        "outputId": "d14f3296-5a60-4bcd-e558-9e46d73d4126"
      },
      "source": [
        "np.any(filedata > 50, axis= 0)"
      ],
      "execution_count": null,
      "outputs": [
        {
          "data": {
            "text/plain": [
              "array([False, False, False, False,  True,  True, False,  True,  True,\n",
              "       False, False, False, False, False, False, False,  True,  True])"
            ]
          },
          "execution_count": 78,
          "metadata": {},
          "output_type": "execute_result"
        }
      ]
    },
    {
      "cell_type": "code",
      "metadata": {
        "ExecuteTime": {
          "end_time": "2019-12-21T18:02:15.830438Z",
          "start_time": "2019-12-21T18:02:15.690741Z"
        },
        "id": "Qb8DKP0K4NYT",
        "outputId": "4dd8f40a-b786-4706-928c-cc138bb4a470"
      },
      "source": [
        "np.all(filedata > 50, axis= 0)   "
      ],
      "execution_count": null,
      "outputs": [
        {
          "data": {
            "text/plain": [
              "array([False, False, False, False,  True, False, False, False, False,\n",
              "       False, False, False, False, False, False, False, False, False])"
            ]
          },
          "execution_count": 79,
          "metadata": {},
          "output_type": "execute_result"
        }
      ]
    },
    {
      "cell_type": "code",
      "metadata": {
        "ExecuteTime": {
          "end_time": "2019-12-21T18:02:15.985609Z",
          "start_time": "2019-12-21T18:02:15.831436Z"
        },
        "id": "PAFjF_va4NYU",
        "outputId": "aee84fa0-77e2-41b4-cbc2-4501a66dba56"
      },
      "source": [
        "((filedata > 50) & (filedata < 100))"
      ],
      "execution_count": null,
      "outputs": [
        {
          "data": {
            "text/plain": [
              "array([[False, False, False, False, False,  True, False, False, False,\n",
              "        False, False, False, False, False, False, False, False, False],\n",
              "       [False, False, False, False, False,  True, False,  True, False,\n",
              "        False, False, False, False, False, False, False, False, False],\n",
              "       [False, False, False, False, False, False, False, False,  True,\n",
              "        False, False, False, False, False, False, False,  True,  True]])"
            ]
          },
          "execution_count": 80,
          "metadata": {},
          "output_type": "execute_result"
        }
      ]
    },
    {
      "cell_type": "code",
      "metadata": {
        "ExecuteTime": {
          "end_time": "2019-12-21T18:02:16.147109Z",
          "start_time": "2019-12-21T18:02:15.986608Z"
        },
        "id": "F5m2mUi64NYU",
        "outputId": "ae99f77d-1168-410c-c2f5-16e7774ea294"
      },
      "source": [
        "(~(filedata > 50) & (filedata < 100))"
      ],
      "execution_count": null,
      "outputs": [
        {
          "data": {
            "text/plain": [
              "array([[ True,  True,  True,  True, False, False,  True,  True,  True,\n",
              "         True,  True,  True,  True,  True,  True,  True,  True,  True],\n",
              "       [ True,  True,  True,  True, False, False,  True, False,  True,\n",
              "         True,  True,  True,  True,  True,  True,  True,  True,  True],\n",
              "       [ True,  True,  True,  True, False,  True,  True,  True, False,\n",
              "         True,  True,  True,  True,  True,  True,  True, False, False]])"
            ]
          },
          "execution_count": 81,
          "metadata": {},
          "output_type": "execute_result"
        }
      ]
    },
    {
      "cell_type": "code",
      "metadata": {
        "ExecuteTime": {
          "end_time": "2019-12-21T18:02:16.285492Z",
          "start_time": "2019-12-21T18:02:16.149062Z"
        },
        "id": "EgWzH2O24NYU",
        "outputId": "34f9aa65-739a-4c61-a5fa-0aed368edbbd"
      },
      "source": [
        "filedata[((filedata > 50) & (filedata < 100))]"
      ],
      "execution_count": null,
      "outputs": [
        {
          "data": {
            "text/plain": [
              "array([75, 75, 55, 78, 76, 88])"
            ]
          },
          "execution_count": 82,
          "metadata": {},
          "output_type": "execute_result"
        }
      ]
    },
    {
      "cell_type": "code",
      "metadata": {
        "ExecuteTime": {
          "end_time": "2019-12-21T18:02:16.445371Z",
          "start_time": "2019-12-21T18:02:16.287449Z"
        },
        "id": "YGr5RTuW4NYU",
        "outputId": "950b04f7-0453-4f9a-82bd-700015a059a8"
      },
      "source": [
        "my_vector = np.array([-17, -4, 0, 2, 21, 37, 105])\n",
        "zero_mod_7_mask = 0 == (my_vector % 7)\n",
        "print(zero_mod_7_mask)"
      ],
      "execution_count": null,
      "outputs": [
        {
          "name": "stdout",
          "output_type": "stream",
          "text": [
            "[False False  True False  True False  True]\n"
          ]
        }
      ]
    },
    {
      "cell_type": "code",
      "metadata": {
        "ExecuteTime": {
          "end_time": "2019-12-21T18:02:16.600678Z",
          "start_time": "2019-12-21T18:02:16.446412Z"
        },
        "id": "xY5UGD0Y4NYV",
        "outputId": "58d18ec4-147d-4528-e90e-cfdbab6d4810"
      },
      "source": [
        "my_vector[zero_mod_7_mask]"
      ],
      "execution_count": null,
      "outputs": [
        {
          "data": {
            "text/plain": [
              "array([  0,  21, 105])"
            ]
          },
          "execution_count": 84,
          "metadata": {},
          "output_type": "execute_result"
        }
      ]
    },
    {
      "cell_type": "code",
      "metadata": {
        "ExecuteTime": {
          "end_time": "2019-12-21T18:02:16.773676Z",
          "start_time": "2019-12-21T18:02:16.601641Z"
        },
        "id": "63xEckfN4NYX",
        "outputId": "a2c69c2b-2f1b-446f-fb67-6491aad9bad1"
      },
      "source": [
        "mod_test = 0 == (my_vector % 7)\n",
        "posmask = my_vector > 0\n",
        "combined_mask = np.logical_and(mod_test, posmask)\n",
        "# combined_mask\n",
        "print(my_vector[combined_mask])"
      ],
      "execution_count": null,
      "outputs": [
        {
          "name": "stdout",
          "output_type": "stream",
          "text": [
            "[ 21 105]\n"
          ]
        }
      ]
    },
    {
      "cell_type": "code",
      "metadata": {
        "ExecuteTime": {
          "end_time": "2019-12-21T18:02:16.933874Z",
          "start_time": "2019-12-21T18:02:16.774674Z"
        },
        "id": "iPu-uVZF4NYY"
      },
      "source": [
        "#  example indexing\n",
        "a = np.arange(1, 11).reshape((2, 5))\n",
        "b = np.arange(11, 21).reshape((2, 5))\n",
        "c = np.arange(21, 31).reshape((2, 5))"
      ],
      "execution_count": null,
      "outputs": []
    },
    {
      "cell_type": "code",
      "metadata": {
        "ExecuteTime": {
          "end_time": "2019-12-21T18:02:17.074161Z",
          "start_time": "2019-12-21T18:02:16.935646Z"
        },
        "id": "57IOiES24NYY",
        "outputId": "51b69c62-14f1-499b-b3c3-d6dd3d2e62ef"
      },
      "source": [
        "final = np.vstack([a, b, c])\n",
        "print(final)"
      ],
      "execution_count": null,
      "outputs": [
        {
          "name": "stdout",
          "output_type": "stream",
          "text": [
            "[[ 1  2  3  4  5]\n",
            " [ 6  7  8  9 10]\n",
            " [11 12 13 14 15]\n",
            " [16 17 18 19 20]\n",
            " [21 22 23 24 25]\n",
            " [26 27 28 29 30]]\n"
          ]
        }
      ]
    },
    {
      "cell_type": "code",
      "metadata": {
        "ExecuteTime": {
          "end_time": "2019-12-21T18:02:17.246323Z",
          "start_time": "2019-12-21T18:02:17.075159Z"
        },
        "id": "slcgCTNu4NYY",
        "outputId": "93e9f4a2-fa4c-4bc0-e34c-a63c58e697e3"
      },
      "source": [
        "final[2:4, :2]"
      ],
      "execution_count": null,
      "outputs": [
        {
          "data": {
            "text/plain": [
              "array([[11, 12],\n",
              "       [16, 17]])"
            ]
          },
          "execution_count": 88,
          "metadata": {},
          "output_type": "execute_result"
        }
      ]
    },
    {
      "cell_type": "code",
      "metadata": {
        "ExecuteTime": {
          "end_time": "2019-12-21T18:02:17.470000Z",
          "start_time": "2019-12-21T18:02:17.247320Z"
        },
        "id": "4D0sPd8L4NYY",
        "outputId": "a3611a59-4b02-4978-9c41-8a7c73d91120"
      },
      "source": [
        "final[[0, 1, 2, 3], [1, 2, 3, 4]]"
      ],
      "execution_count": null,
      "outputs": [
        {
          "data": {
            "text/plain": [
              "array([ 2,  8, 14, 20])"
            ]
          },
          "execution_count": 89,
          "metadata": {},
          "output_type": "execute_result"
        }
      ]
    },
    {
      "cell_type": "code",
      "metadata": {
        "ExecuteTime": {
          "end_time": "2019-12-21T18:02:17.619290Z",
          "start_time": "2019-12-21T18:02:17.470957Z"
        },
        "id": "xXRRqurO4NYZ",
        "outputId": "71e88031-8fce-4c31-a5bb-a30e60e0b792"
      },
      "source": [
        "final[[0, 4, 5], 3:]"
      ],
      "execution_count": null,
      "outputs": [
        {
          "data": {
            "text/plain": [
              "array([[ 4,  5],\n",
              "       [24, 25],\n",
              "       [29, 30]])"
            ]
          },
          "execution_count": 90,
          "metadata": {},
          "output_type": "execute_result"
        }
      ]
    },
    {
      "cell_type": "markdown",
      "metadata": {
        "ExecuteTime": {
          "end_time": "2019-12-20T19:31:11.092286Z",
          "start_time": "2019-12-20T19:31:11.085332Z"
        },
        "id": "TbnMvO064NYZ"
      },
      "source": [
        " ####  Creating Structured array\n",
        " \n",
        " used for heterogeneous data while maintaining numpy's requirement that every element in an array use the same amount of memory space"
      ]
    },
    {
      "cell_type": "code",
      "metadata": {
        "ExecuteTime": {
          "end_time": "2019-12-21T18:02:17.769078Z",
          "start_time": "2019-12-21T18:02:17.620969Z"
        },
        "id": "qKZsiZyk4NYa",
        "outputId": "f04c1d4c-e8de-4bcb-b35c-ff73d9c02f42"
      },
      "source": [
        "person_data_def = [('name', '<U6'), ('height', 'f8'), ('weight', 'f8'), ('age', 'i8')]\n",
        "person_data_def"
      ],
      "execution_count": null,
      "outputs": [
        {
          "data": {
            "text/plain": [
              "[('name', '<U6'), ('height', 'f8'), ('weight', 'f8'), ('age', 'i8')]"
            ]
          },
          "execution_count": 91,
          "metadata": {},
          "output_type": "execute_result"
        }
      ]
    },
    {
      "cell_type": "code",
      "metadata": {
        "ExecuteTime": {
          "end_time": "2019-12-21T18:02:17.906838Z",
          "start_time": "2019-12-21T18:02:17.770043Z"
        },
        "id": "Qs33eqAD4NYa"
      },
      "source": [
        "people_array = np.zeros((4), dtype=person_data_def)\n"
      ],
      "execution_count": null,
      "outputs": []
    },
    {
      "cell_type": "code",
      "metadata": {
        "ExecuteTime": {
          "end_time": "2019-12-21T18:02:18.036360Z",
          "start_time": "2019-12-21T18:02:17.907836Z"
        },
        "id": "lobfCVzq4NYa",
        "outputId": "03635cf8-aff8-4d07-a59c-35a757d5cac2"
      },
      "source": [
        "people_array"
      ],
      "execution_count": null,
      "outputs": [
        {
          "data": {
            "text/plain": [
              "array([('', 0., 0., 0), ('', 0., 0., 0), ('', 0., 0., 0), ('', 0., 0., 0)],\n",
              "      dtype=[('name', '<U6'), ('height', '<f8'), ('weight', '<f8'), ('age', '<i8')])"
            ]
          },
          "execution_count": 93,
          "metadata": {},
          "output_type": "execute_result"
        }
      ]
    },
    {
      "cell_type": "code",
      "metadata": {
        "ExecuteTime": {
          "end_time": "2019-12-21T18:02:18.190574Z",
          "start_time": "2019-12-21T18:02:18.037358Z"
        },
        "id": "iGgYCJBy4NYb"
      },
      "source": [
        "# https://docs.scipy.org/doc/numpy/reference/arrays.dtypes.html\n",
        "# https://jakevdp.github.io/PythonDataScienceHandbook/02.09-structured-data-numpy.html\n",
        "\n",
        "# dt = np.dtype('i4')   # 32-bit signed integer\n",
        "# dt = np.dtype('f8')   # 64-bit floating-point number\n",
        "# dt = np.dtype('c16')  # 128-bit complex floating-point number\n",
        "# dt = np.dtype('a25')  # 25-length zero-terminated bytes\n",
        "# dt = np.dtype('U25')  # 25-character string"
      ],
      "execution_count": null,
      "outputs": []
    },
    {
      "cell_type": "code",
      "metadata": {
        "ExecuteTime": {
          "end_time": "2019-12-21T18:02:18.330964Z",
          "start_time": "2019-12-21T18:02:18.191518Z"
        },
        "id": "mtqKfXri4NYb",
        "outputId": "e1f283c0-203d-404e-94f2-78a0bf122047"
      },
      "source": [
        "people_array"
      ],
      "execution_count": null,
      "outputs": [
        {
          "data": {
            "text/plain": [
              "array([('', 0., 0., 0), ('', 0., 0., 0), ('', 0., 0., 0), ('', 0., 0., 0)],\n",
              "      dtype=[('name', '<U6'), ('height', '<f8'), ('weight', '<f8'), ('age', '<i8')])"
            ]
          },
          "execution_count": 95,
          "metadata": {},
          "output_type": "execute_result"
        }
      ]
    },
    {
      "cell_type": "code",
      "metadata": {
        "ExecuteTime": {
          "end_time": "2019-12-21T18:02:18.469931Z",
          "start_time": "2019-12-21T18:02:18.331962Z"
        },
        "id": "wqRPKgrh4NYb"
      },
      "source": [
        "people_array[3] = ('delta', 73, 58, 28)"
      ],
      "execution_count": null,
      "outputs": []
    },
    {
      "cell_type": "code",
      "metadata": {
        "ExecuteTime": {
          "end_time": "2019-12-21T18:02:18.619503Z",
          "start_time": "2019-12-21T18:02:18.471660Z"
        },
        "id": "gp4Ot3Qt4NYb",
        "outputId": "28ae75df-0ca0-4bed-97c3-d906018955c5"
      },
      "source": [
        "people_array[3]"
      ],
      "execution_count": null,
      "outputs": [
        {
          "data": {
            "text/plain": [
              "('delta', 73., 58., 28)"
            ]
          },
          "execution_count": 97,
          "metadata": {},
          "output_type": "execute_result"
        }
      ]
    },
    {
      "cell_type": "code",
      "metadata": {
        "ExecuteTime": {
          "end_time": "2019-12-21T18:02:18.825614Z",
          "start_time": "2019-12-21T18:02:18.620501Z"
        },
        "id": "hxdjeze64NYc"
      },
      "source": [
        "people_array[1] = ('alpha', 83, 38, 48)"
      ],
      "execution_count": null,
      "outputs": []
    },
    {
      "cell_type": "code",
      "metadata": {
        "ExecuteTime": {
          "end_time": "2019-12-21T18:02:19.047921Z",
          "start_time": "2019-12-21T18:02:18.826601Z"
        },
        "id": "oAa-gRHG4NYc",
        "outputId": "40689966-6691-44ae-c513-29c788fe4093"
      },
      "source": [
        "people_array[1]"
      ],
      "execution_count": null,
      "outputs": [
        {
          "data": {
            "text/plain": [
              "('alpha', 83., 38., 48)"
            ]
          },
          "execution_count": 99,
          "metadata": {},
          "output_type": "execute_result"
        }
      ]
    },
    {
      "cell_type": "code",
      "metadata": {
        "ExecuteTime": {
          "end_time": "2019-12-21T18:02:19.242859Z",
          "start_time": "2019-12-21T18:02:19.048919Z"
        },
        "id": "BUQndVoP4NYd",
        "outputId": "c500a862-a2c8-4f34-ec5e-92951b2fdc78"
      },
      "source": [
        "people_array"
      ],
      "execution_count": null,
      "outputs": [
        {
          "data": {
            "text/plain": [
              "array([('',  0.,  0.,  0), ('alpha', 83., 38., 48), ('',  0.,  0.,  0),\n",
              "       ('delta', 73., 58., 28)],\n",
              "      dtype=[('name', '<U6'), ('height', '<f8'), ('weight', '<f8'), ('age', '<i8')])"
            ]
          },
          "execution_count": 100,
          "metadata": {},
          "output_type": "execute_result"
        }
      ]
    },
    {
      "cell_type": "code",
      "metadata": {
        "ExecuteTime": {
          "end_time": "2019-12-21T18:02:19.380554Z",
          "start_time": "2019-12-21T18:02:19.243856Z"
        },
        "id": "lrXZZrwO4NYd",
        "outputId": "42cd3ce3-9d36-4f2e-9466-b3a7e6deff57"
      },
      "source": [
        "people_array['age']"
      ],
      "execution_count": null,
      "outputs": [
        {
          "data": {
            "text/plain": [
              "array([ 0, 48,  0, 28], dtype=int64)"
            ]
          },
          "execution_count": 101,
          "metadata": {},
          "output_type": "execute_result"
        }
      ]
    },
    {
      "cell_type": "code",
      "metadata": {
        "ExecuteTime": {
          "end_time": "2019-12-21T18:02:19.530394Z",
          "start_time": "2019-12-21T18:02:19.381506Z"
        },
        "id": "pzI-lYk64NYe",
        "outputId": "21f2393c-4e64-4d22-db74-6cc17d26067e"
      },
      "source": [
        "people_big_array = np.zeros((4, 3, 2), dtype=person_data_def)\n",
        "people_big_array"
      ],
      "execution_count": null,
      "outputs": [
        {
          "data": {
            "text/plain": [
              "array([[[('', 0., 0., 0), ('', 0., 0., 0)],\n",
              "        [('', 0., 0., 0), ('', 0., 0., 0)],\n",
              "        [('', 0., 0., 0), ('', 0., 0., 0)]],\n",
              "\n",
              "       [[('', 0., 0., 0), ('', 0., 0., 0)],\n",
              "        [('', 0., 0., 0), ('', 0., 0., 0)],\n",
              "        [('', 0., 0., 0), ('', 0., 0., 0)]],\n",
              "\n",
              "       [[('', 0., 0., 0), ('', 0., 0., 0)],\n",
              "        [('', 0., 0., 0), ('', 0., 0., 0)],\n",
              "        [('', 0., 0., 0), ('', 0., 0., 0)]],\n",
              "\n",
              "       [[('', 0., 0., 0), ('', 0., 0., 0)],\n",
              "        [('', 0., 0., 0), ('', 0., 0., 0)],\n",
              "        [('', 0., 0., 0), ('', 0., 0., 0)]]],\n",
              "      dtype=[('name', '<U6'), ('height', '<f8'), ('weight', '<f8'), ('age', '<i8')])"
            ]
          },
          "execution_count": 102,
          "metadata": {},
          "output_type": "execute_result"
        }
      ]
    },
    {
      "cell_type": "code",
      "metadata": {
        "ExecuteTime": {
          "end_time": "2019-12-21T18:02:19.670972Z",
          "start_time": "2019-12-21T18:02:19.535380Z"
        },
        "id": "Pf7GH9234NYe",
        "outputId": "3744b92b-4186-45e8-aaba-f4de4677d6ae"
      },
      "source": [
        "people_big_array[3, 2, 1] = ('echo', 10, 20, 30)\n",
        "people_big_array"
      ],
      "execution_count": null,
      "outputs": [
        {
          "data": {
            "text/plain": [
              "array([[[('',  0.,  0.,  0), ('',  0.,  0.,  0)],\n",
              "        [('',  0.,  0.,  0), ('',  0.,  0.,  0)],\n",
              "        [('',  0.,  0.,  0), ('',  0.,  0.,  0)]],\n",
              "\n",
              "       [[('',  0.,  0.,  0), ('',  0.,  0.,  0)],\n",
              "        [('',  0.,  0.,  0), ('',  0.,  0.,  0)],\n",
              "        [('',  0.,  0.,  0), ('',  0.,  0.,  0)]],\n",
              "\n",
              "       [[('',  0.,  0.,  0), ('',  0.,  0.,  0)],\n",
              "        [('',  0.,  0.,  0), ('',  0.,  0.,  0)],\n",
              "        [('',  0.,  0.,  0), ('',  0.,  0.,  0)]],\n",
              "\n",
              "       [[('',  0.,  0.,  0), ('',  0.,  0.,  0)],\n",
              "        [('',  0.,  0.,  0), ('',  0.,  0.,  0)],\n",
              "        [('',  0.,  0.,  0), ('echo', 10., 20., 30)]]],\n",
              "      dtype=[('name', '<U6'), ('height', '<f8'), ('weight', '<f8'), ('age', '<i8')])"
            ]
          },
          "execution_count": 103,
          "metadata": {},
          "output_type": "execute_result"
        }
      ]
    },
    {
      "cell_type": "code",
      "metadata": {
        "ExecuteTime": {
          "end_time": "2019-12-21T18:02:19.834747Z",
          "start_time": "2019-12-21T18:02:19.672005Z"
        },
        "id": "Lfc8YEgV4NYe"
      },
      "source": [
        "# creating Record arrays"
      ],
      "execution_count": null,
      "outputs": []
    },
    {
      "cell_type": "code",
      "metadata": {
        "ExecuteTime": {
          "end_time": "2019-12-21T18:02:19.976932Z",
          "start_time": "2019-12-21T18:02:19.835736Z"
        },
        "id": "_0JeZTaL4NYe",
        "outputId": "c81cb040-1f2e-4fca-c37f-2d7c02226b73"
      },
      "source": [
        "person_record_array = np.rec.array([('Delta', 73, 205, 34), ('alpha', 83, 38, 48)], dtype=person_data_def)\n",
        "person_record_array"
      ],
      "execution_count": null,
      "outputs": [
        {
          "data": {
            "text/plain": [
              "rec.array([('Delta', 73., 205., 34), ('alpha', 83.,  38., 48)],\n",
              "          dtype=[('name', '<U6'), ('height', '<f8'), ('weight', '<f8'), ('age', '<i8')])"
            ]
          },
          "execution_count": 105,
          "metadata": {},
          "output_type": "execute_result"
        }
      ]
    },
    {
      "cell_type": "code",
      "metadata": {
        "ExecuteTime": {
          "end_time": "2019-12-21T18:02:20.136510Z",
          "start_time": "2019-12-21T18:02:19.977930Z"
        },
        "id": "yfJA07944NYf",
        "outputId": "39b54471-c7c5-4a3a-d155-70e66235eb4f"
      },
      "source": [
        "person_record_array[0].age \n",
        "# using attributes instead of index"
      ],
      "execution_count": null,
      "outputs": [
        {
          "data": {
            "text/plain": [
              "34"
            ]
          },
          "execution_count": 106,
          "metadata": {},
          "output_type": "execute_result"
        }
      ]
    },
    {
      "cell_type": "markdown",
      "metadata": {
        "id": "wfQNXtNs4NYf"
      },
      "source": [
        "#### Rearranging array elements"
      ]
    },
    {
      "cell_type": "code",
      "metadata": {
        "ExecuteTime": {
          "end_time": "2019-12-21T18:02:20.275488Z",
          "start_time": "2019-12-21T18:02:20.137507Z"
        },
        "id": "4J2JVsXz4NYf",
        "outputId": "f8bd1bc9-a66c-4949-b5ea-d7f5c3465848"
      },
      "source": [
        "before = np.array([[1, 2, 3 , 4], [5, 6, 7, 8]])\n",
        "print(before)\n",
        "\n",
        "print(before.reshape((8,1)))"
      ],
      "execution_count": null,
      "outputs": [
        {
          "name": "stdout",
          "output_type": "stream",
          "text": [
            "[[1 2 3 4]\n",
            " [5 6 7 8]]\n",
            "[[1]\n",
            " [2]\n",
            " [3]\n",
            " [4]\n",
            " [5]\n",
            " [6]\n",
            " [7]\n",
            " [8]]\n"
          ]
        }
      ]
    },
    {
      "cell_type": "code",
      "metadata": {
        "ExecuteTime": {
          "end_time": "2019-12-21T18:02:20.481130Z",
          "start_time": "2019-12-21T18:02:20.276485Z"
        },
        "id": "bAEbS_Uf4NYf",
        "outputId": "836240db-0cab-42fb-e381-e9c576ca33e4"
      },
      "source": [
        "# vertically stacking arrays\n",
        "v1 = np.array([1, 2, 3, 4])\n",
        "v2 = np.array([11, 22, 33, 44])\n",
        "\n",
        "np.vstack((v1, v2, v2))"
      ],
      "execution_count": null,
      "outputs": [
        {
          "data": {
            "text/plain": [
              "array([[ 1,  2,  3,  4],\n",
              "       [11, 22, 33, 44],\n",
              "       [11, 22, 33, 44]])"
            ]
          },
          "execution_count": 108,
          "metadata": {},
          "output_type": "execute_result"
        }
      ]
    },
    {
      "cell_type": "code",
      "metadata": {
        "ExecuteTime": {
          "end_time": "2019-12-21T18:02:20.866976Z",
          "start_time": "2019-12-21T18:02:20.482128Z"
        },
        "id": "2Rtx1R9D4NYg",
        "outputId": "2b141db2-de1d-49c6-b703-129301407019"
      },
      "source": [
        "# horizontal stacking \n",
        "h1 = np.ones((2, 4))\n",
        "h2 = np.zeros((2, 2))\n",
        "np.hstack([h1, h2])"
      ],
      "execution_count": null,
      "outputs": [
        {
          "data": {
            "text/plain": [
              "array([[1., 1., 1., 1., 0., 0.],\n",
              "       [1., 1., 1., 1., 0., 0.]])"
            ]
          },
          "execution_count": 109,
          "metadata": {},
          "output_type": "execute_result"
        }
      ]
    },
    {
      "cell_type": "code",
      "metadata": {
        "ExecuteTime": {
          "end_time": "2019-12-21T18:02:21.071807Z",
          "start_time": "2019-12-21T18:02:20.867935Z"
        },
        "id": "UfSO2kVe4NYg"
      },
      "source": [
        "my_start_array = np.array(np.arange(24))\n",
        "my_3_8_array = my_start_array.reshape((3, 8))\n",
        "my_2_3_4_array = my_start_array.reshape((2, 3, 4))"
      ],
      "execution_count": null,
      "outputs": []
    },
    {
      "cell_type": "code",
      "metadata": {
        "ExecuteTime": {
          "end_time": "2019-12-21T18:02:21.208615Z",
          "start_time": "2019-12-21T18:02:21.072805Z"
        },
        "id": "aNxpOs0a4NYg"
      },
      "source": [
        "# fliplr - flip left right"
      ],
      "execution_count": null,
      "outputs": []
    },
    {
      "cell_type": "code",
      "metadata": {
        "ExecuteTime": {
          "end_time": "2019-12-21T18:02:21.350024Z",
          "start_time": "2019-12-21T18:02:21.210544Z"
        },
        "id": "4q0uT0hK4NYg",
        "outputId": "ba9341d9-5db2-4ca4-825a-dd49a24abda8"
      },
      "source": [
        "my_3_8_array"
      ],
      "execution_count": null,
      "outputs": [
        {
          "data": {
            "text/plain": [
              "array([[ 0,  1,  2,  3,  4,  5,  6,  7],\n",
              "       [ 8,  9, 10, 11, 12, 13, 14, 15],\n",
              "       [16, 17, 18, 19, 20, 21, 22, 23]])"
            ]
          },
          "execution_count": 112,
          "metadata": {},
          "output_type": "execute_result"
        }
      ]
    },
    {
      "cell_type": "code",
      "metadata": {
        "ExecuteTime": {
          "end_time": "2019-12-21T18:02:21.511541Z",
          "start_time": "2019-12-21T18:02:21.350984Z"
        },
        "id": "b8JWvEGV4NYg",
        "outputId": "3a2bd126-8d6c-4fc5-f0d9-bb3e6b9be461"
      },
      "source": [
        "np.fliplr(my_3_8_array)"
      ],
      "execution_count": null,
      "outputs": [
        {
          "data": {
            "text/plain": [
              "array([[ 7,  6,  5,  4,  3,  2,  1,  0],\n",
              "       [15, 14, 13, 12, 11, 10,  9,  8],\n",
              "       [23, 22, 21, 20, 19, 18, 17, 16]])"
            ]
          },
          "execution_count": 113,
          "metadata": {},
          "output_type": "execute_result"
        }
      ]
    },
    {
      "cell_type": "code",
      "metadata": {
        "ExecuteTime": {
          "end_time": "2019-12-21T18:02:21.678244Z",
          "start_time": "2019-12-21T18:02:21.512501Z"
        },
        "id": "JOtY_-GV4NYh",
        "outputId": "2b348edf-3a62-4624-c337-32a52773d854"
      },
      "source": [
        "my_2_3_4_array"
      ],
      "execution_count": null,
      "outputs": [
        {
          "data": {
            "text/plain": [
              "array([[[ 0,  1,  2,  3],\n",
              "        [ 4,  5,  6,  7],\n",
              "        [ 8,  9, 10, 11]],\n",
              "\n",
              "       [[12, 13, 14, 15],\n",
              "        [16, 17, 18, 19],\n",
              "        [20, 21, 22, 23]]])"
            ]
          },
          "execution_count": 114,
          "metadata": {},
          "output_type": "execute_result"
        }
      ]
    },
    {
      "cell_type": "code",
      "metadata": {
        "ExecuteTime": {
          "end_time": "2019-12-21T18:02:21.871645Z",
          "start_time": "2019-12-21T18:02:21.679203Z"
        },
        "id": "tcjsWAIy4NYh",
        "outputId": "5198a8e8-94ac-4ca2-cba3-d810df48c23a"
      },
      "source": [
        "np.fliplr(my_2_3_4_array) # flipping takes place over the last index"
      ],
      "execution_count": null,
      "outputs": [
        {
          "data": {
            "text/plain": [
              "array([[[ 8,  9, 10, 11],\n",
              "        [ 4,  5,  6,  7],\n",
              "        [ 0,  1,  2,  3]],\n",
              "\n",
              "       [[20, 21, 22, 23],\n",
              "        [16, 17, 18, 19],\n",
              "        [12, 13, 14, 15]]])"
            ]
          },
          "execution_count": 115,
          "metadata": {},
          "output_type": "execute_result"
        }
      ]
    },
    {
      "cell_type": "code",
      "metadata": {
        "ExecuteTime": {
          "end_time": "2019-12-21T18:02:22.022608Z",
          "start_time": "2019-12-21T18:02:21.872598Z"
        },
        "id": "n4VpaTkA4NYh",
        "outputId": "a028c308-b397-4c7f-dcf0-e743c1cefa1a"
      },
      "source": [
        "# flip upside down\n",
        "np.flipud(my_3_8_array)"
      ],
      "execution_count": null,
      "outputs": [
        {
          "data": {
            "text/plain": [
              "array([[16, 17, 18, 19, 20, 21, 22, 23],\n",
              "       [ 8,  9, 10, 11, 12, 13, 14, 15],\n",
              "       [ 0,  1,  2,  3,  4,  5,  6,  7]])"
            ]
          },
          "execution_count": 116,
          "metadata": {},
          "output_type": "execute_result"
        }
      ]
    },
    {
      "cell_type": "code",
      "metadata": {
        "ExecuteTime": {
          "end_time": "2019-12-21T18:02:22.161555Z",
          "start_time": "2019-12-21T18:02:22.023605Z"
        },
        "id": "iBdVAu5d4NYh",
        "outputId": "f6972809-0ee7-4864-e4c3-3a1932f83070"
      },
      "source": [
        "np.flipud(my_2_3_4_array)"
      ],
      "execution_count": null,
      "outputs": [
        {
          "data": {
            "text/plain": [
              "array([[[12, 13, 14, 15],\n",
              "        [16, 17, 18, 19],\n",
              "        [20, 21, 22, 23]],\n",
              "\n",
              "       [[ 0,  1,  2,  3],\n",
              "        [ 4,  5,  6,  7],\n",
              "        [ 8,  9, 10, 11]]])"
            ]
          },
          "execution_count": 117,
          "metadata": {},
          "output_type": "execute_result"
        }
      ]
    },
    {
      "cell_type": "code",
      "metadata": {
        "ExecuteTime": {
          "end_time": "2019-12-21T18:02:22.395313Z",
          "start_time": "2019-12-21T18:02:22.162517Z"
        },
        "id": "a7qdJ19r4NYi",
        "outputId": "0d845658-ded5-4d07-a30d-589c7f8df130"
      },
      "source": [
        "  my_start_array"
      ],
      "execution_count": null,
      "outputs": [
        {
          "data": {
            "text/plain": [
              "array([ 0,  1,  2,  3,  4,  5,  6,  7,  8,  9, 10, 11, 12, 13, 14, 15, 16,\n",
              "       17, 18, 19, 20, 21, 22, 23])"
            ]
          },
          "execution_count": 118,
          "metadata": {},
          "output_type": "execute_result"
        }
      ]
    },
    {
      "cell_type": "code",
      "metadata": {
        "ExecuteTime": {
          "end_time": "2019-12-21T18:02:22.610366Z",
          "start_time": "2019-12-21T18:02:22.396311Z"
        },
        "id": "whfOPMjZ4NYi",
        "outputId": "9062d064-3df8-49fc-80a7-4cce277d0eb1"
      },
      "source": [
        "# roll\n",
        "np.roll(my_start_array, 5)"
      ],
      "execution_count": null,
      "outputs": [
        {
          "data": {
            "text/plain": [
              "array([19, 20, 21, 22, 23,  0,  1,  2,  3,  4,  5,  6,  7,  8,  9, 10, 11,\n",
              "       12, 13, 14, 15, 16, 17, 18])"
            ]
          },
          "execution_count": 119,
          "metadata": {},
          "output_type": "execute_result"
        }
      ]
    },
    {
      "cell_type": "code",
      "metadata": {
        "ExecuteTime": {
          "end_time": "2019-12-21T18:02:22.839349Z",
          "start_time": "2019-12-21T18:02:22.611309Z"
        },
        "id": "mls-JGol4NYi",
        "outputId": "f388825c-7914-45ec-fcb3-be4c134f78aa"
      },
      "source": [
        "np.roll(my_start_array, -5)"
      ],
      "execution_count": null,
      "outputs": [
        {
          "data": {
            "text/plain": [
              "array([ 5,  6,  7,  8,  9, 10, 11, 12, 13, 14, 15, 16, 17, 18, 19, 20, 21,\n",
              "       22, 23,  0,  1,  2,  3,  4])"
            ]
          },
          "execution_count": 120,
          "metadata": {},
          "output_type": "execute_result"
        }
      ]
    },
    {
      "cell_type": "code",
      "metadata": {
        "ExecuteTime": {
          "end_time": "2019-12-21T18:02:22.977561Z",
          "start_time": "2019-12-21T18:02:22.840304Z"
        },
        "id": "wpqKDEe74NYi",
        "outputId": "962d6b9c-b6be-46d0-c9f1-63edb4df9184"
      },
      "source": [
        "np.roll(my_2_3_4_array, 2)"
      ],
      "execution_count": null,
      "outputs": [
        {
          "data": {
            "text/plain": [
              "array([[[22, 23,  0,  1],\n",
              "        [ 2,  3,  4,  5],\n",
              "        [ 6,  7,  8,  9]],\n",
              "\n",
              "       [[10, 11, 12, 13],\n",
              "        [14, 15, 16, 17],\n",
              "        [18, 19, 20, 21]]])"
            ]
          },
          "execution_count": 121,
          "metadata": {},
          "output_type": "execute_result"
        }
      ]
    },
    {
      "cell_type": "code",
      "metadata": {
        "ExecuteTime": {
          "end_time": "2019-12-21T18:02:23.116424Z",
          "start_time": "2019-12-21T18:02:22.978504Z"
        },
        "id": "Itsi0tT64NYj",
        "outputId": "b69704e7-118e-4ac2-a676-34816c3e74f7"
      },
      "source": [
        "my_3_8_array"
      ],
      "execution_count": null,
      "outputs": [
        {
          "data": {
            "text/plain": [
              "array([[ 0,  1,  2,  3,  4,  5,  6,  7],\n",
              "       [ 8,  9, 10, 11, 12, 13, 14, 15],\n",
              "       [16, 17, 18, 19, 20, 21, 22, 23]])"
            ]
          },
          "execution_count": 122,
          "metadata": {},
          "output_type": "execute_result"
        }
      ]
    },
    {
      "cell_type": "code",
      "metadata": {
        "ExecuteTime": {
          "end_time": "2019-12-21T18:02:23.294607Z",
          "start_time": "2019-12-21T18:02:23.117385Z"
        },
        "id": "9aWiD12y4NYj",
        "outputId": "b10835f1-a647-4a19-ea0c-e990c929b50b"
      },
      "source": [
        "# rotate 90 degree\n",
        "\n",
        "np.rot90(my_3_8_array) # rotate in +ve direction (counter-clockwise)"
      ],
      "execution_count": null,
      "outputs": [
        {
          "data": {
            "text/plain": [
              "array([[ 7, 15, 23],\n",
              "       [ 6, 14, 22],\n",
              "       [ 5, 13, 21],\n",
              "       [ 4, 12, 20],\n",
              "       [ 3, 11, 19],\n",
              "       [ 2, 10, 18],\n",
              "       [ 1,  9, 17],\n",
              "       [ 0,  8, 16]])"
            ]
          },
          "execution_count": 123,
          "metadata": {},
          "output_type": "execute_result"
        }
      ]
    },
    {
      "cell_type": "code",
      "metadata": {
        "ExecuteTime": {
          "end_time": "2019-12-21T18:02:23.456113Z",
          "start_time": "2019-12-21T18:02:23.295604Z"
        },
        "id": "0qK9yQOw4NYj",
        "outputId": "870c3512-b81d-41dc-a31c-e866d65bcff3"
      },
      "source": [
        "np.rot90(my_3_8_array, k=-1) # rotate in -ve direction (clockwise)"
      ],
      "execution_count": null,
      "outputs": [
        {
          "data": {
            "text/plain": [
              "array([[16,  8,  0],\n",
              "       [17,  9,  1],\n",
              "       [18, 10,  2],\n",
              "       [19, 11,  3],\n",
              "       [20, 12,  4],\n",
              "       [21, 13,  5],\n",
              "       [22, 14,  6],\n",
              "       [23, 15,  7]])"
            ]
          },
          "execution_count": 124,
          "metadata": {},
          "output_type": "execute_result"
        }
      ]
    },
    {
      "cell_type": "markdown",
      "metadata": {
        "id": "PexkKDM94NYj"
      },
      "source": [
        "#### Transpose-like operations"
      ]
    },
    {
      "cell_type": "code",
      "metadata": {
        "ExecuteTime": {
          "end_time": "2019-12-21T18:02:23.605408Z",
          "start_time": "2019-12-21T18:02:23.457111Z"
        },
        "id": "r7FmANbW4NYk"
      },
      "source": [
        "my_start_array = np.array(np.arange(24))\n",
        "my_3_8_array = my_start_array.reshape((3, 8))\n",
        "my_2_3_4_array = my_start_array.reshape((2, 3, 4))"
      ],
      "execution_count": null,
      "outputs": []
    },
    {
      "cell_type": "code",
      "metadata": {
        "ExecuteTime": {
          "end_time": "2019-12-21T18:02:23.733772Z",
          "start_time": "2019-12-21T18:02:23.606354Z"
        },
        "id": "8GBR3zc94NYk",
        "outputId": "9c5b2882-7581-44dd-bdde-c71b3b56aa1f"
      },
      "source": [
        "print(my_start_array)\n",
        "print('-----')\n",
        "print(my_start_array.T)\n",
        "# or\n",
        "# print(np.transpose(my_start_array))"
      ],
      "execution_count": null,
      "outputs": [
        {
          "name": "stdout",
          "output_type": "stream",
          "text": [
            "[ 0  1  2  3  4  5  6  7  8  9 10 11 12 13 14 15 16 17 18 19 20 21 22 23]\n",
            "-----\n",
            "[ 0  1  2  3  4  5  6  7  8  9 10 11 12 13 14 15 16 17 18 19 20 21 22 23]\n"
          ]
        }
      ]
    },
    {
      "cell_type": "code",
      "metadata": {
        "ExecuteTime": {
          "end_time": "2019-12-21T18:02:23.872952Z",
          "start_time": "2019-12-21T18:02:23.734769Z"
        },
        "id": "Y_DS0sCQ4NYk",
        "outputId": "f9f4025d-1ab5-4131-f1b3-3b9b64c2b36d"
      },
      "source": [
        "print(my_3_8_array)\n",
        "print('-----')\n",
        "print(my_3_8_array.T)"
      ],
      "execution_count": null,
      "outputs": [
        {
          "name": "stdout",
          "output_type": "stream",
          "text": [
            "[[ 0  1  2  3  4  5  6  7]\n",
            " [ 8  9 10 11 12 13 14 15]\n",
            " [16 17 18 19 20 21 22 23]]\n",
            "-----\n",
            "[[ 0  8 16]\n",
            " [ 1  9 17]\n",
            " [ 2 10 18]\n",
            " [ 3 11 19]\n",
            " [ 4 12 20]\n",
            " [ 5 13 21]\n",
            " [ 6 14 22]\n",
            " [ 7 15 23]]\n"
          ]
        }
      ]
    },
    {
      "cell_type": "code",
      "metadata": {
        "ExecuteTime": {
          "end_time": "2019-12-21T18:02:24.027968Z",
          "start_time": "2019-12-21T18:02:23.873906Z"
        },
        "id": "M7gENXHk4NYk",
        "outputId": "e190b8cc-4821-40f1-8c30-8dfd9d639987"
      },
      "source": [
        "print(my_2_3_4_array)\n",
        "print('-----')\n",
        "print(np.transpose(my_2_3_4_array, axes=(0,2,1)))\n",
        "# transpose over axes index by 2 and axes index by  1\n",
        "# axes = By default, reverse the dimensions, \n",
        "# otherwise permute the axes according to the values given."
      ],
      "execution_count": null,
      "outputs": [
        {
          "name": "stdout",
          "output_type": "stream",
          "text": [
            "[[[ 0  1  2  3]\n",
            "  [ 4  5  6  7]\n",
            "  [ 8  9 10 11]]\n",
            "\n",
            " [[12 13 14 15]\n",
            "  [16 17 18 19]\n",
            "  [20 21 22 23]]]\n",
            "-----\n",
            "[[[ 0  4  8]\n",
            "  [ 1  5  9]\n",
            "  [ 2  6 10]\n",
            "  [ 3  7 11]]\n",
            "\n",
            " [[12 16 20]\n",
            "  [13 17 21]\n",
            "  [14 18 22]\n",
            "  [15 19 23]]]\n"
          ]
        }
      ]
    },
    {
      "cell_type": "code",
      "metadata": {
        "ExecuteTime": {
          "end_time": "2019-12-21T18:02:24.167002Z",
          "start_time": "2019-12-21T18:02:24.028975Z"
        },
        "id": "9qkIObcx4NYl",
        "outputId": "b21027ef-8994-4333-ca43-17d61d2735e3"
      },
      "source": [
        "# swapaxes(a, axis1, axis2) - interchange two axes of an array\n",
        "print(my_2_3_4_array)\n",
        "print('-----')\n",
        "print(np.swapaxes(my_2_3_4_array, 1, 0) )"
      ],
      "execution_count": null,
      "outputs": [
        {
          "name": "stdout",
          "output_type": "stream",
          "text": [
            "[[[ 0  1  2  3]\n",
            "  [ 4  5  6  7]\n",
            "  [ 8  9 10 11]]\n",
            "\n",
            " [[12 13 14 15]\n",
            "  [16 17 18 19]\n",
            "  [20 21 22 23]]]\n",
            "-----\n",
            "[[[ 0  1  2  3]\n",
            "  [12 13 14 15]]\n",
            "\n",
            " [[ 4  5  6  7]\n",
            "  [16 17 18 19]]\n",
            "\n",
            " [[ 8  9 10 11]\n",
            "  [20 21 22 23]]]\n"
          ]
        }
      ]
    },
    {
      "cell_type": "code",
      "metadata": {
        "ExecuteTime": {
          "end_time": "2019-12-21T18:02:24.442685Z",
          "start_time": "2019-12-21T18:02:24.167968Z"
        },
        "id": "zZhyWaKB4NYl",
        "outputId": "0448609e-b814-42a7-9214-2a3e3753ee03"
      },
      "source": [
        "# np.rollaxis - roll the specified axis backwards, until it lies in a given position\n",
        "print(my_2_3_4_array.shape)\n",
        "print('-----')\n",
        "print(np.rollaxis(my_2_3_4_array, axis=1, start=3).shape)\n",
        "# axis 3 is not present but theoretically will be after axis 2 so axis\n",
        "# 1 is rolled till it is behind axis 3\n"
      ],
      "execution_count": null,
      "outputs": [
        {
          "name": "stdout",
          "output_type": "stream",
          "text": [
            "(2, 3, 4)\n",
            "-----\n",
            "(2, 4, 3)\n"
          ]
        }
      ]
    },
    {
      "cell_type": "code",
      "metadata": {
        "ExecuteTime": {
          "end_time": "2019-12-21T18:02:24.644850Z",
          "start_time": "2019-12-21T18:02:24.444341Z"
        },
        "id": "XPCLtBtT4NYl",
        "outputId": "e2d364fc-23e4-45bc-c5be-823ad10a1eb9"
      },
      "source": [
        "print(my_2_3_4_array.shape)\n",
        "print('-----')\n",
        "print(np.rollaxis(my_2_3_4_array, axis=1).shape)\n",
        "print(np.rollaxis(my_2_3_4_array, axis=2, start=1).shape)\n"
      ],
      "execution_count": null,
      "outputs": [
        {
          "name": "stdout",
          "output_type": "stream",
          "text": [
            "(2, 3, 4)\n",
            "-----\n",
            "(3, 2, 4)\n",
            "(2, 4, 3)\n"
          ]
        }
      ]
    },
    {
      "cell_type": "markdown",
      "metadata": {
        "id": "yfc5Uuj54NYl"
      },
      "source": [
        "* use np.transpose to permute all the axes at once\n",
        "* use np.swapaxes to swap any two axes\n",
        "* use np.rollaxis to \"rotate\" the axes"
      ]
    },
    {
      "cell_type": "code",
      "metadata": {
        "ExecuteTime": {
          "end_time": "2019-12-21T18:02:25.129468Z",
          "start_time": "2019-12-21T18:02:24.646813Z"
        },
        "id": "1i34Q0pd4NYl",
        "outputId": "a4125433-7cc5-4c17-dee3-b036c9d67335"
      },
      "source": [
        "# np.moveaxis(a, source, destination)\n",
        "# Move axes of an array to new positions.\n",
        "# Other axes remain in their original order.\n",
        "\n",
        "print(my_2_3_4_array.shape)\n",
        "print('-----')\n",
        "print(np.moveaxis(my_2_3_4_array, 0, -1).shape)\n",
        "print(np.moveaxis(my_2_3_4_array, -1, 0).shape)"
      ],
      "execution_count": null,
      "outputs": [
        {
          "name": "stdout",
          "output_type": "stream",
          "text": [
            "(2, 3, 4)\n",
            "-----\n",
            "(3, 4, 2)\n",
            "(4, 2, 3)\n"
          ]
        }
      ]
    },
    {
      "cell_type": "markdown",
      "metadata": {
        "id": "W_1n9aIIhR99"
      },
      "source": [
        "##Pandas"
      ]
    },
    {
      "cell_type": "code",
      "metadata": {
        "ExecuteTime": {
          "end_time": "2019-12-24T11:54:01.227037Z",
          "start_time": "2019-12-24T11:54:00.439377Z"
        },
        "id": "rYLpZMzLtD7m"
      },
      "source": [
        "import pandas as pd\n",
        "import numpy as np"
      ],
      "execution_count": null,
      "outputs": []
    },
    {
      "cell_type": "code",
      "metadata": {
        "ExecuteTime": {
          "end_time": "2019-12-24T11:54:01.232635Z",
          "start_time": "2019-12-24T11:54:01.227037Z"
        },
        "id": "6m_FU2ietD7o"
      },
      "source": [
        "import builtins\n",
        "\n",
        "def print(*args, **kwargs):\n",
        "    builtins.print(*args, **kwargs, end='\\n\\n')"
      ],
      "execution_count": null,
      "outputs": []
    },
    {
      "cell_type": "markdown",
      "metadata": {
        "id": "TWWhTRwJtD7z"
      },
      "source": [
        "#### DataFrame\n",
        "\n",
        "A DataFrame represents a rectangular table of data and contains an ordered collection of columns, each of which can be a different value type (numeric, string, boolean, etc.)."
      ]
    },
    {
      "cell_type": "code",
      "metadata": {
        "ExecuteTime": {
          "end_time": "2019-12-24T11:54:03.884935Z",
          "start_time": "2019-12-24T11:54:03.713457Z"
        },
        "id": "wOJ8LR2GtD7z",
        "outputId": "d2cf288b-9b08-4148-d826-a109e45649a1"
      },
      "source": [
        "data = {'state': ['Ohio', 'Ohio', 'Ohio', 'Nevada', 'Nevada', 'Nevada'],\n",
        " 'year': [2000, 2001, 2002, 2001, 2002, 2003],\n",
        " 'pop': [1.5, 1.7, 3.6, 2.4, 2.9, 3.2]}\n",
        "\n",
        "frame = pd.DataFrame(data)\n",
        "print(frame)"
      ],
      "execution_count": null,
      "outputs": [
        {
          "name": "stdout",
          "output_type": "stream",
          "text": [
            "    state  year  pop\n",
            "0    Ohio  2000  1.5\n",
            "1    Ohio  2001  1.7\n",
            "2    Ohio  2002  3.6\n",
            "3  Nevada  2001  2.4\n",
            "4  Nevada  2002  2.9\n",
            "5  Nevada  2003  3.2\n",
            "\n"
          ]
        }
      ]
    },
    {
      "cell_type": "code",
      "metadata": {
        "ExecuteTime": {
          "end_time": "2019-12-24T11:54:04.041094Z",
          "start_time": "2019-12-24T11:54:03.886930Z"
        },
        "id": "wSxZTovUtD70",
        "outputId": "fc4d6d88-aa03-41f1-e825-55b21f33f7fb"
      },
      "source": [
        "pd.DataFrame(data, columns=['year', 'state', 'pop'])"
      ],
      "execution_count": null,
      "outputs": [
        {
          "data": {
            "text/html": [
              "<div>\n",
              "<style scoped>\n",
              "    .dataframe tbody tr th:only-of-type {\n",
              "        vertical-align: middle;\n",
              "    }\n",
              "\n",
              "    .dataframe tbody tr th {\n",
              "        vertical-align: top;\n",
              "    }\n",
              "\n",
              "    .dataframe thead th {\n",
              "        text-align: right;\n",
              "    }\n",
              "</style>\n",
              "<table border=\"1\" class=\"dataframe\">\n",
              "  <thead>\n",
              "    <tr style=\"text-align: right;\">\n",
              "      <th></th>\n",
              "      <th>year</th>\n",
              "      <th>state</th>\n",
              "      <th>pop</th>\n",
              "    </tr>\n",
              "  </thead>\n",
              "  <tbody>\n",
              "    <tr>\n",
              "      <th>0</th>\n",
              "      <td>2000</td>\n",
              "      <td>Ohio</td>\n",
              "      <td>1.5</td>\n",
              "    </tr>\n",
              "    <tr>\n",
              "      <th>1</th>\n",
              "      <td>2001</td>\n",
              "      <td>Ohio</td>\n",
              "      <td>1.7</td>\n",
              "    </tr>\n",
              "    <tr>\n",
              "      <th>2</th>\n",
              "      <td>2002</td>\n",
              "      <td>Ohio</td>\n",
              "      <td>3.6</td>\n",
              "    </tr>\n",
              "    <tr>\n",
              "      <th>3</th>\n",
              "      <td>2001</td>\n",
              "      <td>Nevada</td>\n",
              "      <td>2.4</td>\n",
              "    </tr>\n",
              "    <tr>\n",
              "      <th>4</th>\n",
              "      <td>2002</td>\n",
              "      <td>Nevada</td>\n",
              "      <td>2.9</td>\n",
              "    </tr>\n",
              "    <tr>\n",
              "      <th>5</th>\n",
              "      <td>2003</td>\n",
              "      <td>Nevada</td>\n",
              "      <td>3.2</td>\n",
              "    </tr>\n",
              "  </tbody>\n",
              "</table>\n",
              "</div>"
            ],
            "text/plain": [
              "   year   state  pop\n",
              "0  2000    Ohio  1.5\n",
              "1  2001    Ohio  1.7\n",
              "2  2002    Ohio  3.6\n",
              "3  2001  Nevada  2.4\n",
              "4  2002  Nevada  2.9\n",
              "5  2003  Nevada  3.2"
            ]
          },
          "execution_count": 14,
          "metadata": {},
          "output_type": "execute_result"
        }
      ]
    },
    {
      "cell_type": "code",
      "metadata": {
        "ExecuteTime": {
          "end_time": "2019-12-24T11:54:04.244915Z",
          "start_time": "2019-12-24T11:54:04.043184Z"
        },
        "id": "lEgDgjePtD70",
        "outputId": "5af14a8c-84a8-4e4a-c0ba-90c97cf8feb5"
      },
      "source": [
        "# u pass a column that isn’t contained in the dict, \n",
        "# it will appear with missing values\n",
        "\n",
        "frame2 = pd.DataFrame(data, columns=['year', 'state', 'pop', 'debt'],\n",
        "                     index=['one', 'two', 'three', 'four', 'five', 'six'])\n",
        "\n",
        "print(frame2)\n",
        "print(frame2.columns)"
      ],
      "execution_count": null,
      "outputs": [
        {
          "name": "stdout",
          "output_type": "stream",
          "text": [
            "       year   state  pop debt\n",
            "one    2000    Ohio  1.5  NaN\n",
            "two    2001    Ohio  1.7  NaN\n",
            "three  2002    Ohio  3.6  NaN\n",
            "four   2001  Nevada  2.4  NaN\n",
            "five   2002  Nevada  2.9  NaN\n",
            "six    2003  Nevada  3.2  NaN\n",
            "\n",
            "Index(['year', 'state', 'pop', 'debt'], dtype='object')\n",
            "\n"
          ]
        }
      ]
    },
    {
      "cell_type": "code",
      "metadata": {
        "ExecuteTime": {
          "end_time": "2019-12-24T11:54:04.373163Z",
          "start_time": "2019-12-24T11:54:04.244915Z"
        },
        "id": "zpWci35ytD71",
        "outputId": "dd7eca1d-6157-4c2d-8933-70967d9fa1bd"
      },
      "source": [
        "print(frame['state'])\n",
        "print(frame.year)"
      ],
      "execution_count": null,
      "outputs": [
        {
          "name": "stdout",
          "output_type": "stream",
          "text": [
            "0      Ohio\n",
            "1      Ohio\n",
            "2      Ohio\n",
            "3    Nevada\n",
            "4    Nevada\n",
            "5    Nevada\n",
            "Name: state, dtype: object\n",
            "\n",
            "0    2000\n",
            "1    2001\n",
            "2    2002\n",
            "3    2001\n",
            "4    2002\n",
            "5    2003\n",
            "Name: year, dtype: int64\n",
            "\n"
          ]
        }
      ]
    },
    {
      "cell_type": "code",
      "metadata": {
        "ExecuteTime": {
          "end_time": "2019-12-24T11:54:04.502687Z",
          "start_time": "2019-12-24T11:54:04.374158Z"
        },
        "id": "JHPh1j5htD71",
        "outputId": "827d596a-fce8-4a58-8918-477e8645957c"
      },
      "source": [
        "# Rows can also be retrieved by \n",
        "# position or name with the special loc attribute\n",
        "frame2.loc['three']"
      ],
      "execution_count": null,
      "outputs": [
        {
          "data": {
            "text/plain": [
              "year     2002\n",
              "state    Ohio\n",
              "pop       3.6\n",
              "debt      NaN\n",
              "Name: three, dtype: object"
            ]
          },
          "execution_count": 17,
          "metadata": {},
          "output_type": "execute_result"
        }
      ]
    },
    {
      "cell_type": "code",
      "metadata": {
        "ExecuteTime": {
          "end_time": "2019-12-24T11:54:04.699057Z",
          "start_time": "2019-12-24T11:54:04.503681Z"
        },
        "id": "CNvc7qd1tD72",
        "outputId": "034c202f-b9bf-4956-a5c6-4829bef83dc4"
      },
      "source": [
        "print(frame2)\n",
        "frame2['debt'] = 16.5\n",
        "print(frame2)\n",
        "frame2['debt'] = np.arange(6.)\n",
        "print(frame2)"
      ],
      "execution_count": null,
      "outputs": [
        {
          "name": "stdout",
          "output_type": "stream",
          "text": [
            "       year   state  pop debt\n",
            "one    2000    Ohio  1.5  NaN\n",
            "two    2001    Ohio  1.7  NaN\n",
            "three  2002    Ohio  3.6  NaN\n",
            "four   2001  Nevada  2.4  NaN\n",
            "five   2002  Nevada  2.9  NaN\n",
            "six    2003  Nevada  3.2  NaN\n",
            "\n",
            "       year   state  pop  debt\n",
            "one    2000    Ohio  1.5  16.5\n",
            "two    2001    Ohio  1.7  16.5\n",
            "three  2002    Ohio  3.6  16.5\n",
            "four   2001  Nevada  2.4  16.5\n",
            "five   2002  Nevada  2.9  16.5\n",
            "six    2003  Nevada  3.2  16.5\n",
            "\n",
            "       year   state  pop  debt\n",
            "one    2000    Ohio  1.5   0.0\n",
            "two    2001    Ohio  1.7   1.0\n",
            "three  2002    Ohio  3.6   2.0\n",
            "four   2001  Nevada  2.4   3.0\n",
            "five   2002  Nevada  2.9   4.0\n",
            "six    2003  Nevada  3.2   5.0\n",
            "\n"
          ]
        }
      ]
    },
    {
      "cell_type": "code",
      "metadata": {
        "ExecuteTime": {
          "end_time": "2019-12-24T11:54:04.822895Z",
          "start_time": "2019-12-24T11:54:04.700056Z"
        },
        "scrolled": true,
        "id": "0_ZM2iDNtD72",
        "outputId": "e9a700b4-0894-4d05-b691-9a63e192dcdb"
      },
      "source": [
        "val = pd.Series([-1.2, -1.5, -1.7], index=['two', 'four', 'five'])\n",
        "frame2['debt'] = val\n",
        "print(frame2)"
      ],
      "execution_count": null,
      "outputs": [
        {
          "name": "stdout",
          "output_type": "stream",
          "text": [
            "       year   state  pop  debt\n",
            "one    2000    Ohio  1.5   NaN\n",
            "two    2001    Ohio  1.7  -1.2\n",
            "three  2002    Ohio  3.6   NaN\n",
            "four   2001  Nevada  2.4  -1.5\n",
            "five   2002  Nevada  2.9  -1.7\n",
            "six    2003  Nevada  3.2   NaN\n",
            "\n"
          ]
        }
      ]
    },
    {
      "cell_type": "code",
      "metadata": {
        "ExecuteTime": {
          "end_time": "2019-12-24T11:54:04.996306Z",
          "start_time": "2019-12-24T11:54:04.825542Z"
        },
        "id": "-zTOqB9ktD72",
        "outputId": "caebf093-19d3-4614-8eb2-05d2480b2ac8"
      },
      "source": [
        "# Assigning a column that doesn’t exist will create a new column. \n",
        "# The del keyword will delete columns as with a dict.\n",
        "# As an example of del, I first add a new column of boolean \n",
        "# values where the state column equals 'Ohio':\n",
        "\n",
        "frame2['eastern'] = frame2['state'] == 'Ohio'\n",
        "print(frame2)\n",
        "\n",
        "del frame2['eastern']\n",
        "frame2.columns"
      ],
      "execution_count": null,
      "outputs": [
        {
          "name": "stdout",
          "output_type": "stream",
          "text": [
            "       year   state  pop  debt  eastern\n",
            "one    2000    Ohio  1.5   NaN     True\n",
            "two    2001    Ohio  1.7  -1.2     True\n",
            "three  2002    Ohio  3.6   NaN     True\n",
            "four   2001  Nevada  2.4  -1.5    False\n",
            "five   2002  Nevada  2.9  -1.7    False\n",
            "six    2003  Nevada  3.2   NaN    False\n",
            "\n"
          ]
        },
        {
          "data": {
            "text/plain": [
              "Index(['year', 'state', 'pop', 'debt'], dtype='object')"
            ]
          },
          "execution_count": 20,
          "metadata": {},
          "output_type": "execute_result"
        }
      ]
    },
    {
      "cell_type": "code",
      "metadata": {
        "ExecuteTime": {
          "end_time": "2019-12-24T11:54:05.121544Z",
          "start_time": "2019-12-24T11:54:04.998624Z"
        },
        "id": "V_57tMVItD73",
        "outputId": "55002d5b-7a33-4aa9-f367-8aea3d23288a"
      },
      "source": [
        "# another way is a nested dict of dicts\n",
        "pop = {'Nevada': {2001: 2.4, 2002: 2.9},\n",
        "       'Ohio': {2000: 1.5, 2001: 1.7, 2002: 3.6}}\n",
        "\n",
        "# If the nested dict is passed to the DataFrame, \n",
        "# pandas will interpret the outer dict keys\n",
        "# as the columns and the inner keys as the row indices\n",
        "\n",
        "frame3 = pd.DataFrame(pop)\n",
        "print(frame3)"
      ],
      "execution_count": null,
      "outputs": [
        {
          "name": "stdout",
          "output_type": "stream",
          "text": [
            "      Nevada  Ohio\n",
            "2001     2.4   1.7\n",
            "2002     2.9   3.6\n",
            "2000     NaN   1.5\n",
            "\n"
          ]
        }
      ]
    },
    {
      "cell_type": "code",
      "metadata": {
        "ExecuteTime": {
          "end_time": "2019-12-24T11:54:05.295926Z",
          "start_time": "2019-12-24T11:54:05.126331Z"
        },
        "id": "t5a_pNWFtD73",
        "outputId": "c3349b34-e741-4d12-e13a-2623b0cf7b29"
      },
      "source": [
        "# transpose dataframe\n",
        "frame3.T"
      ],
      "execution_count": null,
      "outputs": [
        {
          "data": {
            "text/html": [
              "<div>\n",
              "<style scoped>\n",
              "    .dataframe tbody tr th:only-of-type {\n",
              "        vertical-align: middle;\n",
              "    }\n",
              "\n",
              "    .dataframe tbody tr th {\n",
              "        vertical-align: top;\n",
              "    }\n",
              "\n",
              "    .dataframe thead th {\n",
              "        text-align: right;\n",
              "    }\n",
              "</style>\n",
              "<table border=\"1\" class=\"dataframe\">\n",
              "  <thead>\n",
              "    <tr style=\"text-align: right;\">\n",
              "      <th></th>\n",
              "      <th>2001</th>\n",
              "      <th>2002</th>\n",
              "      <th>2000</th>\n",
              "    </tr>\n",
              "  </thead>\n",
              "  <tbody>\n",
              "    <tr>\n",
              "      <th>Nevada</th>\n",
              "      <td>2.4</td>\n",
              "      <td>2.9</td>\n",
              "      <td>NaN</td>\n",
              "    </tr>\n",
              "    <tr>\n",
              "      <th>Ohio</th>\n",
              "      <td>1.7</td>\n",
              "      <td>3.6</td>\n",
              "      <td>1.5</td>\n",
              "    </tr>\n",
              "  </tbody>\n",
              "</table>\n",
              "</div>"
            ],
            "text/plain": [
              "        2001  2002  2000\n",
              "Nevada   2.4   2.9   NaN\n",
              "Ohio     1.7   3.6   1.5"
            ]
          },
          "execution_count": 22,
          "metadata": {},
          "output_type": "execute_result"
        }
      ]
    },
    {
      "cell_type": "code",
      "metadata": {
        "ExecuteTime": {
          "end_time": "2019-12-24T11:54:05.432228Z",
          "start_time": "2019-12-24T11:54:05.299058Z"
        },
        "id": "Ldysu7wvtD74",
        "outputId": "de257fc7-05e6-4629-c487-bd68af775109"
      },
      "source": [
        "frame3.index.name = 'year'; frame3.columns.name = 'state'\n",
        "print(frame3)"
      ],
      "execution_count": null,
      "outputs": [
        {
          "name": "stdout",
          "output_type": "stream",
          "text": [
            "state  Nevada  Ohio\n",
            "year               \n",
            "2001      2.4   1.7\n",
            "2002      2.9   3.6\n",
            "2000      NaN   1.5\n",
            "\n"
          ]
        }
      ]
    },
    {
      "cell_type": "markdown",
      "metadata": {
        "id": "o7lGzKE9tD74"
      },
      "source": [
        "#### Using the axis parameter \n",
        "\n",
        "1) axis = 0 => row\n",
        "    * Move across/down the row axis\n",
        "    * Direction of operation is down\n",
        "\n",
        "2) axis = 1 => column\n",
        "    * Move along the column axis\n",
        "    * Direction of operation is sideways\n"
      ]
    },
    {
      "cell_type": "code",
      "metadata": {
        "ExecuteTime": {
          "end_time": "2019-12-24T11:54:06.582318Z",
          "start_time": "2019-12-24T11:54:05.434315Z"
        },
        "id": "c4t2FfgHtD74",
        "outputId": "9afcab0e-17e1-468d-a060-d45994c032f9"
      },
      "source": [
        "drinks = pd.read_csv('http://bit.ly/drinksbycountry')\n",
        "drinks.head()"
      ],
      "execution_count": null,
      "outputs": [
        {
          "data": {
            "text/html": [
              "<div>\n",
              "<style scoped>\n",
              "    .dataframe tbody tr th:only-of-type {\n",
              "        vertical-align: middle;\n",
              "    }\n",
              "\n",
              "    .dataframe tbody tr th {\n",
              "        vertical-align: top;\n",
              "    }\n",
              "\n",
              "    .dataframe thead th {\n",
              "        text-align: right;\n",
              "    }\n",
              "</style>\n",
              "<table border=\"1\" class=\"dataframe\">\n",
              "  <thead>\n",
              "    <tr style=\"text-align: right;\">\n",
              "      <th></th>\n",
              "      <th>country</th>\n",
              "      <th>beer_servings</th>\n",
              "      <th>spirit_servings</th>\n",
              "      <th>wine_servings</th>\n",
              "      <th>total_litres_of_pure_alcohol</th>\n",
              "      <th>continent</th>\n",
              "    </tr>\n",
              "  </thead>\n",
              "  <tbody>\n",
              "    <tr>\n",
              "      <th>0</th>\n",
              "      <td>Afghanistan</td>\n",
              "      <td>0</td>\n",
              "      <td>0</td>\n",
              "      <td>0</td>\n",
              "      <td>0.0</td>\n",
              "      <td>Asia</td>\n",
              "    </tr>\n",
              "    <tr>\n",
              "      <th>1</th>\n",
              "      <td>Albania</td>\n",
              "      <td>89</td>\n",
              "      <td>132</td>\n",
              "      <td>54</td>\n",
              "      <td>4.9</td>\n",
              "      <td>Europe</td>\n",
              "    </tr>\n",
              "    <tr>\n",
              "      <th>2</th>\n",
              "      <td>Algeria</td>\n",
              "      <td>25</td>\n",
              "      <td>0</td>\n",
              "      <td>14</td>\n",
              "      <td>0.7</td>\n",
              "      <td>Africa</td>\n",
              "    </tr>\n",
              "    <tr>\n",
              "      <th>3</th>\n",
              "      <td>Andorra</td>\n",
              "      <td>245</td>\n",
              "      <td>138</td>\n",
              "      <td>312</td>\n",
              "      <td>12.4</td>\n",
              "      <td>Europe</td>\n",
              "    </tr>\n",
              "    <tr>\n",
              "      <th>4</th>\n",
              "      <td>Angola</td>\n",
              "      <td>217</td>\n",
              "      <td>57</td>\n",
              "      <td>45</td>\n",
              "      <td>5.9</td>\n",
              "      <td>Africa</td>\n",
              "    </tr>\n",
              "  </tbody>\n",
              "</table>\n",
              "</div>"
            ],
            "text/plain": [
              "       country  beer_servings  spirit_servings  wine_servings  \\\n",
              "0  Afghanistan              0                0              0   \n",
              "1      Albania             89              132             54   \n",
              "2      Algeria             25                0             14   \n",
              "3      Andorra            245              138            312   \n",
              "4       Angola            217               57             45   \n",
              "\n",
              "   total_litres_of_pure_alcohol continent  \n",
              "0                           0.0      Asia  \n",
              "1                           4.9    Europe  \n",
              "2                           0.7    Africa  \n",
              "3                          12.4    Europe  \n",
              "4                           5.9    Africa  "
            ]
          },
          "execution_count": 24,
          "metadata": {},
          "output_type": "execute_result"
        }
      ]
    },
    {
      "cell_type": "code",
      "metadata": {
        "ExecuteTime": {
          "end_time": "2019-12-24T11:54:06.610698Z",
          "start_time": "2019-12-24T11:54:06.587032Z"
        },
        "id": "c4oKznartD75",
        "outputId": "08ac7cf4-5b69-4e70-a280-33855f472c92"
      },
      "source": [
        "# dropping a column\n",
        "\n",
        "drinks.drop('continent', axis=1).head() "
      ],
      "execution_count": null,
      "outputs": [
        {
          "data": {
            "text/html": [
              "<div>\n",
              "<style scoped>\n",
              "    .dataframe tbody tr th:only-of-type {\n",
              "        vertical-align: middle;\n",
              "    }\n",
              "\n",
              "    .dataframe tbody tr th {\n",
              "        vertical-align: top;\n",
              "    }\n",
              "\n",
              "    .dataframe thead th {\n",
              "        text-align: right;\n",
              "    }\n",
              "</style>\n",
              "<table border=\"1\" class=\"dataframe\">\n",
              "  <thead>\n",
              "    <tr style=\"text-align: right;\">\n",
              "      <th></th>\n",
              "      <th>country</th>\n",
              "      <th>beer_servings</th>\n",
              "      <th>spirit_servings</th>\n",
              "      <th>wine_servings</th>\n",
              "      <th>total_litres_of_pure_alcohol</th>\n",
              "    </tr>\n",
              "  </thead>\n",
              "  <tbody>\n",
              "    <tr>\n",
              "      <th>0</th>\n",
              "      <td>Afghanistan</td>\n",
              "      <td>0</td>\n",
              "      <td>0</td>\n",
              "      <td>0</td>\n",
              "      <td>0.0</td>\n",
              "    </tr>\n",
              "    <tr>\n",
              "      <th>1</th>\n",
              "      <td>Albania</td>\n",
              "      <td>89</td>\n",
              "      <td>132</td>\n",
              "      <td>54</td>\n",
              "      <td>4.9</td>\n",
              "    </tr>\n",
              "    <tr>\n",
              "      <th>2</th>\n",
              "      <td>Algeria</td>\n",
              "      <td>25</td>\n",
              "      <td>0</td>\n",
              "      <td>14</td>\n",
              "      <td>0.7</td>\n",
              "    </tr>\n",
              "    <tr>\n",
              "      <th>3</th>\n",
              "      <td>Andorra</td>\n",
              "      <td>245</td>\n",
              "      <td>138</td>\n",
              "      <td>312</td>\n",
              "      <td>12.4</td>\n",
              "    </tr>\n",
              "    <tr>\n",
              "      <th>4</th>\n",
              "      <td>Angola</td>\n",
              "      <td>217</td>\n",
              "      <td>57</td>\n",
              "      <td>45</td>\n",
              "      <td>5.9</td>\n",
              "    </tr>\n",
              "  </tbody>\n",
              "</table>\n",
              "</div>"
            ],
            "text/plain": [
              "       country  beer_servings  spirit_servings  wine_servings  \\\n",
              "0  Afghanistan              0                0              0   \n",
              "1      Albania             89              132             54   \n",
              "2      Algeria             25                0             14   \n",
              "3      Andorra            245              138            312   \n",
              "4       Angola            217               57             45   \n",
              "\n",
              "   total_litres_of_pure_alcohol  \n",
              "0                           0.0  \n",
              "1                           4.9  \n",
              "2                           0.7  \n",
              "3                          12.4  \n",
              "4                           5.9  "
            ]
          },
          "execution_count": 25,
          "metadata": {},
          "output_type": "execute_result"
        }
      ]
    },
    {
      "cell_type": "code",
      "metadata": {
        "ExecuteTime": {
          "end_time": "2019-12-24T11:54:07.987950Z",
          "start_time": "2019-12-24T11:54:06.613218Z"
        },
        "id": "IrBHjH4JtD75",
        "outputId": "f0f48ce7-de61-4fe9-d7ab-3c66636932fb"
      },
      "source": [
        "# dropping a row\n",
        "\n",
        "drinks.drop(2, axis=0).head()"
      ],
      "execution_count": null,
      "outputs": [
        {
          "data": {
            "text/html": [
              "<div>\n",
              "<style scoped>\n",
              "    .dataframe tbody tr th:only-of-type {\n",
              "        vertical-align: middle;\n",
              "    }\n",
              "\n",
              "    .dataframe tbody tr th {\n",
              "        vertical-align: top;\n",
              "    }\n",
              "\n",
              "    .dataframe thead th {\n",
              "        text-align: right;\n",
              "    }\n",
              "</style>\n",
              "<table border=\"1\" class=\"dataframe\">\n",
              "  <thead>\n",
              "    <tr style=\"text-align: right;\">\n",
              "      <th></th>\n",
              "      <th>country</th>\n",
              "      <th>beer_servings</th>\n",
              "      <th>spirit_servings</th>\n",
              "      <th>wine_servings</th>\n",
              "      <th>total_litres_of_pure_alcohol</th>\n",
              "      <th>continent</th>\n",
              "    </tr>\n",
              "  </thead>\n",
              "  <tbody>\n",
              "    <tr>\n",
              "      <th>0</th>\n",
              "      <td>Afghanistan</td>\n",
              "      <td>0</td>\n",
              "      <td>0</td>\n",
              "      <td>0</td>\n",
              "      <td>0.0</td>\n",
              "      <td>Asia</td>\n",
              "    </tr>\n",
              "    <tr>\n",
              "      <th>1</th>\n",
              "      <td>Albania</td>\n",
              "      <td>89</td>\n",
              "      <td>132</td>\n",
              "      <td>54</td>\n",
              "      <td>4.9</td>\n",
              "      <td>Europe</td>\n",
              "    </tr>\n",
              "    <tr>\n",
              "      <th>3</th>\n",
              "      <td>Andorra</td>\n",
              "      <td>245</td>\n",
              "      <td>138</td>\n",
              "      <td>312</td>\n",
              "      <td>12.4</td>\n",
              "      <td>Europe</td>\n",
              "    </tr>\n",
              "    <tr>\n",
              "      <th>4</th>\n",
              "      <td>Angola</td>\n",
              "      <td>217</td>\n",
              "      <td>57</td>\n",
              "      <td>45</td>\n",
              "      <td>5.9</td>\n",
              "      <td>Africa</td>\n",
              "    </tr>\n",
              "    <tr>\n",
              "      <th>5</th>\n",
              "      <td>Antigua &amp; Barbuda</td>\n",
              "      <td>102</td>\n",
              "      <td>128</td>\n",
              "      <td>45</td>\n",
              "      <td>4.9</td>\n",
              "      <td>North America</td>\n",
              "    </tr>\n",
              "  </tbody>\n",
              "</table>\n",
              "</div>"
            ],
            "text/plain": [
              "             country  beer_servings  spirit_servings  wine_servings  \\\n",
              "0        Afghanistan              0                0              0   \n",
              "1            Albania             89              132             54   \n",
              "3            Andorra            245              138            312   \n",
              "4             Angola            217               57             45   \n",
              "5  Antigua & Barbuda            102              128             45   \n",
              "\n",
              "   total_litres_of_pure_alcohol      continent  \n",
              "0                           0.0           Asia  \n",
              "1                           4.9         Europe  \n",
              "3                          12.4         Europe  \n",
              "4                           5.9         Africa  \n",
              "5                           4.9  North America  "
            ]
          },
          "execution_count": 26,
          "metadata": {},
          "output_type": "execute_result"
        }
      ]
    },
    {
      "cell_type": "code",
      "metadata": {
        "ExecuteTime": {
          "end_time": "2019-12-24T11:54:08.176714Z",
          "start_time": "2019-12-24T11:54:07.990944Z"
        },
        "scrolled": true,
        "id": "Z0YNhuVatD75",
        "outputId": "d034709f-ef9d-4b3f-de61-163016495466"
      },
      "source": [
        "# default axis=0\n",
        "# mean of each column\n",
        "\n",
        "print(drinks.mean().shape)\n",
        "drinks.mean() "
      ],
      "execution_count": null,
      "outputs": [
        {
          "name": "stdout",
          "output_type": "stream",
          "text": [
            "(4,)\n",
            "\n"
          ]
        },
        {
          "data": {
            "text/plain": [
              "beer_servings                   106.160622\n",
              "spirit_servings                  80.994819\n",
              "wine_servings                    49.450777\n",
              "total_litres_of_pure_alcohol      4.717098\n",
              "dtype: float64"
            ]
          },
          "execution_count": 27,
          "metadata": {},
          "output_type": "execute_result"
        }
      ]
    },
    {
      "cell_type": "code",
      "metadata": {
        "ExecuteTime": {
          "end_time": "2019-12-24T11:54:08.296361Z",
          "start_time": "2019-12-24T11:54:08.178873Z"
        },
        "id": "mIsVTwSztD76",
        "outputId": "6d852131-89db-43ba-df1c-6be4c20b17f2"
      },
      "source": [
        "# mean of each row\n",
        "\n",
        "print(drinks.mean(axis=1).shape)\n",
        "drinks.mean(axis=1)"
      ],
      "execution_count": null,
      "outputs": [
        {
          "name": "stdout",
          "output_type": "stream",
          "text": [
            "(193,)\n",
            "\n"
          ]
        },
        {
          "data": {
            "text/plain": [
              "0        0.000\n",
              "1       69.975\n",
              "2        9.925\n",
              "3      176.850\n",
              "4       81.225\n",
              "        ...   \n",
              "188    110.925\n",
              "189     29.000\n",
              "190      1.525\n",
              "191     14.375\n",
              "192     22.675\n",
              "Length: 193, dtype: float64"
            ]
          },
          "execution_count": 28,
          "metadata": {},
          "output_type": "execute_result"
        }
      ]
    },
    {
      "cell_type": "markdown",
      "metadata": {
        "id": "vJWrJMR-tD77"
      },
      "source": [
        "#### Reindexing\n",
        "\n",
        "An important method on pandas objects is **reindex**, which means to create a new object with the data conformed to a new index"
      ]
    },
    {
      "cell_type": "code",
      "metadata": {
        "ExecuteTime": {
          "end_time": "2019-12-24T11:54:08.467311Z",
          "start_time": "2019-12-24T11:54:08.296361Z"
        },
        "id": "6Qihd7XvtD77",
        "outputId": "8735504f-bbd5-43d6-d028-91120a38facc"
      },
      "source": [
        "obj = pd.Series([4.5, 7.2, -5.3, 3.6], index=['d', 'b', 'a', 'c'])\n",
        "print(obj)\n",
        "\n",
        "obj2 = obj.reindex(['a', 'b', 'c', 'd'])\n",
        "print(obj2)"
      ],
      "execution_count": null,
      "outputs": [
        {
          "name": "stdout",
          "output_type": "stream",
          "text": [
            "d    4.5\n",
            "b    7.2\n",
            "a   -5.3\n",
            "c    3.6\n",
            "dtype: float64\n",
            "\n",
            "a   -5.3\n",
            "b    7.2\n",
            "c    3.6\n",
            "d    4.5\n",
            "dtype: float64\n",
            "\n"
          ]
        }
      ]
    },
    {
      "cell_type": "markdown",
      "metadata": {
        "id": "i8wfe2L7tD77"
      },
      "source": [
        "For ordered data like time series, it may be desirable to do some interpolation or filling of values when reindexing. The **method** option allows us to do this, using a\n",
        "method such as **ffill**, which forward-fills the values"
      ]
    },
    {
      "cell_type": "code",
      "metadata": {
        "ExecuteTime": {
          "end_time": "2019-12-24T11:54:08.580511Z",
          "start_time": "2019-12-24T11:54:08.470651Z"
        },
        "id": "nemDDsaotD77",
        "outputId": "81b091f8-9205-4122-d95c-a95d59898c47"
      },
      "source": [
        "obj3 = pd.Series(['blue', 'purple', 'yellow'], index=[0, 2, 4])\n",
        "print(obj3)\n",
        "\n",
        "obj3.reindex(range(6), method='ffill')"
      ],
      "execution_count": null,
      "outputs": [
        {
          "name": "stdout",
          "output_type": "stream",
          "text": [
            "0      blue\n",
            "2    purple\n",
            "4    yellow\n",
            "dtype: object\n",
            "\n"
          ]
        },
        {
          "data": {
            "text/plain": [
              "0      blue\n",
              "1      blue\n",
              "2    purple\n",
              "3    purple\n",
              "4    yellow\n",
              "5    yellow\n",
              "dtype: object"
            ]
          },
          "execution_count": 30,
          "metadata": {},
          "output_type": "execute_result"
        }
      ]
    },
    {
      "cell_type": "code",
      "metadata": {
        "ExecuteTime": {
          "end_time": "2019-12-24T11:54:08.694431Z",
          "start_time": "2019-12-24T11:54:08.582639Z"
        },
        "id": "ZHxM_qPetD78",
        "outputId": "3f1f7cb6-4d94-4e29-b6f6-2023c1db5011"
      },
      "source": [
        "frame = pd.DataFrame(np.arange(9).reshape((3, 3)), index=['a', 'c', 'd'],\n",
        "                     columns=['Ohio', 'Texas', 'California'])\n",
        "frame.index.name = 'letters'\n",
        "frame"
      ],
      "execution_count": null,
      "outputs": [
        {
          "data": {
            "text/html": [
              "<div>\n",
              "<style scoped>\n",
              "    .dataframe tbody tr th:only-of-type {\n",
              "        vertical-align: middle;\n",
              "    }\n",
              "\n",
              "    .dataframe tbody tr th {\n",
              "        vertical-align: top;\n",
              "    }\n",
              "\n",
              "    .dataframe thead th {\n",
              "        text-align: right;\n",
              "    }\n",
              "</style>\n",
              "<table border=\"1\" class=\"dataframe\">\n",
              "  <thead>\n",
              "    <tr style=\"text-align: right;\">\n",
              "      <th></th>\n",
              "      <th>Ohio</th>\n",
              "      <th>Texas</th>\n",
              "      <th>California</th>\n",
              "    </tr>\n",
              "    <tr>\n",
              "      <th>letters</th>\n",
              "      <th></th>\n",
              "      <th></th>\n",
              "      <th></th>\n",
              "    </tr>\n",
              "  </thead>\n",
              "  <tbody>\n",
              "    <tr>\n",
              "      <th>a</th>\n",
              "      <td>0</td>\n",
              "      <td>1</td>\n",
              "      <td>2</td>\n",
              "    </tr>\n",
              "    <tr>\n",
              "      <th>c</th>\n",
              "      <td>3</td>\n",
              "      <td>4</td>\n",
              "      <td>5</td>\n",
              "    </tr>\n",
              "    <tr>\n",
              "      <th>d</th>\n",
              "      <td>6</td>\n",
              "      <td>7</td>\n",
              "      <td>8</td>\n",
              "    </tr>\n",
              "  </tbody>\n",
              "</table>\n",
              "</div>"
            ],
            "text/plain": [
              "         Ohio  Texas  California\n",
              "letters                         \n",
              "a           0      1           2\n",
              "c           3      4           5\n",
              "d           6      7           8"
            ]
          },
          "execution_count": 31,
          "metadata": {},
          "output_type": "execute_result"
        }
      ]
    },
    {
      "cell_type": "code",
      "metadata": {
        "ExecuteTime": {
          "end_time": "2019-12-24T11:54:08.812642Z",
          "start_time": "2019-12-24T11:54:08.696663Z"
        },
        "id": "JINAiV6FtD78",
        "outputId": "8e440c34-aab5-43db-cf38-4d5f6c696851"
      },
      "source": [
        "frame2 = frame.reindex(['a', 'b', 'c', 'd'])\n",
        "frame2"
      ],
      "execution_count": null,
      "outputs": [
        {
          "data": {
            "text/html": [
              "<div>\n",
              "<style scoped>\n",
              "    .dataframe tbody tr th:only-of-type {\n",
              "        vertical-align: middle;\n",
              "    }\n",
              "\n",
              "    .dataframe tbody tr th {\n",
              "        vertical-align: top;\n",
              "    }\n",
              "\n",
              "    .dataframe thead th {\n",
              "        text-align: right;\n",
              "    }\n",
              "</style>\n",
              "<table border=\"1\" class=\"dataframe\">\n",
              "  <thead>\n",
              "    <tr style=\"text-align: right;\">\n",
              "      <th></th>\n",
              "      <th>Ohio</th>\n",
              "      <th>Texas</th>\n",
              "      <th>California</th>\n",
              "    </tr>\n",
              "    <tr>\n",
              "      <th>letters</th>\n",
              "      <th></th>\n",
              "      <th></th>\n",
              "      <th></th>\n",
              "    </tr>\n",
              "  </thead>\n",
              "  <tbody>\n",
              "    <tr>\n",
              "      <th>a</th>\n",
              "      <td>0.0</td>\n",
              "      <td>1.0</td>\n",
              "      <td>2.0</td>\n",
              "    </tr>\n",
              "    <tr>\n",
              "      <th>b</th>\n",
              "      <td>NaN</td>\n",
              "      <td>NaN</td>\n",
              "      <td>NaN</td>\n",
              "    </tr>\n",
              "    <tr>\n",
              "      <th>c</th>\n",
              "      <td>3.0</td>\n",
              "      <td>4.0</td>\n",
              "      <td>5.0</td>\n",
              "    </tr>\n",
              "    <tr>\n",
              "      <th>d</th>\n",
              "      <td>6.0</td>\n",
              "      <td>7.0</td>\n",
              "      <td>8.0</td>\n",
              "    </tr>\n",
              "  </tbody>\n",
              "</table>\n",
              "</div>"
            ],
            "text/plain": [
              "         Ohio  Texas  California\n",
              "letters                         \n",
              "a         0.0    1.0         2.0\n",
              "b         NaN    NaN         NaN\n",
              "c         3.0    4.0         5.0\n",
              "d         6.0    7.0         8.0"
            ]
          },
          "execution_count": 32,
          "metadata": {},
          "output_type": "execute_result"
        }
      ]
    },
    {
      "cell_type": "code",
      "metadata": {
        "ExecuteTime": {
          "end_time": "2019-12-24T11:54:08.910495Z",
          "start_time": "2019-12-24T11:54:08.814770Z"
        },
        "scrolled": false,
        "id": "aKiwLWr9tD78",
        "outputId": "5dad4b2b-e98b-4164-d477-92b12cfd8642"
      },
      "source": [
        "# The columns can be reindexed with the columns keyword:\n",
        "states = ['Texas', 'Utah', 'California']\n",
        "frame.reindex(columns=states)"
      ],
      "execution_count": null,
      "outputs": [
        {
          "data": {
            "text/html": [
              "<div>\n",
              "<style scoped>\n",
              "    .dataframe tbody tr th:only-of-type {\n",
              "        vertical-align: middle;\n",
              "    }\n",
              "\n",
              "    .dataframe tbody tr th {\n",
              "        vertical-align: top;\n",
              "    }\n",
              "\n",
              "    .dataframe thead th {\n",
              "        text-align: right;\n",
              "    }\n",
              "</style>\n",
              "<table border=\"1\" class=\"dataframe\">\n",
              "  <thead>\n",
              "    <tr style=\"text-align: right;\">\n",
              "      <th></th>\n",
              "      <th>Texas</th>\n",
              "      <th>Utah</th>\n",
              "      <th>California</th>\n",
              "    </tr>\n",
              "    <tr>\n",
              "      <th>letters</th>\n",
              "      <th></th>\n",
              "      <th></th>\n",
              "      <th></th>\n",
              "    </tr>\n",
              "  </thead>\n",
              "  <tbody>\n",
              "    <tr>\n",
              "      <th>a</th>\n",
              "      <td>1</td>\n",
              "      <td>NaN</td>\n",
              "      <td>2</td>\n",
              "    </tr>\n",
              "    <tr>\n",
              "      <th>c</th>\n",
              "      <td>4</td>\n",
              "      <td>NaN</td>\n",
              "      <td>5</td>\n",
              "    </tr>\n",
              "    <tr>\n",
              "      <th>d</th>\n",
              "      <td>7</td>\n",
              "      <td>NaN</td>\n",
              "      <td>8</td>\n",
              "    </tr>\n",
              "  </tbody>\n",
              "</table>\n",
              "</div>"
            ],
            "text/plain": [
              "         Texas  Utah  California\n",
              "letters                         \n",
              "a            1   NaN           2\n",
              "c            4   NaN           5\n",
              "d            7   NaN           8"
            ]
          },
          "execution_count": 33,
          "metadata": {},
          "output_type": "execute_result"
        }
      ]
    },
    {
      "cell_type": "code",
      "metadata": {
        "ExecuteTime": {
          "end_time": "2019-12-24T11:54:09.024940Z",
          "start_time": "2019-12-24T11:54:08.911493Z"
        },
        "id": "Ud-6rA05tD79",
        "outputId": "c2fc5194-fe72-47c5-80f4-f6b918ce2404"
      },
      "source": [
        "frame.reindex(['a', 'b', 'c', 'd'], columns=states)"
      ],
      "execution_count": null,
      "outputs": [
        {
          "data": {
            "text/html": [
              "<div>\n",
              "<style scoped>\n",
              "    .dataframe tbody tr th:only-of-type {\n",
              "        vertical-align: middle;\n",
              "    }\n",
              "\n",
              "    .dataframe tbody tr th {\n",
              "        vertical-align: top;\n",
              "    }\n",
              "\n",
              "    .dataframe thead th {\n",
              "        text-align: right;\n",
              "    }\n",
              "</style>\n",
              "<table border=\"1\" class=\"dataframe\">\n",
              "  <thead>\n",
              "    <tr style=\"text-align: right;\">\n",
              "      <th></th>\n",
              "      <th>Texas</th>\n",
              "      <th>Utah</th>\n",
              "      <th>California</th>\n",
              "    </tr>\n",
              "    <tr>\n",
              "      <th>letters</th>\n",
              "      <th></th>\n",
              "      <th></th>\n",
              "      <th></th>\n",
              "    </tr>\n",
              "  </thead>\n",
              "  <tbody>\n",
              "    <tr>\n",
              "      <th>a</th>\n",
              "      <td>1.0</td>\n",
              "      <td>NaN</td>\n",
              "      <td>2.0</td>\n",
              "    </tr>\n",
              "    <tr>\n",
              "      <th>b</th>\n",
              "      <td>NaN</td>\n",
              "      <td>NaN</td>\n",
              "      <td>NaN</td>\n",
              "    </tr>\n",
              "    <tr>\n",
              "      <th>c</th>\n",
              "      <td>4.0</td>\n",
              "      <td>NaN</td>\n",
              "      <td>5.0</td>\n",
              "    </tr>\n",
              "    <tr>\n",
              "      <th>d</th>\n",
              "      <td>7.0</td>\n",
              "      <td>NaN</td>\n",
              "      <td>8.0</td>\n",
              "    </tr>\n",
              "  </tbody>\n",
              "</table>\n",
              "</div>"
            ],
            "text/plain": [
              "         Texas  Utah  California\n",
              "letters                         \n",
              "a          1.0   NaN         2.0\n",
              "b          NaN   NaN         NaN\n",
              "c          4.0   NaN         5.0\n",
              "d          7.0   NaN         8.0"
            ]
          },
          "execution_count": 34,
          "metadata": {},
          "output_type": "execute_result"
        }
      ]
    },
    {
      "cell_type": "code",
      "metadata": {
        "ExecuteTime": {
          "end_time": "2019-12-24T11:54:09.141015Z",
          "start_time": "2019-12-24T11:54:09.024940Z"
        },
        "id": "RG77tSFztD79",
        "outputId": "168876d5-1adf-46f2-8c7d-a98355fc4fb5"
      },
      "source": [
        "frame.reindex(['a', 'b', 'c', 'd'], columns=states, fill_value=0)"
      ],
      "execution_count": null,
      "outputs": [
        {
          "data": {
            "text/html": [
              "<div>\n",
              "<style scoped>\n",
              "    .dataframe tbody tr th:only-of-type {\n",
              "        vertical-align: middle;\n",
              "    }\n",
              "\n",
              "    .dataframe tbody tr th {\n",
              "        vertical-align: top;\n",
              "    }\n",
              "\n",
              "    .dataframe thead th {\n",
              "        text-align: right;\n",
              "    }\n",
              "</style>\n",
              "<table border=\"1\" class=\"dataframe\">\n",
              "  <thead>\n",
              "    <tr style=\"text-align: right;\">\n",
              "      <th></th>\n",
              "      <th>Texas</th>\n",
              "      <th>Utah</th>\n",
              "      <th>California</th>\n",
              "    </tr>\n",
              "    <tr>\n",
              "      <th>letters</th>\n",
              "      <th></th>\n",
              "      <th></th>\n",
              "      <th></th>\n",
              "    </tr>\n",
              "  </thead>\n",
              "  <tbody>\n",
              "    <tr>\n",
              "      <th>a</th>\n",
              "      <td>1</td>\n",
              "      <td>0</td>\n",
              "      <td>2</td>\n",
              "    </tr>\n",
              "    <tr>\n",
              "      <th>b</th>\n",
              "      <td>0</td>\n",
              "      <td>0</td>\n",
              "      <td>0</td>\n",
              "    </tr>\n",
              "    <tr>\n",
              "      <th>c</th>\n",
              "      <td>4</td>\n",
              "      <td>0</td>\n",
              "      <td>5</td>\n",
              "    </tr>\n",
              "    <tr>\n",
              "      <th>d</th>\n",
              "      <td>7</td>\n",
              "      <td>0</td>\n",
              "      <td>8</td>\n",
              "    </tr>\n",
              "  </tbody>\n",
              "</table>\n",
              "</div>"
            ],
            "text/plain": [
              "         Texas  Utah  California\n",
              "letters                         \n",
              "a            1     0           2\n",
              "b            0     0           0\n",
              "c            4     0           5\n",
              "d            7     0           8"
            ]
          },
          "execution_count": 35,
          "metadata": {},
          "output_type": "execute_result"
        }
      ]
    },
    {
      "cell_type": "markdown",
      "metadata": {
        "id": "7p-Q1nMztD79"
      },
      "source": [
        "#### Dropping Entries from an axis\n",
        "\n",
        "**drop** method will return a new object with the indicated value or values deleted from an axis"
      ]
    },
    {
      "cell_type": "code",
      "metadata": {
        "ExecuteTime": {
          "end_time": "2019-12-24T11:54:09.250070Z",
          "start_time": "2019-12-24T11:54:09.141015Z"
        },
        "id": "mmBrdcnJtD79",
        "outputId": "a120b737-d7b1-4cd3-c5d9-39f9f546c102"
      },
      "source": [
        "obj = pd.Series(np.arange(5.), index=['a', 'b', 'c', 'd', 'e'])\n",
        "obj"
      ],
      "execution_count": null,
      "outputs": [
        {
          "data": {
            "text/plain": [
              "a    0.0\n",
              "b    1.0\n",
              "c    2.0\n",
              "d    3.0\n",
              "e    4.0\n",
              "dtype: float64"
            ]
          },
          "execution_count": 36,
          "metadata": {},
          "output_type": "execute_result"
        }
      ]
    },
    {
      "cell_type": "code",
      "metadata": {
        "ExecuteTime": {
          "end_time": "2019-12-24T11:54:09.396400Z",
          "start_time": "2019-12-24T11:54:09.251603Z"
        },
        "id": "QiXV7eUhtD7-",
        "outputId": "ea9f9619-2cde-4572-93fc-8b2314ad675f"
      },
      "source": [
        "new_obj = obj.drop('c')\n",
        "new_obj"
      ],
      "execution_count": null,
      "outputs": [
        {
          "data": {
            "text/plain": [
              "a    0.0\n",
              "b    1.0\n",
              "d    3.0\n",
              "e    4.0\n",
              "dtype: float64"
            ]
          },
          "execution_count": 37,
          "metadata": {},
          "output_type": "execute_result"
        }
      ]
    },
    {
      "cell_type": "code",
      "metadata": {
        "ExecuteTime": {
          "end_time": "2019-12-24T11:54:09.598954Z",
          "start_time": "2019-12-24T11:54:09.396400Z"
        },
        "id": "iHrChr6ztD7-",
        "outputId": "c486da41-21ea-4b05-83ee-e48b7d04faeb"
      },
      "source": [
        "obj.drop(['d', 'c'])"
      ],
      "execution_count": null,
      "outputs": [
        {
          "data": {
            "text/plain": [
              "a    0.0\n",
              "b    1.0\n",
              "e    4.0\n",
              "dtype: float64"
            ]
          },
          "execution_count": 38,
          "metadata": {},
          "output_type": "execute_result"
        }
      ]
    },
    {
      "cell_type": "markdown",
      "metadata": {
        "id": "3PTA6YMytD7-"
      },
      "source": [
        "With DataFrame, index values can be deleted from either axis"
      ]
    },
    {
      "cell_type": "code",
      "metadata": {
        "ExecuteTime": {
          "end_time": "2019-12-24T11:54:09.802608Z",
          "start_time": "2019-12-24T11:54:09.599952Z"
        },
        "id": "-wMCikCftD7-",
        "outputId": "ae448e66-68b2-4be3-c971-6247c2f79e0a"
      },
      "source": [
        "data = pd.DataFrame(np.arange(16).reshape((4, 4)), index=['Ohio', 'Colorado', 'Utah', 'New York'],\n",
        "                    columns=['one', 'two', 'three', 'four'])\n",
        "data"
      ],
      "execution_count": null,
      "outputs": [
        {
          "data": {
            "text/html": [
              "<div>\n",
              "<style scoped>\n",
              "    .dataframe tbody tr th:only-of-type {\n",
              "        vertical-align: middle;\n",
              "    }\n",
              "\n",
              "    .dataframe tbody tr th {\n",
              "        vertical-align: top;\n",
              "    }\n",
              "\n",
              "    .dataframe thead th {\n",
              "        text-align: right;\n",
              "    }\n",
              "</style>\n",
              "<table border=\"1\" class=\"dataframe\">\n",
              "  <thead>\n",
              "    <tr style=\"text-align: right;\">\n",
              "      <th></th>\n",
              "      <th>one</th>\n",
              "      <th>two</th>\n",
              "      <th>three</th>\n",
              "      <th>four</th>\n",
              "    </tr>\n",
              "  </thead>\n",
              "  <tbody>\n",
              "    <tr>\n",
              "      <th>Ohio</th>\n",
              "      <td>0</td>\n",
              "      <td>1</td>\n",
              "      <td>2</td>\n",
              "      <td>3</td>\n",
              "    </tr>\n",
              "    <tr>\n",
              "      <th>Colorado</th>\n",
              "      <td>4</td>\n",
              "      <td>5</td>\n",
              "      <td>6</td>\n",
              "      <td>7</td>\n",
              "    </tr>\n",
              "    <tr>\n",
              "      <th>Utah</th>\n",
              "      <td>8</td>\n",
              "      <td>9</td>\n",
              "      <td>10</td>\n",
              "      <td>11</td>\n",
              "    </tr>\n",
              "    <tr>\n",
              "      <th>New York</th>\n",
              "      <td>12</td>\n",
              "      <td>13</td>\n",
              "      <td>14</td>\n",
              "      <td>15</td>\n",
              "    </tr>\n",
              "  </tbody>\n",
              "</table>\n",
              "</div>"
            ],
            "text/plain": [
              "          one  two  three  four\n",
              "Ohio        0    1      2     3\n",
              "Colorado    4    5      6     7\n",
              "Utah        8    9     10    11\n",
              "New York   12   13     14    15"
            ]
          },
          "execution_count": 39,
          "metadata": {},
          "output_type": "execute_result"
        }
      ]
    },
    {
      "cell_type": "code",
      "metadata": {
        "ExecuteTime": {
          "end_time": "2019-12-24T11:54:09.966588Z",
          "start_time": "2019-12-24T11:54:09.803605Z"
        },
        "id": "sjjFV115tD7-",
        "outputId": "e2219a60-ff14-47fc-931c-c0cc6884091a"
      },
      "source": [
        "# Calling drop with a sequence of labels will \n",
        "# drop values from the row labels (axis 0):\n",
        "data.drop(['Colorado', 'Ohio'])"
      ],
      "execution_count": null,
      "outputs": [
        {
          "data": {
            "text/html": [
              "<div>\n",
              "<style scoped>\n",
              "    .dataframe tbody tr th:only-of-type {\n",
              "        vertical-align: middle;\n",
              "    }\n",
              "\n",
              "    .dataframe tbody tr th {\n",
              "        vertical-align: top;\n",
              "    }\n",
              "\n",
              "    .dataframe thead th {\n",
              "        text-align: right;\n",
              "    }\n",
              "</style>\n",
              "<table border=\"1\" class=\"dataframe\">\n",
              "  <thead>\n",
              "    <tr style=\"text-align: right;\">\n",
              "      <th></th>\n",
              "      <th>one</th>\n",
              "      <th>two</th>\n",
              "      <th>three</th>\n",
              "      <th>four</th>\n",
              "    </tr>\n",
              "  </thead>\n",
              "  <tbody>\n",
              "    <tr>\n",
              "      <th>Utah</th>\n",
              "      <td>8</td>\n",
              "      <td>9</td>\n",
              "      <td>10</td>\n",
              "      <td>11</td>\n",
              "    </tr>\n",
              "    <tr>\n",
              "      <th>New York</th>\n",
              "      <td>12</td>\n",
              "      <td>13</td>\n",
              "      <td>14</td>\n",
              "      <td>15</td>\n",
              "    </tr>\n",
              "  </tbody>\n",
              "</table>\n",
              "</div>"
            ],
            "text/plain": [
              "          one  two  three  four\n",
              "Utah        8    9     10    11\n",
              "New York   12   13     14    15"
            ]
          },
          "execution_count": 40,
          "metadata": {},
          "output_type": "execute_result"
        }
      ]
    },
    {
      "cell_type": "code",
      "metadata": {
        "ExecuteTime": {
          "end_time": "2019-12-24T11:54:10.096537Z",
          "start_time": "2019-12-24T11:54:09.966588Z"
        },
        "id": "p_BjVqUMtD7_",
        "outputId": "14ec9a5c-41d7-4acf-def3-970d2e1f618a"
      },
      "source": [
        "# drop values from columns: pass axis=1 or axis='columns'\n",
        "\n",
        "data.drop(['two', 'four'], axis=1)"
      ],
      "execution_count": null,
      "outputs": [
        {
          "data": {
            "text/html": [
              "<div>\n",
              "<style scoped>\n",
              "    .dataframe tbody tr th:only-of-type {\n",
              "        vertical-align: middle;\n",
              "    }\n",
              "\n",
              "    .dataframe tbody tr th {\n",
              "        vertical-align: top;\n",
              "    }\n",
              "\n",
              "    .dataframe thead th {\n",
              "        text-align: right;\n",
              "    }\n",
              "</style>\n",
              "<table border=\"1\" class=\"dataframe\">\n",
              "  <thead>\n",
              "    <tr style=\"text-align: right;\">\n",
              "      <th></th>\n",
              "      <th>one</th>\n",
              "      <th>three</th>\n",
              "    </tr>\n",
              "  </thead>\n",
              "  <tbody>\n",
              "    <tr>\n",
              "      <th>Ohio</th>\n",
              "      <td>0</td>\n",
              "      <td>2</td>\n",
              "    </tr>\n",
              "    <tr>\n",
              "      <th>Colorado</th>\n",
              "      <td>4</td>\n",
              "      <td>6</td>\n",
              "    </tr>\n",
              "    <tr>\n",
              "      <th>Utah</th>\n",
              "      <td>8</td>\n",
              "      <td>10</td>\n",
              "    </tr>\n",
              "    <tr>\n",
              "      <th>New York</th>\n",
              "      <td>12</td>\n",
              "      <td>14</td>\n",
              "    </tr>\n",
              "  </tbody>\n",
              "</table>\n",
              "</div>"
            ],
            "text/plain": [
              "          one  three\n",
              "Ohio        0      2\n",
              "Colorado    4      6\n",
              "Utah        8     10\n",
              "New York   12     14"
            ]
          },
          "execution_count": 41,
          "metadata": {},
          "output_type": "execute_result"
        }
      ]
    },
    {
      "cell_type": "code",
      "metadata": {
        "ExecuteTime": {
          "end_time": "2019-12-24T11:54:10.243523Z",
          "start_time": "2019-12-24T11:54:10.097533Z"
        },
        "id": "lKq6SometD7_",
        "outputId": "e2c3fce9-99b0-4b9f-f493-4c644da74e70"
      },
      "source": [
        "print(obj)\n",
        "obj.drop('c', inplace=True)\n",
        "print(obj)"
      ],
      "execution_count": null,
      "outputs": [
        {
          "name": "stdout",
          "output_type": "stream",
          "text": [
            "a    0.0\n",
            "b    1.0\n",
            "c    2.0\n",
            "d    3.0\n",
            "e    4.0\n",
            "dtype: float64\n",
            "\n",
            "a    0.0\n",
            "b    1.0\n",
            "d    3.0\n",
            "e    4.0\n",
            "dtype: float64\n",
            "\n"
          ]
        }
      ]
    },
    {
      "cell_type": "markdown",
      "metadata": {
        "id": "Y7rSwH8gtD7_"
      },
      "source": [
        "#### indexing\n",
        "\n",
        "Series indexing (obj[...]) works analogously to NumPy array indexing, except you can use the Series’s index values instead of only integers."
      ]
    },
    {
      "cell_type": "code",
      "metadata": {
        "ExecuteTime": {
          "end_time": "2019-12-24T11:54:10.362801Z",
          "start_time": "2019-12-24T11:54:10.243523Z"
        },
        "id": "NlfKpWfKtD7_",
        "outputId": "839997fd-c58f-47d2-b688-79f7cf8762f6"
      },
      "source": [
        "obj = pd.Series(np.arange(4.), index=['a', 'b', 'c', 'd'])\n",
        "obj"
      ],
      "execution_count": null,
      "outputs": [
        {
          "data": {
            "text/plain": [
              "a    0.0\n",
              "b    1.0\n",
              "c    2.0\n",
              "d    3.0\n",
              "dtype: float64"
            ]
          },
          "execution_count": 43,
          "metadata": {},
          "output_type": "execute_result"
        }
      ]
    },
    {
      "cell_type": "code",
      "metadata": {
        "ExecuteTime": {
          "end_time": "2019-12-24T11:54:10.493177Z",
          "start_time": "2019-12-24T11:54:10.362801Z"
        },
        "id": "Lqw-toFZtD8A",
        "outputId": "d18315bb-1eb9-42c3-a4cf-d7d24399f656"
      },
      "source": [
        "print(obj['b'])\n",
        "print(obj[1])\n",
        "print(obj[2:4])\n",
        "print(obj[['b', 'a', 'd']])\n",
        "print(obj[[1, 3]])"
      ],
      "execution_count": null,
      "outputs": [
        {
          "name": "stdout",
          "output_type": "stream",
          "text": [
            "1.0\n",
            "\n",
            "1.0\n",
            "\n",
            "c    2.0\n",
            "d    3.0\n",
            "dtype: float64\n",
            "\n",
            "b    1.0\n",
            "a    0.0\n",
            "d    3.0\n",
            "dtype: float64\n",
            "\n",
            "b    1.0\n",
            "d    3.0\n",
            "dtype: float64\n",
            "\n"
          ]
        }
      ]
    },
    {
      "cell_type": "code",
      "metadata": {
        "ExecuteTime": {
          "end_time": "2019-12-24T11:54:10.631638Z",
          "start_time": "2019-12-24T11:54:10.494174Z"
        },
        "id": "N0ZE9dJ8tD8A",
        "outputId": "be148f2c-d68d-45e8-91fe-efc5dab8b988"
      },
      "source": [
        "print(obj[obj < 2])"
      ],
      "execution_count": null,
      "outputs": [
        {
          "name": "stdout",
          "output_type": "stream",
          "text": [
            "a    0.0\n",
            "b    1.0\n",
            "dtype: float64\n",
            "\n"
          ]
        }
      ]
    },
    {
      "cell_type": "markdown",
      "metadata": {
        "id": "08sn0EzCtD8A"
      },
      "source": [
        "Slicing with labels behaves differently than normal Python slicing in that the **end‐point is inclusive**"
      ]
    },
    {
      "cell_type": "code",
      "metadata": {
        "ExecuteTime": {
          "end_time": "2019-12-24T11:54:10.937208Z",
          "start_time": "2019-12-24T11:54:10.634638Z"
        },
        "id": "w67dfI24tD8A",
        "outputId": "2d157982-6ee4-4288-db86-7907250491a9"
      },
      "source": [
        "obj['b': 'c']"
      ],
      "execution_count": null,
      "outputs": [
        {
          "data": {
            "text/plain": [
              "b    1.0\n",
              "c    2.0\n",
              "dtype: float64"
            ]
          },
          "execution_count": 46,
          "metadata": {},
          "output_type": "execute_result"
        }
      ]
    },
    {
      "cell_type": "markdown",
      "metadata": {
        "id": "FY77s-ivtD8A"
      },
      "source": [
        "Indexing into a DataFrame is for retrieving one or more columns either with a single value or sequence"
      ]
    },
    {
      "cell_type": "code",
      "metadata": {
        "ExecuteTime": {
          "end_time": "2019-12-24T11:54:11.110423Z",
          "start_time": "2019-12-24T11:54:10.939206Z"
        },
        "id": "kLHwvj66tD8B",
        "outputId": "93d2ed1e-8b6a-4ab6-abcc-161d03a0c680"
      },
      "source": [
        "data = pd.DataFrame(np.arange(16).reshape((4, 4)),\n",
        "                    index=['Ohio', 'Colorado', 'Utah', 'New York'],\n",
        "                    columns=['one', 'two', 'three', 'four'])\n",
        "data"
      ],
      "execution_count": null,
      "outputs": [
        {
          "data": {
            "text/html": [
              "<div>\n",
              "<style scoped>\n",
              "    .dataframe tbody tr th:only-of-type {\n",
              "        vertical-align: middle;\n",
              "    }\n",
              "\n",
              "    .dataframe tbody tr th {\n",
              "        vertical-align: top;\n",
              "    }\n",
              "\n",
              "    .dataframe thead th {\n",
              "        text-align: right;\n",
              "    }\n",
              "</style>\n",
              "<table border=\"1\" class=\"dataframe\">\n",
              "  <thead>\n",
              "    <tr style=\"text-align: right;\">\n",
              "      <th></th>\n",
              "      <th>one</th>\n",
              "      <th>two</th>\n",
              "      <th>three</th>\n",
              "      <th>four</th>\n",
              "    </tr>\n",
              "  </thead>\n",
              "  <tbody>\n",
              "    <tr>\n",
              "      <th>Ohio</th>\n",
              "      <td>0</td>\n",
              "      <td>1</td>\n",
              "      <td>2</td>\n",
              "      <td>3</td>\n",
              "    </tr>\n",
              "    <tr>\n",
              "      <th>Colorado</th>\n",
              "      <td>4</td>\n",
              "      <td>5</td>\n",
              "      <td>6</td>\n",
              "      <td>7</td>\n",
              "    </tr>\n",
              "    <tr>\n",
              "      <th>Utah</th>\n",
              "      <td>8</td>\n",
              "      <td>9</td>\n",
              "      <td>10</td>\n",
              "      <td>11</td>\n",
              "    </tr>\n",
              "    <tr>\n",
              "      <th>New York</th>\n",
              "      <td>12</td>\n",
              "      <td>13</td>\n",
              "      <td>14</td>\n",
              "      <td>15</td>\n",
              "    </tr>\n",
              "  </tbody>\n",
              "</table>\n",
              "</div>"
            ],
            "text/plain": [
              "          one  two  three  four\n",
              "Ohio        0    1      2     3\n",
              "Colorado    4    5      6     7\n",
              "Utah        8    9     10    11\n",
              "New York   12   13     14    15"
            ]
          },
          "execution_count": 47,
          "metadata": {},
          "output_type": "execute_result"
        }
      ]
    },
    {
      "cell_type": "code",
      "metadata": {
        "ExecuteTime": {
          "end_time": "2019-12-24T11:54:11.335656Z",
          "start_time": "2019-12-24T11:54:11.111464Z"
        },
        "id": "1PWdrYn8tD8B",
        "outputId": "64c6cf2c-9586-43f7-d4bf-582c3c4b940c"
      },
      "source": [
        "print(data['two'])\n",
        "print(data[['three', 'four']])"
      ],
      "execution_count": null,
      "outputs": [
        {
          "name": "stdout",
          "output_type": "stream",
          "text": [
            "Ohio         1\n",
            "Colorado     5\n",
            "Utah         9\n",
            "New York    13\n",
            "Name: two, dtype: int32\n",
            "\n",
            "          three  four\n",
            "Ohio          2     3\n",
            "Colorado      6     7\n",
            "Utah         10    11\n",
            "New York     14    15\n",
            "\n"
          ]
        }
      ]
    },
    {
      "cell_type": "markdown",
      "metadata": {
        "id": "p1WAjo04tD8B"
      },
      "source": [
        "The row selection syntax **data[:2]** is provided as a convenience. Passing a single element or a list to the [ ] operator selects columns."
      ]
    },
    {
      "cell_type": "code",
      "metadata": {
        "ExecuteTime": {
          "end_time": "2019-12-24T11:54:11.486571Z",
          "start_time": "2019-12-24T11:54:11.335656Z"
        },
        "id": "s4j7wt24tD8B",
        "outputId": "d76de80e-5f85-4769-a28e-f1c029208a2f"
      },
      "source": [
        "data[:2]"
      ],
      "execution_count": null,
      "outputs": [
        {
          "data": {
            "text/html": [
              "<div>\n",
              "<style scoped>\n",
              "    .dataframe tbody tr th:only-of-type {\n",
              "        vertical-align: middle;\n",
              "    }\n",
              "\n",
              "    .dataframe tbody tr th {\n",
              "        vertical-align: top;\n",
              "    }\n",
              "\n",
              "    .dataframe thead th {\n",
              "        text-align: right;\n",
              "    }\n",
              "</style>\n",
              "<table border=\"1\" class=\"dataframe\">\n",
              "  <thead>\n",
              "    <tr style=\"text-align: right;\">\n",
              "      <th></th>\n",
              "      <th>one</th>\n",
              "      <th>two</th>\n",
              "      <th>three</th>\n",
              "      <th>four</th>\n",
              "    </tr>\n",
              "  </thead>\n",
              "  <tbody>\n",
              "    <tr>\n",
              "      <th>Ohio</th>\n",
              "      <td>0</td>\n",
              "      <td>1</td>\n",
              "      <td>2</td>\n",
              "      <td>3</td>\n",
              "    </tr>\n",
              "    <tr>\n",
              "      <th>Colorado</th>\n",
              "      <td>4</td>\n",
              "      <td>5</td>\n",
              "      <td>6</td>\n",
              "      <td>7</td>\n",
              "    </tr>\n",
              "  </tbody>\n",
              "</table>\n",
              "</div>"
            ],
            "text/plain": [
              "          one  two  three  four\n",
              "Ohio        0    1      2     3\n",
              "Colorado    4    5      6     7"
            ]
          },
          "execution_count": 49,
          "metadata": {},
          "output_type": "execute_result"
        }
      ]
    },
    {
      "cell_type": "code",
      "metadata": {
        "ExecuteTime": {
          "end_time": "2019-12-24T11:54:11.626605Z",
          "start_time": "2019-12-24T11:54:11.491623Z"
        },
        "id": "eMOXOs2XtD8B",
        "outputId": "662831d5-a5eb-488a-ee4f-43537a00ac12"
      },
      "source": [
        "data[data['three'] > 5]"
      ],
      "execution_count": null,
      "outputs": [
        {
          "data": {
            "text/html": [
              "<div>\n",
              "<style scoped>\n",
              "    .dataframe tbody tr th:only-of-type {\n",
              "        vertical-align: middle;\n",
              "    }\n",
              "\n",
              "    .dataframe tbody tr th {\n",
              "        vertical-align: top;\n",
              "    }\n",
              "\n",
              "    .dataframe thead th {\n",
              "        text-align: right;\n",
              "    }\n",
              "</style>\n",
              "<table border=\"1\" class=\"dataframe\">\n",
              "  <thead>\n",
              "    <tr style=\"text-align: right;\">\n",
              "      <th></th>\n",
              "      <th>one</th>\n",
              "      <th>two</th>\n",
              "      <th>three</th>\n",
              "      <th>four</th>\n",
              "    </tr>\n",
              "  </thead>\n",
              "  <tbody>\n",
              "    <tr>\n",
              "      <th>Colorado</th>\n",
              "      <td>4</td>\n",
              "      <td>5</td>\n",
              "      <td>6</td>\n",
              "      <td>7</td>\n",
              "    </tr>\n",
              "    <tr>\n",
              "      <th>Utah</th>\n",
              "      <td>8</td>\n",
              "      <td>9</td>\n",
              "      <td>10</td>\n",
              "      <td>11</td>\n",
              "    </tr>\n",
              "    <tr>\n",
              "      <th>New York</th>\n",
              "      <td>12</td>\n",
              "      <td>13</td>\n",
              "      <td>14</td>\n",
              "      <td>15</td>\n",
              "    </tr>\n",
              "  </tbody>\n",
              "</table>\n",
              "</div>"
            ],
            "text/plain": [
              "          one  two  three  four\n",
              "Colorado    4    5      6     7\n",
              "Utah        8    9     10    11\n",
              "New York   12   13     14    15"
            ]
          },
          "execution_count": 50,
          "metadata": {},
          "output_type": "execute_result"
        }
      ]
    },
    {
      "cell_type": "code",
      "metadata": {
        "ExecuteTime": {
          "end_time": "2019-12-24T11:54:11.731106Z",
          "start_time": "2019-12-24T11:54:11.626605Z"
        },
        "id": "H5mpif5gtD8B",
        "outputId": "a6e34372-ce86-4da9-8eb3-232866b29aac"
      },
      "source": [
        "data < 5"
      ],
      "execution_count": null,
      "outputs": [
        {
          "data": {
            "text/html": [
              "<div>\n",
              "<style scoped>\n",
              "    .dataframe tbody tr th:only-of-type {\n",
              "        vertical-align: middle;\n",
              "    }\n",
              "\n",
              "    .dataframe tbody tr th {\n",
              "        vertical-align: top;\n",
              "    }\n",
              "\n",
              "    .dataframe thead th {\n",
              "        text-align: right;\n",
              "    }\n",
              "</style>\n",
              "<table border=\"1\" class=\"dataframe\">\n",
              "  <thead>\n",
              "    <tr style=\"text-align: right;\">\n",
              "      <th></th>\n",
              "      <th>one</th>\n",
              "      <th>two</th>\n",
              "      <th>three</th>\n",
              "      <th>four</th>\n",
              "    </tr>\n",
              "  </thead>\n",
              "  <tbody>\n",
              "    <tr>\n",
              "      <th>Ohio</th>\n",
              "      <td>True</td>\n",
              "      <td>True</td>\n",
              "      <td>True</td>\n",
              "      <td>True</td>\n",
              "    </tr>\n",
              "    <tr>\n",
              "      <th>Colorado</th>\n",
              "      <td>True</td>\n",
              "      <td>False</td>\n",
              "      <td>False</td>\n",
              "      <td>False</td>\n",
              "    </tr>\n",
              "    <tr>\n",
              "      <th>Utah</th>\n",
              "      <td>False</td>\n",
              "      <td>False</td>\n",
              "      <td>False</td>\n",
              "      <td>False</td>\n",
              "    </tr>\n",
              "    <tr>\n",
              "      <th>New York</th>\n",
              "      <td>False</td>\n",
              "      <td>False</td>\n",
              "      <td>False</td>\n",
              "      <td>False</td>\n",
              "    </tr>\n",
              "  </tbody>\n",
              "</table>\n",
              "</div>"
            ],
            "text/plain": [
              "            one    two  three   four\n",
              "Ohio       True   True   True   True\n",
              "Colorado   True  False  False  False\n",
              "Utah      False  False  False  False\n",
              "New York  False  False  False  False"
            ]
          },
          "execution_count": 51,
          "metadata": {},
          "output_type": "execute_result"
        }
      ]
    },
    {
      "cell_type": "markdown",
      "metadata": {
        "ExecuteTime": {
          "end_time": "2019-12-22T16:14:52.753331Z",
          "start_time": "2019-12-22T16:14:52.745801Z"
        },
        "id": "WV8lXjMytD8C"
      },
      "source": [
        "#### setting\n",
        "Setting using these methods modifies the corresponding section of the Series"
      ]
    },
    {
      "cell_type": "code",
      "metadata": {
        "ExecuteTime": {
          "end_time": "2019-12-24T11:54:11.854456Z",
          "start_time": "2019-12-24T11:54:11.733101Z"
        },
        "id": "cndt_046tD8C",
        "outputId": "bf4caf3e-7e60-4ea4-ef82-ce53427717d4"
      },
      "source": [
        "obj['b': 'c'] = 5\n",
        "obj"
      ],
      "execution_count": null,
      "outputs": [
        {
          "data": {
            "text/plain": [
              "a    0.0\n",
              "b    5.0\n",
              "c    5.0\n",
              "d    3.0\n",
              "dtype: float64"
            ]
          },
          "execution_count": 52,
          "metadata": {},
          "output_type": "execute_result"
        }
      ]
    },
    {
      "cell_type": "code",
      "metadata": {
        "ExecuteTime": {
          "end_time": "2019-12-24T11:54:11.971222Z",
          "start_time": "2019-12-24T11:54:11.855652Z"
        },
        "id": "iHkkgB41tD8C",
        "outputId": "175fc252-5a48-4956-eb96-39be4ea8c4d7"
      },
      "source": [
        "data = pd.DataFrame(np.arange(16).reshape((4, 4)),\n",
        "                    index=['Ohio', 'Colorado', 'Utah', 'New York'],\n",
        "                    columns=['one', 'two', 'three', 'four'])\n",
        "data"
      ],
      "execution_count": null,
      "outputs": [
        {
          "data": {
            "text/html": [
              "<div>\n",
              "<style scoped>\n",
              "    .dataframe tbody tr th:only-of-type {\n",
              "        vertical-align: middle;\n",
              "    }\n",
              "\n",
              "    .dataframe tbody tr th {\n",
              "        vertical-align: top;\n",
              "    }\n",
              "\n",
              "    .dataframe thead th {\n",
              "        text-align: right;\n",
              "    }\n",
              "</style>\n",
              "<table border=\"1\" class=\"dataframe\">\n",
              "  <thead>\n",
              "    <tr style=\"text-align: right;\">\n",
              "      <th></th>\n",
              "      <th>one</th>\n",
              "      <th>two</th>\n",
              "      <th>three</th>\n",
              "      <th>four</th>\n",
              "    </tr>\n",
              "  </thead>\n",
              "  <tbody>\n",
              "    <tr>\n",
              "      <th>Ohio</th>\n",
              "      <td>0</td>\n",
              "      <td>1</td>\n",
              "      <td>2</td>\n",
              "      <td>3</td>\n",
              "    </tr>\n",
              "    <tr>\n",
              "      <th>Colorado</th>\n",
              "      <td>4</td>\n",
              "      <td>5</td>\n",
              "      <td>6</td>\n",
              "      <td>7</td>\n",
              "    </tr>\n",
              "    <tr>\n",
              "      <th>Utah</th>\n",
              "      <td>8</td>\n",
              "      <td>9</td>\n",
              "      <td>10</td>\n",
              "      <td>11</td>\n",
              "    </tr>\n",
              "    <tr>\n",
              "      <th>New York</th>\n",
              "      <td>12</td>\n",
              "      <td>13</td>\n",
              "      <td>14</td>\n",
              "      <td>15</td>\n",
              "    </tr>\n",
              "  </tbody>\n",
              "</table>\n",
              "</div>"
            ],
            "text/plain": [
              "          one  two  three  four\n",
              "Ohio        0    1      2     3\n",
              "Colorado    4    5      6     7\n",
              "Utah        8    9     10    11\n",
              "New York   12   13     14    15"
            ]
          },
          "execution_count": 53,
          "metadata": {},
          "output_type": "execute_result"
        }
      ]
    },
    {
      "cell_type": "code",
      "metadata": {
        "ExecuteTime": {
          "end_time": "2019-12-24T11:54:12.124945Z",
          "start_time": "2019-12-24T11:54:11.972250Z"
        },
        "id": "mS04VLsOtD8C",
        "outputId": "7702263f-2854-429e-fb33-e7db5abfbcf5"
      },
      "source": [
        "data[data < 5] = 0\n",
        "data"
      ],
      "execution_count": null,
      "outputs": [
        {
          "data": {
            "text/html": [
              "<div>\n",
              "<style scoped>\n",
              "    .dataframe tbody tr th:only-of-type {\n",
              "        vertical-align: middle;\n",
              "    }\n",
              "\n",
              "    .dataframe tbody tr th {\n",
              "        vertical-align: top;\n",
              "    }\n",
              "\n",
              "    .dataframe thead th {\n",
              "        text-align: right;\n",
              "    }\n",
              "</style>\n",
              "<table border=\"1\" class=\"dataframe\">\n",
              "  <thead>\n",
              "    <tr style=\"text-align: right;\">\n",
              "      <th></th>\n",
              "      <th>one</th>\n",
              "      <th>two</th>\n",
              "      <th>three</th>\n",
              "      <th>four</th>\n",
              "    </tr>\n",
              "  </thead>\n",
              "  <tbody>\n",
              "    <tr>\n",
              "      <th>Ohio</th>\n",
              "      <td>0</td>\n",
              "      <td>0</td>\n",
              "      <td>0</td>\n",
              "      <td>0</td>\n",
              "    </tr>\n",
              "    <tr>\n",
              "      <th>Colorado</th>\n",
              "      <td>0</td>\n",
              "      <td>5</td>\n",
              "      <td>6</td>\n",
              "      <td>7</td>\n",
              "    </tr>\n",
              "    <tr>\n",
              "      <th>Utah</th>\n",
              "      <td>8</td>\n",
              "      <td>9</td>\n",
              "      <td>10</td>\n",
              "      <td>11</td>\n",
              "    </tr>\n",
              "    <tr>\n",
              "      <th>New York</th>\n",
              "      <td>12</td>\n",
              "      <td>13</td>\n",
              "      <td>14</td>\n",
              "      <td>15</td>\n",
              "    </tr>\n",
              "  </tbody>\n",
              "</table>\n",
              "</div>"
            ],
            "text/plain": [
              "          one  two  three  four\n",
              "Ohio        0    0      0     0\n",
              "Colorado    0    5      6     7\n",
              "Utah        8    9     10    11\n",
              "New York   12   13     14    15"
            ]
          },
          "execution_count": 54,
          "metadata": {},
          "output_type": "execute_result"
        }
      ]
    },
    {
      "cell_type": "markdown",
      "metadata": {
        "id": "DM60aOBltD8C"
      },
      "source": [
        "#### Selection with loc, iloc"
      ]
    },
    {
      "cell_type": "markdown",
      "metadata": {
        "id": "oEiqeg9YtD8C"
      },
      "source": [
        "For DataFrame label-indexing on the rows, I introduce the special indexing operators loc and iloc. They enable you to select a subset of the rows and columns from a DataFrame with NumPy-like notation using either axis labels (loc) or integers (iloc)."
      ]
    },
    {
      "cell_type": "code",
      "metadata": {
        "ExecuteTime": {
          "end_time": "2019-12-24T11:54:12.244168Z",
          "start_time": "2019-12-24T11:54:12.124945Z"
        },
        "id": "5HhXJI2etD8D",
        "outputId": "6e0b1c7c-52f6-4c84-f17d-49a802e11e69"
      },
      "source": [
        "#  select a single row and multiple columns by label\n",
        "# loc[Row, col]\n",
        "data.loc['Colorado', ['two', 'three']]"
      ],
      "execution_count": null,
      "outputs": [
        {
          "data": {
            "text/plain": [
              "two      5\n",
              "three    6\n",
              "Name: Colorado, dtype: int32"
            ]
          },
          "execution_count": 55,
          "metadata": {},
          "output_type": "execute_result"
        }
      ]
    },
    {
      "cell_type": "code",
      "metadata": {
        "ExecuteTime": {
          "end_time": "2019-12-24T11:54:12.359593Z",
          "start_time": "2019-12-24T11:54:12.244168Z"
        },
        "id": "WVBRRPQntD8D",
        "outputId": "394f5699-513e-479b-ad30-52e5fd89e838"
      },
      "source": [
        "# with integers using iloc\n",
        "data.iloc[1, [1, 2]]"
      ],
      "execution_count": null,
      "outputs": [
        {
          "data": {
            "text/plain": [
              "two      5\n",
              "three    6\n",
              "Name: Colorado, dtype: int32"
            ]
          },
          "execution_count": 56,
          "metadata": {},
          "output_type": "execute_result"
        }
      ]
    },
    {
      "cell_type": "code",
      "metadata": {
        "ExecuteTime": {
          "end_time": "2019-12-24T11:54:12.517066Z",
          "start_time": "2019-12-24T11:54:12.361868Z"
        },
        "id": "JZvBtV5-tD8D",
        "outputId": "53612dd1-4e8e-4553-d974-43c2ca6abcdd"
      },
      "source": [
        "print(data.iloc[2])\n",
        "print(data.iloc[[1, 2], [3, 0, 1]])"
      ],
      "execution_count": null,
      "outputs": [
        {
          "name": "stdout",
          "output_type": "stream",
          "text": [
            "one       8\n",
            "two       9\n",
            "three    10\n",
            "four     11\n",
            "Name: Utah, dtype: int32\n",
            "\n",
            "          four  one  two\n",
            "Colorado     7    0    5\n",
            "Utah        11    8    9\n",
            "\n"
          ]
        }
      ]
    },
    {
      "cell_type": "code",
      "metadata": {
        "ExecuteTime": {
          "end_time": "2019-12-24T11:54:12.680750Z",
          "start_time": "2019-12-24T11:54:12.519063Z"
        },
        "id": "M56is-vttD8D",
        "outputId": "5f1f6e8e-1331-423e-d345-3085789fd040"
      },
      "source": [
        "print(data)\n",
        "print(data.loc[:'Utah', 'two'])"
      ],
      "execution_count": null,
      "outputs": [
        {
          "name": "stdout",
          "output_type": "stream",
          "text": [
            "          one  two  three  four\n",
            "Ohio        0    0      0     0\n",
            "Colorado    0    5      6     7\n",
            "Utah        8    9     10    11\n",
            "New York   12   13     14    15\n",
            "\n",
            "Ohio        0\n",
            "Colorado    5\n",
            "Utah        9\n",
            "Name: two, dtype: int32\n",
            "\n"
          ]
        }
      ]
    },
    {
      "cell_type": "code",
      "metadata": {
        "ExecuteTime": {
          "end_time": "2019-12-24T11:54:12.840886Z",
          "start_time": "2019-12-24T11:54:12.682744Z"
        },
        "id": "qVJiqqlitD8D",
        "outputId": "728ef92d-c9e9-4ef9-a1ff-e5cce3237658"
      },
      "source": [
        "data.iloc[:, :3][data.three > 5]"
      ],
      "execution_count": null,
      "outputs": [
        {
          "data": {
            "text/html": [
              "<div>\n",
              "<style scoped>\n",
              "    .dataframe tbody tr th:only-of-type {\n",
              "        vertical-align: middle;\n",
              "    }\n",
              "\n",
              "    .dataframe tbody tr th {\n",
              "        vertical-align: top;\n",
              "    }\n",
              "\n",
              "    .dataframe thead th {\n",
              "        text-align: right;\n",
              "    }\n",
              "</style>\n",
              "<table border=\"1\" class=\"dataframe\">\n",
              "  <thead>\n",
              "    <tr style=\"text-align: right;\">\n",
              "      <th></th>\n",
              "      <th>one</th>\n",
              "      <th>two</th>\n",
              "      <th>three</th>\n",
              "    </tr>\n",
              "  </thead>\n",
              "  <tbody>\n",
              "    <tr>\n",
              "      <th>Colorado</th>\n",
              "      <td>0</td>\n",
              "      <td>5</td>\n",
              "      <td>6</td>\n",
              "    </tr>\n",
              "    <tr>\n",
              "      <th>Utah</th>\n",
              "      <td>8</td>\n",
              "      <td>9</td>\n",
              "      <td>10</td>\n",
              "    </tr>\n",
              "    <tr>\n",
              "      <th>New York</th>\n",
              "      <td>12</td>\n",
              "      <td>13</td>\n",
              "      <td>14</td>\n",
              "    </tr>\n",
              "  </tbody>\n",
              "</table>\n",
              "</div>"
            ],
            "text/plain": [
              "          one  two  three\n",
              "Colorado    0    5      6\n",
              "Utah        8    9     10\n",
              "New York   12   13     14"
            ]
          },
          "execution_count": 59,
          "metadata": {},
          "output_type": "execute_result"
        }
      ]
    },
    {
      "cell_type": "markdown",
      "metadata": {
        "id": "tJuiMqNztD8E"
      },
      "source": [
        "#### Arithmetic and Data Alignment"
      ]
    },
    {
      "cell_type": "markdown",
      "metadata": {
        "id": "EYn-DwjAtD8E"
      },
      "source": [
        "An important pandas feature for some applications is the behavior of arithmetic\n",
        "between objects with different indexes. When you are adding together objects, if any index pairs are not the same, \n",
        "the respective index in the result will be the union of the index pairs. \n",
        "For users with database experience, this is similar to an automatic outer join on the index labels."
      ]
    },
    {
      "cell_type": "code",
      "metadata": {
        "ExecuteTime": {
          "end_time": "2019-12-24T11:54:12.950857Z",
          "start_time": "2019-12-24T11:54:12.841887Z"
        },
        "id": "MPTv82-ItD8E"
      },
      "source": [
        "s1 = pd.Series([7.3, -2.5, 3.4, 1.5], index=['a', 'c', 'd', 'e'])\n",
        "s2 = pd.Series([-2.1, 3.6, -1.5, 4, 3.1], index=['a', 'c', 'e', 'f', 'g'])"
      ],
      "execution_count": null,
      "outputs": []
    },
    {
      "cell_type": "code",
      "metadata": {
        "ExecuteTime": {
          "end_time": "2019-12-24T11:54:13.066293Z",
          "start_time": "2019-12-24T11:54:12.950857Z"
        },
        "id": "j-RO93SWtD8E",
        "outputId": "7b9d7978-9b20-4734-fd13-844cb50ad9ab"
      },
      "source": [
        "print(s1)\n",
        "print(s2)"
      ],
      "execution_count": null,
      "outputs": [
        {
          "name": "stdout",
          "output_type": "stream",
          "text": [
            "a    7.3\n",
            "c   -2.5\n",
            "d    3.4\n",
            "e    1.5\n",
            "dtype: float64\n",
            "\n",
            "a   -2.1\n",
            "c    3.6\n",
            "e   -1.5\n",
            "f    4.0\n",
            "g    3.1\n",
            "dtype: float64\n",
            "\n"
          ]
        }
      ]
    },
    {
      "cell_type": "code",
      "metadata": {
        "ExecuteTime": {
          "end_time": "2019-12-24T11:54:13.203969Z",
          "start_time": "2019-12-24T11:54:13.068249Z"
        },
        "id": "TQmCQVmptD8E",
        "outputId": "5c2b975e-767e-442a-a1d9-c37e56623589"
      },
      "source": [
        "s1 + s2"
      ],
      "execution_count": null,
      "outputs": [
        {
          "data": {
            "text/plain": [
              "a    5.2\n",
              "c    1.1\n",
              "d    NaN\n",
              "e    0.0\n",
              "f    NaN\n",
              "g    NaN\n",
              "dtype: float64"
            ]
          },
          "execution_count": 62,
          "metadata": {},
          "output_type": "execute_result"
        }
      ]
    },
    {
      "cell_type": "markdown",
      "metadata": {
        "id": "idSk73NqtD8E"
      },
      "source": [
        "In the case of DataFrame, alignment is performed on both the rows and the columns"
      ]
    },
    {
      "cell_type": "code",
      "metadata": {
        "ExecuteTime": {
          "end_time": "2019-12-24T11:54:13.326232Z",
          "start_time": "2019-12-24T11:54:13.205001Z"
        },
        "id": "CdjWqKHltD8F"
      },
      "source": [
        "df1 = pd.DataFrame(np.arange(9.).reshape((3, 3)), columns=list('bcd'),\n",
        "                   index=['Ohio', 'Texas', 'Colorado'])\n",
        "\n",
        "df2 = pd.DataFrame(np.arange(12.).reshape((4, 3)), columns=list('bde'),\n",
        "                   index=['Utah', 'Ohio', 'Texas', 'Oregon'])"
      ],
      "execution_count": null,
      "outputs": []
    },
    {
      "cell_type": "code",
      "metadata": {
        "ExecuteTime": {
          "end_time": "2019-12-24T11:54:13.459283Z",
          "start_time": "2019-12-24T11:54:13.326232Z"
        },
        "id": "6NNEFnpNtD8F",
        "outputId": "83143cda-a3c3-44f3-8fff-45be48725cf5"
      },
      "source": [
        "print(df1)\n",
        "print(df2)"
      ],
      "execution_count": null,
      "outputs": [
        {
          "name": "stdout",
          "output_type": "stream",
          "text": [
            "            b    c    d\n",
            "Ohio      0.0  1.0  2.0\n",
            "Texas     3.0  4.0  5.0\n",
            "Colorado  6.0  7.0  8.0\n",
            "\n",
            "          b     d     e\n",
            "Utah    0.0   1.0   2.0\n",
            "Ohio    3.0   4.0   5.0\n",
            "Texas   6.0   7.0   8.0\n",
            "Oregon  9.0  10.0  11.0\n",
            "\n"
          ]
        }
      ]
    },
    {
      "cell_type": "code",
      "metadata": {
        "ExecuteTime": {
          "end_time": "2019-12-24T11:54:13.621405Z",
          "start_time": "2019-12-24T11:54:13.461210Z"
        },
        "id": "vvETobwZtD8F",
        "outputId": "d7949063-99ed-45b0-d837-c290413f4598"
      },
      "source": [
        "df1 + df2"
      ],
      "execution_count": null,
      "outputs": [
        {
          "data": {
            "text/html": [
              "<div>\n",
              "<style scoped>\n",
              "    .dataframe tbody tr th:only-of-type {\n",
              "        vertical-align: middle;\n",
              "    }\n",
              "\n",
              "    .dataframe tbody tr th {\n",
              "        vertical-align: top;\n",
              "    }\n",
              "\n",
              "    .dataframe thead th {\n",
              "        text-align: right;\n",
              "    }\n",
              "</style>\n",
              "<table border=\"1\" class=\"dataframe\">\n",
              "  <thead>\n",
              "    <tr style=\"text-align: right;\">\n",
              "      <th></th>\n",
              "      <th>b</th>\n",
              "      <th>c</th>\n",
              "      <th>d</th>\n",
              "      <th>e</th>\n",
              "    </tr>\n",
              "  </thead>\n",
              "  <tbody>\n",
              "    <tr>\n",
              "      <th>Colorado</th>\n",
              "      <td>NaN</td>\n",
              "      <td>NaN</td>\n",
              "      <td>NaN</td>\n",
              "      <td>NaN</td>\n",
              "    </tr>\n",
              "    <tr>\n",
              "      <th>Ohio</th>\n",
              "      <td>3.0</td>\n",
              "      <td>NaN</td>\n",
              "      <td>6.0</td>\n",
              "      <td>NaN</td>\n",
              "    </tr>\n",
              "    <tr>\n",
              "      <th>Oregon</th>\n",
              "      <td>NaN</td>\n",
              "      <td>NaN</td>\n",
              "      <td>NaN</td>\n",
              "      <td>NaN</td>\n",
              "    </tr>\n",
              "    <tr>\n",
              "      <th>Texas</th>\n",
              "      <td>9.0</td>\n",
              "      <td>NaN</td>\n",
              "      <td>12.0</td>\n",
              "      <td>NaN</td>\n",
              "    </tr>\n",
              "    <tr>\n",
              "      <th>Utah</th>\n",
              "      <td>NaN</td>\n",
              "      <td>NaN</td>\n",
              "      <td>NaN</td>\n",
              "      <td>NaN</td>\n",
              "    </tr>\n",
              "  </tbody>\n",
              "</table>\n",
              "</div>"
            ],
            "text/plain": [
              "            b   c     d   e\n",
              "Colorado  NaN NaN   NaN NaN\n",
              "Ohio      3.0 NaN   6.0 NaN\n",
              "Oregon    NaN NaN   NaN NaN\n",
              "Texas     9.0 NaN  12.0 NaN\n",
              "Utah      NaN NaN   NaN NaN"
            ]
          },
          "execution_count": 65,
          "metadata": {},
          "output_type": "execute_result"
        }
      ]
    },
    {
      "cell_type": "code",
      "metadata": {
        "ExecuteTime": {
          "end_time": "2019-12-24T11:54:13.778639Z",
          "start_time": "2019-12-24T11:54:13.623331Z"
        },
        "scrolled": true,
        "id": "MGPAcnS0tD8F",
        "outputId": "e5e32229-4d55-4b71-811a-43f6674b3728"
      },
      "source": [
        "df1 = pd.DataFrame({'A': [1, 2]})\n",
        "df2 = pd.DataFrame({'B': [3, 4]})\n",
        "print(df1)\n",
        "print(df2)"
      ],
      "execution_count": null,
      "outputs": [
        {
          "name": "stdout",
          "output_type": "stream",
          "text": [
            "   A\n",
            "0  1\n",
            "1  2\n",
            "\n",
            "   B\n",
            "0  3\n",
            "1  4\n",
            "\n"
          ]
        }
      ]
    },
    {
      "cell_type": "code",
      "metadata": {
        "ExecuteTime": {
          "end_time": "2019-12-24T11:54:13.907441Z",
          "start_time": "2019-12-24T11:54:13.788272Z"
        },
        "id": "XuK-lOGStD8G",
        "outputId": "9fcd4a29-6201-4611-bc00-51a1790f5cd2"
      },
      "source": [
        "df1 - df2"
      ],
      "execution_count": null,
      "outputs": [
        {
          "data": {
            "text/html": [
              "<div>\n",
              "<style scoped>\n",
              "    .dataframe tbody tr th:only-of-type {\n",
              "        vertical-align: middle;\n",
              "    }\n",
              "\n",
              "    .dataframe tbody tr th {\n",
              "        vertical-align: top;\n",
              "    }\n",
              "\n",
              "    .dataframe thead th {\n",
              "        text-align: right;\n",
              "    }\n",
              "</style>\n",
              "<table border=\"1\" class=\"dataframe\">\n",
              "  <thead>\n",
              "    <tr style=\"text-align: right;\">\n",
              "      <th></th>\n",
              "      <th>A</th>\n",
              "      <th>B</th>\n",
              "    </tr>\n",
              "  </thead>\n",
              "  <tbody>\n",
              "    <tr>\n",
              "      <th>0</th>\n",
              "      <td>NaN</td>\n",
              "      <td>NaN</td>\n",
              "    </tr>\n",
              "    <tr>\n",
              "      <th>1</th>\n",
              "      <td>NaN</td>\n",
              "      <td>NaN</td>\n",
              "    </tr>\n",
              "  </tbody>\n",
              "</table>\n",
              "</div>"
            ],
            "text/plain": [
              "    A   B\n",
              "0 NaN NaN\n",
              "1 NaN NaN"
            ]
          },
          "execution_count": 67,
          "metadata": {},
          "output_type": "execute_result"
        }
      ]
    },
    {
      "cell_type": "markdown",
      "metadata": {
        "id": "0ICkiGwqtD8G"
      },
      "source": [
        "In arithmetic operations between differently indexed objects, you might want to fill\n",
        "with a special value, like 0, when an axis label is found in one object but not the other"
      ]
    },
    {
      "cell_type": "code",
      "metadata": {
        "ExecuteTime": {
          "end_time": "2019-12-24T11:54:14.021709Z",
          "start_time": "2019-12-24T11:54:13.915170Z"
        },
        "id": "nAzoWTjotD8G"
      },
      "source": [
        "df1 = pd.DataFrame(np.arange(12.).reshape((3, 4)), columns=list(\"abcd\"))\n",
        "df2 = pd.DataFrame(np.arange(20.).reshape((4, 5)), columns=list('abcde'))"
      ],
      "execution_count": null,
      "outputs": []
    },
    {
      "cell_type": "code",
      "metadata": {
        "ExecuteTime": {
          "end_time": "2019-12-24T11:54:14.142549Z",
          "start_time": "2019-12-24T11:54:14.021709Z"
        },
        "id": "C3iRHopKtD8G"
      },
      "source": [
        "df2.loc[1, 'b'] = np.nan"
      ],
      "execution_count": null,
      "outputs": []
    },
    {
      "cell_type": "code",
      "metadata": {
        "ExecuteTime": {
          "end_time": "2019-12-24T11:54:14.273758Z",
          "start_time": "2019-12-24T11:54:14.143900Z"
        },
        "id": "gweVvmhGtD8G",
        "outputId": "abb542dc-8f95-4802-a2ae-d0c3f82d49a6"
      },
      "source": [
        "print(df1)\n",
        "print(df2)"
      ],
      "execution_count": null,
      "outputs": [
        {
          "name": "stdout",
          "output_type": "stream",
          "text": [
            "     a    b     c     d\n",
            "0  0.0  1.0   2.0   3.0\n",
            "1  4.0  5.0   6.0   7.0\n",
            "2  8.0  9.0  10.0  11.0\n",
            "\n",
            "      a     b     c     d     e\n",
            "0   0.0   1.0   2.0   3.0   4.0\n",
            "1   5.0   NaN   7.0   8.0   9.0\n",
            "2  10.0  11.0  12.0  13.0  14.0\n",
            "3  15.0  16.0  17.0  18.0  19.0\n",
            "\n"
          ]
        }
      ]
    },
    {
      "cell_type": "code",
      "metadata": {
        "ExecuteTime": {
          "end_time": "2019-12-24T11:54:14.395478Z",
          "start_time": "2019-12-24T11:54:14.273758Z"
        },
        "id": "78ega5JftD8G",
        "outputId": "060f7da5-0397-40be-a94f-aa0fbdf46ba9"
      },
      "source": [
        "# Adding these together results in NA values in the locations that don’t overlap\n",
        "df1 + df2"
      ],
      "execution_count": null,
      "outputs": [
        {
          "data": {
            "text/html": [
              "<div>\n",
              "<style scoped>\n",
              "    .dataframe tbody tr th:only-of-type {\n",
              "        vertical-align: middle;\n",
              "    }\n",
              "\n",
              "    .dataframe tbody tr th {\n",
              "        vertical-align: top;\n",
              "    }\n",
              "\n",
              "    .dataframe thead th {\n",
              "        text-align: right;\n",
              "    }\n",
              "</style>\n",
              "<table border=\"1\" class=\"dataframe\">\n",
              "  <thead>\n",
              "    <tr style=\"text-align: right;\">\n",
              "      <th></th>\n",
              "      <th>a</th>\n",
              "      <th>b</th>\n",
              "      <th>c</th>\n",
              "      <th>d</th>\n",
              "      <th>e</th>\n",
              "    </tr>\n",
              "  </thead>\n",
              "  <tbody>\n",
              "    <tr>\n",
              "      <th>0</th>\n",
              "      <td>0.0</td>\n",
              "      <td>2.0</td>\n",
              "      <td>4.0</td>\n",
              "      <td>6.0</td>\n",
              "      <td>NaN</td>\n",
              "    </tr>\n",
              "    <tr>\n",
              "      <th>1</th>\n",
              "      <td>9.0</td>\n",
              "      <td>NaN</td>\n",
              "      <td>13.0</td>\n",
              "      <td>15.0</td>\n",
              "      <td>NaN</td>\n",
              "    </tr>\n",
              "    <tr>\n",
              "      <th>2</th>\n",
              "      <td>18.0</td>\n",
              "      <td>20.0</td>\n",
              "      <td>22.0</td>\n",
              "      <td>24.0</td>\n",
              "      <td>NaN</td>\n",
              "    </tr>\n",
              "    <tr>\n",
              "      <th>3</th>\n",
              "      <td>NaN</td>\n",
              "      <td>NaN</td>\n",
              "      <td>NaN</td>\n",
              "      <td>NaN</td>\n",
              "      <td>NaN</td>\n",
              "    </tr>\n",
              "  </tbody>\n",
              "</table>\n",
              "</div>"
            ],
            "text/plain": [
              "      a     b     c     d   e\n",
              "0   0.0   2.0   4.0   6.0 NaN\n",
              "1   9.0   NaN  13.0  15.0 NaN\n",
              "2  18.0  20.0  22.0  24.0 NaN\n",
              "3   NaN   NaN   NaN   NaN NaN"
            ]
          },
          "execution_count": 71,
          "metadata": {},
          "output_type": "execute_result"
        }
      ]
    },
    {
      "cell_type": "code",
      "metadata": {
        "ExecuteTime": {
          "end_time": "2019-12-24T11:54:14.522987Z",
          "start_time": "2019-12-24T11:54:14.397472Z"
        },
        "id": "gY4YKDnLtD8H",
        "outputId": "5fea1cbf-f86e-448e-f728-db5752174600"
      },
      "source": [
        "# Using the add method on df1,one pass df2 and an argument to fill_value\n",
        "df1.add(df2, fill_value=0)"
      ],
      "execution_count": null,
      "outputs": [
        {
          "data": {
            "text/html": [
              "<div>\n",
              "<style scoped>\n",
              "    .dataframe tbody tr th:only-of-type {\n",
              "        vertical-align: middle;\n",
              "    }\n",
              "\n",
              "    .dataframe tbody tr th {\n",
              "        vertical-align: top;\n",
              "    }\n",
              "\n",
              "    .dataframe thead th {\n",
              "        text-align: right;\n",
              "    }\n",
              "</style>\n",
              "<table border=\"1\" class=\"dataframe\">\n",
              "  <thead>\n",
              "    <tr style=\"text-align: right;\">\n",
              "      <th></th>\n",
              "      <th>a</th>\n",
              "      <th>b</th>\n",
              "      <th>c</th>\n",
              "      <th>d</th>\n",
              "      <th>e</th>\n",
              "    </tr>\n",
              "  </thead>\n",
              "  <tbody>\n",
              "    <tr>\n",
              "      <th>0</th>\n",
              "      <td>0.0</td>\n",
              "      <td>2.0</td>\n",
              "      <td>4.0</td>\n",
              "      <td>6.0</td>\n",
              "      <td>4.0</td>\n",
              "    </tr>\n",
              "    <tr>\n",
              "      <th>1</th>\n",
              "      <td>9.0</td>\n",
              "      <td>5.0</td>\n",
              "      <td>13.0</td>\n",
              "      <td>15.0</td>\n",
              "      <td>9.0</td>\n",
              "    </tr>\n",
              "    <tr>\n",
              "      <th>2</th>\n",
              "      <td>18.0</td>\n",
              "      <td>20.0</td>\n",
              "      <td>22.0</td>\n",
              "      <td>24.0</td>\n",
              "      <td>14.0</td>\n",
              "    </tr>\n",
              "    <tr>\n",
              "      <th>3</th>\n",
              "      <td>15.0</td>\n",
              "      <td>16.0</td>\n",
              "      <td>17.0</td>\n",
              "      <td>18.0</td>\n",
              "      <td>19.0</td>\n",
              "    </tr>\n",
              "  </tbody>\n",
              "</table>\n",
              "</div>"
            ],
            "text/plain": [
              "      a     b     c     d     e\n",
              "0   0.0   2.0   4.0   6.0   4.0\n",
              "1   9.0   5.0  13.0  15.0   9.0\n",
              "2  18.0  20.0  22.0  24.0  14.0\n",
              "3  15.0  16.0  17.0  18.0  19.0"
            ]
          },
          "execution_count": 72,
          "metadata": {},
          "output_type": "execute_result"
        }
      ]
    },
    {
      "cell_type": "code",
      "metadata": {
        "ExecuteTime": {
          "end_time": "2019-12-24T11:54:14.645859Z",
          "start_time": "2019-12-24T11:54:14.524282Z"
        },
        "id": "-UDRFV7ItD8H",
        "outputId": "f4442b72-139f-450f-c706-285cea8e3221"
      },
      "source": [
        "# 1 / df1\n",
        "# or\n",
        "df1.rdiv(1)"
      ],
      "execution_count": null,
      "outputs": [
        {
          "data": {
            "text/html": [
              "<div>\n",
              "<style scoped>\n",
              "    .dataframe tbody tr th:only-of-type {\n",
              "        vertical-align: middle;\n",
              "    }\n",
              "\n",
              "    .dataframe tbody tr th {\n",
              "        vertical-align: top;\n",
              "    }\n",
              "\n",
              "    .dataframe thead th {\n",
              "        text-align: right;\n",
              "    }\n",
              "</style>\n",
              "<table border=\"1\" class=\"dataframe\">\n",
              "  <thead>\n",
              "    <tr style=\"text-align: right;\">\n",
              "      <th></th>\n",
              "      <th>a</th>\n",
              "      <th>b</th>\n",
              "      <th>c</th>\n",
              "      <th>d</th>\n",
              "    </tr>\n",
              "  </thead>\n",
              "  <tbody>\n",
              "    <tr>\n",
              "      <th>0</th>\n",
              "      <td>inf</td>\n",
              "      <td>1.000000</td>\n",
              "      <td>0.500000</td>\n",
              "      <td>0.333333</td>\n",
              "    </tr>\n",
              "    <tr>\n",
              "      <th>1</th>\n",
              "      <td>0.250</td>\n",
              "      <td>0.200000</td>\n",
              "      <td>0.166667</td>\n",
              "      <td>0.142857</td>\n",
              "    </tr>\n",
              "    <tr>\n",
              "      <th>2</th>\n",
              "      <td>0.125</td>\n",
              "      <td>0.111111</td>\n",
              "      <td>0.100000</td>\n",
              "      <td>0.090909</td>\n",
              "    </tr>\n",
              "  </tbody>\n",
              "</table>\n",
              "</div>"
            ],
            "text/plain": [
              "       a         b         c         d\n",
              "0    inf  1.000000  0.500000  0.333333\n",
              "1  0.250  0.200000  0.166667  0.142857\n",
              "2  0.125  0.111111  0.100000  0.090909"
            ]
          },
          "execution_count": 73,
          "metadata": {},
          "output_type": "execute_result"
        }
      ]
    },
    {
      "cell_type": "code",
      "metadata": {
        "ExecuteTime": {
          "end_time": "2019-12-24T11:54:14.762982Z",
          "start_time": "2019-12-24T11:54:14.648478Z"
        },
        "id": "Mf9VxOoFtD8H",
        "outputId": "deb49a46-0b36-4ee8-8709-550f2ee7ba9f"
      },
      "source": [
        "# operations between DataFrame and Series\n",
        "frame = pd.DataFrame(np.arange(12.).reshape((4, 3)), columns=list('bde'),\n",
        "                    index=(\"utah\", \"ohio\", \"texas\", \"oregon\"))\n",
        "series = frame.iloc[0]\n",
        "print(frame)\n",
        "print(series)"
      ],
      "execution_count": null,
      "outputs": [
        {
          "name": "stdout",
          "output_type": "stream",
          "text": [
            "          b     d     e\n",
            "utah    0.0   1.0   2.0\n",
            "ohio    3.0   4.0   5.0\n",
            "texas   6.0   7.0   8.0\n",
            "oregon  9.0  10.0  11.0\n",
            "\n",
            "b    0.0\n",
            "d    1.0\n",
            "e    2.0\n",
            "Name: utah, dtype: float64\n",
            "\n"
          ]
        }
      ]
    },
    {
      "cell_type": "markdown",
      "metadata": {
        "id": "9ImTF0AXtD8H"
      },
      "source": [
        "By default, arithmetic between DataFrame and Series matches the index of the Series\n",
        "on the DataFrame’s columns, broadcasting down the rows"
      ]
    },
    {
      "cell_type": "code",
      "metadata": {
        "ExecuteTime": {
          "end_time": "2019-12-24T11:54:15.272570Z",
          "start_time": "2019-12-24T11:54:14.764980Z"
        },
        "id": "ZCLgGeTktD8H",
        "outputId": "15fe1eca-0e11-46a7-9199-057974230219"
      },
      "source": [
        "frame - series"
      ],
      "execution_count": null,
      "outputs": [
        {
          "data": {
            "text/html": [
              "<div>\n",
              "<style scoped>\n",
              "    .dataframe tbody tr th:only-of-type {\n",
              "        vertical-align: middle;\n",
              "    }\n",
              "\n",
              "    .dataframe tbody tr th {\n",
              "        vertical-align: top;\n",
              "    }\n",
              "\n",
              "    .dataframe thead th {\n",
              "        text-align: right;\n",
              "    }\n",
              "</style>\n",
              "<table border=\"1\" class=\"dataframe\">\n",
              "  <thead>\n",
              "    <tr style=\"text-align: right;\">\n",
              "      <th></th>\n",
              "      <th>b</th>\n",
              "      <th>d</th>\n",
              "      <th>e</th>\n",
              "    </tr>\n",
              "  </thead>\n",
              "  <tbody>\n",
              "    <tr>\n",
              "      <th>utah</th>\n",
              "      <td>0.0</td>\n",
              "      <td>0.0</td>\n",
              "      <td>0.0</td>\n",
              "    </tr>\n",
              "    <tr>\n",
              "      <th>ohio</th>\n",
              "      <td>3.0</td>\n",
              "      <td>3.0</td>\n",
              "      <td>3.0</td>\n",
              "    </tr>\n",
              "    <tr>\n",
              "      <th>texas</th>\n",
              "      <td>6.0</td>\n",
              "      <td>6.0</td>\n",
              "      <td>6.0</td>\n",
              "    </tr>\n",
              "    <tr>\n",
              "      <th>oregon</th>\n",
              "      <td>9.0</td>\n",
              "      <td>9.0</td>\n",
              "      <td>9.0</td>\n",
              "    </tr>\n",
              "  </tbody>\n",
              "</table>\n",
              "</div>"
            ],
            "text/plain": [
              "          b    d    e\n",
              "utah    0.0  0.0  0.0\n",
              "ohio    3.0  3.0  3.0\n",
              "texas   6.0  6.0  6.0\n",
              "oregon  9.0  9.0  9.0"
            ]
          },
          "execution_count": 75,
          "metadata": {},
          "output_type": "execute_result"
        }
      ]
    },
    {
      "cell_type": "markdown",
      "metadata": {
        "id": "giLk0IFRtD8H"
      },
      "source": [
        "If an index value is not found in either the DataFrame’s columns or the Series’s index,\n",
        "the objects will be reindexed to form the union"
      ]
    },
    {
      "cell_type": "code",
      "metadata": {
        "ExecuteTime": {
          "end_time": "2019-12-24T11:54:15.785596Z",
          "start_time": "2019-12-24T11:54:15.274639Z"
        },
        "id": "FSAY7EhLtD8I"
      },
      "source": [
        "series2 = pd.Series(range(3), index=list('bef'))"
      ],
      "execution_count": null,
      "outputs": []
    },
    {
      "cell_type": "code",
      "metadata": {
        "ExecuteTime": {
          "end_time": "2019-12-24T11:54:15.975844Z",
          "start_time": "2019-12-24T11:54:15.789282Z"
        },
        "id": "vNCCdJN3tD8I",
        "outputId": "1e2965f3-6c56-4eea-a89b-a3f939e2d1f6"
      },
      "source": [
        "frame + series2"
      ],
      "execution_count": null,
      "outputs": [
        {
          "data": {
            "text/html": [
              "<div>\n",
              "<style scoped>\n",
              "    .dataframe tbody tr th:only-of-type {\n",
              "        vertical-align: middle;\n",
              "    }\n",
              "\n",
              "    .dataframe tbody tr th {\n",
              "        vertical-align: top;\n",
              "    }\n",
              "\n",
              "    .dataframe thead th {\n",
              "        text-align: right;\n",
              "    }\n",
              "</style>\n",
              "<table border=\"1\" class=\"dataframe\">\n",
              "  <thead>\n",
              "    <tr style=\"text-align: right;\">\n",
              "      <th></th>\n",
              "      <th>b</th>\n",
              "      <th>d</th>\n",
              "      <th>e</th>\n",
              "      <th>f</th>\n",
              "    </tr>\n",
              "  </thead>\n",
              "  <tbody>\n",
              "    <tr>\n",
              "      <th>utah</th>\n",
              "      <td>0.0</td>\n",
              "      <td>NaN</td>\n",
              "      <td>3.0</td>\n",
              "      <td>NaN</td>\n",
              "    </tr>\n",
              "    <tr>\n",
              "      <th>ohio</th>\n",
              "      <td>3.0</td>\n",
              "      <td>NaN</td>\n",
              "      <td>6.0</td>\n",
              "      <td>NaN</td>\n",
              "    </tr>\n",
              "    <tr>\n",
              "      <th>texas</th>\n",
              "      <td>6.0</td>\n",
              "      <td>NaN</td>\n",
              "      <td>9.0</td>\n",
              "      <td>NaN</td>\n",
              "    </tr>\n",
              "    <tr>\n",
              "      <th>oregon</th>\n",
              "      <td>9.0</td>\n",
              "      <td>NaN</td>\n",
              "      <td>12.0</td>\n",
              "      <td>NaN</td>\n",
              "    </tr>\n",
              "  </tbody>\n",
              "</table>\n",
              "</div>"
            ],
            "text/plain": [
              "          b   d     e   f\n",
              "utah    0.0 NaN   3.0 NaN\n",
              "ohio    3.0 NaN   6.0 NaN\n",
              "texas   6.0 NaN   9.0 NaN\n",
              "oregon  9.0 NaN  12.0 NaN"
            ]
          },
          "execution_count": 77,
          "metadata": {},
          "output_type": "execute_result"
        }
      ]
    },
    {
      "cell_type": "code",
      "metadata": {
        "ExecuteTime": {
          "end_time": "2019-12-24T11:54:16.113109Z",
          "start_time": "2019-12-24T11:54:15.978953Z"
        },
        "id": "QmsbNnJKtD8I",
        "outputId": "0df5c434-41f0-4e13-af69-5fba47d637ed"
      },
      "source": [
        "# broadcasting over columns\n",
        "series3 = frame['d']\n",
        "series3"
      ],
      "execution_count": null,
      "outputs": [
        {
          "data": {
            "text/plain": [
              "utah       1.0\n",
              "ohio       4.0\n",
              "texas      7.0\n",
              "oregon    10.0\n",
              "Name: d, dtype: float64"
            ]
          },
          "execution_count": 78,
          "metadata": {},
          "output_type": "execute_result"
        }
      ]
    },
    {
      "cell_type": "code",
      "metadata": {
        "ExecuteTime": {
          "end_time": "2019-12-24T11:54:16.261347Z",
          "start_time": "2019-12-24T11:54:16.115103Z"
        },
        "id": "N2bsLstKtD8I",
        "outputId": "61017470-b719-4fbd-cf3d-9544e69e99a3"
      },
      "source": [
        "frame.sub(series3, axis='index')"
      ],
      "execution_count": null,
      "outputs": [
        {
          "data": {
            "text/html": [
              "<div>\n",
              "<style scoped>\n",
              "    .dataframe tbody tr th:only-of-type {\n",
              "        vertical-align: middle;\n",
              "    }\n",
              "\n",
              "    .dataframe tbody tr th {\n",
              "        vertical-align: top;\n",
              "    }\n",
              "\n",
              "    .dataframe thead th {\n",
              "        text-align: right;\n",
              "    }\n",
              "</style>\n",
              "<table border=\"1\" class=\"dataframe\">\n",
              "  <thead>\n",
              "    <tr style=\"text-align: right;\">\n",
              "      <th></th>\n",
              "      <th>b</th>\n",
              "      <th>d</th>\n",
              "      <th>e</th>\n",
              "    </tr>\n",
              "  </thead>\n",
              "  <tbody>\n",
              "    <tr>\n",
              "      <th>utah</th>\n",
              "      <td>-1.0</td>\n",
              "      <td>0.0</td>\n",
              "      <td>1.0</td>\n",
              "    </tr>\n",
              "    <tr>\n",
              "      <th>ohio</th>\n",
              "      <td>-1.0</td>\n",
              "      <td>0.0</td>\n",
              "      <td>1.0</td>\n",
              "    </tr>\n",
              "    <tr>\n",
              "      <th>texas</th>\n",
              "      <td>-1.0</td>\n",
              "      <td>0.0</td>\n",
              "      <td>1.0</td>\n",
              "    </tr>\n",
              "    <tr>\n",
              "      <th>oregon</th>\n",
              "      <td>-1.0</td>\n",
              "      <td>0.0</td>\n",
              "      <td>1.0</td>\n",
              "    </tr>\n",
              "  </tbody>\n",
              "</table>\n",
              "</div>"
            ],
            "text/plain": [
              "          b    d    e\n",
              "utah   -1.0  0.0  1.0\n",
              "ohio   -1.0  0.0  1.0\n",
              "texas  -1.0  0.0  1.0\n",
              "oregon -1.0  0.0  1.0"
            ]
          },
          "execution_count": 79,
          "metadata": {},
          "output_type": "execute_result"
        }
      ]
    },
    {
      "cell_type": "markdown",
      "metadata": {
        "id": "xpHEiTBItD8I"
      },
      "source": [
        "The axis number that you pass is the axis to match on. In this case we mean to match\n",
        "on the DataFrame’s row index (axis='index' or axis=0) and broadcast across."
      ]
    },
    {
      "cell_type": "markdown",
      "metadata": {
        "id": "7hIayBX6tD8J"
      },
      "source": [
        "#### Function Application and Mapping"
      ]
    },
    {
      "cell_type": "code",
      "metadata": {
        "ExecuteTime": {
          "end_time": "2019-12-24T11:54:16.578884Z",
          "start_time": "2019-12-24T11:54:16.263428Z"
        },
        "id": "nSBtasyYtD8J",
        "outputId": "b1733f7d-aa24-4ac7-d385-e5c14935387d"
      },
      "source": [
        "frame = pd.DataFrame(np.random.randn(4, 3), columns=list('bde'),\n",
        "                    index=['Utah', 'Ohio', 'Texas', 'Oregon'])\n",
        "frame"
      ],
      "execution_count": null,
      "outputs": [
        {
          "data": {
            "text/html": [
              "<div>\n",
              "<style scoped>\n",
              "    .dataframe tbody tr th:only-of-type {\n",
              "        vertical-align: middle;\n",
              "    }\n",
              "\n",
              "    .dataframe tbody tr th {\n",
              "        vertical-align: top;\n",
              "    }\n",
              "\n",
              "    .dataframe thead th {\n",
              "        text-align: right;\n",
              "    }\n",
              "</style>\n",
              "<table border=\"1\" class=\"dataframe\">\n",
              "  <thead>\n",
              "    <tr style=\"text-align: right;\">\n",
              "      <th></th>\n",
              "      <th>b</th>\n",
              "      <th>d</th>\n",
              "      <th>e</th>\n",
              "    </tr>\n",
              "  </thead>\n",
              "  <tbody>\n",
              "    <tr>\n",
              "      <th>Utah</th>\n",
              "      <td>-1.846691</td>\n",
              "      <td>-0.622582</td>\n",
              "      <td>-1.542595</td>\n",
              "    </tr>\n",
              "    <tr>\n",
              "      <th>Ohio</th>\n",
              "      <td>0.818697</td>\n",
              "      <td>0.730596</td>\n",
              "      <td>0.458859</td>\n",
              "    </tr>\n",
              "    <tr>\n",
              "      <th>Texas</th>\n",
              "      <td>0.612735</td>\n",
              "      <td>0.593502</td>\n",
              "      <td>-0.631133</td>\n",
              "    </tr>\n",
              "    <tr>\n",
              "      <th>Oregon</th>\n",
              "      <td>-0.067950</td>\n",
              "      <td>-1.023214</td>\n",
              "      <td>0.115138</td>\n",
              "    </tr>\n",
              "  </tbody>\n",
              "</table>\n",
              "</div>"
            ],
            "text/plain": [
              "               b         d         e\n",
              "Utah   -1.846691 -0.622582 -1.542595\n",
              "Ohio    0.818697  0.730596  0.458859\n",
              "Texas   0.612735  0.593502 -0.631133\n",
              "Oregon -0.067950 -1.023214  0.115138"
            ]
          },
          "execution_count": 80,
          "metadata": {},
          "output_type": "execute_result"
        }
      ]
    },
    {
      "cell_type": "code",
      "metadata": {
        "ExecuteTime": {
          "end_time": "2019-12-24T11:54:16.763901Z",
          "start_time": "2019-12-24T11:54:16.581885Z"
        },
        "id": "1jGFD_PatD8J",
        "outputId": "6fcac21c-86af-44f2-cc37-bfc009491672"
      },
      "source": [
        "np.abs(frame)"
      ],
      "execution_count": null,
      "outputs": [
        {
          "data": {
            "text/html": [
              "<div>\n",
              "<style scoped>\n",
              "    .dataframe tbody tr th:only-of-type {\n",
              "        vertical-align: middle;\n",
              "    }\n",
              "\n",
              "    .dataframe tbody tr th {\n",
              "        vertical-align: top;\n",
              "    }\n",
              "\n",
              "    .dataframe thead th {\n",
              "        text-align: right;\n",
              "    }\n",
              "</style>\n",
              "<table border=\"1\" class=\"dataframe\">\n",
              "  <thead>\n",
              "    <tr style=\"text-align: right;\">\n",
              "      <th></th>\n",
              "      <th>b</th>\n",
              "      <th>d</th>\n",
              "      <th>e</th>\n",
              "    </tr>\n",
              "  </thead>\n",
              "  <tbody>\n",
              "    <tr>\n",
              "      <th>Utah</th>\n",
              "      <td>1.846691</td>\n",
              "      <td>0.622582</td>\n",
              "      <td>1.542595</td>\n",
              "    </tr>\n",
              "    <tr>\n",
              "      <th>Ohio</th>\n",
              "      <td>0.818697</td>\n",
              "      <td>0.730596</td>\n",
              "      <td>0.458859</td>\n",
              "    </tr>\n",
              "    <tr>\n",
              "      <th>Texas</th>\n",
              "      <td>0.612735</td>\n",
              "      <td>0.593502</td>\n",
              "      <td>0.631133</td>\n",
              "    </tr>\n",
              "    <tr>\n",
              "      <th>Oregon</th>\n",
              "      <td>0.067950</td>\n",
              "      <td>1.023214</td>\n",
              "      <td>0.115138</td>\n",
              "    </tr>\n",
              "  </tbody>\n",
              "</table>\n",
              "</div>"
            ],
            "text/plain": [
              "               b         d         e\n",
              "Utah    1.846691  0.622582  1.542595\n",
              "Ohio    0.818697  0.730596  0.458859\n",
              "Texas   0.612735  0.593502  0.631133\n",
              "Oregon  0.067950  1.023214  0.115138"
            ]
          },
          "execution_count": 81,
          "metadata": {},
          "output_type": "execute_result"
        }
      ]
    },
    {
      "cell_type": "code",
      "metadata": {
        "ExecuteTime": {
          "end_time": "2019-12-24T11:54:16.884947Z",
          "start_time": "2019-12-24T11:54:16.766103Z"
        },
        "id": "76niJKE9tD8J",
        "outputId": "b8a62d7b-e817-49a3-a8ae-b0660ecddbf6"
      },
      "source": [
        "# Another frequent operation is applying a function on \n",
        "# one-dimensional arrays to each column or row. \n",
        "# DataFrame’s apply method does exactly this\n",
        "\n",
        "f = lambda x: x.max() - x.min()\n",
        "frame.apply(f)"
      ],
      "execution_count": null,
      "outputs": [
        {
          "data": {
            "text/plain": [
              "b    2.665389\n",
              "d    1.753811\n",
              "e    2.001455\n",
              "dtype: float64"
            ]
          },
          "execution_count": 82,
          "metadata": {},
          "output_type": "execute_result"
        }
      ]
    },
    {
      "cell_type": "markdown",
      "metadata": {
        "id": "Wll8hnkptD8J"
      },
      "source": [
        "Here the function f, which computes the difference between the maximum and minimum of a Series, is **invoked once on each column** in frame. The result is a Series having the columns of frame as its index."
      ]
    },
    {
      "cell_type": "code",
      "metadata": {
        "ExecuteTime": {
          "end_time": "2019-12-24T11:54:17.003427Z",
          "start_time": "2019-12-24T11:54:16.887837Z"
        },
        "id": "srQnMSuQtD8K",
        "outputId": "e2c7d818-d385-4a98-d1a3-b85ce41a3bfe"
      },
      "source": [
        "# If you pass axis='columns' to apply, \n",
        "# the function will be invoked once per row\n",
        "\n",
        "frame.apply(f, axis='columns')"
      ],
      "execution_count": null,
      "outputs": [
        {
          "data": {
            "text/plain": [
              "Utah      1.224110\n",
              "Ohio      0.359838\n",
              "Texas     1.243868\n",
              "Oregon    1.138353\n",
              "dtype: float64"
            ]
          },
          "execution_count": 83,
          "metadata": {},
          "output_type": "execute_result"
        }
      ]
    },
    {
      "cell_type": "code",
      "metadata": {
        "ExecuteTime": {
          "end_time": "2019-12-24T11:54:17.152859Z",
          "start_time": "2019-12-24T11:54:17.003427Z"
        },
        "id": "qQRpLN9NtD8K",
        "outputId": "018a4075-f14c-41e1-91d1-0acb51dce87b"
      },
      "source": [
        "# returning a Series with multiple values\n",
        "\n",
        "def f(x):\n",
        "    return pd.Series([x.min(), x.max()], index=['min', 'max'])\n",
        "\n",
        "frame.apply(f)"
      ],
      "execution_count": null,
      "outputs": [
        {
          "data": {
            "text/html": [
              "<div>\n",
              "<style scoped>\n",
              "    .dataframe tbody tr th:only-of-type {\n",
              "        vertical-align: middle;\n",
              "    }\n",
              "\n",
              "    .dataframe tbody tr th {\n",
              "        vertical-align: top;\n",
              "    }\n",
              "\n",
              "    .dataframe thead th {\n",
              "        text-align: right;\n",
              "    }\n",
              "</style>\n",
              "<table border=\"1\" class=\"dataframe\">\n",
              "  <thead>\n",
              "    <tr style=\"text-align: right;\">\n",
              "      <th></th>\n",
              "      <th>b</th>\n",
              "      <th>d</th>\n",
              "      <th>e</th>\n",
              "    </tr>\n",
              "  </thead>\n",
              "  <tbody>\n",
              "    <tr>\n",
              "      <th>min</th>\n",
              "      <td>-1.846691</td>\n",
              "      <td>-1.023214</td>\n",
              "      <td>-1.542595</td>\n",
              "    </tr>\n",
              "    <tr>\n",
              "      <th>max</th>\n",
              "      <td>0.818697</td>\n",
              "      <td>0.730596</td>\n",
              "      <td>0.458859</td>\n",
              "    </tr>\n",
              "  </tbody>\n",
              "</table>\n",
              "</div>"
            ],
            "text/plain": [
              "            b         d         e\n",
              "min -1.846691 -1.023214 -1.542595\n",
              "max  0.818697  0.730596  0.458859"
            ]
          },
          "execution_count": 84,
          "metadata": {},
          "output_type": "execute_result"
        }
      ]
    },
    {
      "cell_type": "markdown",
      "metadata": {
        "id": "Kruooi38tD8L"
      },
      "source": [
        "Element-wise Python functions can be used, too. Suppose you wanted to compute a\n",
        "formatted string from each floating-point value in frame. You can do this with \n",
        "**applymap**"
      ]
    },
    {
      "cell_type": "code",
      "metadata": {
        "ExecuteTime": {
          "end_time": "2019-12-24T11:54:17.261634Z",
          "start_time": "2019-12-24T11:54:17.155897Z"
        },
        "id": "CaWslUePtD8M"
      },
      "source": [
        "format = lambda x: f'{x:.2f}'"
      ],
      "execution_count": null,
      "outputs": []
    },
    {
      "cell_type": "code",
      "metadata": {
        "ExecuteTime": {
          "end_time": "2019-12-24T11:54:17.398915Z",
          "start_time": "2019-12-24T11:54:17.263630Z"
        },
        "id": "eXOCYb6RtD8M",
        "outputId": "49ad5135-b6ae-4ba3-96da-da1b0987f095"
      },
      "source": [
        "print(frame)\n",
        "frame.applymap(format)"
      ],
      "execution_count": null,
      "outputs": [
        {
          "name": "stdout",
          "output_type": "stream",
          "text": [
            "               b         d         e\n",
            "Utah   -1.846691 -0.622582 -1.542595\n",
            "Ohio    0.818697  0.730596  0.458859\n",
            "Texas   0.612735  0.593502 -0.631133\n",
            "Oregon -0.067950 -1.023214  0.115138\n",
            "\n"
          ]
        },
        {
          "data": {
            "text/html": [
              "<div>\n",
              "<style scoped>\n",
              "    .dataframe tbody tr th:only-of-type {\n",
              "        vertical-align: middle;\n",
              "    }\n",
              "\n",
              "    .dataframe tbody tr th {\n",
              "        vertical-align: top;\n",
              "    }\n",
              "\n",
              "    .dataframe thead th {\n",
              "        text-align: right;\n",
              "    }\n",
              "</style>\n",
              "<table border=\"1\" class=\"dataframe\">\n",
              "  <thead>\n",
              "    <tr style=\"text-align: right;\">\n",
              "      <th></th>\n",
              "      <th>b</th>\n",
              "      <th>d</th>\n",
              "      <th>e</th>\n",
              "    </tr>\n",
              "  </thead>\n",
              "  <tbody>\n",
              "    <tr>\n",
              "      <th>Utah</th>\n",
              "      <td>-1.85</td>\n",
              "      <td>-0.62</td>\n",
              "      <td>-1.54</td>\n",
              "    </tr>\n",
              "    <tr>\n",
              "      <th>Ohio</th>\n",
              "      <td>0.82</td>\n",
              "      <td>0.73</td>\n",
              "      <td>0.46</td>\n",
              "    </tr>\n",
              "    <tr>\n",
              "      <th>Texas</th>\n",
              "      <td>0.61</td>\n",
              "      <td>0.59</td>\n",
              "      <td>-0.63</td>\n",
              "    </tr>\n",
              "    <tr>\n",
              "      <th>Oregon</th>\n",
              "      <td>-0.07</td>\n",
              "      <td>-1.02</td>\n",
              "      <td>0.12</td>\n",
              "    </tr>\n",
              "  </tbody>\n",
              "</table>\n",
              "</div>"
            ],
            "text/plain": [
              "            b      d      e\n",
              "Utah    -1.85  -0.62  -1.54\n",
              "Ohio     0.82   0.73   0.46\n",
              "Texas    0.61   0.59  -0.63\n",
              "Oregon  -0.07  -1.02   0.12"
            ]
          },
          "execution_count": 86,
          "metadata": {},
          "output_type": "execute_result"
        }
      ]
    },
    {
      "cell_type": "markdown",
      "metadata": {
        "id": "h4AWJi6htD8N"
      },
      "source": [
        "The reason for the name applymap is that Series has a **map** method for applying an\n",
        "element-wise function"
      ]
    },
    {
      "cell_type": "code",
      "metadata": {
        "ExecuteTime": {
          "end_time": "2019-12-24T11:54:17.518935Z",
          "start_time": "2019-12-24T11:54:17.400935Z"
        },
        "id": "xVARTM34tD8N",
        "outputId": "cc380467-cfd6-4444-902e-e6f47767c4a6"
      },
      "source": [
        "frame['e'].map(format)"
      ],
      "execution_count": null,
      "outputs": [
        {
          "data": {
            "text/plain": [
              "Utah      -1.54\n",
              "Ohio       0.46\n",
              "Texas     -0.63\n",
              "Oregon     0.12\n",
              "Name: e, dtype: object"
            ]
          },
          "execution_count": 87,
          "metadata": {},
          "output_type": "execute_result"
        }
      ]
    },
    {
      "cell_type": "markdown",
      "metadata": {
        "id": "P5uaPGHQtD8O"
      },
      "source": [
        "#### Sorting\n",
        "\n",
        "Sorting a dataset by some criterion is another important built-in operation. To sort\n",
        "lexicographically by row or column index, use the **sort_index** method, which returns\n",
        "a new, sorted object"
      ]
    },
    {
      "cell_type": "code",
      "metadata": {
        "ExecuteTime": {
          "end_time": "2019-12-24T11:54:17.662604Z",
          "start_time": "2019-12-24T11:54:17.522098Z"
        },
        "id": "1DOHXoi0tD8P",
        "outputId": "302e2d87-1591-40b9-c45b-fe456997993b"
      },
      "source": [
        "obj = pd.Series(range(4), index=['b', 'd', 'a', 'c'])\n",
        "obj"
      ],
      "execution_count": null,
      "outputs": [
        {
          "data": {
            "text/plain": [
              "b    0\n",
              "d    1\n",
              "a    2\n",
              "c    3\n",
              "dtype: int64"
            ]
          },
          "execution_count": 88,
          "metadata": {},
          "output_type": "execute_result"
        }
      ]
    },
    {
      "cell_type": "code",
      "metadata": {
        "ExecuteTime": {
          "end_time": "2019-12-24T11:54:17.793647Z",
          "start_time": "2019-12-24T11:54:17.664561Z"
        },
        "id": "T_iNn9PHtD8Q",
        "outputId": "46214c8c-802b-4cbe-bfc5-030ee389bed8"
      },
      "source": [
        "obj.sort_index()"
      ],
      "execution_count": null,
      "outputs": [
        {
          "data": {
            "text/plain": [
              "a    2\n",
              "b    0\n",
              "c    3\n",
              "d    1\n",
              "dtype: int64"
            ]
          },
          "execution_count": 89,
          "metadata": {},
          "output_type": "execute_result"
        }
      ]
    },
    {
      "cell_type": "code",
      "metadata": {
        "ExecuteTime": {
          "end_time": "2019-12-24T11:54:17.984142Z",
          "start_time": "2019-12-24T11:54:17.795974Z"
        },
        "id": "60fhZB2ftD8Q",
        "outputId": "04f74eb2-9da5-4173-d444-db712dda31aa"
      },
      "source": [
        "frame = pd.DataFrame(np.arange(8).reshape((2, 4)), index=['three', 'one'],\n",
        "                     columns=['d', 'a', 'b', 'c'])\n",
        "frame.sort_index()"
      ],
      "execution_count": null,
      "outputs": [
        {
          "data": {
            "text/html": [
              "<div>\n",
              "<style scoped>\n",
              "    .dataframe tbody tr th:only-of-type {\n",
              "        vertical-align: middle;\n",
              "    }\n",
              "\n",
              "    .dataframe tbody tr th {\n",
              "        vertical-align: top;\n",
              "    }\n",
              "\n",
              "    .dataframe thead th {\n",
              "        text-align: right;\n",
              "    }\n",
              "</style>\n",
              "<table border=\"1\" class=\"dataframe\">\n",
              "  <thead>\n",
              "    <tr style=\"text-align: right;\">\n",
              "      <th></th>\n",
              "      <th>d</th>\n",
              "      <th>a</th>\n",
              "      <th>b</th>\n",
              "      <th>c</th>\n",
              "    </tr>\n",
              "  </thead>\n",
              "  <tbody>\n",
              "    <tr>\n",
              "      <th>one</th>\n",
              "      <td>4</td>\n",
              "      <td>5</td>\n",
              "      <td>6</td>\n",
              "      <td>7</td>\n",
              "    </tr>\n",
              "    <tr>\n",
              "      <th>three</th>\n",
              "      <td>0</td>\n",
              "      <td>1</td>\n",
              "      <td>2</td>\n",
              "      <td>3</td>\n",
              "    </tr>\n",
              "  </tbody>\n",
              "</table>\n",
              "</div>"
            ],
            "text/plain": [
              "       d  a  b  c\n",
              "one    4  5  6  7\n",
              "three  0  1  2  3"
            ]
          },
          "execution_count": 90,
          "metadata": {},
          "output_type": "execute_result"
        }
      ]
    },
    {
      "cell_type": "code",
      "metadata": {
        "ExecuteTime": {
          "end_time": "2019-12-24T11:54:18.202334Z",
          "start_time": "2019-12-24T11:54:17.985140Z"
        },
        "id": "bJiKdx5stD8Q",
        "outputId": "3c8f0199-3bbe-4e5c-bc1a-01d9fcfa41fc"
      },
      "source": [
        "frame.sort_index(axis=1)"
      ],
      "execution_count": null,
      "outputs": [
        {
          "data": {
            "text/html": [
              "<div>\n",
              "<style scoped>\n",
              "    .dataframe tbody tr th:only-of-type {\n",
              "        vertical-align: middle;\n",
              "    }\n",
              "\n",
              "    .dataframe tbody tr th {\n",
              "        vertical-align: top;\n",
              "    }\n",
              "\n",
              "    .dataframe thead th {\n",
              "        text-align: right;\n",
              "    }\n",
              "</style>\n",
              "<table border=\"1\" class=\"dataframe\">\n",
              "  <thead>\n",
              "    <tr style=\"text-align: right;\">\n",
              "      <th></th>\n",
              "      <th>a</th>\n",
              "      <th>b</th>\n",
              "      <th>c</th>\n",
              "      <th>d</th>\n",
              "    </tr>\n",
              "  </thead>\n",
              "  <tbody>\n",
              "    <tr>\n",
              "      <th>three</th>\n",
              "      <td>1</td>\n",
              "      <td>2</td>\n",
              "      <td>3</td>\n",
              "      <td>0</td>\n",
              "    </tr>\n",
              "    <tr>\n",
              "      <th>one</th>\n",
              "      <td>5</td>\n",
              "      <td>6</td>\n",
              "      <td>7</td>\n",
              "      <td>4</td>\n",
              "    </tr>\n",
              "  </tbody>\n",
              "</table>\n",
              "</div>"
            ],
            "text/plain": [
              "       a  b  c  d\n",
              "three  1  2  3  0\n",
              "one    5  6  7  4"
            ]
          },
          "execution_count": 91,
          "metadata": {},
          "output_type": "execute_result"
        }
      ]
    },
    {
      "cell_type": "code",
      "metadata": {
        "ExecuteTime": {
          "end_time": "2019-12-24T11:54:18.322544Z",
          "start_time": "2019-12-24T11:54:18.205743Z"
        },
        "id": "a-06KEj9tD8Q",
        "outputId": "1fbf4819-6bf1-44cd-e16e-022ce6ba8d76"
      },
      "source": [
        "frame.sort_index(axis=1, ascending=False)"
      ],
      "execution_count": null,
      "outputs": [
        {
          "data": {
            "text/html": [
              "<div>\n",
              "<style scoped>\n",
              "    .dataframe tbody tr th:only-of-type {\n",
              "        vertical-align: middle;\n",
              "    }\n",
              "\n",
              "    .dataframe tbody tr th {\n",
              "        vertical-align: top;\n",
              "    }\n",
              "\n",
              "    .dataframe thead th {\n",
              "        text-align: right;\n",
              "    }\n",
              "</style>\n",
              "<table border=\"1\" class=\"dataframe\">\n",
              "  <thead>\n",
              "    <tr style=\"text-align: right;\">\n",
              "      <th></th>\n",
              "      <th>d</th>\n",
              "      <th>c</th>\n",
              "      <th>b</th>\n",
              "      <th>a</th>\n",
              "    </tr>\n",
              "  </thead>\n",
              "  <tbody>\n",
              "    <tr>\n",
              "      <th>three</th>\n",
              "      <td>0</td>\n",
              "      <td>3</td>\n",
              "      <td>2</td>\n",
              "      <td>1</td>\n",
              "    </tr>\n",
              "    <tr>\n",
              "      <th>one</th>\n",
              "      <td>4</td>\n",
              "      <td>7</td>\n",
              "      <td>6</td>\n",
              "      <td>5</td>\n",
              "    </tr>\n",
              "  </tbody>\n",
              "</table>\n",
              "</div>"
            ],
            "text/plain": [
              "       d  c  b  a\n",
              "three  0  3  2  1\n",
              "one    4  7  6  5"
            ]
          },
          "execution_count": 92,
          "metadata": {},
          "output_type": "execute_result"
        }
      ]
    },
    {
      "cell_type": "markdown",
      "metadata": {
        "id": "gy2cfErLtD8R"
      },
      "source": [
        "To sort a Series by its values, use its **sort_values** method.\n",
        "Any missing values are sorted to the end of the Series by default"
      ]
    },
    {
      "cell_type": "code",
      "metadata": {
        "ExecuteTime": {
          "end_time": "2019-12-24T11:54:18.444610Z",
          "start_time": "2019-12-24T11:54:18.323543Z"
        },
        "id": "5gbGG72UtD8R",
        "outputId": "594c15f7-209b-48b1-f9d2-9b510931d3f8"
      },
      "source": [
        "obj = pd.Series([-4, 7, 3, 2])\n",
        "obj.sort_values()"
      ],
      "execution_count": null,
      "outputs": [
        {
          "data": {
            "text/plain": [
              "0   -4\n",
              "3    2\n",
              "2    3\n",
              "1    7\n",
              "dtype: int64"
            ]
          },
          "execution_count": 93,
          "metadata": {},
          "output_type": "execute_result"
        }
      ]
    },
    {
      "cell_type": "code",
      "metadata": {
        "ExecuteTime": {
          "end_time": "2019-12-24T11:54:18.561066Z",
          "start_time": "2019-12-24T11:54:18.448348Z"
        },
        "id": "XxuqdD5ItD8R",
        "outputId": "1c98fafc-50ff-41ec-d8a4-2d80f1405012"
      },
      "source": [
        "obj = pd.Series([4, np.nan, 7, np.nan, -3, 2])\n",
        "obj.sort_values()"
      ],
      "execution_count": null,
      "outputs": [
        {
          "data": {
            "text/plain": [
              "4   -3.0\n",
              "5    2.0\n",
              "0    4.0\n",
              "2    7.0\n",
              "1    NaN\n",
              "3    NaN\n",
              "dtype: float64"
            ]
          },
          "execution_count": 94,
          "metadata": {},
          "output_type": "execute_result"
        }
      ]
    },
    {
      "cell_type": "markdown",
      "metadata": {
        "id": "zrtL1afrtD8R"
      },
      "source": [
        "When sorting a DataFrame, you can use the data in one or more columns as the sort\n",
        "keys. To do so, pass one or more column names to the by option of sort_values"
      ]
    },
    {
      "cell_type": "code",
      "metadata": {
        "ExecuteTime": {
          "end_time": "2019-12-24T11:54:18.674098Z",
          "start_time": "2019-12-24T11:54:18.562063Z"
        },
        "id": "TLc-RR-otD8S",
        "outputId": "a4f1eda7-4193-4134-f987-4c82e432088f"
      },
      "source": [
        "frame = pd.DataFrame({'b': [4, 7, -3, 2], 'a': [0, 1, 0, 1]})\n",
        "frame"
      ],
      "execution_count": null,
      "outputs": [
        {
          "data": {
            "text/html": [
              "<div>\n",
              "<style scoped>\n",
              "    .dataframe tbody tr th:only-of-type {\n",
              "        vertical-align: middle;\n",
              "    }\n",
              "\n",
              "    .dataframe tbody tr th {\n",
              "        vertical-align: top;\n",
              "    }\n",
              "\n",
              "    .dataframe thead th {\n",
              "        text-align: right;\n",
              "    }\n",
              "</style>\n",
              "<table border=\"1\" class=\"dataframe\">\n",
              "  <thead>\n",
              "    <tr style=\"text-align: right;\">\n",
              "      <th></th>\n",
              "      <th>b</th>\n",
              "      <th>a</th>\n",
              "    </tr>\n",
              "  </thead>\n",
              "  <tbody>\n",
              "    <tr>\n",
              "      <th>0</th>\n",
              "      <td>4</td>\n",
              "      <td>0</td>\n",
              "    </tr>\n",
              "    <tr>\n",
              "      <th>1</th>\n",
              "      <td>7</td>\n",
              "      <td>1</td>\n",
              "    </tr>\n",
              "    <tr>\n",
              "      <th>2</th>\n",
              "      <td>-3</td>\n",
              "      <td>0</td>\n",
              "    </tr>\n",
              "    <tr>\n",
              "      <th>3</th>\n",
              "      <td>2</td>\n",
              "      <td>1</td>\n",
              "    </tr>\n",
              "  </tbody>\n",
              "</table>\n",
              "</div>"
            ],
            "text/plain": [
              "   b  a\n",
              "0  4  0\n",
              "1  7  1\n",
              "2 -3  0\n",
              "3  2  1"
            ]
          },
          "execution_count": 95,
          "metadata": {},
          "output_type": "execute_result"
        }
      ]
    },
    {
      "cell_type": "code",
      "metadata": {
        "ExecuteTime": {
          "end_time": "2019-12-24T11:54:18.782844Z",
          "start_time": "2019-12-24T11:54:18.675129Z"
        },
        "id": "6e2c0gNitD8S",
        "outputId": "bbe3a20c-19d5-40b2-ecb4-1648f9da0993"
      },
      "source": [
        "frame.sort_values(by='b')"
      ],
      "execution_count": null,
      "outputs": [
        {
          "data": {
            "text/html": [
              "<div>\n",
              "<style scoped>\n",
              "    .dataframe tbody tr th:only-of-type {\n",
              "        vertical-align: middle;\n",
              "    }\n",
              "\n",
              "    .dataframe tbody tr th {\n",
              "        vertical-align: top;\n",
              "    }\n",
              "\n",
              "    .dataframe thead th {\n",
              "        text-align: right;\n",
              "    }\n",
              "</style>\n",
              "<table border=\"1\" class=\"dataframe\">\n",
              "  <thead>\n",
              "    <tr style=\"text-align: right;\">\n",
              "      <th></th>\n",
              "      <th>b</th>\n",
              "      <th>a</th>\n",
              "    </tr>\n",
              "  </thead>\n",
              "  <tbody>\n",
              "    <tr>\n",
              "      <th>2</th>\n",
              "      <td>-3</td>\n",
              "      <td>0</td>\n",
              "    </tr>\n",
              "    <tr>\n",
              "      <th>3</th>\n",
              "      <td>2</td>\n",
              "      <td>1</td>\n",
              "    </tr>\n",
              "    <tr>\n",
              "      <th>0</th>\n",
              "      <td>4</td>\n",
              "      <td>0</td>\n",
              "    </tr>\n",
              "    <tr>\n",
              "      <th>1</th>\n",
              "      <td>7</td>\n",
              "      <td>1</td>\n",
              "    </tr>\n",
              "  </tbody>\n",
              "</table>\n",
              "</div>"
            ],
            "text/plain": [
              "   b  a\n",
              "2 -3  0\n",
              "3  2  1\n",
              "0  4  0\n",
              "1  7  1"
            ]
          },
          "execution_count": 96,
          "metadata": {},
          "output_type": "execute_result"
        }
      ]
    },
    {
      "cell_type": "code",
      "metadata": {
        "ExecuteTime": {
          "end_time": "2019-12-24T11:54:18.885242Z",
          "start_time": "2019-12-24T11:54:18.783879Z"
        },
        "id": "Hn45Vc4ytD8S",
        "outputId": "c9c16ce6-c027-47f7-dcf1-770430c1d4e7"
      },
      "source": [
        "frame.sort_values(by=['a', 'b'])"
      ],
      "execution_count": null,
      "outputs": [
        {
          "data": {
            "text/html": [
              "<div>\n",
              "<style scoped>\n",
              "    .dataframe tbody tr th:only-of-type {\n",
              "        vertical-align: middle;\n",
              "    }\n",
              "\n",
              "    .dataframe tbody tr th {\n",
              "        vertical-align: top;\n",
              "    }\n",
              "\n",
              "    .dataframe thead th {\n",
              "        text-align: right;\n",
              "    }\n",
              "</style>\n",
              "<table border=\"1\" class=\"dataframe\">\n",
              "  <thead>\n",
              "    <tr style=\"text-align: right;\">\n",
              "      <th></th>\n",
              "      <th>b</th>\n",
              "      <th>a</th>\n",
              "    </tr>\n",
              "  </thead>\n",
              "  <tbody>\n",
              "    <tr>\n",
              "      <th>2</th>\n",
              "      <td>-3</td>\n",
              "      <td>0</td>\n",
              "    </tr>\n",
              "    <tr>\n",
              "      <th>0</th>\n",
              "      <td>4</td>\n",
              "      <td>0</td>\n",
              "    </tr>\n",
              "    <tr>\n",
              "      <th>3</th>\n",
              "      <td>2</td>\n",
              "      <td>1</td>\n",
              "    </tr>\n",
              "    <tr>\n",
              "      <th>1</th>\n",
              "      <td>7</td>\n",
              "      <td>1</td>\n",
              "    </tr>\n",
              "  </tbody>\n",
              "</table>\n",
              "</div>"
            ],
            "text/plain": [
              "   b  a\n",
              "2 -3  0\n",
              "0  4  0\n",
              "3  2  1\n",
              "1  7  1"
            ]
          },
          "execution_count": 97,
          "metadata": {},
          "output_type": "execute_result"
        }
      ]
    },
    {
      "cell_type": "markdown",
      "metadata": {
        "id": "AQD2Y1KNtD8S"
      },
      "source": [
        "#### Ranking\n",
        "\n",
        "*Ranking* assigns ranks from one through the number of valid data points in an array.\n",
        "The rank methods for Series and DataFrame are the place to look; by default rank\n",
        "breaks ties by assigning each group the mean rank"
      ]
    },
    {
      "cell_type": "code",
      "metadata": {
        "ExecuteTime": {
          "end_time": "2019-12-24T11:54:19.058017Z",
          "start_time": "2019-12-24T11:54:18.887690Z"
        },
        "id": "jlBzJXwVtD8S",
        "outputId": "002c8aa5-177b-468d-fd98-d0384d215100"
      },
      "source": [
        "obj = pd.Series([7, -5, 7, 4, 2, 0, 4])\n",
        "obj.rank()"
      ],
      "execution_count": null,
      "outputs": [
        {
          "data": {
            "text/plain": [
              "0    6.5\n",
              "1    1.0\n",
              "2    6.5\n",
              "3    4.5\n",
              "4    3.0\n",
              "5    2.0\n",
              "6    4.5\n",
              "dtype: float64"
            ]
          },
          "execution_count": 98,
          "metadata": {},
          "output_type": "execute_result"
        }
      ]
    },
    {
      "cell_type": "code",
      "metadata": {
        "ExecuteTime": {
          "end_time": "2019-12-24T11:54:19.209466Z",
          "start_time": "2019-12-24T11:54:19.059022Z"
        },
        "id": "xJhjVu9qtD8S",
        "outputId": "19d6bb5d-a88d-48dd-f7cf-e2ba4aeb9572"
      },
      "source": [
        "# assigning rank according to the order they're observed first in the data\n",
        "obj.rank(method='first')"
      ],
      "execution_count": null,
      "outputs": [
        {
          "data": {
            "text/plain": [
              "0    6.0\n",
              "1    1.0\n",
              "2    7.0\n",
              "3    4.0\n",
              "4    3.0\n",
              "5    2.0\n",
              "6    5.0\n",
              "dtype: float64"
            ]
          },
          "execution_count": 99,
          "metadata": {},
          "output_type": "execute_result"
        }
      ]
    },
    {
      "cell_type": "code",
      "metadata": {
        "ExecuteTime": {
          "end_time": "2019-12-24T11:54:19.352734Z",
          "start_time": "2019-12-24T11:54:19.211753Z"
        },
        "id": "HlTwX3oqtD8T",
        "outputId": "5daeca0b-06dd-4681-fc2e-8ecc214fa1c5"
      },
      "source": [
        "obj.rank(ascending=False, method='max')"
      ],
      "execution_count": null,
      "outputs": [
        {
          "data": {
            "text/plain": [
              "0    2.0\n",
              "1    7.0\n",
              "2    2.0\n",
              "3    4.0\n",
              "4    5.0\n",
              "5    6.0\n",
              "6    4.0\n",
              "dtype: float64"
            ]
          },
          "execution_count": 100,
          "metadata": {},
          "output_type": "execute_result"
        }
      ]
    },
    {
      "cell_type": "code",
      "metadata": {
        "ExecuteTime": {
          "end_time": "2019-12-24T11:54:19.499605Z",
          "start_time": "2019-12-24T11:54:19.352734Z"
        },
        "id": "bx8h0uwttD8T",
        "outputId": "6fe045ec-2c8c-4c86-87f6-4948216a9149"
      },
      "source": [
        "frame = pd.DataFrame({'b': [4.3, 7, -3, 2], 'a': [0, 1, 0, 1], 'c': [-2, 5, 8, -2.5]})\n",
        "frame"
      ],
      "execution_count": null,
      "outputs": [
        {
          "data": {
            "text/html": [
              "<div>\n",
              "<style scoped>\n",
              "    .dataframe tbody tr th:only-of-type {\n",
              "        vertical-align: middle;\n",
              "    }\n",
              "\n",
              "    .dataframe tbody tr th {\n",
              "        vertical-align: top;\n",
              "    }\n",
              "\n",
              "    .dataframe thead th {\n",
              "        text-align: right;\n",
              "    }\n",
              "</style>\n",
              "<table border=\"1\" class=\"dataframe\">\n",
              "  <thead>\n",
              "    <tr style=\"text-align: right;\">\n",
              "      <th></th>\n",
              "      <th>b</th>\n",
              "      <th>a</th>\n",
              "      <th>c</th>\n",
              "    </tr>\n",
              "  </thead>\n",
              "  <tbody>\n",
              "    <tr>\n",
              "      <th>0</th>\n",
              "      <td>4.3</td>\n",
              "      <td>0</td>\n",
              "      <td>-2.0</td>\n",
              "    </tr>\n",
              "    <tr>\n",
              "      <th>1</th>\n",
              "      <td>7.0</td>\n",
              "      <td>1</td>\n",
              "      <td>5.0</td>\n",
              "    </tr>\n",
              "    <tr>\n",
              "      <th>2</th>\n",
              "      <td>-3.0</td>\n",
              "      <td>0</td>\n",
              "      <td>8.0</td>\n",
              "    </tr>\n",
              "    <tr>\n",
              "      <th>3</th>\n",
              "      <td>2.0</td>\n",
              "      <td>1</td>\n",
              "      <td>-2.5</td>\n",
              "    </tr>\n",
              "  </tbody>\n",
              "</table>\n",
              "</div>"
            ],
            "text/plain": [
              "     b  a    c\n",
              "0  4.3  0 -2.0\n",
              "1  7.0  1  5.0\n",
              "2 -3.0  0  8.0\n",
              "3  2.0  1 -2.5"
            ]
          },
          "execution_count": 101,
          "metadata": {},
          "output_type": "execute_result"
        }
      ]
    },
    {
      "cell_type": "code",
      "metadata": {
        "ExecuteTime": {
          "end_time": "2019-12-24T11:54:19.644123Z",
          "start_time": "2019-12-24T11:54:19.502600Z"
        },
        "id": "J3l-rFxptD8T",
        "outputId": "9f3ef31e-fcb4-483c-8ce5-c844e5dce9d3"
      },
      "source": [
        "frame.rank(axis='columns')"
      ],
      "execution_count": null,
      "outputs": [
        {
          "data": {
            "text/html": [
              "<div>\n",
              "<style scoped>\n",
              "    .dataframe tbody tr th:only-of-type {\n",
              "        vertical-align: middle;\n",
              "    }\n",
              "\n",
              "    .dataframe tbody tr th {\n",
              "        vertical-align: top;\n",
              "    }\n",
              "\n",
              "    .dataframe thead th {\n",
              "        text-align: right;\n",
              "    }\n",
              "</style>\n",
              "<table border=\"1\" class=\"dataframe\">\n",
              "  <thead>\n",
              "    <tr style=\"text-align: right;\">\n",
              "      <th></th>\n",
              "      <th>b</th>\n",
              "      <th>a</th>\n",
              "      <th>c</th>\n",
              "    </tr>\n",
              "  </thead>\n",
              "  <tbody>\n",
              "    <tr>\n",
              "      <th>0</th>\n",
              "      <td>3.0</td>\n",
              "      <td>2.0</td>\n",
              "      <td>1.0</td>\n",
              "    </tr>\n",
              "    <tr>\n",
              "      <th>1</th>\n",
              "      <td>3.0</td>\n",
              "      <td>1.0</td>\n",
              "      <td>2.0</td>\n",
              "    </tr>\n",
              "    <tr>\n",
              "      <th>2</th>\n",
              "      <td>1.0</td>\n",
              "      <td>2.0</td>\n",
              "      <td>3.0</td>\n",
              "    </tr>\n",
              "    <tr>\n",
              "      <th>3</th>\n",
              "      <td>3.0</td>\n",
              "      <td>2.0</td>\n",
              "      <td>1.0</td>\n",
              "    </tr>\n",
              "  </tbody>\n",
              "</table>\n",
              "</div>"
            ],
            "text/plain": [
              "     b    a    c\n",
              "0  3.0  2.0  1.0\n",
              "1  3.0  1.0  2.0\n",
              "2  1.0  2.0  3.0\n",
              "3  3.0  2.0  1.0"
            ]
          },
          "execution_count": 102,
          "metadata": {},
          "output_type": "execute_result"
        }
      ]
    },
    {
      "cell_type": "markdown",
      "metadata": {
        "id": "H7ndMM49tD8T"
      },
      "source": [
        "#### Axis Indexes with Duplicate Labels"
      ]
    },
    {
      "cell_type": "code",
      "metadata": {
        "ExecuteTime": {
          "end_time": "2019-12-24T11:54:19.825688Z",
          "start_time": "2019-12-24T11:54:19.646865Z"
        },
        "id": "x_pjKe2utD8T",
        "outputId": "b1a003db-cb2a-4b4a-8f23-19d6afc31b58"
      },
      "source": [
        "obj = pd.Series(range(5), index=['a', 'a', 'b', 'b', 'c'])\n",
        "obj"
      ],
      "execution_count": null,
      "outputs": [
        {
          "data": {
            "text/plain": [
              "a    0\n",
              "a    1\n",
              "b    2\n",
              "b    3\n",
              "c    4\n",
              "dtype: int64"
            ]
          },
          "execution_count": 103,
          "metadata": {},
          "output_type": "execute_result"
        }
      ]
    },
    {
      "cell_type": "code",
      "metadata": {
        "ExecuteTime": {
          "end_time": "2019-12-24T11:54:19.978965Z",
          "start_time": "2019-12-24T11:54:19.828121Z"
        },
        "id": "L2GYq8NvtD8T",
        "outputId": "0b0ef6c1-0850-4330-d5ed-fe149127746e"
      },
      "source": [
        "obj.index.is_unique"
      ],
      "execution_count": null,
      "outputs": [
        {
          "data": {
            "text/plain": [
              "False"
            ]
          },
          "execution_count": 104,
          "metadata": {},
          "output_type": "execute_result"
        }
      ]
    },
    {
      "cell_type": "code",
      "metadata": {
        "ExecuteTime": {
          "end_time": "2019-12-24T11:54:20.122066Z",
          "start_time": "2019-12-24T11:54:19.980367Z"
        },
        "id": "4T-4saJPtD8U",
        "outputId": "2fc60d18-5a40-47d7-b5e5-fb3a8ab9b7a9"
      },
      "source": [
        "obj.a"
      ],
      "execution_count": null,
      "outputs": [
        {
          "data": {
            "text/plain": [
              "a    0\n",
              "a    1\n",
              "dtype: int64"
            ]
          },
          "execution_count": 105,
          "metadata": {},
          "output_type": "execute_result"
        }
      ]
    },
    {
      "cell_type": "code",
      "metadata": {
        "ExecuteTime": {
          "end_time": "2019-12-24T11:54:20.293573Z",
          "start_time": "2019-12-24T11:54:20.124045Z"
        },
        "id": "qhv89wuqtD8U",
        "outputId": "3059252c-5584-4476-c930-ec488425963f"
      },
      "source": [
        "df = pd.DataFrame(np.random.randn(4, 3), index=['a', 'a', 'b', 'b'])\n",
        "df"
      ],
      "execution_count": null,
      "outputs": [
        {
          "data": {
            "text/html": [
              "<div>\n",
              "<style scoped>\n",
              "    .dataframe tbody tr th:only-of-type {\n",
              "        vertical-align: middle;\n",
              "    }\n",
              "\n",
              "    .dataframe tbody tr th {\n",
              "        vertical-align: top;\n",
              "    }\n",
              "\n",
              "    .dataframe thead th {\n",
              "        text-align: right;\n",
              "    }\n",
              "</style>\n",
              "<table border=\"1\" class=\"dataframe\">\n",
              "  <thead>\n",
              "    <tr style=\"text-align: right;\">\n",
              "      <th></th>\n",
              "      <th>0</th>\n",
              "      <th>1</th>\n",
              "      <th>2</th>\n",
              "    </tr>\n",
              "  </thead>\n",
              "  <tbody>\n",
              "    <tr>\n",
              "      <th>a</th>\n",
              "      <td>-2.054623</td>\n",
              "      <td>0.654964</td>\n",
              "      <td>-0.431453</td>\n",
              "    </tr>\n",
              "    <tr>\n",
              "      <th>a</th>\n",
              "      <td>0.654782</td>\n",
              "      <td>0.776429</td>\n",
              "      <td>1.175684</td>\n",
              "    </tr>\n",
              "    <tr>\n",
              "      <th>b</th>\n",
              "      <td>-0.485586</td>\n",
              "      <td>-0.960232</td>\n",
              "      <td>-1.368606</td>\n",
              "    </tr>\n",
              "    <tr>\n",
              "      <th>b</th>\n",
              "      <td>0.205797</td>\n",
              "      <td>0.266294</td>\n",
              "      <td>2.007870</td>\n",
              "    </tr>\n",
              "  </tbody>\n",
              "</table>\n",
              "</div>"
            ],
            "text/plain": [
              "          0         1         2\n",
              "a -2.054623  0.654964 -0.431453\n",
              "a  0.654782  0.776429  1.175684\n",
              "b -0.485586 -0.960232 -1.368606\n",
              "b  0.205797  0.266294  2.007870"
            ]
          },
          "execution_count": 106,
          "metadata": {},
          "output_type": "execute_result"
        }
      ]
    },
    {
      "cell_type": "code",
      "metadata": {
        "ExecuteTime": {
          "end_time": "2019-12-24T11:54:20.444163Z",
          "start_time": "2019-12-24T11:54:20.295569Z"
        },
        "id": "j2QpFd-5tD8U",
        "outputId": "8b76fa5e-bc6c-4dc0-b08f-d20396e9d224"
      },
      "source": [
        "df.loc['a']"
      ],
      "execution_count": null,
      "outputs": [
        {
          "data": {
            "text/html": [
              "<div>\n",
              "<style scoped>\n",
              "    .dataframe tbody tr th:only-of-type {\n",
              "        vertical-align: middle;\n",
              "    }\n",
              "\n",
              "    .dataframe tbody tr th {\n",
              "        vertical-align: top;\n",
              "    }\n",
              "\n",
              "    .dataframe thead th {\n",
              "        text-align: right;\n",
              "    }\n",
              "</style>\n",
              "<table border=\"1\" class=\"dataframe\">\n",
              "  <thead>\n",
              "    <tr style=\"text-align: right;\">\n",
              "      <th></th>\n",
              "      <th>0</th>\n",
              "      <th>1</th>\n",
              "      <th>2</th>\n",
              "    </tr>\n",
              "  </thead>\n",
              "  <tbody>\n",
              "    <tr>\n",
              "      <th>a</th>\n",
              "      <td>-2.054623</td>\n",
              "      <td>0.654964</td>\n",
              "      <td>-0.431453</td>\n",
              "    </tr>\n",
              "    <tr>\n",
              "      <th>a</th>\n",
              "      <td>0.654782</td>\n",
              "      <td>0.776429</td>\n",
              "      <td>1.175684</td>\n",
              "    </tr>\n",
              "  </tbody>\n",
              "</table>\n",
              "</div>"
            ],
            "text/plain": [
              "          0         1         2\n",
              "a -2.054623  0.654964 -0.431453\n",
              "a  0.654782  0.776429  1.175684"
            ]
          },
          "execution_count": 107,
          "metadata": {},
          "output_type": "execute_result"
        }
      ]
    },
    {
      "cell_type": "markdown",
      "metadata": {
        "id": "oEeUaiJRtD8U"
      },
      "source": [
        "####  Summarizing and Computing Descriptive Statistics"
      ]
    },
    {
      "cell_type": "code",
      "metadata": {
        "ExecuteTime": {
          "end_time": "2019-12-24T11:54:20.549520Z",
          "start_time": "2019-12-24T11:54:20.446595Z"
        },
        "id": "4UXdy_wytD8U",
        "outputId": "dead69aa-e6f2-4056-c614-87ce6020fa94"
      },
      "source": [
        "df = pd.DataFrame([[1.4, np.nan], [7.1, -4.5], [np.nan, np.nan],\n",
        "                   [0.75, -1.43]],\n",
        "                  index=['a', 'b', 'c', 'd'],\n",
        "                  columns=['one', 'two'])\n",
        "df"
      ],
      "execution_count": null,
      "outputs": [
        {
          "data": {
            "text/html": [
              "<div>\n",
              "<style scoped>\n",
              "    .dataframe tbody tr th:only-of-type {\n",
              "        vertical-align: middle;\n",
              "    }\n",
              "\n",
              "    .dataframe tbody tr th {\n",
              "        vertical-align: top;\n",
              "    }\n",
              "\n",
              "    .dataframe thead th {\n",
              "        text-align: right;\n",
              "    }\n",
              "</style>\n",
              "<table border=\"1\" class=\"dataframe\">\n",
              "  <thead>\n",
              "    <tr style=\"text-align: right;\">\n",
              "      <th></th>\n",
              "      <th>one</th>\n",
              "      <th>two</th>\n",
              "    </tr>\n",
              "  </thead>\n",
              "  <tbody>\n",
              "    <tr>\n",
              "      <th>a</th>\n",
              "      <td>1.40</td>\n",
              "      <td>NaN</td>\n",
              "    </tr>\n",
              "    <tr>\n",
              "      <th>b</th>\n",
              "      <td>7.10</td>\n",
              "      <td>-4.50</td>\n",
              "    </tr>\n",
              "    <tr>\n",
              "      <th>c</th>\n",
              "      <td>NaN</td>\n",
              "      <td>NaN</td>\n",
              "    </tr>\n",
              "    <tr>\n",
              "      <th>d</th>\n",
              "      <td>0.75</td>\n",
              "      <td>-1.43</td>\n",
              "    </tr>\n",
              "  </tbody>\n",
              "</table>\n",
              "</div>"
            ],
            "text/plain": [
              "    one   two\n",
              "a  1.40   NaN\n",
              "b  7.10 -4.50\n",
              "c   NaN   NaN\n",
              "d  0.75 -1.43"
            ]
          },
          "execution_count": 108,
          "metadata": {},
          "output_type": "execute_result"
        }
      ]
    },
    {
      "cell_type": "code",
      "metadata": {
        "ExecuteTime": {
          "end_time": "2019-12-24T11:54:20.684771Z",
          "start_time": "2019-12-24T11:54:20.549520Z"
        },
        "id": "W_pcqprptD8V",
        "outputId": "794ca878-64ee-491c-ed3b-375f7a0d138c"
      },
      "source": [
        "df.sum()"
      ],
      "execution_count": null,
      "outputs": [
        {
          "data": {
            "text/plain": [
              "one    9.25\n",
              "two   -5.93\n",
              "dtype: float64"
            ]
          },
          "execution_count": 109,
          "metadata": {},
          "output_type": "execute_result"
        }
      ]
    },
    {
      "cell_type": "code",
      "metadata": {
        "ExecuteTime": {
          "end_time": "2019-12-24T11:54:20.818099Z",
          "start_time": "2019-12-24T11:54:20.687422Z"
        },
        "id": "xrqpf6edtD8V",
        "outputId": "5cfe32be-8d17-4a2d-9c9e-9e01acff6129"
      },
      "source": [
        "df.sum(axis='columns')"
      ],
      "execution_count": null,
      "outputs": [
        {
          "data": {
            "text/plain": [
              "a    1.40\n",
              "b    2.60\n",
              "c    0.00\n",
              "d   -0.68\n",
              "dtype: float64"
            ]
          },
          "execution_count": 110,
          "metadata": {},
          "output_type": "execute_result"
        }
      ]
    },
    {
      "cell_type": "code",
      "metadata": {
        "ExecuteTime": {
          "end_time": "2019-12-24T11:54:20.936482Z",
          "start_time": "2019-12-24T11:54:20.818099Z"
        },
        "id": "-vEH5a4wtD8V",
        "outputId": "3b67f35d-ad14-4499-efe3-d412f37867bc"
      },
      "source": [
        "df.sum(axis='columns', skipna=False)"
      ],
      "execution_count": null,
      "outputs": [
        {
          "data": {
            "text/plain": [
              "a     NaN\n",
              "b    2.60\n",
              "c     NaN\n",
              "d   -0.68\n",
              "dtype: float64"
            ]
          },
          "execution_count": 111,
          "metadata": {},
          "output_type": "execute_result"
        }
      ]
    },
    {
      "cell_type": "markdown",
      "metadata": {
        "id": "I35zrs7ftD8V"
      },
      "source": [
        "Some methods, like idxmin and idxmax, return indirect statistics like the index value\n",
        "where the minimum or maximum values are attained"
      ]
    },
    {
      "cell_type": "code",
      "metadata": {
        "ExecuteTime": {
          "end_time": "2019-12-24T11:54:21.074783Z",
          "start_time": "2019-12-24T11:54:20.937480Z"
        },
        "id": "GXU7v8ngtD8V",
        "outputId": "607c5435-08e0-433c-cb62-9c7f709049e8"
      },
      "source": [
        "print(df.idxmax())\n",
        "print(df.idxmin())"
      ],
      "execution_count": null,
      "outputs": [
        {
          "name": "stdout",
          "output_type": "stream",
          "text": [
            "one    b\n",
            "two    d\n",
            "dtype: object\n",
            "\n",
            "one    d\n",
            "two    b\n",
            "dtype: object\n",
            "\n"
          ]
        }
      ]
    },
    {
      "cell_type": "code",
      "metadata": {
        "ExecuteTime": {
          "end_time": "2019-12-24T11:54:21.194122Z",
          "start_time": "2019-12-24T11:54:21.076618Z"
        },
        "id": "s0K202AAtD8V",
        "outputId": "88c0c3dd-7023-4b1c-fc6b-f445c2641bdc"
      },
      "source": [
        "# accmulation\n",
        "df.cumsum()"
      ],
      "execution_count": null,
      "outputs": [
        {
          "data": {
            "text/html": [
              "<div>\n",
              "<style scoped>\n",
              "    .dataframe tbody tr th:only-of-type {\n",
              "        vertical-align: middle;\n",
              "    }\n",
              "\n",
              "    .dataframe tbody tr th {\n",
              "        vertical-align: top;\n",
              "    }\n",
              "\n",
              "    .dataframe thead th {\n",
              "        text-align: right;\n",
              "    }\n",
              "</style>\n",
              "<table border=\"1\" class=\"dataframe\">\n",
              "  <thead>\n",
              "    <tr style=\"text-align: right;\">\n",
              "      <th></th>\n",
              "      <th>one</th>\n",
              "      <th>two</th>\n",
              "    </tr>\n",
              "  </thead>\n",
              "  <tbody>\n",
              "    <tr>\n",
              "      <th>a</th>\n",
              "      <td>1.40</td>\n",
              "      <td>NaN</td>\n",
              "    </tr>\n",
              "    <tr>\n",
              "      <th>b</th>\n",
              "      <td>8.50</td>\n",
              "      <td>-4.50</td>\n",
              "    </tr>\n",
              "    <tr>\n",
              "      <th>c</th>\n",
              "      <td>NaN</td>\n",
              "      <td>NaN</td>\n",
              "    </tr>\n",
              "    <tr>\n",
              "      <th>d</th>\n",
              "      <td>9.25</td>\n",
              "      <td>-5.93</td>\n",
              "    </tr>\n",
              "  </tbody>\n",
              "</table>\n",
              "</div>"
            ],
            "text/plain": [
              "    one   two\n",
              "a  1.40   NaN\n",
              "b  8.50 -4.50\n",
              "c   NaN   NaN\n",
              "d  9.25 -5.93"
            ]
          },
          "execution_count": 113,
          "metadata": {},
          "output_type": "execute_result"
        }
      ]
    },
    {
      "cell_type": "markdown",
      "metadata": {
        "ExecuteTime": {
          "end_time": "2019-12-22T20:42:48.976671Z",
          "start_time": "2019-12-22T20:42:48.961382Z"
        },
        "id": "S_zvfrXXtD8W"
      },
      "source": [
        "Another type of method is neither a reduction nor an accumulation. **describe** is one\n",
        "such example, producing multiple summary statistics in one shot"
      ]
    },
    {
      "cell_type": "code",
      "metadata": {
        "ExecuteTime": {
          "end_time": "2019-12-24T11:54:21.344016Z",
          "start_time": "2019-12-24T11:54:21.195119Z"
        },
        "id": "CF_Q4BI1tD8W",
        "outputId": "aaecd091-3193-4e4f-9df5-234b37332d8d"
      },
      "source": [
        "df.describe()"
      ],
      "execution_count": null,
      "outputs": [
        {
          "data": {
            "text/html": [
              "<div>\n",
              "<style scoped>\n",
              "    .dataframe tbody tr th:only-of-type {\n",
              "        vertical-align: middle;\n",
              "    }\n",
              "\n",
              "    .dataframe tbody tr th {\n",
              "        vertical-align: top;\n",
              "    }\n",
              "\n",
              "    .dataframe thead th {\n",
              "        text-align: right;\n",
              "    }\n",
              "</style>\n",
              "<table border=\"1\" class=\"dataframe\">\n",
              "  <thead>\n",
              "    <tr style=\"text-align: right;\">\n",
              "      <th></th>\n",
              "      <th>one</th>\n",
              "      <th>two</th>\n",
              "    </tr>\n",
              "  </thead>\n",
              "  <tbody>\n",
              "    <tr>\n",
              "      <th>count</th>\n",
              "      <td>3.000000</td>\n",
              "      <td>2.000000</td>\n",
              "    </tr>\n",
              "    <tr>\n",
              "      <th>mean</th>\n",
              "      <td>3.083333</td>\n",
              "      <td>-2.965000</td>\n",
              "    </tr>\n",
              "    <tr>\n",
              "      <th>std</th>\n",
              "      <td>3.493685</td>\n",
              "      <td>2.170818</td>\n",
              "    </tr>\n",
              "    <tr>\n",
              "      <th>min</th>\n",
              "      <td>0.750000</td>\n",
              "      <td>-4.500000</td>\n",
              "    </tr>\n",
              "    <tr>\n",
              "      <th>25%</th>\n",
              "      <td>1.075000</td>\n",
              "      <td>-3.732500</td>\n",
              "    </tr>\n",
              "    <tr>\n",
              "      <th>50%</th>\n",
              "      <td>1.400000</td>\n",
              "      <td>-2.965000</td>\n",
              "    </tr>\n",
              "    <tr>\n",
              "      <th>75%</th>\n",
              "      <td>4.250000</td>\n",
              "      <td>-2.197500</td>\n",
              "    </tr>\n",
              "    <tr>\n",
              "      <th>max</th>\n",
              "      <td>7.100000</td>\n",
              "      <td>-1.430000</td>\n",
              "    </tr>\n",
              "  </tbody>\n",
              "</table>\n",
              "</div>"
            ],
            "text/plain": [
              "            one       two\n",
              "count  3.000000  2.000000\n",
              "mean   3.083333 -2.965000\n",
              "std    3.493685  2.170818\n",
              "min    0.750000 -4.500000\n",
              "25%    1.075000 -3.732500\n",
              "50%    1.400000 -2.965000\n",
              "75%    4.250000 -2.197500\n",
              "max    7.100000 -1.430000"
            ]
          },
          "execution_count": 114,
          "metadata": {},
          "output_type": "execute_result"
        }
      ]
    },
    {
      "cell_type": "code",
      "metadata": {
        "ExecuteTime": {
          "end_time": "2019-12-24T11:54:21.511393Z",
          "start_time": "2019-12-24T11:54:21.344016Z"
        },
        "id": "zCrROWWAtD8W",
        "outputId": "33663092-1812-4640-9312-153379955034"
      },
      "source": [
        "# On non-numeric data, describe produces alternative summary statistics:\n",
        "\n",
        "obj = pd.Series(['a', 'a', 'b', 'c'] * 4)\n",
        "obj.describe()"
      ],
      "execution_count": null,
      "outputs": [
        {
          "data": {
            "text/plain": [
              "count     16\n",
              "unique     3\n",
              "top        a\n",
              "freq       8\n",
              "dtype: object"
            ]
          },
          "execution_count": 115,
          "metadata": {},
          "output_type": "execute_result"
        }
      ]
    },
    {
      "cell_type": "code",
      "metadata": {
        "ExecuteTime": {
          "end_time": "2019-12-24T11:54:21.653404Z",
          "start_time": "2019-12-24T11:54:21.515120Z"
        },
        "id": "cNN6C2hxtD8W",
        "outputId": "2a8b185e-a5ea-415d-9213-4b46f03183cd"
      },
      "source": [
        "df"
      ],
      "execution_count": null,
      "outputs": [
        {
          "data": {
            "text/html": [
              "<div>\n",
              "<style scoped>\n",
              "    .dataframe tbody tr th:only-of-type {\n",
              "        vertical-align: middle;\n",
              "    }\n",
              "\n",
              "    .dataframe tbody tr th {\n",
              "        vertical-align: top;\n",
              "    }\n",
              "\n",
              "    .dataframe thead th {\n",
              "        text-align: right;\n",
              "    }\n",
              "</style>\n",
              "<table border=\"1\" class=\"dataframe\">\n",
              "  <thead>\n",
              "    <tr style=\"text-align: right;\">\n",
              "      <th></th>\n",
              "      <th>one</th>\n",
              "      <th>two</th>\n",
              "    </tr>\n",
              "  </thead>\n",
              "  <tbody>\n",
              "    <tr>\n",
              "      <th>a</th>\n",
              "      <td>1.40</td>\n",
              "      <td>NaN</td>\n",
              "    </tr>\n",
              "    <tr>\n",
              "      <th>b</th>\n",
              "      <td>7.10</td>\n",
              "      <td>-4.50</td>\n",
              "    </tr>\n",
              "    <tr>\n",
              "      <th>c</th>\n",
              "      <td>NaN</td>\n",
              "      <td>NaN</td>\n",
              "    </tr>\n",
              "    <tr>\n",
              "      <th>d</th>\n",
              "      <td>0.75</td>\n",
              "      <td>-1.43</td>\n",
              "    </tr>\n",
              "  </tbody>\n",
              "</table>\n",
              "</div>"
            ],
            "text/plain": [
              "    one   two\n",
              "a  1.40   NaN\n",
              "b  7.10 -4.50\n",
              "c   NaN   NaN\n",
              "d  0.75 -1.43"
            ]
          },
          "execution_count": 116,
          "metadata": {},
          "output_type": "execute_result"
        }
      ]
    },
    {
      "cell_type": "markdown",
      "metadata": {
        "ExecuteTime": {
          "end_time": "2019-12-22T20:47:42.840846Z",
          "start_time": "2019-12-22T20:47:42.833552Z"
        },
        "id": "vUg1XBK1tD8W"
      },
      "source": [
        "#### Correlation and Covariance"
      ]
    },
    {
      "cell_type": "code",
      "metadata": {
        "ExecuteTime": {
          "end_time": "2019-12-24T11:54:23.076066Z",
          "start_time": "2019-12-24T11:54:21.655517Z"
        },
        "id": "VfoFXblQtD8W"
      },
      "source": [
        "import pandas_datareader as  web"
      ],
      "execution_count": null,
      "outputs": []
    },
    {
      "cell_type": "code",
      "metadata": {
        "ExecuteTime": {
          "end_time": "2019-12-24T11:54:27.953329Z",
          "start_time": "2019-12-24T11:54:23.079097Z"
        },
        "id": "8WJrGdZrtD8X"
      },
      "source": [
        "all_data = {ticker: web.get_data_yahoo(ticker) for ticker in ['AAPL', 'IBM', 'MSFT', 'GOOG']}"
      ],
      "execution_count": null,
      "outputs": []
    },
    {
      "cell_type": "code",
      "metadata": {
        "ExecuteTime": {
          "end_time": "2019-12-24T11:54:28.701569Z",
          "start_time": "2019-12-24T11:54:27.953329Z"
        },
        "id": "SSUYuq-YtD8X"
      },
      "source": [
        "price = pd.DataFrame({ticker: data['Adj Close']\n",
        "                      for ticker, data in all_data.items()})\n",
        "volume = pd.DataFrame({ticker: data['Volume']\n",
        "                       for ticker, data in all_data.items()})"
      ],
      "execution_count": null,
      "outputs": []
    },
    {
      "cell_type": "code",
      "metadata": {
        "ExecuteTime": {
          "end_time": "2019-12-24T11:54:28.944129Z",
          "start_time": "2019-12-24T11:54:28.701569Z"
        },
        "id": "zaPRa1IOtD8X"
      },
      "source": [
        "returns = price.pct_change()"
      ],
      "execution_count": null,
      "outputs": []
    },
    {
      "cell_type": "code",
      "metadata": {
        "ExecuteTime": {
          "end_time": "2019-12-24T11:54:29.202785Z",
          "start_time": "2019-12-24T11:54:28.944129Z"
        },
        "id": "MYTYNcx9tD8X",
        "outputId": "0a0f8569-9f38-4898-e377-eae4558e95a6"
      },
      "source": [
        "returns.tail()"
      ],
      "execution_count": null,
      "outputs": [
        {
          "data": {
            "text/html": [
              "<div>\n",
              "<style scoped>\n",
              "    .dataframe tbody tr th:only-of-type {\n",
              "        vertical-align: middle;\n",
              "    }\n",
              "\n",
              "    .dataframe tbody tr th {\n",
              "        vertical-align: top;\n",
              "    }\n",
              "\n",
              "    .dataframe thead th {\n",
              "        text-align: right;\n",
              "    }\n",
              "</style>\n",
              "<table border=\"1\" class=\"dataframe\">\n",
              "  <thead>\n",
              "    <tr style=\"text-align: right;\">\n",
              "      <th></th>\n",
              "      <th>AAPL</th>\n",
              "      <th>IBM</th>\n",
              "      <th>MSFT</th>\n",
              "      <th>GOOG</th>\n",
              "    </tr>\n",
              "    <tr>\n",
              "      <th>Date</th>\n",
              "      <th></th>\n",
              "      <th></th>\n",
              "      <th></th>\n",
              "      <th></th>\n",
              "    </tr>\n",
              "  </thead>\n",
              "  <tbody>\n",
              "    <tr>\n",
              "      <th>2019-12-17</th>\n",
              "      <td>0.001965</td>\n",
              "      <td>0.000671</td>\n",
              "      <td>-0.005401</td>\n",
              "      <td>-0.004445</td>\n",
              "    </tr>\n",
              "    <tr>\n",
              "      <th>2019-12-18</th>\n",
              "      <td>-0.002389</td>\n",
              "      <td>0.001416</td>\n",
              "      <td>-0.002069</td>\n",
              "      <td>-0.001845</td>\n",
              "    </tr>\n",
              "    <tr>\n",
              "      <th>2019-12-19</th>\n",
              "      <td>0.001001</td>\n",
              "      <td>0.001116</td>\n",
              "      <td>0.008681</td>\n",
              "      <td>0.002528</td>\n",
              "    </tr>\n",
              "    <tr>\n",
              "      <th>2019-12-20</th>\n",
              "      <td>-0.002071</td>\n",
              "      <td>0.007655</td>\n",
              "      <td>0.010918</td>\n",
              "      <td>-0.004757</td>\n",
              "    </tr>\n",
              "    <tr>\n",
              "      <th>2019-12-23</th>\n",
              "      <td>0.016318</td>\n",
              "      <td>-0.000295</td>\n",
              "      <td>0.000000</td>\n",
              "      <td>-0.000556</td>\n",
              "    </tr>\n",
              "  </tbody>\n",
              "</table>\n",
              "</div>"
            ],
            "text/plain": [
              "                AAPL       IBM      MSFT      GOOG\n",
              "Date                                              \n",
              "2019-12-17  0.001965  0.000671 -0.005401 -0.004445\n",
              "2019-12-18 -0.002389  0.001416 -0.002069 -0.001845\n",
              "2019-12-19  0.001001  0.001116  0.008681  0.002528\n",
              "2019-12-20 -0.002071  0.007655  0.010918 -0.004757\n",
              "2019-12-23  0.016318 -0.000295  0.000000 -0.000556"
            ]
          },
          "execution_count": 121,
          "metadata": {},
          "output_type": "execute_result"
        }
      ]
    },
    {
      "cell_type": "markdown",
      "metadata": {
        "id": "zsWACRQ4tD8X"
      },
      "source": [
        "The **corr** method of Series computes the correlation of the overlapping, non-NA,\n",
        "aligned-by-index values in two Series. Relatedly, **cov** computes the covariance"
      ]
    },
    {
      "cell_type": "code",
      "metadata": {
        "ExecuteTime": {
          "end_time": "2019-12-24T11:54:30.201205Z",
          "start_time": "2019-12-24T11:54:29.206950Z"
        },
        "id": "HBY0BM-7tD8X",
        "outputId": "5ccb24f4-51de-4de7-f9b7-40b60c69f1e4"
      },
      "source": [
        "print(returns['MSFT'].cov(returns['IBM']))\n",
        "print(returns['MSFT'].corr(returns['IBM']))"
      ],
      "execution_count": null,
      "outputs": [
        {
          "name": "stdout",
          "output_type": "stream",
          "text": [
            "9.227138328874263e-05\n",
            "\n",
            "0.48490365831130916\n",
            "\n"
          ]
        }
      ]
    },
    {
      "cell_type": "code",
      "metadata": {
        "ExecuteTime": {
          "end_time": "2019-12-24T11:54:30.217210Z",
          "start_time": "2019-12-24T11:54:30.204759Z"
        },
        "id": "klutXcGVtD8Y",
        "outputId": "04b1fd69-03be-43a6-9c51-7349ec7cb8a2"
      },
      "source": [
        "returns.MSFT.corr(returns.IBM)"
      ],
      "execution_count": null,
      "outputs": [
        {
          "data": {
            "text/plain": [
              "0.48490365831130916"
            ]
          },
          "execution_count": 123,
          "metadata": {},
          "output_type": "execute_result"
        }
      ]
    },
    {
      "cell_type": "code",
      "metadata": {
        "ExecuteTime": {
          "end_time": "2019-12-24T11:54:30.398635Z",
          "start_time": "2019-12-24T11:54:30.219543Z"
        },
        "id": "GbAXWDTetD8Y",
        "outputId": "758bf544-0738-441e-d375-9aa256faae9b"
      },
      "source": [
        "returns.corr()"
      ],
      "execution_count": null,
      "outputs": [
        {
          "data": {
            "text/html": [
              "<div>\n",
              "<style scoped>\n",
              "    .dataframe tbody tr th:only-of-type {\n",
              "        vertical-align: middle;\n",
              "    }\n",
              "\n",
              "    .dataframe tbody tr th {\n",
              "        vertical-align: top;\n",
              "    }\n",
              "\n",
              "    .dataframe thead th {\n",
              "        text-align: right;\n",
              "    }\n",
              "</style>\n",
              "<table border=\"1\" class=\"dataframe\">\n",
              "  <thead>\n",
              "    <tr style=\"text-align: right;\">\n",
              "      <th></th>\n",
              "      <th>AAPL</th>\n",
              "      <th>IBM</th>\n",
              "      <th>MSFT</th>\n",
              "      <th>GOOG</th>\n",
              "    </tr>\n",
              "  </thead>\n",
              "  <tbody>\n",
              "    <tr>\n",
              "      <th>AAPL</th>\n",
              "      <td>1.000000</td>\n",
              "      <td>0.399340</td>\n",
              "      <td>0.573224</td>\n",
              "      <td>0.521823</td>\n",
              "    </tr>\n",
              "    <tr>\n",
              "      <th>IBM</th>\n",
              "      <td>0.399340</td>\n",
              "      <td>1.000000</td>\n",
              "      <td>0.484904</td>\n",
              "      <td>0.410386</td>\n",
              "    </tr>\n",
              "    <tr>\n",
              "      <th>MSFT</th>\n",
              "      <td>0.573224</td>\n",
              "      <td>0.484904</td>\n",
              "      <td>1.000000</td>\n",
              "      <td>0.658704</td>\n",
              "    </tr>\n",
              "    <tr>\n",
              "      <th>GOOG</th>\n",
              "      <td>0.521823</td>\n",
              "      <td>0.410386</td>\n",
              "      <td>0.658704</td>\n",
              "      <td>1.000000</td>\n",
              "    </tr>\n",
              "  </tbody>\n",
              "</table>\n",
              "</div>"
            ],
            "text/plain": [
              "          AAPL       IBM      MSFT      GOOG\n",
              "AAPL  1.000000  0.399340  0.573224  0.521823\n",
              "IBM   0.399340  1.000000  0.484904  0.410386\n",
              "MSFT  0.573224  0.484904  1.000000  0.658704\n",
              "GOOG  0.521823  0.410386  0.658704  1.000000"
            ]
          },
          "execution_count": 124,
          "metadata": {},
          "output_type": "execute_result"
        }
      ]
    },
    {
      "cell_type": "code",
      "metadata": {
        "ExecuteTime": {
          "end_time": "2019-12-24T11:54:30.569188Z",
          "start_time": "2019-12-24T11:54:30.400959Z"
        },
        "id": "Nw5DlUWKtD8Y",
        "outputId": "da66865a-e48a-49f6-a678-5c9379209d42"
      },
      "source": [
        "returns.cov()"
      ],
      "execution_count": null,
      "outputs": [
        {
          "data": {
            "text/html": [
              "<div>\n",
              "<style scoped>\n",
              "    .dataframe tbody tr th:only-of-type {\n",
              "        vertical-align: middle;\n",
              "    }\n",
              "\n",
              "    .dataframe tbody tr th {\n",
              "        vertical-align: top;\n",
              "    }\n",
              "\n",
              "    .dataframe thead th {\n",
              "        text-align: right;\n",
              "    }\n",
              "</style>\n",
              "<table border=\"1\" class=\"dataframe\">\n",
              "  <thead>\n",
              "    <tr style=\"text-align: right;\">\n",
              "      <th></th>\n",
              "      <th>AAPL</th>\n",
              "      <th>IBM</th>\n",
              "      <th>MSFT</th>\n",
              "      <th>GOOG</th>\n",
              "    </tr>\n",
              "  </thead>\n",
              "  <tbody>\n",
              "    <tr>\n",
              "      <th>AAPL</th>\n",
              "      <td>0.000245</td>\n",
              "      <td>0.000081</td>\n",
              "      <td>0.000132</td>\n",
              "      <td>0.000124</td>\n",
              "    </tr>\n",
              "    <tr>\n",
              "      <th>IBM</th>\n",
              "      <td>0.000081</td>\n",
              "      <td>0.000168</td>\n",
              "      <td>0.000092</td>\n",
              "      <td>0.000080</td>\n",
              "    </tr>\n",
              "    <tr>\n",
              "      <th>MSFT</th>\n",
              "      <td>0.000132</td>\n",
              "      <td>0.000092</td>\n",
              "      <td>0.000216</td>\n",
              "      <td>0.000146</td>\n",
              "    </tr>\n",
              "    <tr>\n",
              "      <th>GOOG</th>\n",
              "      <td>0.000124</td>\n",
              "      <td>0.000080</td>\n",
              "      <td>0.000146</td>\n",
              "      <td>0.000229</td>\n",
              "    </tr>\n",
              "  </tbody>\n",
              "</table>\n",
              "</div>"
            ],
            "text/plain": [
              "          AAPL       IBM      MSFT      GOOG\n",
              "AAPL  0.000245  0.000081  0.000132  0.000124\n",
              "IBM   0.000081  0.000168  0.000092  0.000080\n",
              "MSFT  0.000132  0.000092  0.000216  0.000146\n",
              "GOOG  0.000124  0.000080  0.000146  0.000229"
            ]
          },
          "execution_count": 125,
          "metadata": {},
          "output_type": "execute_result"
        }
      ]
    },
    {
      "cell_type": "code",
      "metadata": {
        "ExecuteTime": {
          "end_time": "2019-12-24T11:54:30.727892Z",
          "start_time": "2019-12-24T11:54:30.572979Z"
        },
        "id": "2XqPKMuwtD8Y",
        "outputId": "534416c0-cc24-499d-9f06-371aac43a19a"
      },
      "source": [
        "# corrwith method - compute pairwise correlations\n",
        "# between a DataFrame’s columns or rows with another Series oDataFrame’sme\n",
        "returns.corrwith(returns.IBM)"
      ],
      "execution_count": null,
      "outputs": [
        {
          "data": {
            "text/plain": [
              "AAPL    0.399340\n",
              "IBM     1.000000\n",
              "MSFT    0.484904\n",
              "GOOG    0.410386\n",
              "dtype: float64"
            ]
          },
          "execution_count": 126,
          "metadata": {},
          "output_type": "execute_result"
        }
      ]
    },
    {
      "cell_type": "markdown",
      "metadata": {
        "id": "QGRYwrx5tD8Y"
      },
      "source": [
        "#### Unique Values, Value Counts, and Membership\n"
      ]
    },
    {
      "cell_type": "code",
      "metadata": {
        "ExecuteTime": {
          "end_time": "2019-12-24T11:54:30.844787Z",
          "start_time": "2019-12-24T11:54:30.727892Z"
        },
        "id": "CWz-KlGFtD8Z",
        "outputId": "356dc16b-8218-4e00-b9f3-e2d00989c2ff"
      },
      "source": [
        "# unique - gives you an array of the unique values in a Series\n",
        "\n",
        "obj = pd.Series(['c', 'a', 'd', 'a', 'a', 'b', 'b', 'c', 'c'])\n",
        "obj.unique()"
      ],
      "execution_count": null,
      "outputs": [
        {
          "data": {
            "text/plain": [
              "array(['c', 'a', 'd', 'b'], dtype=object)"
            ]
          },
          "execution_count": 127,
          "metadata": {},
          "output_type": "execute_result"
        }
      ]
    },
    {
      "cell_type": "code",
      "metadata": {
        "ExecuteTime": {
          "end_time": "2019-12-24T11:54:30.977262Z",
          "start_time": "2019-12-24T11:54:30.846938Z"
        },
        "id": "fowh9IAytD8Z",
        "outputId": "d400c05f-2a5a-4552-a959-2bebe65a9ea1"
      },
      "source": [
        "# value_counts - computes a Series containing value frequencies\n",
        "\n",
        "pd.value_counts(obj.values, sort=True)\n"
      ],
      "execution_count": null,
      "outputs": [
        {
          "data": {
            "text/plain": [
              "c    3\n",
              "a    3\n",
              "b    2\n",
              "d    1\n",
              "dtype: int64"
            ]
          },
          "execution_count": 128,
          "metadata": {},
          "output_type": "execute_result"
        }
      ]
    },
    {
      "cell_type": "code",
      "metadata": {
        "ExecuteTime": {
          "end_time": "2019-12-24T11:54:31.112737Z",
          "start_time": "2019-12-24T11:54:30.978817Z"
        },
        "id": "xNFFOMqKtD8Z",
        "outputId": "d3b25927-4933-4d8d-945e-2bbcdd55351c"
      },
      "source": [
        "# isin - performs a vectorized set membership check and can be useful in filtering a\n",
        "# dataset down to a subset of values in a Series or column in a DataFrame\n",
        "\n",
        "obj"
      ],
      "execution_count": null,
      "outputs": [
        {
          "data": {
            "text/plain": [
              "0    c\n",
              "1    a\n",
              "2    d\n",
              "3    a\n",
              "4    a\n",
              "5    b\n",
              "6    b\n",
              "7    c\n",
              "8    c\n",
              "dtype: object"
            ]
          },
          "execution_count": 129,
          "metadata": {},
          "output_type": "execute_result"
        }
      ]
    },
    {
      "cell_type": "code",
      "metadata": {
        "ExecuteTime": {
          "end_time": "2019-12-24T11:54:31.299318Z",
          "start_time": "2019-12-24T11:54:31.114761Z"
        },
        "id": "TMZ43bqatD8Z",
        "outputId": "6bcef860-9525-4beb-eb8b-5e50e0f69c56"
      },
      "source": [
        "mask = obj.isin(['b', 'c'])\n",
        "mask"
      ],
      "execution_count": null,
      "outputs": [
        {
          "data": {
            "text/plain": [
              "0     True\n",
              "1    False\n",
              "2    False\n",
              "3    False\n",
              "4    False\n",
              "5     True\n",
              "6     True\n",
              "7     True\n",
              "8     True\n",
              "dtype: bool"
            ]
          },
          "execution_count": 130,
          "metadata": {},
          "output_type": "execute_result"
        }
      ]
    },
    {
      "cell_type": "code",
      "metadata": {
        "ExecuteTime": {
          "end_time": "2019-12-24T11:54:31.517280Z",
          "start_time": "2019-12-24T11:54:31.300318Z"
        },
        "id": "wZAxJbXxtD8Z",
        "outputId": "ea625ca4-a2cf-47cb-8fa0-de690adf83d5"
      },
      "source": [
        "obj[mask]"
      ],
      "execution_count": null,
      "outputs": [
        {
          "data": {
            "text/plain": [
              "0    c\n",
              "5    b\n",
              "6    b\n",
              "7    c\n",
              "8    c\n",
              "dtype: object"
            ]
          },
          "execution_count": 131,
          "metadata": {},
          "output_type": "execute_result"
        }
      ]
    },
    {
      "cell_type": "code",
      "metadata": {
        "ExecuteTime": {
          "end_time": "2019-12-24T11:54:31.801449Z",
          "start_time": "2019-12-24T11:54:31.520294Z"
        },
        "id": "mp73xjy-tD8a",
        "outputId": "7aff7bec-5134-4784-b3f7-ef1b31db961d"
      },
      "source": [
        "data = pd.DataFrame({'Qu1': [1, 3, 4, 3, 4],\n",
        "                     'Qu2': [2, 3, 1, 2, 3],\n",
        "                     'Qu3': [1, 5, 2, 4, 4]})\n",
        "data"
      ],
      "execution_count": null,
      "outputs": [
        {
          "data": {
            "text/html": [
              "<div>\n",
              "<style scoped>\n",
              "    .dataframe tbody tr th:only-of-type {\n",
              "        vertical-align: middle;\n",
              "    }\n",
              "\n",
              "    .dataframe tbody tr th {\n",
              "        vertical-align: top;\n",
              "    }\n",
              "\n",
              "    .dataframe thead th {\n",
              "        text-align: right;\n",
              "    }\n",
              "</style>\n",
              "<table border=\"1\" class=\"dataframe\">\n",
              "  <thead>\n",
              "    <tr style=\"text-align: right;\">\n",
              "      <th></th>\n",
              "      <th>Qu1</th>\n",
              "      <th>Qu2</th>\n",
              "      <th>Qu3</th>\n",
              "    </tr>\n",
              "  </thead>\n",
              "  <tbody>\n",
              "    <tr>\n",
              "      <th>0</th>\n",
              "      <td>1</td>\n",
              "      <td>2</td>\n",
              "      <td>1</td>\n",
              "    </tr>\n",
              "    <tr>\n",
              "      <th>1</th>\n",
              "      <td>3</td>\n",
              "      <td>3</td>\n",
              "      <td>5</td>\n",
              "    </tr>\n",
              "    <tr>\n",
              "      <th>2</th>\n",
              "      <td>4</td>\n",
              "      <td>1</td>\n",
              "      <td>2</td>\n",
              "    </tr>\n",
              "    <tr>\n",
              "      <th>3</th>\n",
              "      <td>3</td>\n",
              "      <td>2</td>\n",
              "      <td>4</td>\n",
              "    </tr>\n",
              "    <tr>\n",
              "      <th>4</th>\n",
              "      <td>4</td>\n",
              "      <td>3</td>\n",
              "      <td>4</td>\n",
              "    </tr>\n",
              "  </tbody>\n",
              "</table>\n",
              "</div>"
            ],
            "text/plain": [
              "   Qu1  Qu2  Qu3\n",
              "0    1    2    1\n",
              "1    3    3    5\n",
              "2    4    1    2\n",
              "3    3    2    4\n",
              "4    4    3    4"
            ]
          },
          "execution_count": 132,
          "metadata": {},
          "output_type": "execute_result"
        }
      ]
    },
    {
      "cell_type": "code",
      "metadata": {
        "ExecuteTime": {
          "end_time": "2019-12-24T11:54:32.315990Z",
          "start_time": "2019-12-24T11:54:31.804884Z"
        },
        "id": "LY79_W9QtD8a",
        "outputId": "73985d15-0452-49ab-addd-fba9d277eb9c"
      },
      "source": [
        "print(pd.value_counts(data.Qu1))\n",
        "print(pd.value_counts(data.Qu2))\n",
        "print(pd.value_counts(data.Qu3))\n",
        "print(data.apply(pd.value_counts).fillna(0))\n",
        "# index - distinct values in the df\n",
        "# column values - how many times the distinct value occur in that column"
      ],
      "execution_count": null,
      "outputs": [
        {
          "name": "stdout",
          "output_type": "stream",
          "text": [
            "4    2\n",
            "3    2\n",
            "1    1\n",
            "Name: Qu1, dtype: int64\n",
            "\n",
            "3    2\n",
            "2    2\n",
            "1    1\n",
            "Name: Qu2, dtype: int64\n",
            "\n",
            "4    2\n",
            "5    1\n",
            "2    1\n",
            "1    1\n",
            "Name: Qu3, dtype: int64\n",
            "\n",
            "   Qu1  Qu2  Qu3\n",
            "1  1.0  1.0  1.0\n",
            "2  0.0  2.0  1.0\n",
            "3  2.0  2.0  0.0\n",
            "4  2.0  0.0  2.0\n",
            "5  0.0  0.0  1.0\n",
            "\n"
          ]
        }
      ]
    },
    {
      "cell_type": "markdown",
      "metadata": {
        "id": "ROnYOwDmhTsG"
      },
      "source": [
        "##Matplotlib"
      ]
    },
    {
      "cell_type": "code",
      "metadata": {
        "id": "-1GGUhSFlR8T",
        "colab": {
          "base_uri": "https://localhost:8080/"
        },
        "outputId": "29a1c4cf-be4a-4313-cc6b-260317a518da"
      },
      "source": [
        "from google.colab import drive\n",
        "drive.mount(\"/content/drive\")"
      ],
      "execution_count": null,
      "outputs": [
        {
          "output_type": "stream",
          "name": "stdout",
          "text": [
            "Mounted at /content/drive\n"
          ]
        }
      ]
    },
    {
      "cell_type": "code",
      "metadata": {
        "id": "PcaMT1VmlUZa"
      },
      "source": [
        "import zipfile\n",
        "import os\n",
        "zip_ref = zipfile.ZipFile(os.path.join(os.getcwd(), \"/content/drive/MyDrive/tepcsv/faulty_testing.csv.zip\"), 'r')\n",
        "zip_ref.extractall()\n",
        "zip_ref.close()"
      ],
      "execution_count": null,
      "outputs": []
    },
    {
      "cell_type": "code",
      "metadata": {
        "id": "M-Er5bH74L_0"
      },
      "source": [
        "import seaborn as sns\n",
        "import matplotlib.pyplot as plt\n",
        "sns.set(style=\"darkgrid\", color_codes=True)"
      ],
      "execution_count": null,
      "outputs": []
    },
    {
      "cell_type": "code",
      "metadata": {
        "id": "8KEbkW5N4L_5",
        "colab": {
          "base_uri": "https://localhost:8080/",
          "height": 244
        },
        "outputId": "30ba34fd-0807-4685-db26-6f22fb2f3f9a"
      },
      "source": [
        "data = pd.read_csv('/content/faulty_testing.csv')\n",
        "data.head()"
      ],
      "execution_count": null,
      "outputs": [
        {
          "output_type": "execute_result",
          "data": {
            "text/html": [
              "<div>\n",
              "<style scoped>\n",
              "    .dataframe tbody tr th:only-of-type {\n",
              "        vertical-align: middle;\n",
              "    }\n",
              "\n",
              "    .dataframe tbody tr th {\n",
              "        vertical-align: top;\n",
              "    }\n",
              "\n",
              "    .dataframe thead th {\n",
              "        text-align: right;\n",
              "    }\n",
              "</style>\n",
              "<table border=\"1\" class=\"dataframe\">\n",
              "  <thead>\n",
              "    <tr style=\"text-align: right;\">\n",
              "      <th></th>\n",
              "      <th>Unnamed: 0</th>\n",
              "      <th>faultNumber</th>\n",
              "      <th>simulationRun</th>\n",
              "      <th>sample</th>\n",
              "      <th>xmeas_1</th>\n",
              "      <th>xmeas_2</th>\n",
              "      <th>xmeas_3</th>\n",
              "      <th>xmeas_4</th>\n",
              "      <th>xmeas_5</th>\n",
              "      <th>xmeas_6</th>\n",
              "      <th>xmeas_7</th>\n",
              "      <th>xmeas_8</th>\n",
              "      <th>xmeas_9</th>\n",
              "      <th>xmeas_10</th>\n",
              "      <th>xmeas_11</th>\n",
              "      <th>xmeas_12</th>\n",
              "      <th>xmeas_13</th>\n",
              "      <th>xmeas_14</th>\n",
              "      <th>xmeas_15</th>\n",
              "      <th>xmeas_16</th>\n",
              "      <th>xmeas_17</th>\n",
              "      <th>xmeas_18</th>\n",
              "      <th>xmeas_19</th>\n",
              "      <th>xmeas_20</th>\n",
              "      <th>xmeas_21</th>\n",
              "      <th>xmeas_22</th>\n",
              "      <th>xmeas_23</th>\n",
              "      <th>xmeas_24</th>\n",
              "      <th>xmeas_25</th>\n",
              "      <th>xmeas_26</th>\n",
              "      <th>xmeas_27</th>\n",
              "      <th>xmeas_28</th>\n",
              "      <th>xmeas_29</th>\n",
              "      <th>xmeas_30</th>\n",
              "      <th>xmeas_31</th>\n",
              "      <th>xmeas_32</th>\n",
              "      <th>xmeas_33</th>\n",
              "      <th>xmeas_34</th>\n",
              "      <th>xmeas_35</th>\n",
              "      <th>xmeas_36</th>\n",
              "      <th>xmeas_37</th>\n",
              "      <th>xmeas_38</th>\n",
              "      <th>xmeas_39</th>\n",
              "      <th>xmeas_40</th>\n",
              "      <th>xmeas_41</th>\n",
              "      <th>xmv_1</th>\n",
              "      <th>xmv_2</th>\n",
              "      <th>xmv_3</th>\n",
              "      <th>xmv_4</th>\n",
              "      <th>xmv_5</th>\n",
              "      <th>xmv_6</th>\n",
              "      <th>xmv_7</th>\n",
              "      <th>xmv_8</th>\n",
              "      <th>xmv_9</th>\n",
              "      <th>xmv_10</th>\n",
              "      <th>xmv_11</th>\n",
              "    </tr>\n",
              "  </thead>\n",
              "  <tbody>\n",
              "    <tr>\n",
              "      <th>0</th>\n",
              "      <td>0</td>\n",
              "      <td>1</td>\n",
              "      <td>1.0</td>\n",
              "      <td>1</td>\n",
              "      <td>0.25171</td>\n",
              "      <td>3672.4</td>\n",
              "      <td>4466.3</td>\n",
              "      <td>9.5122</td>\n",
              "      <td>27.057</td>\n",
              "      <td>42.473</td>\n",
              "      <td>2705.6</td>\n",
              "      <td>74.750</td>\n",
              "      <td>120.41</td>\n",
              "      <td>0.33642</td>\n",
              "      <td>80.185</td>\n",
              "      <td>50.671</td>\n",
              "      <td>2634.6</td>\n",
              "      <td>24.592</td>\n",
              "      <td>50.614</td>\n",
              "      <td>3102.5</td>\n",
              "      <td>24.119</td>\n",
              "      <td>65.764</td>\n",
              "      <td>231.94</td>\n",
              "      <td>341.27</td>\n",
              "      <td>94.660</td>\n",
              "      <td>77.137</td>\n",
              "      <td>32.188</td>\n",
              "      <td>8.8933</td>\n",
              "      <td>26.383</td>\n",
              "      <td>6.8820</td>\n",
              "      <td>18.776</td>\n",
              "      <td>1.6567</td>\n",
              "      <td>32.958</td>\n",
              "      <td>13.823</td>\n",
              "      <td>23.978</td>\n",
              "      <td>1.2565</td>\n",
              "      <td>18.579</td>\n",
              "      <td>2.2633</td>\n",
              "      <td>4.8436</td>\n",
              "      <td>2.2986</td>\n",
              "      <td>0.017866</td>\n",
              "      <td>0.8357</td>\n",
              "      <td>0.098577</td>\n",
              "      <td>53.724</td>\n",
              "      <td>43.828</td>\n",
              "      <td>62.908</td>\n",
              "      <td>54.494</td>\n",
              "      <td>24.527</td>\n",
              "      <td>59.710</td>\n",
              "      <td>22.357</td>\n",
              "      <td>40.149</td>\n",
              "      <td>40.074</td>\n",
              "      <td>47.955</td>\n",
              "      <td>47.300</td>\n",
              "      <td>42.100</td>\n",
              "      <td>15.345</td>\n",
              "    </tr>\n",
              "    <tr>\n",
              "      <th>1</th>\n",
              "      <td>1</td>\n",
              "      <td>1</td>\n",
              "      <td>1.0</td>\n",
              "      <td>2</td>\n",
              "      <td>0.25234</td>\n",
              "      <td>3642.2</td>\n",
              "      <td>4568.7</td>\n",
              "      <td>9.4145</td>\n",
              "      <td>26.999</td>\n",
              "      <td>42.586</td>\n",
              "      <td>2705.2</td>\n",
              "      <td>75.126</td>\n",
              "      <td>120.38</td>\n",
              "      <td>0.33801</td>\n",
              "      <td>80.104</td>\n",
              "      <td>49.508</td>\n",
              "      <td>2634.1</td>\n",
              "      <td>23.399</td>\n",
              "      <td>49.353</td>\n",
              "      <td>3102.3</td>\n",
              "      <td>23.817</td>\n",
              "      <td>65.729</td>\n",
              "      <td>229.67</td>\n",
              "      <td>341.76</td>\n",
              "      <td>94.558</td>\n",
              "      <td>77.130</td>\n",
              "      <td>32.188</td>\n",
              "      <td>8.8933</td>\n",
              "      <td>26.383</td>\n",
              "      <td>6.8820</td>\n",
              "      <td>18.776</td>\n",
              "      <td>1.6567</td>\n",
              "      <td>32.958</td>\n",
              "      <td>13.823</td>\n",
              "      <td>23.978</td>\n",
              "      <td>1.2565</td>\n",
              "      <td>18.579</td>\n",
              "      <td>2.2633</td>\n",
              "      <td>4.8436</td>\n",
              "      <td>2.2986</td>\n",
              "      <td>0.017866</td>\n",
              "      <td>0.8357</td>\n",
              "      <td>0.098577</td>\n",
              "      <td>53.724</td>\n",
              "      <td>43.828</td>\n",
              "      <td>63.429</td>\n",
              "      <td>53.269</td>\n",
              "      <td>24.465</td>\n",
              "      <td>60.466</td>\n",
              "      <td>22.413</td>\n",
              "      <td>39.956</td>\n",
              "      <td>36.651</td>\n",
              "      <td>45.038</td>\n",
              "      <td>47.502</td>\n",
              "      <td>40.553</td>\n",
              "      <td>16.063</td>\n",
              "    </tr>\n",
              "    <tr>\n",
              "      <th>2</th>\n",
              "      <td>2</td>\n",
              "      <td>1</td>\n",
              "      <td>1.0</td>\n",
              "      <td>3</td>\n",
              "      <td>0.24840</td>\n",
              "      <td>3643.1</td>\n",
              "      <td>4507.5</td>\n",
              "      <td>9.2901</td>\n",
              "      <td>26.927</td>\n",
              "      <td>42.278</td>\n",
              "      <td>2703.5</td>\n",
              "      <td>74.540</td>\n",
              "      <td>120.38</td>\n",
              "      <td>0.33702</td>\n",
              "      <td>79.988</td>\n",
              "      <td>51.280</td>\n",
              "      <td>2632.1</td>\n",
              "      <td>24.319</td>\n",
              "      <td>49.144</td>\n",
              "      <td>3100.7</td>\n",
              "      <td>21.973</td>\n",
              "      <td>65.708</td>\n",
              "      <td>229.94</td>\n",
              "      <td>341.47</td>\n",
              "      <td>94.732</td>\n",
              "      <td>77.168</td>\n",
              "      <td>32.492</td>\n",
              "      <td>8.9860</td>\n",
              "      <td>25.882</td>\n",
              "      <td>6.9881</td>\n",
              "      <td>18.750</td>\n",
              "      <td>1.6203</td>\n",
              "      <td>33.387</td>\n",
              "      <td>13.666</td>\n",
              "      <td>23.703</td>\n",
              "      <td>1.2234</td>\n",
              "      <td>18.834</td>\n",
              "      <td>2.2782</td>\n",
              "      <td>4.8584</td>\n",
              "      <td>2.3201</td>\n",
              "      <td>0.017866</td>\n",
              "      <td>0.8357</td>\n",
              "      <td>0.098577</td>\n",
              "      <td>53.724</td>\n",
              "      <td>43.828</td>\n",
              "      <td>63.412</td>\n",
              "      <td>54.000</td>\n",
              "      <td>24.860</td>\n",
              "      <td>60.642</td>\n",
              "      <td>22.199</td>\n",
              "      <td>40.074</td>\n",
              "      <td>41.868</td>\n",
              "      <td>44.553</td>\n",
              "      <td>47.479</td>\n",
              "      <td>41.341</td>\n",
              "      <td>20.452</td>\n",
              "    </tr>\n",
              "    <tr>\n",
              "      <th>3</th>\n",
              "      <td>3</td>\n",
              "      <td>1</td>\n",
              "      <td>1.0</td>\n",
              "      <td>4</td>\n",
              "      <td>0.25153</td>\n",
              "      <td>3628.3</td>\n",
              "      <td>4519.3</td>\n",
              "      <td>9.3347</td>\n",
              "      <td>26.999</td>\n",
              "      <td>42.330</td>\n",
              "      <td>2703.9</td>\n",
              "      <td>74.861</td>\n",
              "      <td>120.38</td>\n",
              "      <td>0.33648</td>\n",
              "      <td>79.957</td>\n",
              "      <td>50.668</td>\n",
              "      <td>2632.3</td>\n",
              "      <td>24.209</td>\n",
              "      <td>50.654</td>\n",
              "      <td>3101.3</td>\n",
              "      <td>23.378</td>\n",
              "      <td>65.692</td>\n",
              "      <td>230.42</td>\n",
              "      <td>341.38</td>\n",
              "      <td>94.466</td>\n",
              "      <td>77.147</td>\n",
              "      <td>32.492</td>\n",
              "      <td>8.9860</td>\n",
              "      <td>25.882</td>\n",
              "      <td>6.9881</td>\n",
              "      <td>18.750</td>\n",
              "      <td>1.6203</td>\n",
              "      <td>33.387</td>\n",
              "      <td>13.666</td>\n",
              "      <td>23.703</td>\n",
              "      <td>1.2234</td>\n",
              "      <td>18.834</td>\n",
              "      <td>2.2782</td>\n",
              "      <td>4.8584</td>\n",
              "      <td>2.3201</td>\n",
              "      <td>0.017866</td>\n",
              "      <td>0.8357</td>\n",
              "      <td>0.098577</td>\n",
              "      <td>53.724</td>\n",
              "      <td>43.828</td>\n",
              "      <td>63.668</td>\n",
              "      <td>53.860</td>\n",
              "      <td>24.553</td>\n",
              "      <td>61.908</td>\n",
              "      <td>21.981</td>\n",
              "      <td>40.141</td>\n",
              "      <td>40.066</td>\n",
              "      <td>48.048</td>\n",
              "      <td>47.440</td>\n",
              "      <td>40.780</td>\n",
              "      <td>17.123</td>\n",
              "    </tr>\n",
              "    <tr>\n",
              "      <th>4</th>\n",
              "      <td>4</td>\n",
              "      <td>1</td>\n",
              "      <td>1.0</td>\n",
              "      <td>5</td>\n",
              "      <td>0.21763</td>\n",
              "      <td>3655.8</td>\n",
              "      <td>4571.0</td>\n",
              "      <td>9.3087</td>\n",
              "      <td>26.901</td>\n",
              "      <td>42.402</td>\n",
              "      <td>2707.7</td>\n",
              "      <td>74.380</td>\n",
              "      <td>120.40</td>\n",
              "      <td>0.32114</td>\n",
              "      <td>80.261</td>\n",
              "      <td>50.066</td>\n",
              "      <td>2636.1</td>\n",
              "      <td>25.682</td>\n",
              "      <td>49.198</td>\n",
              "      <td>3102.2</td>\n",
              "      <td>22.692</td>\n",
              "      <td>65.723</td>\n",
              "      <td>229.42</td>\n",
              "      <td>341.53</td>\n",
              "      <td>94.770</td>\n",
              "      <td>77.868</td>\n",
              "      <td>32.396</td>\n",
              "      <td>8.9172</td>\n",
              "      <td>26.103</td>\n",
              "      <td>6.6982</td>\n",
              "      <td>18.333</td>\n",
              "      <td>1.6463</td>\n",
              "      <td>32.913</td>\n",
              "      <td>13.874</td>\n",
              "      <td>23.524</td>\n",
              "      <td>1.2179</td>\n",
              "      <td>18.527</td>\n",
              "      <td>2.2895</td>\n",
              "      <td>4.8113</td>\n",
              "      <td>2.2049</td>\n",
              "      <td>0.017866</td>\n",
              "      <td>0.8357</td>\n",
              "      <td>0.098577</td>\n",
              "      <td>53.724</td>\n",
              "      <td>43.828</td>\n",
              "      <td>62.213</td>\n",
              "      <td>53.307</td>\n",
              "      <td>21.775</td>\n",
              "      <td>61.891</td>\n",
              "      <td>22.412</td>\n",
              "      <td>37.696</td>\n",
              "      <td>38.295</td>\n",
              "      <td>44.678</td>\n",
              "      <td>47.530</td>\n",
              "      <td>41.089</td>\n",
              "      <td>18.681</td>\n",
              "    </tr>\n",
              "  </tbody>\n",
              "</table>\n",
              "</div>"
            ],
            "text/plain": [
              "   Unnamed: 0  faultNumber  simulationRun  ...   xmv_9  xmv_10  xmv_11\n",
              "0           0            1            1.0  ...  47.300  42.100  15.345\n",
              "1           1            1            1.0  ...  47.502  40.553  16.063\n",
              "2           2            1            1.0  ...  47.479  41.341  20.452\n",
              "3           3            1            1.0  ...  47.440  40.780  17.123\n",
              "4           4            1            1.0  ...  47.530  41.089  18.681\n",
              "\n",
              "[5 rows x 56 columns]"
            ]
          },
          "metadata": {},
          "execution_count": 4
        }
      ]
    },
    {
      "cell_type": "code",
      "metadata": {
        "id": "a12EngHa4L_8",
        "colab": {
          "base_uri": "https://localhost:8080/"
        },
        "outputId": "ee7b40f1-7422-4ed7-d522-c37775f6c4b9"
      },
      "source": [
        "data[\"xmeas_1\"].value_counts()"
      ],
      "execution_count": null,
      "outputs": [
        {
          "output_type": "execute_result",
          "data": {
            "text/plain": [
              "0.25127    97\n",
              "0.26065    87\n",
              "0.25140    87\n",
              "0.24993    86\n",
              "0.25359    86\n",
              "           ..\n",
              "0.33284     1\n",
              "0.35105     1\n",
              "0.32952     1\n",
              "0.33858     1\n",
              "0.35018     1\n",
              "Name: xmeas_1, Length: 19008, dtype: int64"
            ]
          },
          "metadata": {},
          "execution_count": 7
        }
      ]
    },
    {
      "cell_type": "code",
      "metadata": {
        "colab": {
          "base_uri": "https://localhost:8080/",
          "height": 340
        },
        "id": "XoQowLNF4MAD",
        "outputId": "402d4886-0240-4b49-f045-873258bc41d5"
      },
      "source": [
        "data.plot(kind='scatter', x=\"xmeas_1\", y=\"xmeas_2\")"
      ],
      "execution_count": null,
      "outputs": [
        {
          "output_type": "stream",
          "name": "stderr",
          "text": [
            "*c* argument looks like a single numeric RGB or RGBA sequence, which should be avoided as value-mapping will have precedence in case its length matches with *x* & *y*.  Please use the *color* keyword-argument or provide a 2-D array with a single row if you intend to specify the same RGB or RGBA value for all points.\n"
          ]
        },
        {
          "output_type": "execute_result",
          "data": {
            "text/plain": [
              "<matplotlib.axes._subplots.AxesSubplot at 0x7f6c63234b50>"
            ]
          },
          "metadata": {},
          "execution_count": 9
        },
        {
          "output_type": "display_data",
          "data": {
            "image/png": "[encoded data removed]",
            "text/plain": [
              "<Figure size 432x288 with 1 Axes>"
            ]
          },
          "metadata": {}
        }
      ]
    },
    {
      "cell_type": "code",
      "metadata": {
        "colab": {
          "base_uri": "https://localhost:8080/",
          "height": 420
        },
        "id": "N5VBjfgr4MAE",
        "outputId": "192ad67a-6ad1-4d5e-a544-7070ccdbe667"
      },
      "source": [
        "sns.jointplot(x=\"xmeas_1\", y=\"xmeas_2\", data=data, kind=\"scatter\", size=5)\n",
        "plt.show()"
      ],
      "execution_count": null,
      "outputs": [
        {
          "output_type": "stream",
          "name": "stderr",
          "text": [
            "/usr/local/lib/python3.7/dist-packages/seaborn/axisgrid.py:2182: UserWarning: The `size` parameter has been renamed to `height`; please update your code.\n",
            "  warnings.warn(msg, UserWarning)\n"
          ]
        },
        {
          "output_type": "display_data",
          "data": {
            "image/png": "[encoded data removed]",
            "text/plain": [
              "<Figure size 360x360 with 3 Axes>"
            ]
          },
          "metadata": {}
        }
      ]
    },
    {
      "cell_type": "code",
      "metadata": {
        "colab": {
          "base_uri": "https://localhost:8080/",
          "height": 420
        },
        "id": "GS3Iz-B74MAF",
        "outputId": "1e37be4c-032a-4d1a-9af5-fb1f353b6ed7"
      },
      "source": [
        "g = sns.JointGrid(x=\"xmeas_1\", y=\"xmeas_1\", data=data, size=5)\n",
        "g = g.plot(plt.scatter, sns.kdeplot)"
      ],
      "execution_count": null,
      "outputs": [
        {
          "output_type": "stream",
          "name": "stderr",
          "text": [
            "/usr/local/lib/python3.7/dist-packages/seaborn/axisgrid.py:1667: UserWarning: The `size` parameter has been renamed to `height`; please update your code.\n",
            "  warnings.warn(msg, UserWarning)\n"
          ]
        },
        {
          "output_type": "display_data",
          "data": {
            "image/png": "[encoded data removed]",
            "text/plain": [
              "<Figure size 360x360 with 3 Axes>"
            ]
          },
          "metadata": {}
        }
      ]
    },
    {
      "cell_type": "code",
      "metadata": {
        "colab": {
          "base_uri": "https://localhost:8080/",
          "height": 420
        },
        "id": "9D9Kzh944MAG",
        "outputId": "6326ac7c-4b02-4652-e356-1b17217f0d40"
      },
      "source": [
        "sns.jointplot(x=\"xmeas_1\", y=\"xmeas_2\", data=data, kind=\"hex\", size=5)\n",
        "plt.show()"
      ],
      "execution_count": null,
      "outputs": [
        {
          "output_type": "stream",
          "name": "stderr",
          "text": [
            "/usr/local/lib/python3.7/dist-packages/seaborn/axisgrid.py:2182: UserWarning: The `size` parameter has been renamed to `height`; please update your code.\n",
            "  warnings.warn(msg, UserWarning)\n"
          ]
        },
        {
          "output_type": "display_data",
          "data": {
            "image/png": "[encoded data removed]",
            "text/plain": [
              "<Figure size 360x360 with 3 Axes>"
            ]
          },
          "metadata": {}
        }
      ]
    },
    {
      "cell_type": "code",
      "metadata": {
        "colab": {
          "base_uri": "https://localhost:8080/",
          "height": 351
        },
        "id": "zr1NNoTe4MAP",
        "outputId": "87e2af07-7d37-4ec4-afa9-27e03f9d616a"
      },
      "source": [
        "# A final multivariate visualization technique pandas has is radviz\n",
        "# Which puts each feature as a point on a 2D plane, and then simulates\n",
        "# having each sample attached to those points through a spring weighted by the relative value for that feature\n",
        "\n",
        "from pandas.plotting import radviz\n",
        "p = radviz(data, \"faultNumber\")"
      ],
      "execution_count": null,
      "outputs": [
        {
          "output_type": "display_data",
          "data": {
            "image/png": "[encoded data removed]",
            "text/plain": [
              "<Figure size 432x288 with 1 Axes>"
            ]
          },
          "metadata": {}
        }
      ]
    },
    {
      "cell_type": "code",
      "metadata": {
        "ExecuteTime": {
          "end_time": "2019-12-25T12:41:46.499107Z",
          "start_time": "2019-12-25T12:41:46.367690Z"
        },
        "id": "x2fxZ1nf4TTQ",
        "outputId": "0728b35f-f47e-47fd-c0b5-3ad6ab64a53f"
      },
      "source": [
        "# availables styles\n",
        "plt.style.available"
      ],
      "execution_count": null,
      "outputs": [
        {
          "data": {
            "text/plain": [
              "['bmh',\n",
              " 'classic',\n",
              " 'dark_background',\n",
              " 'fast',\n",
              " 'fivethirtyeight',\n",
              " 'ggplot',\n",
              " 'grayscale',\n",
              " 'seaborn-bright',\n",
              " 'seaborn-colorblind',\n",
              " 'seaborn-dark-palette',\n",
              " 'seaborn-dark',\n",
              " 'seaborn-darkgrid',\n",
              " 'seaborn-deep',\n",
              " 'seaborn-muted',\n",
              " 'seaborn-notebook',\n",
              " 'seaborn-paper',\n",
              " 'seaborn-pastel',\n",
              " 'seaborn-poster',\n",
              " 'seaborn-talk',\n",
              " 'seaborn-ticks',\n",
              " 'seaborn-white',\n",
              " 'seaborn-whitegrid',\n",
              " 'seaborn',\n",
              " 'Solarize_Light2',\n",
              " 'tableau-colorblind10',\n",
              " '_classic_test']"
            ]
          },
          "execution_count": 3,
          "metadata": {},
          "output_type": "execute_result"
        }
      ]
    },
    {
      "cell_type": "code",
      "metadata": {
        "ExecuteTime": {
          "end_time": "2019-12-25T12:41:46.636855Z",
          "start_time": "2019-12-25T12:41:46.500021Z"
        },
        "id": "d4icJJRg4TTT"
      },
      "source": [
        "plt.style.use('seaborn-white')"
      ],
      "execution_count": null,
      "outputs": []
    },
    {
      "cell_type": "code",
      "metadata": {
        "ExecuteTime": {
          "end_time": "2019-12-25T12:41:46.774810Z",
          "start_time": "2019-12-25T12:41:46.638852Z"
        },
        "id": "7kJQYLeS4TTT"
      },
      "source": [
        "# Median Developer Salaries by Age\n",
        "ages_x = [25, 26, 27, 28, 29, 30, 31, 32, 33, 34, 35]\n",
        "\n",
        "dev_y = [38496, 42000, 46752, 49320, 53200,\n",
        "         56000, 62316, 64928, 67317, 68748, 73752]\n",
        "\n",
        "# Median Python Developer Salaries by Age\n",
        "\n",
        "py_dev_y = [45372, 48876, 53850, 57287, 63016,\n",
        "            65998, 70003, 70000, 71496, 75370, 83640]\n",
        "\n",
        "# Median JavaScript Developer Salaries by Age\n",
        "js_dev_y = [37810, 43515, 46823, 49293, 53437,\n",
        "            56373, 62375, 66674, 68745, 68746, 74583]"
      ],
      "execution_count": null,
      "outputs": []
    },
    {
      "cell_type": "code",
      "metadata": {
        "ExecuteTime": {
          "end_time": "2019-12-25T12:41:47.375542Z",
          "start_time": "2019-12-25T12:41:46.775653Z"
        },
        "id": "p36iuFKZ4TTV",
        "outputId": "0db1a2a9-73d5-466c-adb3-c2cbb6f950de"
      },
      "source": [
        "plt.plot(ages_x, dev_y, label='All Devs')\n",
        "plt.plot(ages_x, py_dev_y, label='Python')\n",
        "\n",
        "plt.xlabel(\"Ages\")\n",
        "plt.ylabel(\"Median Salary (USD)\")\n",
        "plt.title(\"Median Salary (USD) by Age\")\n",
        "\n",
        "# adding legend\n",
        "# method 1\n",
        "# plt.legend(['All Devs', 'Python'])\n",
        "# method 2 - pass a label argument to plot\n",
        "\n",
        "plt.legend()"
      ],
      "execution_count": null,
      "outputs": [
        {
          "data": {
            "text/plain": [
              "<matplotlib.legend.Legend at 0x1e7c4ffcf08>"
            ]
          },
          "execution_count": 6,
          "metadata": {},
          "output_type": "execute_result"
        },
        {
          "data": {
            "image/png": "[encoded data removed]",
            "text/plain": [
              "<Figure size 432x288 with 1 Axes>"
            ]
          },
          "metadata": {},
          "output_type": "display_data"
        }
      ]
    },
    {
      "cell_type": "markdown",
      "metadata": {
        "id": "WJeIyakO4TTZ"
      },
      "source": [
        "* Format Strings\n",
        "\n",
        "A format string consists of a part for color, marker and line:\n",
        "```python\n",
        "fmt = '[marker][line][color]'\n",
        "```\n",
        "\n",
        "\n",
        "**Markers**\n",
        "\n",
        "|character|\tdescription|\n",
        "|--|--|\n",
        "|**.**|\tpoint marker|\n",
        "|**,**|\tpixel marker|\n",
        "|**o**|\tcircle marker|\n",
        "|**v**|\ttriangle_down marker|\n",
        "|**^**|\ttriangle_up marker|\n",
        "|**<**|\ttriangle_left marker|\n",
        "|**>**|\ttriangle_right marker|\n",
        "|**1**|\ttri_down marker|\n",
        "|**2**|\ttri_up marker|\n",
        "|**3**|\ttri_left marker|\n",
        "|**4**|\ttri_right marker|\n",
        "|**s**|\tsquare marker|\n",
        "|**p**|\tpentagon marker|\n",
        "|*****|\tstar marker|\n",
        "|**h**|\thexagon1 marker|\n",
        "|**H**|\thexagon2 marker|\n",
        "|**+**|\tplus marker|\n",
        "|**x**|\tx marker|\n",
        "|**D**|\tdiamond marker|\n",
        "|**d**|\tthin_diamond marker|\n",
        "|**'**|\tvline marker|\n",
        "|**_**|\thline marker|\n",
        "\n",
        "\n",
        "**Line Styles**\n",
        "\n",
        "|character|\tdescription|\n",
        "|--|--|\n",
        "|**-**| solid line style|\n",
        "|**--**\t|dashed line style|\n",
        "| **-.**|dash-dot line style|\n",
        "| **:**\t|dotted line style|\n",
        "\n",
        "|Example| format strings:|\n",
        "|--|--|\n",
        "|**b**|   blue markers with default shape|\n",
        "|**or**|   red circles|\n",
        "|**-g**|   green solid line|\n",
        "|**--**|   dashed line with default color|\n",
        "|**^k:**|  black triangle_up markers connected by a dotted line|\n",
        "\n",
        "\n",
        "**Colors**\n",
        "\n",
        "The supported color abbreviations are the single letter codes\n",
        "\n",
        "\n",
        "|character\t|color|\n",
        "|--|--|\n",
        "|**b**|\tblue|\n",
        "|**g**| green|\n",
        "|**r**| red|\n",
        "|**c**|\tcyan|\n",
        "|**m**|\tmagenta|\n",
        "|**y**|\tyellow|\n",
        "|**k**|\tblack|\n",
        "|**w**|\twhite|"
      ]
    },
    {
      "cell_type": "code",
      "metadata": {
        "ExecuteTime": {
          "end_time": "2019-12-25T12:41:47.524273Z",
          "start_time": "2019-12-25T12:41:47.377537Z"
        },
        "id": "refu5cDu4TTg",
        "outputId": "5e0f2ffc-d37e-472d-95cd-f4a9e806603a"
      },
      "source": [
        "# change formatting of the plot\n",
        "# method 1\n",
        "\n",
        "plt.plot(ages_x, dev_y, 'k--', label='All Devs')\n",
        "plt.plot(ages_x, py_dev_y, 'b', label='Python')\n",
        "\n",
        "\n",
        "plt.xlabel(\"Ages\")\n",
        "plt.ylabel(\"Median Salary (USD)\")\n",
        "plt.title(\"Median Salary (USD) by Age\")\n",
        "plt.legend()"
      ],
      "execution_count": null,
      "outputs": [
        {
          "data": {
            "text/plain": [
              "<matplotlib.legend.Legend at 0x1e7c50e5b88>"
            ]
          },
          "execution_count": 7,
          "metadata": {},
          "output_type": "execute_result"
        },
        {
          "data": {
            "image/png": "[encoded data removed]",
            "text/plain": [
              "<Figure size 432x288 with 1 Axes>"
            ]
          },
          "metadata": {},
          "output_type": "display_data"
        }
      ]
    },
    {
      "cell_type": "code",
      "metadata": {
        "ExecuteTime": {
          "end_time": "2019-12-25T12:41:47.669207Z",
          "start_time": "2019-12-25T12:41:47.526229Z"
        },
        "id": "XWEnHMvU4TTh",
        "outputId": "da3d20f1-b264-4037-fb32-cbc006446654"
      },
      "source": [
        "# proper method / more desirable\n",
        "\n",
        "plt.plot(ages_x, dev_y, color='k', linestyle='--', marker='.', label='All Devs')\n",
        "plt.plot(ages_x, py_dev_y, color='b', marker='o', label='Python')\n",
        "plt.xlabel(\"Ages\")\n",
        "plt.ylabel(\"Median Salary (USD)\")\n",
        "plt.title(\"Median Salary (USD) by Age\")\n",
        "plt.legend()"
      ],
      "execution_count": null,
      "outputs": [
        {
          "data": {
            "text/plain": [
              "<matplotlib.legend.Legend at 0x1e7c515cac8>"
            ]
          },
          "execution_count": 8,
          "metadata": {},
          "output_type": "execute_result"
        },
        {
          "data": {
            "image/png": "[encoded data removed]",
            "text/plain": [
              "<Figure size 432x288 with 1 Axes>"
            ]
          },
          "metadata": {},
          "output_type": "display_data"
        }
      ]
    },
    {
      "cell_type": "code",
      "metadata": {
        "ExecuteTime": {
          "end_time": "2019-12-25T12:41:47.836615Z",
          "start_time": "2019-12-25T12:41:47.671202Z"
        },
        "scrolled": true,
        "id": "DOV04b014TTk",
        "outputId": "784182b8-1af4-4bb8-b5cb-3115cb91867d"
      },
      "source": [
        "# using hexadecimal value for colors and linewidth\n",
        "\n",
        "plt.plot(ages_x, py_dev_y, linewidth=3, label='Python')\n",
        "\n",
        "plt.plot(ages_x, js_dev_y, linewidth=3, label='JavaScript')\n",
        "\n",
        "plt.plot(ages_x, dev_y, color='#444444', linestyle='--', label='All Devs')\n",
        "\n",
        "plt.xlabel(\"Ages\")\n",
        "plt.ylabel(\"Median Salary (USD)\")\n",
        "plt.title(\"Median Salary (USD) by Age\")\n",
        "plt.legend()\n",
        "\n",
        "# adding a grid\n",
        "plt.grid(True)\n",
        "\n",
        "# Automatically adjust subplot parameters to give specified padding.\n",
        "plt.tight_layout()\n",
        "plt.show()"
      ],
      "execution_count": null,
      "outputs": [
        {
          "data": {
            "image/png": "[encoded data removed]",
            "text/plain": [
              "<Figure size 432x288 with 1 Axes>"
            ]
          },
          "metadata": {},
          "output_type": "display_data"
        }
      ]
    },
    {
      "cell_type": "code",
      "metadata": {
        "ExecuteTime": {
          "end_time": "2019-12-25T12:41:48.140911Z",
          "start_time": "2019-12-25T12:41:47.838569Z"
        },
        "id": "9fmcBZFX4TTm",
        "outputId": "c1fbd18c-8378-41f8-81da-c1dcac1d7aaa"
      },
      "source": [
        "# using xkcd format\n",
        "\n",
        "plt.xkcd()\n",
        "plt.plot(ages_x, py_dev_y, linewidth=3, label='Python')\n",
        "plt.plot(ages_x, js_dev_y, linewidth=3, label='JavaScript')\n",
        "plt.plot(ages_x, dev_y, color='#444444', linestyle='--', label='All Devs')\n",
        "plt.xlabel(\"Ages\")\n",
        "plt.ylabel(\"Median Salary (USD)\")\n",
        "plt.title(\"Median Salary (USD) by Age\")\n",
        "plt.legend()\n",
        "plt.grid(True)\n",
        "plt.tight_layout()\n",
        "# saving file\n",
        "plt.savefig(r'plots/plot1-1.png')"
      ],
      "execution_count": null,
      "outputs": [
        {
          "data": {
            "image/png": "[encoded data removed]",
            "text/plain": [
              "<Figure size 432x288 with 1 Axes>"
            ]
          },
          "metadata": {},
          "output_type": "display_data"
        }
      ]
    },
    {
      "cell_type": "code",
      "metadata": {
        "ExecuteTime": {
          "end_time": "2019-12-25T12:41:48.151882Z",
          "start_time": "2019-12-25T12:41:48.141910Z"
        },
        "id": "w5aNwL754TTn"
      },
      "source": [
        "# ages 18-55\n",
        "\n",
        "# Ages 18 to 55\n",
        "ages_x = [18, 19, 20, 21, 22, 23, 24, 25, 26, 27, 28, 29, 30, 31, 32, 33, 34, 35,\n",
        "          36, 37, 38, 39, 40, 41, 42, 43, 44, 45, 46, 47, 48, 49, 50, 51, 52, 53, 54, 55]\n",
        "\n",
        "py_dev_y = [20046, 17100, 20000, 24744, 30500, 37732, 41247, 45372, 48876, 53850, 57287, 63016, 65998, 70003, 70000, 71496, 75370, 83640, 84666,\n",
        "            84392, 78254, 85000, 87038, 91991, 100000, 94796, 97962, 93302, 99240, 102736, 112285, 100771, 104708, 108423, 101407, 112542, 122870, 120000]\n",
        "\n",
        "js_dev_y = [16446, 16791, 18942, 21780, 25704, 29000, 34372, 37810, 43515, 46823, 49293, 53437, 56373, 62375, 66674, 68745, 68746, 74583, 79000,\n",
        "            78508, 79996, 80403, 83820, 88833, 91660, 87892, 96243, 90000, 99313, 91660, 102264, 100000, 100000, 91660, 99240, 108000, 105000, 104000]\n",
        "\n",
        "dev_y = [17784, 16500, 18012, 20628, 25206, 30252, 34368, 38496, 42000, 46752, 49320, 53200, 56000, 62316, 64928, 67317, 68748, 73752, 77232,\n",
        "         78000, 78508, 79536, 82488, 88935, 90000, 90056, 95000, 90000, 91633, 91660, 98150, 98964, 100000, 98988, 100000, 108923, 105000, 103117]"
      ],
      "execution_count": null,
      "outputs": []
    },
    {
      "cell_type": "code",
      "metadata": {
        "ExecuteTime": {
          "end_time": "2019-12-25T12:41:48.641876Z",
          "start_time": "2019-12-25T12:41:48.152880Z"
        },
        "id": "4MLlxTly4TTo",
        "outputId": "832934b6-8721-4840-b50b-896f603254c5"
      },
      "source": [
        "plt.plot(ages_x, py_dev_y, linewidth=3, label='Python')\n",
        "plt.plot(ages_x, js_dev_y, linewidth=3, label='JavaScript')\n",
        "plt.plot(ages_x, dev_y, color='#444444', linestyle='--', label='All Devs')\n",
        "plt.xlabel(\"Ages\")\n",
        "plt.ylabel(\"Median Salary (USD)\")\n",
        "plt.title(\"Median Salary (USD) by Age\")\n",
        "plt.legend()\n",
        "plt.grid(True)\n",
        "plt.tight_layout()\n",
        "plt.savefig(r'plots/plot1-2.png')"
      ],
      "execution_count": null,
      "outputs": [
        {
          "data": {
            "image/png": "[encoded data removed]",
            "text/plain": [
              "<Figure size 432x288 with 1 Axes>"
            ]
          },
          "metadata": {},
          "output_type": "display_data"
        }
      ]
    }
  ]
}