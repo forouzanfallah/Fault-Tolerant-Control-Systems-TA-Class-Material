{
  "nbformat": 4,
  "nbformat_minor": 0,
  "metadata": {
    "kernelspec": {
      "display_name": "Python 3",
      "language": "python",
      "name": "python3"
    },
    "language_info": {
      "codemirror_mode": {
        "name": "ipython",
        "version": 3
      },
      "file_extension": ".py",
      "mimetype": "text/x-python",
      "name": "python",
      "nbconvert_exporter": "python",
      "pygments_lexer": "ipython3",
      "version": "3.6.5"
    },
    "colab": {
      "name": "Session1_Python3_Cheatsheet.ipynb",
      "provenance": [],
      "collapsed_sections": [
        "bxt3AgF6gZHv",
        "TfcoCuYngigP",
        "6tM5KG0shPv9",
        "W_1n9aIIhR99",
        "ROnYOwDmhTsG",
        "0GuiwAZ3vWkx"
      ],
      "include_colab_link": true
    }
  },
  "cells": [
    {
      "cell_type": "markdown",
      "metadata": {
        "id": "view-in-github",
        "colab_type": "text"
      },
      "source": [
        "<a href=\"https://colab.research.google.com/github/forouzanfallah/Fault-Tolerant-Control-Systems-TA-Class-Material/blob/main/Session1_Python3_Cheatsheet.ipynb\" target=\"_parent\"><img src=\"https://colab.research.google.com/assets/colab-badge.svg\" alt=\"Open In Colab\"/></a>"
      ]
    },
    {
      "cell_type": "markdown",
      "metadata": {
        "id": "GuvD9z_bTra8"
      },
      "source": [
        "**  Exponent\t2 ** 3 = 8\n",
        "\n",
        "% Modulus/Remainder\t22 % 8 = 6\n",
        "\n",
        "//  Integer division\t22 // 8 = 2\n",
        "\n",
        "/\tDivision\t22 / 8 = 2.75\n",
        "\n",
        "\"*\"\tMultiplication\t3 * 3 = 9\n",
        "\n",
        "\"-\"\tSubtraction\t5 - 2 = 3\n",
        "\n",
        "\"+\"\tAddition\t2 + 2 = 4"
      ]
    },
    {
      "cell_type": "code",
      "metadata": {
        "id": "f88tvTBvquVw"
      },
      "source": [
        "a = \"a\""
      ],
      "execution_count": null,
      "outputs": []
    },
    {
      "cell_type": "code",
      "metadata": {
        "colab": {
          "base_uri": "https://localhost:8080/"
        },
        "id": "cO3UmpAUqhwP",
        "outputId": "12071741-e003-4ab9-8aab-2e9fe372a50a"
      },
      "source": [
        "2**4 #exponent numbers"
      ],
      "execution_count": null,
      "outputs": [
        {
          "output_type": "execute_result",
          "data": {
            "text/plain": [
              "16"
            ]
          },
          "metadata": {},
          "execution_count": 60
        }
      ]
    },
    {
      "cell_type": "code",
      "metadata": {
        "colab": {
          "base_uri": "https://localhost:8080/",
          "height": 35
        },
        "id": "gSxuztRQTche",
        "outputId": "d4a5deba-dc16-4537-fa4e-816d461ba395"
      },
      "source": [
        "'Alice ' * 5"
      ],
      "execution_count": null,
      "outputs": [
        {
          "output_type": "execute_result",
          "data": {
            "application/vnd.google.colaboratory.intrinsic+json": {
              "type": "string"
            },
            "text/plain": [
              "'Alice Alice Alice Alice Alice '"
            ]
          },
          "metadata": {},
          "execution_count": 63
        }
      ]
    },
    {
      "cell_type": "code",
      "metadata": {
        "colab": {
          "base_uri": "https://localhost:8080/"
        },
        "id": "3ACFxhmWd4iD",
        "outputId": "72803926-843f-4104-a9ce-57cb68662a6c"
      },
      "source": [
        "print(\"Hello there!\\nHow are you?\\tI\\'m doing fine.\\\\\")"
      ],
      "execution_count": null,
      "outputs": [
        {
          "output_type": "stream",
          "name": "stdout",
          "text": [
            "Hello there!\n",
            "How are you?\tI'm doing fine.\\\n"
          ]
        }
      ]
    },
    {
      "cell_type": "code",
      "metadata": {
        "colab": {
          "base_uri": "https://localhost:8080/"
        },
        "id": "iVDfL7_TUNXx",
        "outputId": "137a46bb-cb8f-4fc2-a65a-85beb8f6ff52"
      },
      "source": [
        "print('What is your name?')\n",
        "myName = input()\n",
        "print('It is good to meet you, {}'.format(myName))"
      ],
      "execution_count": null,
      "outputs": [
        {
          "output_type": "stream",
          "name": "stdout",
          "text": [
            "What is your name?\n",
            "forouzan\n",
            "It is good to meet you, forouzan\n"
          ]
        }
      ]
    },
    {
      "cell_type": "code",
      "metadata": {
        "colab": {
          "base_uri": "https://localhost:8080/"
        },
        "id": "zWs-3RrTUPIS",
        "outputId": "d102fd7f-4c4c-44a8-f952-fcee4f194c59"
      },
      "source": [
        "len([1, 2, 3])"
      ],
      "execution_count": null,
      "outputs": [
        {
          "output_type": "execute_result",
          "data": {
            "text/plain": [
              "3"
            ]
          },
          "metadata": {},
          "execution_count": 67
        }
      ]
    },
    {
      "cell_type": "code",
      "metadata": {
        "id": "skNXIPZIuP61"
      },
      "source": [
        "a=2"
      ],
      "execution_count": null,
      "outputs": []
    },
    {
      "cell_type": "code",
      "metadata": {
        "colab": {
          "base_uri": "https://localhost:8080/"
        },
        "id": "Gk6BvhAnuLfE",
        "outputId": "17a7c8a8-32a7-4831-982d-859e9e9d633a"
      },
      "source": [
        "a==1"
      ],
      "execution_count": null,
      "outputs": [
        {
          "output_type": "execute_result",
          "data": {
            "text/plain": [
              "False"
            ]
          },
          "metadata": {},
          "execution_count": 73
        }
      ]
    },
    {
      "cell_type": "code",
      "metadata": {
        "id": "PEhVEQkCUW5l"
      },
      "source": [
        "a = 1\n",
        "if a==2:\n",
        "  print(\"yes\")\n",
        "  print(\"the list is not empty!\")"
      ],
      "execution_count": null,
      "outputs": []
    },
    {
      "cell_type": "markdown",
      "metadata": {
        "id": "hawcbmW4UhO8"
      },
      "source": [
        "==\tEqual to\n",
        "\n",
        "!=\tNot equal to\n",
        "\n",
        "\"<\"\tLess than\n",
        "\n",
        "\">\"\tGreater Than\n",
        "\n",
        "\"<=\"\tLess than or Equal to\n",
        "\n",
        "\">=\"\tGreater than or Equal to"
      ]
    },
    {
      "cell_type": "code",
      "metadata": {
        "id": "VVx51C_rU7AJ",
        "colab": {
          "base_uri": "https://localhost:8080/"
        },
        "outputId": "f7991279-6ece-47a9-ae52-492e76755b72"
      },
      "source": [
        "name = 'Alice'\n",
        "if name == 'Alice':\n",
        "    print('Hi, Alice.')"
      ],
      "execution_count": null,
      "outputs": [
        {
          "output_type": "stream",
          "name": "stdout",
          "text": [
            "Hi, Alice.\n"
          ]
        }
      ]
    },
    {
      "cell_type": "code",
      "metadata": {
        "colab": {
          "base_uri": "https://localhost:8080/"
        },
        "id": "IwZ6lzGYU9nu",
        "outputId": "59e90755-611d-4e96-c9d5-eeb7d7f15d51"
      },
      "source": [
        "name = 'bob'\n",
        "age = 11\n",
        "if name == 'Alice':\n",
        "    print('Hi, Alice.')\n",
        "  elif age < 12:\n",
        "    print('You are not Alice, kiddo.')\n",
        "else:\n",
        "    print('You are neither Alice nor a little kid.')"
      ],
      "execution_count": null,
      "outputs": [
        {
          "output_type": "stream",
          "name": "stdout",
          "text": [
            "You are not Alice, kiddo.\n"
          ]
        }
      ]
    },
    {
      "cell_type": "code",
      "metadata": {
        "colab": {
          "base_uri": "https://localhost:8080/",
          "height": 35
        },
        "id": "41zSoC5lUZlh",
        "outputId": "03d81c20-b257-4fd0-c26d-dceaca937bd8"
      },
      "source": [
        "str(29)"
      ],
      "execution_count": null,
      "outputs": [
        {
          "output_type": "execute_result",
          "data": {
            "application/vnd.google.colaboratory.intrinsic+json": {
              "type": "string"
            },
            "text/plain": [
              "'29'"
            ]
          },
          "metadata": {},
          "execution_count": 82
        }
      ]
    },
    {
      "cell_type": "code",
      "metadata": {
        "colab": {
          "base_uri": "https://localhost:8080/"
        },
        "id": "23yxiXJeUeOB",
        "outputId": "95ede59b-b20c-4533-e7b7-f9d5c1395559"
      },
      "source": [
        "int(7.7)"
      ],
      "execution_count": null,
      "outputs": [
        {
          "output_type": "execute_result",
          "data": {
            "text/plain": [
              "7"
            ]
          },
          "metadata": {},
          "execution_count": 83
        }
      ]
    },
    {
      "cell_type": "code",
      "metadata": {
        "colab": {
          "base_uri": "https://localhost:8080/"
        },
        "id": "GCKmQAgqUrEJ",
        "outputId": "549bf6b7-fe79-49be-ad03-8a286d9ee1cb"
      },
      "source": [
        "'dog' != 'cat'"
      ],
      "execution_count": null,
      "outputs": [
        {
          "output_type": "execute_result",
          "data": {
            "text/plain": [
              "True"
            ]
          },
          "metadata": {},
          "execution_count": 24
        }
      ]
    },
    {
      "cell_type": "code",
      "metadata": {
        "colab": {
          "base_uri": "https://localhost:8080/"
        },
        "id": "4NnCQCZNUumx",
        "outputId": "6d2dfbd0-2143-4b59-d08d-0ee729657c28"
      },
      "source": [
        "42 == 42.0"
      ],
      "execution_count": null,
      "outputs": [
        {
          "output_type": "execute_result",
          "data": {
            "text/plain": [
              "True"
            ]
          },
          "metadata": {},
          "execution_count": 25
        }
      ]
    },
    {
      "cell_type": "code",
      "metadata": {
        "colab": {
          "base_uri": "https://localhost:8080/"
        },
        "id": "3H3WyJ52Uv3D",
        "outputId": "3026c98e-375e-4b3a-e545-9bc99ead607a"
      },
      "source": [
        "42 == '42'"
      ],
      "execution_count": null,
      "outputs": [
        {
          "output_type": "execute_result",
          "data": {
            "text/plain": [
              "False"
            ]
          },
          "metadata": {},
          "execution_count": 26
        }
      ]
    },
    {
      "cell_type": "code",
      "metadata": {
        "colab": {
          "base_uri": "https://localhost:8080/"
        },
        "id": "gbrGoCtUU2Zh",
        "outputId": "71679fe5-f2a3-4483-dc69-1ea0d593ca1a"
      },
      "source": [
        "(4 < 5) and (5 < 6)"
      ],
      "execution_count": null,
      "outputs": [
        {
          "output_type": "execute_result",
          "data": {
            "text/plain": [
              "True"
            ]
          },
          "metadata": {},
          "execution_count": 27
        }
      ]
    },
    {
      "cell_type": "code",
      "metadata": {
        "colab": {
          "base_uri": "https://localhost:8080/"
        },
        "id": "a1E_1IgCU3hB",
        "outputId": "fcea19f2-e03b-447c-9f75-49d93dec0a5b"
      },
      "source": [
        "(1 == 2) or (2 == 2)"
      ],
      "execution_count": null,
      "outputs": [
        {
          "output_type": "execute_result",
          "data": {
            "text/plain": [
              "True"
            ]
          },
          "metadata": {},
          "execution_count": 28
        }
      ]
    },
    {
      "cell_type": "code",
      "metadata": {
        "colab": {
          "base_uri": "https://localhost:8080/"
        },
        "id": "bIMEzZM3U_i5",
        "outputId": "f810a4d8-e6a4-422f-bb21-5f0f552992a0"
      },
      "source": [
        "spam = 0\n",
        "while spam < 5:\n",
        "    print('Hello, world.')\n",
        "    spam = spam + 1"
      ],
      "execution_count": null,
      "outputs": [
        {
          "output_type": "stream",
          "name": "stdout",
          "text": [
            "Hello, world.\n",
            "Hello, world.\n",
            "Hello, world.\n",
            "Hello, world.\n",
            "Hello, world.\n"
          ]
        }
      ]
    },
    {
      "cell_type": "code",
      "metadata": {
        "id": "lhithd_bvpsK"
      },
      "source": [
        "if a> b:\n",
        "  pass"
      ],
      "execution_count": null,
      "outputs": []
    },
    {
      "cell_type": "code",
      "metadata": {
        "id": "7GS43QPWVAkh"
      },
      "source": [
        "while True:\n",
        "    print('Who are you?')\n",
        "    name = input()\n",
        "    if name != 'Joe':\n",
        "        # continue\n",
        "        print('Hello, Joe. What is the password? (It is a fish.)')\n",
        "    password = input()\n",
        "    if password == '123':\n",
        "        break\n",
        "print('Access granted.')"
      ],
      "execution_count": null,
      "outputs": []
    },
    {
      "cell_type": "code",
      "metadata": {
        "colab": {
          "base_uri": "https://localhost:8080/"
        },
        "id": "MZtsVyZSVMLQ",
        "outputId": "78e931e1-bef7-4c89-b54f-e52cf8cbf3a5"
      },
      "source": [
        "for i in range(4,10,2):\n",
        "  print(i)\n"
      ],
      "execution_count": null,
      "outputs": [
        {
          "output_type": "stream",
          "name": "stdout",
          "text": [
            "4\n",
            "6\n",
            "8\n"
          ]
        }
      ]
    },
    {
      "cell_type": "code",
      "metadata": {
        "id": "PFwlwcgyVVqZ"
      },
      "source": [
        "for i in [1, 2, 3, 4, 5]:\n",
        "  if i == 3:\n",
        "    break\n",
        "else:\n",
        "  print(\"only executed when no item of the list is equal to 3\")"
      ],
      "execution_count": null,
      "outputs": []
    },
    {
      "cell_type": "code",
      "metadata": {
        "colab": {
          "base_uri": "https://localhost:8080/"
        },
        "id": "cCJTw0oaVfyx",
        "outputId": "4661a2f7-3815-4474-ea09-c32e3d581a12"
      },
      "source": [
        "import random\n",
        "for i in range(5):\n",
        "    print(random.randint(1, 10))"
      ],
      "execution_count": null,
      "outputs": [
        {
          "output_type": "stream",
          "name": "stdout",
          "text": [
            "3\n",
            "10\n",
            "4\n",
            "1\n",
            "8\n"
          ]
        }
      ]
    },
    {
      "cell_type": "code",
      "metadata": {
        "id": "vrBmLklHyy6p"
      },
      "source": [
        "def myfunction(a,b):\n",
        "  return(a+b)"
      ],
      "execution_count": null,
      "outputs": []
    },
    {
      "cell_type": "code",
      "metadata": {
        "id": "qctX6iZcy41h"
      },
      "source": [
        "a= myfunction(1,2)"
      ],
      "execution_count": null,
      "outputs": []
    },
    {
      "cell_type": "code",
      "metadata": {
        "colab": {
          "base_uri": "https://localhost:8080/"
        },
        "id": "sTLjV6wRzBGx",
        "outputId": "37685445-a3ed-415d-c2cf-da186a4fdb27"
      },
      "source": [
        "a"
      ],
      "execution_count": null,
      "outputs": [
        {
          "output_type": "execute_result",
          "data": {
            "text/plain": [
              "3"
            ]
          },
          "metadata": {},
          "execution_count": 101
        }
      ]
    },
    {
      "cell_type": "code",
      "metadata": {
        "colab": {
          "base_uri": "https://localhost:8080/"
        },
        "id": "vfdeyPx2XOWJ",
        "outputId": "536a7063-97bb-4b52-cce9-f7a7f91d6f69"
      },
      "source": [
        "import random\n",
        "def getAnswer(answerNumber):\n",
        "    if answerNumber == 1:\n",
        "        return '1'\n",
        "    elif answerNumber == 2:\n",
        "        return '2'\n",
        "    elif answerNumber == 3:\n",
        "        return '3'\n",
        "    elif answerNumber == 4:\n",
        "        return '4'\n",
        "\n",
        "\n",
        "r = random.randint(1, 4)\n",
        "print(getAnswer(r)) \n"
      ],
      "execution_count": null,
      "outputs": [
        {
          "output_type": "stream",
          "name": "stdout",
          "text": [
            "2\n"
          ]
        }
      ]
    },
    {
      "cell_type": "code",
      "metadata": {
        "colab": {
          "base_uri": "https://localhost:8080/"
        },
        "id": "zl0mZaQFXTmd",
        "outputId": "75276e14-fb79-4f7d-eb24-d4f4ce76dab5"
      },
      "source": [
        "print('Hello', end='')\n",
        "print('World')"
      ],
      "execution_count": null,
      "outputs": [
        {
          "output_type": "stream",
          "name": "stdout",
          "text": [
            "HelloWorld\n"
          ]
        }
      ]
    },
    {
      "cell_type": "code",
      "metadata": {
        "colab": {
          "base_uri": "https://localhost:8080/"
        },
        "id": "GyxvlZcSXWqt",
        "outputId": "ac14661e-5fdc-419f-aadc-4528dab01b7e"
      },
      "source": [
        "print('cats', 'dogs', 'mice', sep=',')"
      ],
      "execution_count": null,
      "outputs": [
        {
          "output_type": "stream",
          "name": "stdout",
          "text": [
            "cats,dogs,mice\n"
          ]
        }
      ]
    },
    {
      "cell_type": "code",
      "metadata": {
        "id": "4uraLXPXXg0u"
      },
      "source": [
        "def spam(divideBy):\n",
        "  try:\n",
        "    return 42 / divideBy\n",
        "  except ZeroDivisionError as e:\n",
        "    print('Error: Invalid argument: {}'.format(e))\n",
        "  finally:\n",
        "    print(\"-- division finished --\")"
      ],
      "execution_count": null,
      "outputs": []
    },
    {
      "cell_type": "code",
      "metadata": {
        "colab": {
          "base_uri": "https://localhost:8080/"
        },
        "id": "T0GjAtk41PxO",
        "outputId": "3c329bc8-6f5e-40ff-a243-c63872fb1d69"
      },
      "source": [
        "spam(6)"
      ],
      "execution_count": null,
      "outputs": [
        {
          "output_type": "stream",
          "name": "stdout",
          "text": [
            "-- division finished --\n"
          ]
        },
        {
          "output_type": "execute_result",
          "data": {
            "text/plain": [
              "7.0"
            ]
          },
          "metadata": {},
          "execution_count": 105
        }
      ]
    },
    {
      "cell_type": "code",
      "metadata": {
        "id": "zZ5PN5gLXuC_"
      },
      "source": [
        "spam = ['cat', 'bat', 'rat', 'elephant','ant','bee']"
      ],
      "execution_count": null,
      "outputs": []
    },
    {
      "cell_type": "code",
      "metadata": {
        "colab": {
          "base_uri": "https://localhost:8080/",
          "height": 35
        },
        "id": "DN-gvo39Xv0b",
        "outputId": "0e6f35d1-a790-4e98-b7a4-50d04a98ebbf"
      },
      "source": [
        "spam[0]"
      ],
      "execution_count": null,
      "outputs": [
        {
          "output_type": "execute_result",
          "data": {
            "application/vnd.google.colaboratory.intrinsic+json": {
              "type": "string"
            },
            "text/plain": [
              "'cat'"
            ]
          },
          "metadata": {},
          "execution_count": 45
        }
      ]
    },
    {
      "cell_type": "code",
      "metadata": {
        "id": "MwINNPg01oAV"
      },
      "source": [
        "a= [1,2,3,4]"
      ],
      "execution_count": null,
      "outputs": []
    },
    {
      "cell_type": "code",
      "metadata": {
        "id": "oyDCC2jp1tY1"
      },
      "source": [
        "import numpy as np"
      ],
      "execution_count": null,
      "outputs": []
    },
    {
      "cell_type": "code",
      "metadata": {
        "colab": {
          "base_uri": "https://localhost:8080/"
        },
        "id": "fmd742MJ1q4t",
        "outputId": "aad1aea6-5f33-4d6b-e056-3c23be4b0ab3"
      },
      "source": [
        "np.mean(a)"
      ],
      "execution_count": null,
      "outputs": [
        {
          "output_type": "execute_result",
          "data": {
            "text/plain": [
              "2.5"
            ]
          },
          "metadata": {},
          "execution_count": 109
        }
      ]
    },
    {
      "cell_type": "code",
      "metadata": {
        "id": "CWHeHfNW194c"
      },
      "source": [
        "import random"
      ],
      "execution_count": null,
      "outputs": []
    },
    {
      "cell_type": "code",
      "metadata": {
        "id": "wzv7GY3l2l-U"
      },
      "source": [
        "a=[]"
      ],
      "execution_count": null,
      "outputs": []
    },
    {
      "cell_type": "code",
      "metadata": {
        "id": "whsxdMWn1_-Q"
      },
      "source": [
        "for i in range(1000):\n",
        "  a.append(30+random.random())"
      ],
      "execution_count": null,
      "outputs": []
    },
    {
      "cell_type": "code",
      "metadata": {
        "colab": {
          "base_uri": "https://localhost:8080/",
          "height": 35
        },
        "id": "PrbFkCd8Xxkc",
        "outputId": "ac47ce48-17f1-4a9a-fdac-a9bd3472aaaa"
      },
      "source": [
        "spam[-1]"
      ],
      "execution_count": null,
      "outputs": [
        {
          "output_type": "execute_result",
          "data": {
            "application/vnd.google.colaboratory.intrinsic+json": {
              "type": "string"
            },
            "text/plain": [
              "'bee'"
            ]
          },
          "metadata": {},
          "execution_count": 46
        }
      ]
    },
    {
      "cell_type": "code",
      "metadata": {
        "colab": {
          "base_uri": "https://localhost:8080/"
        },
        "id": "RUYpIIErX0ky",
        "outputId": "4a7e70b8-97ce-4aa0-f0d3-3d53e8074d54"
      },
      "source": [
        "spam[0:4]"
      ],
      "execution_count": null,
      "outputs": [
        {
          "output_type": "execute_result",
          "data": {
            "text/plain": [
              "['cat', 'bat', 'rat', 'elephant']"
            ]
          },
          "metadata": {},
          "execution_count": 43
        }
      ]
    },
    {
      "cell_type": "code",
      "metadata": {
        "colab": {
          "base_uri": "https://localhost:8080/"
        },
        "id": "t3TMvLiTX31s",
        "outputId": "2425db43-fd6d-4ebe-ba7d-9f64dd434ba9"
      },
      "source": [
        "spam[0:-1]"
      ],
      "execution_count": null,
      "outputs": [
        {
          "output_type": "execute_result",
          "data": {
            "text/plain": [
              "['cat', 'bat', 'rat', 'elephant', 'ant']"
            ]
          },
          "metadata": {},
          "execution_count": 47
        }
      ]
    },
    {
      "cell_type": "code",
      "metadata": {
        "colab": {
          "base_uri": "https://localhost:8080/"
        },
        "id": "ocJD2mAbX5SM",
        "outputId": "014dc7d4-4844-49f6-ddd4-4695e031a3c2"
      },
      "source": [
        "spam[1:]"
      ],
      "execution_count": null,
      "outputs": [
        {
          "output_type": "execute_result",
          "data": {
            "text/plain": [
              "['bat', 'rat', 'elephant', 'ant', 'bee']"
            ]
          },
          "metadata": {},
          "execution_count": 48
        }
      ]
    },
    {
      "cell_type": "code",
      "metadata": {
        "colab": {
          "base_uri": "https://localhost:8080/"
        },
        "id": "IOC69u6SX6eM",
        "outputId": "ec37703b-8900-4e94-f668-18c886484272"
      },
      "source": [
        "spam[:2]"
      ],
      "execution_count": null,
      "outputs": [
        {
          "output_type": "execute_result",
          "data": {
            "text/plain": [
              "['cat', 'bat']"
            ]
          },
          "metadata": {},
          "execution_count": 49
        }
      ]
    },
    {
      "cell_type": "code",
      "metadata": {
        "id": "i_SGXkH9YDMI"
      },
      "source": [
        "spam.append('dog')"
      ],
      "execution_count": null,
      "outputs": []
    },
    {
      "cell_type": "code",
      "metadata": {
        "id": "S3AO7ZexY4r-"
      },
      "source": [
        "spam.insert(1, 'chicken')"
      ],
      "execution_count": null,
      "outputs": []
    },
    {
      "cell_type": "code",
      "metadata": {
        "id": "NR9yC5nZYDFJ"
      },
      "source": [
        "spam[1] = 'aardvark'"
      ],
      "execution_count": null,
      "outputs": []
    },
    {
      "cell_type": "code",
      "metadata": {
        "colab": {
          "base_uri": "https://localhost:8080/"
        },
        "id": "UXEw4zSYYH71",
        "outputId": "9496e4b9-22d5-4e74-d91a-230487dd6b0c"
      },
      "source": [
        "[1, 2, 3] + ['A', 'B', 'C']"
      ],
      "execution_count": null,
      "outputs": [
        {
          "output_type": "execute_result",
          "data": {
            "text/plain": [
              "[1, 2, 3, 'A', 'B', 'C']"
            ]
          },
          "metadata": {},
          "execution_count": 53
        }
      ]
    },
    {
      "cell_type": "code",
      "metadata": {
        "colab": {
          "base_uri": "https://localhost:8080/"
        },
        "id": "p7iWkpHyYJQe",
        "outputId": "023e6089-b6f1-46f9-807c-aee8d239b9a0"
      },
      "source": [
        "['X', 'Y', 'Z'] * 3"
      ],
      "execution_count": null,
      "outputs": [
        {
          "output_type": "execute_result",
          "data": {
            "text/plain": [
              "['X', 'Y', 'Z', 'X', 'Y', 'Z', 'X', 'Y', 'Z']"
            ]
          },
          "metadata": {},
          "execution_count": 54
        }
      ]
    },
    {
      "cell_type": "code",
      "metadata": {
        "id": "pZ7gumElYKzm"
      },
      "source": [
        "del spam[2]"
      ],
      "execution_count": null,
      "outputs": []
    },
    {
      "cell_type": "code",
      "metadata": {
        "id": "HWlYqfpXY6y1"
      },
      "source": [
        "spam.remove('ant')"
      ],
      "execution_count": null,
      "outputs": []
    },
    {
      "cell_type": "code",
      "metadata": {
        "colab": {
          "base_uri": "https://localhost:8080/"
        },
        "id": "onZY-5hSYQ8i",
        "outputId": "c0384646-91dc-4b3d-f784-cfaadff08c5e"
      },
      "source": [
        "supplies = ['pens', 'staplers', 'flame-throwers', 'binders']\n",
        "for i, supply in enumerate(supplies):\n",
        "  print('Index {} in supplies is: {}'.format(str(i), supply))"
      ],
      "execution_count": null,
      "outputs": [
        {
          "output_type": "stream",
          "name": "stdout",
          "text": [
            "Index 0 in supplies is: pens\n",
            "Index 1 in supplies is: staplers\n",
            "Index 2 in supplies is: flame-throwers\n",
            "Index 3 in supplies is: binders\n"
          ]
        }
      ]
    },
    {
      "cell_type": "code",
      "metadata": {
        "colab": {
          "base_uri": "https://localhost:8080/"
        },
        "id": "H8rVX5dKYU-r",
        "outputId": "cf2a810a-93f7-45e0-bfc0-d7ae54b47692"
      },
      "source": [
        "name = ['Pete', 'John', 'Elizabeth']\n",
        "age = [6, 23, 44]\n",
        "for n, a in zip(name, age):\n",
        "  print('{} is {} years old'.format(n, a))"
      ],
      "execution_count": null,
      "outputs": [
        {
          "output_type": "stream",
          "name": "stdout",
          "text": [
            "Pete is 6 years old\n",
            "John is 23 years old\n",
            "Elizabeth is 44 years old\n"
          ]
        }
      ]
    },
    {
      "cell_type": "markdown",
      "metadata": {
        "id": "qrVVwYvbYd5I"
      },
      "source": [
        "spam += 1\t    ...        spam = spam + 1\n",
        "\n",
        "spam -= 1\t     ...       spam = spam - 1\n",
        "\n",
        "spam *= 1\t      ...      spam = spam * 1\n",
        "\n",
        "spam /= 1\t     ...      spam = spam / 1\n",
        "\n",
        "spam %= 1\t     ...       spam = spam % 1"
      ]
    },
    {
      "cell_type": "code",
      "metadata": {
        "id": "qLsL6dm0Ydk1"
      },
      "source": [
        "spam.index('Pooka')"
      ],
      "execution_count": null,
      "outputs": []
    },
    {
      "cell_type": "code",
      "metadata": {
        "id": "lJnzVCq4Y82m"
      },
      "source": [
        "spam = [2, 5, 3.14, 1, -7]\n",
        "spam.sort()"
      ],
      "execution_count": null,
      "outputs": []
    },
    {
      "cell_type": "code",
      "metadata": {
        "id": "_ZQgABukY_dN"
      },
      "source": [
        "spam = ['ants', 'cats', 'dogs', 'badgers', 'elephants']\n",
        "spam.sort()"
      ],
      "execution_count": null,
      "outputs": []
    },
    {
      "cell_type": "code",
      "metadata": {
        "id": "ydyW34aJZG59"
      },
      "source": [
        "sorted(spam)"
      ],
      "execution_count": null,
      "outputs": []
    },
    {
      "cell_type": "code",
      "metadata": {
        "id": "pPRcSg02ZBqQ"
      },
      "source": [
        "spam.sort(reverse=True)"
      ],
      "execution_count": null,
      "outputs": []
    },
    {
      "cell_type": "code",
      "metadata": {
        "id": "oToWRaRiZeS3"
      },
      "source": [
        "list('hello')"
      ],
      "execution_count": null,
      "outputs": []
    },
    {
      "cell_type": "code",
      "metadata": {
        "id": "jTwdpoc0ZftF"
      },
      "source": [
        "list(('cat', 'dog', 5))"
      ],
      "execution_count": null,
      "outputs": []
    },
    {
      "cell_type": "code",
      "metadata": {
        "id": "R09IyUYpZkaw"
      },
      "source": [
        "spam = {'color': 'red', 'age': 42}\n",
        "for v in spam.values():\n",
        "  print(v)\n"
      ],
      "execution_count": null,
      "outputs": []
    },
    {
      "cell_type": "code",
      "metadata": {
        "id": "399UaMxpZtWo"
      },
      "source": [
        "for k in spam.keys():\n",
        "  print(k)"
      ],
      "execution_count": null,
      "outputs": []
    },
    {
      "cell_type": "code",
      "metadata": {
        "id": "8SqrqxeIZrr3"
      },
      "source": [
        "for i in spam.items():\n",
        "  print(i)"
      ],
      "execution_count": null,
      "outputs": []
    },
    {
      "cell_type": "code",
      "metadata": {
        "colab": {
          "base_uri": "https://localhost:8080/"
        },
        "id": "l--i0wA7Z46M",
        "outputId": "bd1cba16-681b-4bcd-8a7b-4eeadcfb143f"
      },
      "source": [
        "spam = {'name': 'Pooka', 'age': 5}\n",
        "\n",
        "if 'color' not in spam:\n",
        "    spam['color'] = 'black'\n",
        "spam"
      ],
      "execution_count": null,
      "outputs": [
        {
          "output_type": "execute_result",
          "data": {
            "text/plain": [
              "{'age': 5, 'color': 'black', 'name': 'Pooka'}"
            ]
          },
          "metadata": {},
          "execution_count": 5
        }
      ]
    },
    {
      "cell_type": "code",
      "metadata": {
        "id": "LmtnoUeGZ6sl"
      },
      "source": [
        "x = {'a': 1, 'b': 2}\n",
        "y = {'b': 3, 'c': 4}\n",
        "z = {**x, **y}"
      ],
      "execution_count": null,
      "outputs": []
    },
    {
      "cell_type": "code",
      "metadata": {
        "id": "mgv2vgYBdypV"
      },
      "source": [
        "a = [1, 3, 5, 7, 9, 11]\n",
        "\n",
        "[i - 1 for i in a]"
      ],
      "execution_count": null,
      "outputs": []
    },
    {
      "cell_type": "code",
      "metadata": {
        "id": "IDcBRyDfe0nD"
      },
      "source": [
        "from google.colab import drive\n",
        "drive.mount('/content/drive')"
      ],
      "execution_count": null,
      "outputs": []
    },
    {
      "cell_type": "code",
      "metadata": {
        "id": "bW54IWiue76g"
      },
      "source": [
        "import zipfile\n",
        "zip_ref = zipfile.ZipFile(os.path.join(os.getcwd(), \"/content/drive/MyDrive/tepcsv/fault_free_testing.csv.zip\"), 'r')\n",
        "zip_ref.extractall()\n",
        "zip_ref.close()"
      ],
      "execution_count": null,
      "outputs": []
    }
  ]
}