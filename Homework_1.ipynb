{
  "nbformat": 4,
  "nbformat_minor": 0,
  "metadata": {
    "colab": {
      "name": "Homework#1.ipynb",
      "provenance": [],
      "collapsed_sections": [
        "XNVJbioFRPAc",
        "yDvXfqSLRB8E",
        "RpXuLywKRGlk",
        "Hc0WWzWjRIOc"
      ],
      "include_colab_link": true
    },
    "kernelspec": {
      "name": "python3",
      "display_name": "Python 3"
    },
    "language_info": {
      "name": "python"
    }
  },
  "cells": [
    {
      "cell_type": "markdown",
      "metadata": {
        "id": "view-in-github",
        "colab_type": "text"
      },
      "source": [
        "<a href=\"https://colab.research.google.com/github/forouzanfallah/Fault-Tolerant-Control-Systems-TA-Class-Material/blob/main/Homework_1.ipynb\" target=\"_parent\"><img src=\"https://colab.research.google.com/assets/colab-badge.svg\" alt=\"Open In Colab\"/></a>"
      ]
    },
    {
      "cell_type": "code",
      "source": [
        "!git clone https://github.com/forouzanfallah/Fault-Tolerant-Control-Systems-TA-Class-Material.git"
      ],
      "metadata": {
        "id": "-SaVU7FwF3iQ",
        "outputId": "14ffb504-365f-4198-c0c8-14ef1eadf4cf",
        "colab": {
          "base_uri": "https://localhost:8080/"
        }
      },
      "execution_count": 3,
      "outputs": [
        {
          "output_type": "stream",
          "name": "stdout",
          "text": [
            "fatal: destination path 'Fault-Tolerant-Control-Systems-TA-Class-Material' already exists and is not an empty directory.\n"
          ]
        }
      ]
    },
    {
      "cell_type": "markdown",
      "metadata": {
        "id": "QkevrK5T5-jv"
      },
      "source": [
        "#Libraries"
      ]
    },
    {
      "cell_type": "code",
      "metadata": {
        "id": "RESeqbWe6Chu"
      },
      "source": [
        "from google.colab import drive\n",
        "import pandas as pd\n",
        "import numpy as np\n",
        "import matplotlib.pyplot as plt\n",
        "from sklearn.decomposition import PCA\n",
        "from sklearn.preprocessing import MinMaxScaler\n",
        "from sklearn.datasets import load_digits\n",
        "from sklearn.decomposition import FastICA\n",
        "from sklearn.cross_decomposition import PLSRegression\n",
        "from sklearn.discriminant_analysis import LinearDiscriminantAnalysis"
      ],
      "execution_count": 4,
      "outputs": []
    },
    {
      "cell_type": "markdown",
      "metadata": {
        "id": "XNVJbioFRPAc"
      },
      "source": [
        "#DATA"
      ]
    },
    {
      "cell_type": "markdown",
      "metadata": {
        "id": "xd8K40ol0OVC"
      },
      "source": [
        "upload the data in the colab or link to the google drive"
      ]
    },
    {
      "cell_type": "code",
      "metadata": {
        "id": "pGd8WgHO0mcT"
      },
      "source": [
        "drive.mount('/content/gdrive')"
      ],
      "execution_count": null,
      "outputs": []
    },
    {
      "cell_type": "code",
      "metadata": {
        "id": "MlllOlVlRR9z"
      },
      "source": [
        "data_train = pd.read_excel(\"/content/Fault-Tolerant-Control-Systems-TA-Class-Material/dataset/Fault 1-20  train (20x960x52).xlsx\",header=None)\n",
        "data_test = pd.read_excel(\"/content/Fault-Tolerant-Control-Systems-TA-Class-Material/dataset/Fault 1-20  test  (20x960x52).xlsx\")\n",
        "# X = pd.read_csv(\"/content/myfile.csv\")\n",
        "# X = pd.read_table(\"/content/myfile.dat\")"
      ],
      "execution_count": 22,
      "outputs": []
    },
    {
      "cell_type": "code",
      "source": [
        "X_train = data_train.iloc[:,4:]\n",
        "X_test = data_test.iloc[:,4:]\n",
        "y_train = data_train.iloc[:,1]\n",
        "y_test = data_test.iloc[:,1]"
      ],
      "metadata": {
        "id": "QDkGAsKuY9A7"
      },
      "execution_count": 30,
      "outputs": []
    },
    {
      "cell_type": "code",
      "source": [
        "print(X_train)\n",
        "print(X_test)\n",
        "print(y_train)\n",
        "print(y_test)"
      ],
      "metadata": {
        "outputId": "d1373b0f-d596-4597-e619-c6edf169efb3",
        "colab": {
          "base_uri": "https://localhost:8080/"
        },
        "id": "U5LJTA70Y9A8"
      },
      "execution_count": 31,
      "outputs": [
        {
          "output_type": "stream",
          "name": "stdout",
          "text": [
            "           4       5       6       7   ...      52      53      54      55\n",
            "0     0.25038  3674.0  4529.0  9.2320  ...  47.757  47.510  41.258  18.447\n",
            "1     0.25109  3659.4  4556.6  9.4264  ...  43.692  47.427  41.359  17.194\n",
            "2     0.25038  3660.3  4477.8  9.4426  ...  46.699  47.468  41.199  20.530\n",
            "3     0.24977  3661.3  4512.1  9.4776  ...  47.541  47.658  41.643  18.089\n",
            "4     0.29405  3679.0  4497.0  9.3381  ...  47.645  47.346  41.507  18.461\n",
            "...       ...     ...     ...     ...  ...     ...     ...     ...     ...\n",
            "9995  0.20006  3708.5  4497.7  9.2167  ...  44.981  48.511  41.290  21.141\n",
            "9996  0.31328  3666.5  4483.6  9.2536  ...  46.823  48.597  41.941  18.724\n",
            "9997  0.31186  3674.1  4480.6  9.2912  ...  45.048  48.664  41.112  16.435\n",
            "9998  0.30026  3690.1  4519.3  9.2301  ...  43.100  48.896  41.682  18.685\n",
            "9999  0.30233  3719.6  4528.8  9.3472  ...  46.241  48.927  40.377  20.561\n",
            "\n",
            "[10000 rows x 52 columns]\n",
            "       xmeas_1  xmeas_2  xmeas_3  xmeas_4  ...   xmv_8   xmv_9  xmv_10  xmv_11\n",
            "0      0.25171   3672.4   4466.3   9.5122  ...  47.955  47.300  42.100  15.345\n",
            "1      0.25234   3642.2   4568.7   9.4145  ...  45.038  47.502  40.553  16.063\n",
            "2      0.24840   3643.1   4507.5   9.2901  ...  44.553  47.479  41.341  20.452\n",
            "3      0.25153   3628.3   4519.3   9.3347  ...  48.048  47.440  40.780  17.123\n",
            "4      0.21763   3655.8   4571.0   9.3087  ...  44.678  47.530  41.089  18.681\n",
            "...        ...      ...      ...      ...  ...     ...     ...     ...     ...\n",
            "19195  0.27389   3638.5   4512.7   9.3480  ...  48.834  49.969  42.244  16.814\n",
            "19196  0.25405   3656.7   4490.2   9.3897  ...  50.203  50.270  41.264  17.765\n",
            "19197  0.25664   3645.5   4506.3   9.4222  ...  42.912  50.497  41.720  20.372\n",
            "19198  0.21993   3686.1   4507.0   9.3934  ...  47.052  50.774  40.902  20.166\n",
            "19199  0.22310   3664.2   4482.3   9.4352  ...  42.506  50.860  41.354  18.606\n",
            "\n",
            "[19200 rows x 52 columns]\n",
            "0        1\n",
            "1        1\n",
            "2        1\n",
            "3        1\n",
            "4        1\n",
            "        ..\n",
            "9995    20\n",
            "9996    20\n",
            "9997    20\n",
            "9998    20\n",
            "9999    20\n",
            "Name: 1, Length: 10000, dtype: int64\n",
            "0         1\n",
            "1         1\n",
            "2         1\n",
            "3         1\n",
            "4         1\n",
            "         ..\n",
            "19195    20\n",
            "19196    20\n",
            "19197    20\n",
            "19198    20\n",
            "19199    20\n",
            "Name: faultNumber, Length: 19200, dtype: int64\n"
          ]
        }
      ]
    },
    {
      "cell_type": "code",
      "source": [
        "X_train = data_train.iloc[:,4:].values\n",
        "X_test = data_test.iloc[:,4:].values\n",
        "y_train = data_train.iloc[:,1].values\n",
        "y_test = data_test.iloc[:,1].values"
      ],
      "metadata": {
        "id": "-DLPi6voYg-A"
      },
      "execution_count": 32,
      "outputs": []
    },
    {
      "cell_type": "code",
      "source": [
        "print(X_train)\n",
        "print(X_test)\n",
        "print(y_train)\n",
        "print(y_test)"
      ],
      "metadata": {
        "colab": {
          "base_uri": "https://localhost:8080/"
        },
        "id": "hT0TK-BEYoxq",
        "outputId": "083e1d48-6372-4035-874f-eaa311a4cc7d"
      },
      "execution_count": 33,
      "outputs": [
        {
          "output_type": "stream",
          "name": "stdout",
          "text": [
            "[[2.5038e-01 3.6740e+03 4.5290e+03 ... 4.7510e+01 4.1258e+01 1.8447e+01]\n",
            " [2.5109e-01 3.6594e+03 4.5566e+03 ... 4.7427e+01 4.1359e+01 1.7194e+01]\n",
            " [2.5038e-01 3.6603e+03 4.4778e+03 ... 4.7468e+01 4.1199e+01 2.0530e+01]\n",
            " ...\n",
            " [3.1186e-01 3.6741e+03 4.4806e+03 ... 4.8664e+01 4.1112e+01 1.6435e+01]\n",
            " [3.0026e-01 3.6901e+03 4.5193e+03 ... 4.8896e+01 4.1682e+01 1.8685e+01]\n",
            " [3.0233e-01 3.7196e+03 4.5288e+03 ... 4.8927e+01 4.0377e+01 2.0561e+01]]\n",
            "[[2.5171e-01 3.6724e+03 4.4663e+03 ... 4.7300e+01 4.2100e+01 1.5345e+01]\n",
            " [2.5234e-01 3.6422e+03 4.5687e+03 ... 4.7502e+01 4.0553e+01 1.6063e+01]\n",
            " [2.4840e-01 3.6431e+03 4.5075e+03 ... 4.7479e+01 4.1341e+01 2.0452e+01]\n",
            " ...\n",
            " [2.5664e-01 3.6455e+03 4.5063e+03 ... 5.0497e+01 4.1720e+01 2.0372e+01]\n",
            " [2.1993e-01 3.6861e+03 4.5070e+03 ... 5.0774e+01 4.0902e+01 2.0166e+01]\n",
            " [2.2310e-01 3.6642e+03 4.4823e+03 ... 5.0860e+01 4.1354e+01 1.8606e+01]]\n",
            "[ 1  1  1 ... 20 20 20]\n",
            "[ 1  1  1 ... 20 20 20]\n"
          ]
        }
      ]
    },
    {
      "cell_type": "code",
      "source": [
        "from sklearn.preprocessing import StandardScaler\n",
        "scaler = StandardScaler()\n",
        "scaler.fit(X_train)\n",
        "X_train_scaled = scaler.transform(X_train)\n",
        "X_test_scaled = scaler.transform(X_test)"
      ],
      "metadata": {
        "id": "HDCfujwmaH2O"
      },
      "execution_count": 56,
      "outputs": []
    },
    {
      "cell_type": "code",
      "source": [
        "X_train_scaled"
      ],
      "metadata": {
        "id": "GjIDNEB-aPW9",
        "outputId": "1b0739da-912c-49eb-e7ab-10eda19aa4ec",
        "colab": {
          "base_uri": "https://localhost:8080/"
        }
      },
      "execution_count": 35,
      "outputs": [
        {
          "output_type": "execute_result",
          "data": {
            "text/plain": [
              "array([[-0.10849939,  0.30383548,  0.22161119, ..., -0.23169863,\n",
              "        -0.1924446 , -0.15883305],\n",
              "       [-0.10366818, -0.04177724,  0.48207145, ..., -0.23656   ,\n",
              "        -0.18180454, -0.314138  ],\n",
              "       [-0.10849939, -0.02047235, -0.26156145, ..., -0.2341586 ,\n",
              "        -0.19866007,  0.09934749],\n",
              "       ...,\n",
              "       [ 0.30984218,  0.3062027 , -0.23513795, ..., -0.16410804,\n",
              "        -0.20782527, -0.40821339],\n",
              "       [ 0.23090981,  0.68495637,  0.13007262, ..., -0.15051964,\n",
              "        -0.14777742, -0.12933379],\n",
              "       [ 0.24499516,  1.38328345,  0.2197238 , ..., -0.14870394,\n",
              "        -0.2852554 ,  0.10318983]])"
            ]
          },
          "metadata": {},
          "execution_count": 35
        }
      ]
    },
    {
      "cell_type": "markdown",
      "metadata": {
        "id": "yDvXfqSLRB8E"
      },
      "source": [
        "#Preprocessing"
      ]
    },
    {
      "cell_type": "code",
      "metadata": {
        "id": "N5X3zJMg2BsJ"
      },
      "source": [
        "X.head()"
      ],
      "execution_count": null,
      "outputs": []
    },
    {
      "cell_type": "code",
      "metadata": {
        "id": "SeN7xAhV2VnC"
      },
      "source": [
        "X.describe()"
      ],
      "execution_count": null,
      "outputs": []
    },
    {
      "cell_type": "markdown",
      "metadata": {
        "id": "Ba02U0G10zCC"
      },
      "source": [
        "need for dropping any columns?"
      ]
    },
    {
      "cell_type": "code",
      "metadata": {
        "id": "Cq1b_dfcRTTq"
      },
      "source": [
        "X.drop('continent', axis=1).head() \n"
      ],
      "execution_count": null,
      "outputs": []
    },
    {
      "cell_type": "code",
      "metadata": {
        "id": "o73-8bqY24H_"
      },
      "source": [
        "x = X.iloc[:,4:]"
      ],
      "execution_count": 11,
      "outputs": []
    },
    {
      "cell_type": "markdown",
      "metadata": {
        "id": "_WJDxNaM2-25"
      },
      "source": [
        "need for plot?"
      ]
    },
    {
      "cell_type": "code",
      "metadata": {
        "id": "Y9EHZQHk2lsw",
        "outputId": "7c5456aa-3da9-48b5-f4b3-a8f998844ece",
        "colab": {
          "base_uri": "https://localhost:8080/"
        }
      },
      "source": [
        "a= x['xmeas_1'].values\n",
        "mean = np.mean(a)\n",
        "std = np.std(a)\n",
        "print(mean)\n",
        "print(std)"
      ],
      "execution_count": 13,
      "outputs": [
        {
          "output_type": "stream",
          "name": "stdout",
          "text": [
            "0.25748995164505206\n",
            "0.14282464670394282\n"
          ]
        }
      ]
    },
    {
      "cell_type": "code",
      "metadata": {
        "id": "kkEDLCb_2vMA",
        "outputId": "9db9a686-23b3-46c0-adfd-63afc37453fa",
        "colab": {
          "base_uri": "https://localhost:8080/",
          "height": 282
        }
      },
      "source": [
        "plt.plot(a, 'g-', markersize = 3)\n",
        "plt.plot(mean*np.ones(19200), 'm-', linewidth = 2)\n",
        "plt.plot((mean+3*std)*np.ones(19200))\n",
        "plt.plot((mean-3*std)*np.ones(19200))"
      ],
      "execution_count": 15,
      "outputs": [
        {
          "output_type": "execute_result",
          "data": {
            "text/plain": [
              "[<matplotlib.lines.Line2D at 0x7f0761dc6b10>]"
            ]
          },
          "metadata": {},
          "execution_count": 15
        },
        {
          "output_type": "display_data",
          "data": {
            "image/png": "[encoded data removed]",
            "text/plain": [
              "<Figure size 432x288 with 1 Axes>"
            ]
          },
          "metadata": {
            "needs_background": "light"
          }
        }
      ]
    },
    {
      "cell_type": "markdown",
      "metadata": {
        "id": "-ed7Ahhk2aVS"
      },
      "source": [
        "need for scaling?"
      ]
    },
    {
      "cell_type": "code",
      "metadata": {
        "id": "yFYAUXnwHkFG"
      },
      "source": [
        "X.drop(['faultNumber','Unnamed: 0','simulationRun','sample'],axis=1,inplace=True)\n",
        "ff = X.iloc[:1000,:3]\n",
        "df_max_scaled = ff.copy()\n",
        "from sklearn.preprocessing import StandardScaler\n",
        "scaler = StandardScaler()\n",
        "scaler.fit(ff)\n",
        "tr_s = scaler.transform(ff)"
      ],
      "execution_count": 16,
      "outputs": []
    },
    {
      "cell_type": "code",
      "metadata": {
        "id": "4Y2wFenqIFp1",
        "outputId": "cf6fd558-9c43-4f8d-8f0c-3f5803b0b323",
        "colab": {
          "base_uri": "https://localhost:8080/",
          "height": 424
        }
      },
      "source": [
        "pd.DataFrame(data=tr_s)"
      ],
      "execution_count": 17,
      "outputs": [
        {
          "output_type": "execute_result",
          "data": {
            "text/html": [
              "<div>\n",
              "<style scoped>\n",
              "    .dataframe tbody tr th:only-of-type {\n",
              "        vertical-align: middle;\n",
              "    }\n",
              "\n",
              "    .dataframe tbody tr th {\n",
              "        vertical-align: top;\n",
              "    }\n",
              "\n",
              "    .dataframe thead th {\n",
              "        text-align: right;\n",
              "    }\n",
              "</style>\n",
              "<table border=\"1\" class=\"dataframe\">\n",
              "  <thead>\n",
              "    <tr style=\"text-align: right;\">\n",
              "      <th></th>\n",
              "      <th>0</th>\n",
              "      <th>1</th>\n",
              "      <th>2</th>\n",
              "    </tr>\n",
              "  </thead>\n",
              "  <tbody>\n",
              "    <tr>\n",
              "      <th>0</th>\n",
              "      <td>-1.848779</td>\n",
              "      <td>0.269476</td>\n",
              "      <td>-0.302861</td>\n",
              "    </tr>\n",
              "    <tr>\n",
              "      <th>1</th>\n",
              "      <td>-1.845912</td>\n",
              "      <td>-0.580703</td>\n",
              "      <td>1.204673</td>\n",
              "    </tr>\n",
              "    <tr>\n",
              "      <th>2</th>\n",
              "      <td>-1.863842</td>\n",
              "      <td>-0.555366</td>\n",
              "      <td>0.303686</td>\n",
              "    </tr>\n",
              "    <tr>\n",
              "      <th>3</th>\n",
              "      <td>-1.849598</td>\n",
              "      <td>-0.972010</td>\n",
              "      <td>0.477405</td>\n",
              "    </tr>\n",
              "    <tr>\n",
              "      <th>4</th>\n",
              "      <td>-2.003870</td>\n",
              "      <td>-0.197841</td>\n",
              "      <td>1.238534</td>\n",
              "    </tr>\n",
              "    <tr>\n",
              "      <th>...</th>\n",
              "      <td>...</td>\n",
              "      <td>...</td>\n",
              "      <td>...</td>\n",
              "    </tr>\n",
              "    <tr>\n",
              "      <th>995</th>\n",
              "      <td>-1.717898</td>\n",
              "      <td>0.379267</td>\n",
              "      <td>0.578987</td>\n",
              "    </tr>\n",
              "    <tr>\n",
              "      <th>996</th>\n",
              "      <td>-2.005645</td>\n",
              "      <td>-0.597594</td>\n",
              "      <td>-0.255751</td>\n",
              "    </tr>\n",
              "    <tr>\n",
              "      <th>997</th>\n",
              "      <td>-1.990081</td>\n",
              "      <td>-0.608854</td>\n",
              "      <td>0.486239</td>\n",
              "    </tr>\n",
              "    <tr>\n",
              "      <th>998</th>\n",
              "      <td>-1.822840</td>\n",
              "      <td>-0.155614</td>\n",
              "      <td>-0.345555</td>\n",
              "    </tr>\n",
              "    <tr>\n",
              "      <th>999</th>\n",
              "      <td>-1.819836</td>\n",
              "      <td>-0.355490</td>\n",
              "      <td>-0.376471</td>\n",
              "    </tr>\n",
              "  </tbody>\n",
              "</table>\n",
              "<p>1000 rows × 3 columns</p>\n",
              "</div>"
            ],
            "text/plain": [
              "            0         1         2\n",
              "0   -1.848779  0.269476 -0.302861\n",
              "1   -1.845912 -0.580703  1.204673\n",
              "2   -1.863842 -0.555366  0.303686\n",
              "3   -1.849598 -0.972010  0.477405\n",
              "4   -2.003870 -0.197841  1.238534\n",
              "..        ...       ...       ...\n",
              "995 -1.717898  0.379267  0.578987\n",
              "996 -2.005645 -0.597594 -0.255751\n",
              "997 -1.990081 -0.608854  0.486239\n",
              "998 -1.822840 -0.155614 -0.345555\n",
              "999 -1.819836 -0.355490 -0.376471\n",
              "\n",
              "[1000 rows x 3 columns]"
            ]
          },
          "metadata": {},
          "execution_count": 17
        }
      ]
    },
    {
      "cell_type": "code",
      "metadata": {
        "id": "y1SzRUC0yfTu"
      },
      "source": [
        "# copy the data\n",
        "df_max_scaled = tr.copy()\n",
        "\n",
        "# apply normalization techniques\n",
        "for column in df_max_scaled.columns:\n",
        "\tdf_max_scaled[column] = df_max_scaled[column] / df_max_scaled[column].abs().max()\n",
        "\t\n",
        "# view normalized data\n",
        "display(df_max_scaled)\n"
      ],
      "execution_count": null,
      "outputs": []
    },
    {
      "cell_type": "code",
      "metadata": {
        "id": "RkZroMsSJ88l"
      },
      "source": [
        "hist, bins = np.histogram(fault_free['xmeas_10'], bins=100, normed=True)\n",
        "bin_centers = (bins[1:]+bins[:-1])*0.5\n",
        "plt.plot(bin_centers, hist)"
      ],
      "execution_count": null,
      "outputs": []
    },
    {
      "cell_type": "code",
      "metadata": {
        "id": "m3nOAQv7xm0m"
      },
      "source": [
        "hist, bins = np.histogram(faulty['xmeas_10'], bins=100, normed=True)\n",
        "bin_centers = (bins[1:]+bins[:-1])*0.5\n",
        "plt.plot(bin_centers, hist)"
      ],
      "execution_count": null,
      "outputs": []
    },
    {
      "cell_type": "markdown",
      "metadata": {
        "id": "RpXuLywKRGlk"
      },
      "source": [
        "#PCA"
      ]
    },
    {
      "cell_type": "markdown",
      "metadata": {
        "id": "FTL-OU9zg3NI"
      },
      "source": [
        "how to find n_components?"
      ]
    },
    {
      "cell_type": "code",
      "metadata": {
        "id": "z6zBSCJoweUM"
      },
      "source": [
        "n_components = 10 #choose the number of n-components for PCA"
      ],
      "execution_count": 36,
      "outputs": []
    },
    {
      "cell_type": "code",
      "metadata": {
        "id": "pjr7h1n2wan0"
      },
      "source": [
        "pca = PCA(n_components=n_components)"
      ],
      "execution_count": 37,
      "outputs": []
    },
    {
      "cell_type": "markdown",
      "metadata": {
        "id": "W0EUX2LGgtgA"
      },
      "source": [
        "need for loading vector?"
      ]
    },
    {
      "cell_type": "code",
      "metadata": {
        "id": "1Z4HpMBowbc0"
      },
      "source": [
        "pca.fit(X_train)"
      ],
      "execution_count": 40,
      "outputs": []
    },
    {
      "cell_type": "code",
      "metadata": {
        "id": "zB81w30cwqF0",
        "outputId": "c01d5445-e2df-4372-e93d-43bd6146e96a",
        "colab": {
          "base_uri": "https://localhost:8080/"
        }
      },
      "source": [
        "pca.fit_transform(X_train)"
      ],
      "execution_count": 39,
      "outputs": [
        {
          "output_type": "execute_result",
          "data": {
            "text/plain": [
              "array([[-35.9525397 , -14.11914375,  -4.96082722, ...,   0.56277458,\n",
              "         -0.47091743,   1.1038965 ],\n",
              "       [-43.1543175 , -35.68399717,  -0.95907186, ...,   2.23179553,\n",
              "         -0.821137  ,  -1.9618147 ],\n",
              "       [-13.34279705,  30.55626519,   8.81854759, ...,  -1.13374082,\n",
              "          0.62163764,  -1.29926128],\n",
              "       ...,\n",
              "       [-35.7671483 ,  43.01006849,  -6.54668206, ...,  22.49875203,\n",
              "          0.20357032,   4.60991586],\n",
              "       [-53.21206456,   7.84973193, -18.98506344, ...,  24.55847881,\n",
              "         -0.87233536,   2.14883194],\n",
              "       [-64.66211882,  -1.85201328, -38.00218978, ...,  27.84270111,\n",
              "         -1.12834818,   1.48228347]])"
            ]
          },
          "metadata": {},
          "execution_count": 39
        }
      ]
    },
    {
      "cell_type": "code",
      "metadata": {
        "id": "oSamgARnwsIL",
        "outputId": "8c9954a8-5a6c-48f9-a0d4-c47e154113dc",
        "colab": {
          "base_uri": "https://localhost:8080/"
        }
      },
      "source": [
        "pca.explained_variance_ratio_"
      ],
      "execution_count": 43,
      "outputs": [
        {
          "output_type": "execute_result",
          "data": {
            "text/plain": [
              "array([5.59626796e-01, 3.39545818e-01, 5.30855229e-02, 3.31202378e-02,\n",
              "       6.48593309e-03, 2.39484957e-03, 2.06909596e-03, 1.25894288e-03,\n",
              "       8.23193760e-04, 3.73138291e-04])"
            ]
          },
          "metadata": {},
          "execution_count": 43
        }
      ]
    },
    {
      "cell_type": "markdown",
      "metadata": {
        "id": "Klr-ugadgduS"
      },
      "source": [
        "need Singular Values?"
      ]
    },
    {
      "cell_type": "code",
      "metadata": {
        "id": "uHlZc5YOwuAj",
        "outputId": "fd43b187-3e5b-4395-e70f-bb90f781a9ab",
        "colab": {
          "base_uri": "https://localhost:8080/"
        }
      },
      "source": [
        "pca.singular_values_"
      ],
      "execution_count": 44,
      "outputs": [
        {
          "output_type": "execute_result",
          "data": {
            "text/plain": [
              "array([13919.1194301 , 10842.05742583,  4286.97114661,  3386.17371324,\n",
              "        1498.47238064,   910.54545273,   846.35551258,   660.18480275,\n",
              "         533.84299133,   359.41601066])"
            ]
          },
          "metadata": {},
          "execution_count": 44
        }
      ]
    },
    {
      "cell_type": "code",
      "metadata": {
        "id": "6hd8ohAiwwaE",
        "outputId": "2af983b3-35be-4fc6-b90d-f53f9662f28c",
        "colab": {
          "base_uri": "https://localhost:8080/"
        }
      },
      "source": [
        "pca.components_"
      ],
      "execution_count": 45,
      "outputs": [
        {
          "output_type": "execute_result",
          "data": {
            "text/plain": [
              "array([[-3.39644171e-04, -7.76339382e-02, -3.53456822e-01,\n",
              "         6.34359933e-04, -8.29112078e-05,  1.71180207e-04,\n",
              "         4.52679065e-01, -1.83831719e-03,  1.82403831e-05,\n",
              "        -2.62630993e-04, -1.09941579e-02,  2.73715029e-04,\n",
              "         4.47112894e-01, -2.22113925e-06, -6.06166924e-04,\n",
              "         5.01139219e-01, -1.42824560e-03,  5.45631376e-03,\n",
              "         4.29237170e-01, -2.99803740e-02,  9.40037423e-04,\n",
              "        -6.16773363e-03, -8.75164183e-03, -4.80760568e-04,\n",
              "         1.16906696e-02, -1.32195920e-04, -3.24543226e-04,\n",
              "        -3.19746482e-05, -1.29955360e-02, -6.53931994e-04,\n",
              "         1.81504113e-02, -3.46698854e-05, -1.05087891e-03,\n",
              "        -1.54259792e-04, -2.12652088e-03, -1.14609542e-03,\n",
              "         1.02682346e-06,  2.27219253e-04,  1.57732052e-05,\n",
              "         9.69807162e-04, -1.38696519e-03,  2.10250075e-03,\n",
              "        -7.54200768e-03,  9.56742554e-02,  2.14432166e-02,\n",
              "        -2.25740543e-02, -6.01516851e-02,  8.06201092e-04,\n",
              "        -1.40280422e-03,  9.23298297e-02,  5.12601457e-02,\n",
              "         4.53130607e-02],\n",
              "       [ 5.16750962e-04, -1.85403026e-01, -8.58285956e-01,\n",
              "        -7.06182383e-04,  4.27701051e-05, -3.30157923e-04,\n",
              "        -2.76076911e-01, -4.36357950e-03,  5.53444532e-05,\n",
              "        -1.03381457e-04,  5.17869168e-03,  9.42532682e-04,\n",
              "        -2.90302171e-01,  2.78190582e-03,  1.15035154e-03,\n",
              "        -2.27958537e-01,  1.09606033e-03,  5.87853109e-03,\n",
              "         9.54694062e-02, -4.21396000e-02,  1.56956208e-03,\n",
              "         7.92300905e-04, -2.37127673e-03,  8.55896945e-04,\n",
              "        -5.84180434e-03,  2.62009227e-04,  5.64251332e-03,\n",
              "         5.05628188e-04, -4.01005564e-03,  1.16076620e-03,\n",
              "        -8.33259043e-03,  5.86358194e-04,  8.38797355e-03,\n",
              "         7.00866724e-04,  1.06569535e-03,  4.40289063e-04,\n",
              "         1.07710849e-05,  4.15029678e-04,  3.17686757e-05,\n",
              "         1.47225658e-03, -1.47306365e-03, -4.01964524e-03,\n",
              "        -1.25212191e-02,  5.03724045e-02, -5.31163969e-03,\n",
              "        -1.11653782e-02, -1.22733535e-03,  2.77322309e-03,\n",
              "         2.66236321e-03,  4.86988707e-02, -5.07786571e-03,\n",
              "        -3.59742856e-03],\n",
              "       [-3.03990762e-04, -5.16918176e-01, -1.14749422e-01,\n",
              "        -7.78701057e-04, -1.07023037e-04, -1.30164718e-03,\n",
              "         1.28174864e-01,  5.57880955e-03,  6.92136698e-06,\n",
              "         1.19895276e-04, -1.82551713e-03,  1.02367169e-03,\n",
              "         1.00673993e-01,  1.66296438e-03,  1.17559008e-03,\n",
              "         2.65111474e-01, -1.27325549e-03, -3.22890554e-02,\n",
              "        -7.47097515e-01, -1.17978265e-01,  4.95360108e-03,\n",
              "        -2.32535137e-03, -1.77024041e-02,  1.52631567e-04,\n",
              "         1.39029875e-02,  4.89497628e-04,  5.51215370e-03,\n",
              "        -8.70210811e-04, -2.67558535e-02, -4.51482053e-04,\n",
              "         2.21633849e-02,  7.38885639e-04,  6.43033900e-03,\n",
              "        -1.32592607e-03, -5.63714515e-04, -3.81471352e-04,\n",
              "         1.97733101e-05,  8.63357752e-04,  3.02499741e-05,\n",
              "         1.28030736e-03, -1.77202360e-03, -3.41069519e-03,\n",
              "        -9.59952833e-03,  1.10100691e-01,  9.33300164e-03,\n",
              "        -4.30742637e-02,  3.25962839e-03,  3.01254128e-03,\n",
              "         2.72053121e-03, -1.73343568e-01,  4.35019505e-02,\n",
              "         4.07341649e-02],\n",
              "       [ 3.85194576e-04, -8.18649359e-01,  3.25099619e-01,\n",
              "        -1.46790713e-03, -2.06943742e-04, -1.18973669e-03,\n",
              "        -9.34400839e-02,  3.16461981e-03, -1.64735955e-04,\n",
              "        -2.49959136e-04, -5.65420907e-04,  2.31688803e-03,\n",
              "        -9.36397997e-02,  1.70774627e-03,  9.64722190e-04,\n",
              "        -1.18960292e-01, -5.64734588e-05,  1.76009158e-02,\n",
              "         4.21237797e-01,  3.48618647e-03,  2.86624823e-03,\n",
              "        -3.60192043e-03,  1.12565646e-03,  6.07480772e-04,\n",
              "        -2.06613565e-03,  2.84592603e-04, -4.85931822e-04,\n",
              "         6.22277969e-04,  2.86764005e-03,  6.69286913e-04,\n",
              "        -3.27004529e-03,  3.36887903e-04, -1.72720344e-03,\n",
              "         7.57977814e-04, -2.05364759e-05, -2.13801614e-05,\n",
              "        -9.57618110e-06, -3.36725958e-04,  6.49322527e-06,\n",
              "         4.94157400e-04,  1.04053003e-03, -6.29452641e-03,\n",
              "        -5.73800326e-04,  2.61961659e-02, -7.49474563e-03,\n",
              "         1.76279236e-03, -2.99188455e-02,  6.81832810e-03,\n",
              "         2.23324333e-03,  1.13446189e-01, -4.94792504e-03,\n",
              "         2.63499629e-03],\n",
              "       [ 5.12113831e-03,  1.30388272e-01,  1.21832780e-01,\n",
              "        -9.29235143e-03, -2.50352648e-04, -3.06598181e-03,\n",
              "        -1.37680258e-01,  1.71185111e-02,  3.46986091e-05,\n",
              "         1.24562696e-03,  4.39323601e-04,  1.52118944e-03,\n",
              "        -2.31753162e-01,  5.83535223e-03,  1.30721579e-03,\n",
              "         1.90037721e-01,  2.15819957e-05,  6.05576897e-03,\n",
              "         6.39639730e-02, -2.80833456e-01,  1.27468125e-02,\n",
              "        -5.04753193e-03, -3.64523347e-02,  2.55942326e-03,\n",
              "         2.15423380e-02,  1.82878156e-03,  1.29122996e-02,\n",
              "        -2.08754352e-03, -5.59874889e-02,  2.84822070e-03,\n",
              "         3.71863602e-02,  2.08641747e-03,  1.72976649e-02,\n",
              "        -3.10212419e-03, -4.21838572e-05, -2.90725038e-04,\n",
              "         5.53596641e-05,  1.19462519e-03, -1.90898863e-05,\n",
              "         2.77212996e-03, -1.81400699e-03, -3.90806411e-03,\n",
              "        -2.18943809e-02,  8.48035808e-01, -5.73489872e-02,\n",
              "        -8.71971785e-02,  1.56464359e-01,  4.47630785e-03,\n",
              "         3.02579412e-03,  1.01937408e-01,  3.99616997e-02,\n",
              "         4.31564650e-02],\n",
              "       [-1.94380369e-03, -4.76356230e-02, -2.62735093e-02,\n",
              "         1.30896120e-02,  2.43340315e-04,  1.07012108e-02,\n",
              "         3.97743876e-03, -3.83648295e-02,  7.00300975e-05,\n",
              "         7.53161185e-03,  2.06084948e-02, -1.08831150e-03,\n",
              "         2.50765541e-03, -1.00392593e-03,  1.41633156e-03,\n",
              "         1.11538439e-01,  6.07745735e-03,  2.03723342e-03,\n",
              "        -6.22040033e-04,  6.75839841e-02, -1.94156510e-03,\n",
              "         4.30452671e-02,  4.72217986e-03,  6.93019679e-03,\n",
              "        -1.11883664e-02, -1.02293628e-03,  6.11462743e-03,\n",
              "        -8.18686001e-03,  3.56459265e-03,  1.02033790e-02,\n",
              "        -2.14008656e-02,  2.44278636e-04,  1.21082938e-02,\n",
              "        -1.07588532e-02,  3.79825024e-03,  1.59405098e-03,\n",
              "        -4.21412097e-05,  3.53543475e-04, -5.70310871e-04,\n",
              "         8.21255012e-03, -8.10948405e-03, -6.36879034e-03,\n",
              "        -1.24971397e-02, -1.64320247e-01,  5.31736940e-02,\n",
              "         2.97711430e-02,  9.49742531e-01, -3.20612158e-03,\n",
              "         3.27766999e-03,  1.45827743e-01, -9.00175268e-02,\n",
              "        -1.10740398e-01],\n",
              "       [-6.68918727e-03,  4.68807349e-02,  5.31856347e-02,\n",
              "         2.87679699e-03, -1.09337466e-03, -2.71380460e-03,\n",
              "        -9.14716321e-02,  8.62695851e-03,  8.22121423e-04,\n",
              "         1.37983186e-03, -9.39467039e-03,  4.34614765e-03,\n",
              "        -3.21277317e-01,  8.77360581e-03,  2.80694143e-03,\n",
              "         2.86456049e-01, -7.95527144e-03, -1.32059692e-02,\n",
              "         7.02299353e-02, -3.34261102e-01,  2.95507418e-03,\n",
              "        -1.52316207e-02, -4.06296066e-02,  3.60781074e-03,\n",
              "         2.36352385e-02,  2.19334910e-03,  1.12417358e-02,\n",
              "        -1.80120066e-03, -5.92269351e-02,  4.65573987e-03,\n",
              "         4.09364050e-02,  2.79413121e-03,  1.50583635e-02,\n",
              "        -2.78008730e-03, -9.67084307e-04, -7.24658540e-04,\n",
              "         6.07272812e-05,  7.42987367e-04, -3.26311185e-05,\n",
              "         3.34643457e-04, -2.21029686e-03,  1.50868300e-02,\n",
              "        -6.37874614e-02, -3.63823288e-01,  2.52395443e-01,\n",
              "        -2.10044120e-01,  1.93763339e-02,  1.27910880e-02,\n",
              "         6.49673953e-03,  2.17780332e-02,  5.16040213e-01,\n",
              "         4.05226101e-01],\n",
              "       [-4.45751562e-03,  1.58680009e-02,  2.17464679e-02,\n",
              "        -8.84121258e-03,  4.22290334e-04, -1.02140168e-02,\n",
              "         2.54082740e-02,  5.48066758e-02, -1.62493636e-03,\n",
              "        -2.02058287e-03, -1.75200417e-02,  5.82921041e-03,\n",
              "        -3.23013969e-01,  1.18706302e-02,  4.28757977e-04,\n",
              "         3.39421800e-01,  5.24943608e-03, -1.73525822e-02,\n",
              "         7.96248744e-02, -4.37341865e-01,  2.96230743e-02,\n",
              "        -3.93869953e-02, -4.13277273e-02,  1.55153204e-03,\n",
              "         1.63122733e-02,  3.47753349e-03,  2.16953659e-02,\n",
              "         2.19104609e-03, -5.48932577e-02,  3.10740897e-04,\n",
              "         3.03186677e-02,  2.08438110e-03,  2.55096945e-02,\n",
              "         2.21771760e-03, -4.13399570e-03, -2.97749850e-03,\n",
              "         2.56200495e-05,  1.20408256e-03,  2.90812391e-04,\n",
              "         1.40123034e-03, -3.26682440e-03, -2.22190365e-02,\n",
              "         3.52703448e-02, -2.80791631e-01, -2.99776011e-01,\n",
              "        -7.17310019e-02, -9.87000094e-02,  1.71539355e-02,\n",
              "         9.92785771e-04, -1.14963615e-01, -5.17352648e-01,\n",
              "        -3.18476350e-01],\n",
              "       [ 2.58137193e-03, -1.41209772e-02, -1.27803385e-02,\n",
              "         7.81663940e-03, -1.22995855e-04,  7.99460508e-03,\n",
              "         2.23658939e-02, -3.45339722e-02,  3.93105740e-04,\n",
              "         2.81330531e-03,  1.63315604e-03, -1.04406294e-04,\n",
              "         3.44989795e-02, -2.33267758e-03,  4.05975853e-03,\n",
              "        -9.49420651e-02, -7.90296716e-03,  7.95071939e-03,\n",
              "         2.22280913e-01, -1.19597597e-02, -4.85824169e-03,\n",
              "         1.90824416e-02,  2.30864904e-02,  8.50836971e-04,\n",
              "        -1.97707397e-02, -1.92374859e-04, -1.53359385e-03,\n",
              "        -3.16326286e-03,  3.17085121e-02, -3.02318266e-05,\n",
              "        -2.84757795e-02,  2.08829481e-04, -2.76935980e-03,\n",
              "        -4.10395320e-03,  1.63020795e-03,  5.58281104e-04,\n",
              "        -5.96164775e-05, -6.21624143e-04, -1.64789091e-04,\n",
              "        -4.60580943e-04, -1.52366106e-03,  5.03908792e-02,\n",
              "         1.56403416e-01,  9.10712517e-02,  9.07457381e-02,\n",
              "        -1.55649247e-01,  1.74242824e-01, -2.96042179e-04,\n",
              "         9.39396598e-03, -9.10247640e-01, -1.07415783e-02,\n",
              "         8.86290954e-02],\n",
              "       [-2.47365280e-03,  4.38369885e-03,  1.06288296e-02,\n",
              "         9.27408235e-03,  8.17548892e-04,  6.93903592e-03,\n",
              "         2.18191480e-02, -5.93003398e-02, -3.50265178e-03,\n",
              "        -1.42893605e-03, -8.72717214e-03,  2.84777751e-02,\n",
              "        -8.98711118e-02, -4.78035449e-04,  6.62064506e-03,\n",
              "         5.67896256e-02,  1.48841637e-02, -1.21573539e-02,\n",
              "        -1.32215068e-02, -6.29227130e-03,  3.56456743e-02,\n",
              "         3.38254134e-02,  1.72728431e-03, -3.22528690e-03,\n",
              "         6.03373709e-03, -1.29490535e-03, -6.82942773e-03,\n",
              "         2.09329393e-03,  1.29939749e-03, -4.03005000e-03,\n",
              "         1.69018995e-03, -1.83316588e-06, -4.34952596e-03,\n",
              "         3.26226092e-03,  1.84937636e-03,  1.32193981e-03,\n",
              "         7.88759729e-05, -2.04084242e-04,  5.19672640e-05,\n",
              "         9.09671376e-04,  2.24234120e-03, -1.10687359e-02,\n",
              "        -3.82150865e-03,  6.30150360e-02,  8.93558248e-01,\n",
              "         1.76858486e-02, -1.06906346e-01,  8.38027749e-02,\n",
              "         1.53195315e-02,  5.35914245e-02, -3.75061120e-01,\n",
              "        -1.23401149e-01]])"
            ]
          },
          "metadata": {},
          "execution_count": 45
        }
      ]
    },
    {
      "cell_type": "markdown",
      "metadata": {
        "id": "g2Hg8WAi50Z2"
      },
      "source": [
        "need for find n_component from variance plot?"
      ]
    },
    {
      "cell_type": "code",
      "metadata": {
        "id": "V_CsrJDJ5eDF",
        "outputId": "4e0022db-ca4d-4047-b3c7-554cfd559e05",
        "colab": {
          "base_uri": "https://localhost:8080/",
          "height": 265
        }
      },
      "source": [
        "scaler = MinMaxScaler()\n",
        "data_rescaled = scaler.fit_transform(X_train)\n",
        "pca = PCA().fit(data_rescaled)\n",
        "# fig, ax = plt.subplots()\n",
        "y = np.cumsum(pca.explained_variance_ratio_)\n",
        "# xi = np.arange(1,y.all(), step=1)\n",
        "# f = plt.figure(figsize=(10, 10))\n",
        "# plt.ylim(0.0,1.1)\n",
        "plt.plot( y, marker='o', linestyle='--', color='g')\n",
        "# z = 0.95z*np.ones(52)\n",
        "# plt.plot(0.95*np.ones(52))\n",
        "plt.axhline(y=0.95, color='r', linestyle='-')\n",
        "\n",
        "plt.show()\n",
        "# f.savefig('component_PCA.pdf')"
      ],
      "execution_count": 50,
      "outputs": [
        {
          "output_type": "display_data",
          "data": {
            "image/png": "[encoded data removed]",
            "text/plain": [
              "<Figure size 432x288 with 1 Axes>"
            ]
          },
          "metadata": {
            "needs_background": "light"
          }
        }
      ]
    },
    {
      "cell_type": "markdown",
      "metadata": {
        "id": "1O5N9O4BhDBH"
      },
      "source": [
        "how to detect faults?"
      ]
    },
    {
      "cell_type": "markdown",
      "metadata": {
        "id": "Hc0WWzWjRIOc"
      },
      "source": [
        "#ICA"
      ]
    },
    {
      "cell_type": "markdown",
      "metadata": {
        "id": "XuugJT_ohKkC"
      },
      "source": [
        "how to find n_components?"
      ]
    },
    {
      "cell_type": "code",
      "metadata": {
        "id": "yxZyf-ajxAFD"
      },
      "source": [
        "n_components = 15 #choose the number of n-components for ICA"
      ],
      "execution_count": 58,
      "outputs": []
    },
    {
      "cell_type": "code",
      "metadata": {
        "id": "NcFu5K7Ow-ZE"
      },
      "source": [
        "transformer = FastICA(n_components=n_components,random_state=0)"
      ],
      "execution_count": 59,
      "outputs": []
    },
    {
      "cell_type": "code",
      "metadata": {
        "id": "IaGegwmiRUYq"
      },
      "source": [
        "X_transformed = transformer.fit_transform(x)"
      ],
      "execution_count": 60,
      "outputs": []
    },
    {
      "cell_type": "code",
      "source": [
        "X_transformed"
      ],
      "metadata": {
        "id": "YC56_MT4PevQ",
        "outputId": "c256dcc3-3705-4e73-b492-8f716e15b4c9",
        "colab": {
          "base_uri": "https://localhost:8080/"
        }
      },
      "execution_count": 61,
      "outputs": [
        {
          "output_type": "execute_result",
          "data": {
            "text/plain": [
              "array([[-6.17019517e-03,  2.24575125e-03, -1.45842281e-03, ...,\n",
              "         2.95545892e-03, -5.18036736e-03,  5.37501632e-04],\n",
              "       [ 8.29817480e-03, -1.55169072e-04, -1.09021338e-03, ...,\n",
              "         8.84481510e-04, -3.54191957e-03, -3.33986138e-04],\n",
              "       [ 2.82440755e-03,  9.40765694e-05, -8.66225917e-04, ...,\n",
              "        -3.06351810e-03,  1.43638265e-03,  1.62255985e-03],\n",
              "       ...,\n",
              "       [ 1.25371294e-02,  7.01022698e-04, -2.60645881e-03, ...,\n",
              "        -2.60168282e-03,  1.65569118e-03,  2.12479955e-03],\n",
              "       [-8.98346154e-03, -2.35233272e-04, -1.77511982e-03, ...,\n",
              "        -3.47547028e-03,  1.59743006e-03,  5.11670475e-04],\n",
              "       [ 3.21394784e-03,  1.55778361e-05, -2.43131587e-03, ...,\n",
              "        -1.83923911e-03, -9.41830837e-05,  1.30970722e-03]])"
            ]
          },
          "metadata": {},
          "execution_count": 61
        }
      ]
    },
    {
      "cell_type": "markdown",
      "metadata": {
        "id": "Q5R0R0iCh5TH"
      },
      "source": [
        "how to detect faults?"
      ]
    },
    {
      "cell_type": "markdown",
      "metadata": {
        "id": "29Q1lVj5RKBC"
      },
      "source": [
        "#PLS"
      ]
    },
    {
      "cell_type": "markdown",
      "metadata": {
        "id": "0ki7iBdXes0q"
      },
      "source": [
        "Create Matrix X"
      ]
    },
    {
      "cell_type": "code",
      "metadata": {
        "id": "rbtr_MdFevYD"
      },
      "source": [
        "X = "
      ],
      "execution_count": null,
      "outputs": []
    },
    {
      "cell_type": "markdown",
      "metadata": {
        "id": "PBh7lKolev0q"
      },
      "source": [
        "Create Matrix Y"
      ]
    },
    {
      "cell_type": "code",
      "metadata": {
        "id": "vo5R81SBe0ex"
      },
      "source": [
        "Y  = "
      ],
      "execution_count": null,
      "outputs": []
    },
    {
      "cell_type": "code",
      "metadata": {
        "id": "fe0CwJhp7Q2m"
      },
      "source": [
        "n_components =20 #choose the number of n-components for PLS"
      ],
      "execution_count": 51,
      "outputs": []
    },
    {
      "cell_type": "code",
      "metadata": {
        "id": "WMawrRaoRUyK"
      },
      "source": [
        "pls2 = PLSRegression(n_components=n_components)"
      ],
      "execution_count": 52,
      "outputs": []
    },
    {
      "cell_type": "code",
      "metadata": {
        "id": "G83yeYgE7eDd",
        "outputId": "3da30212-5ba8-406f-ac5f-6dc8030bfacb",
        "colab": {
          "base_uri": "https://localhost:8080/"
        }
      },
      "source": [
        "pls2.fit(X_train_scaled, y_train)"
      ],
      "execution_count": 53,
      "outputs": [
        {
          "output_type": "execute_result",
          "data": {
            "text/plain": [
              "PLSRegression(n_components=20)"
            ]
          },
          "metadata": {},
          "execution_count": 53
        }
      ]
    },
    {
      "cell_type": "markdown",
      "metadata": {
        "id": "gs31zGbQe7AJ"
      },
      "source": [
        " how to select the fault type from Y_pred? \n",
        " \n",
        " overstimate or understimate ? \n",
        " \n",
        " how to prevent?"
      ]
    },
    {
      "cell_type": "code",
      "metadata": {
        "id": "I63H94E37hXV"
      },
      "source": [
        "Y_pred = pls2.predict(X_test_scaled)"
      ],
      "execution_count": 57,
      "outputs": []
    },
    {
      "cell_type": "code",
      "source": [
        "Y_pred"
      ],
      "metadata": {
        "id": "NfKdgp9NUupP",
        "outputId": "4c195125-54c9-408d-ed38-432cc3b4f5ea",
        "colab": {
          "base_uri": "https://localhost:8080/"
        }
      },
      "execution_count": 58,
      "outputs": [
        {
          "output_type": "execute_result",
          "data": {
            "text/plain": [
              "array([[12.24642616],\n",
              "       [11.67360407],\n",
              "       [11.54678801],\n",
              "       ...,\n",
              "       [13.22421755],\n",
              "       [13.13437348],\n",
              "       [12.1043322 ]])"
            ]
          },
          "metadata": {},
          "execution_count": 58
        }
      ]
    },
    {
      "cell_type": "markdown",
      "metadata": {
        "id": "s8NSZQG4RL5D"
      },
      "source": [
        "#FDA"
      ]
    },
    {
      "cell_type": "code",
      "metadata": {
        "id": "5FV_RnyCnjTt"
      },
      "source": [
        "clf = LinearDiscriminantAnalysis()"
      ],
      "execution_count": 60,
      "outputs": []
    },
    {
      "cell_type": "code",
      "metadata": {
        "id": "vjS_jAs9AUYT",
        "outputId": "49fb0820-fc1c-4efe-9e24-842df9b26fa1",
        "colab": {
          "base_uri": "https://localhost:8080/"
        }
      },
      "source": [
        "clf.fit(X_train, y_train)"
      ],
      "execution_count": 63,
      "outputs": [
        {
          "output_type": "execute_result",
          "data": {
            "text/plain": [
              "LinearDiscriminantAnalysis()"
            ]
          },
          "metadata": {},
          "execution_count": 63
        }
      ]
    },
    {
      "cell_type": "code",
      "metadata": {
        "id": "x3ePmC2qiEFo",
        "outputId": "1ec73927-8c19-40b5-cef3-3c9b53c5663f",
        "colab": {
          "base_uri": "https://localhost:8080/"
        }
      },
      "source": [
        "clf.predict(X_test)"
      ],
      "execution_count": 64,
      "outputs": [
        {
          "output_type": "execute_result",
          "data": {
            "text/plain": [
              "array([11, 14, 11, ..., 20, 20, 20])"
            ]
          },
          "metadata": {},
          "execution_count": 64
        }
      ]
    },
    {
      "cell_type": "markdown",
      "metadata": {
        "id": "x3WEQr7sicxd"
      },
      "source": [
        "how to detect faults?"
      ]
    },
    {
      "cell_type": "markdown",
      "metadata": {
        "id": "TVqH6U2KAcqL"
      },
      "source": [
        "#Tutorial"
      ]
    },
    {
      "cell_type": "markdown",
      "metadata": {
        "id": "-Q6WntqzBNeh"
      },
      "source": [
        "##Scikit-Learn Library"
      ]
    },
    {
      "cell_type": "markdown",
      "metadata": {
        "id": "16kiNyKyAq6b"
      },
      "source": [
        "[PCA](https://scikit-learn.org/stable/modules/generated/sklearn.decomposition.PCA.html)\n",
        "\n",
        "[ICA](https://scikit-learn.org/stable/modules/generated/sklearn.decomposition.FastICA.html)\n",
        "\n",
        "[PLS](https://scikit-learn.org/stable/modules/generated/sklearn.cross_decomposition.PLSRegression.html)\n",
        "\n",
        "[FDA](https://scikit-learn.org/stable/modules/generated/sklearn.discriminant_analysis.LinearDiscriminantAnalysis.html)"
      ]
    },
    {
      "cell_type": "markdown",
      "metadata": {
        "id": "r2IXQOvXBStZ"
      },
      "source": [
        "## Theory"
      ]
    },
    {
      "cell_type": "markdown",
      "metadata": {
        "id": "qRp1Agz_BWKp"
      },
      "source": [
        "Related class powerpoints"
      ]
    }
  ]
}