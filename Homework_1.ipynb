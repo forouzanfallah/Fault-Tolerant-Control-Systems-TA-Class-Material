{
  "nbformat": 4,
  "nbformat_minor": 0,
  "metadata": {
    "colab": {
      "name": "Homework#1.ipynb",
      "provenance": [],
      "include_colab_link": true
    },
    "kernelspec": {
      "name": "python3",
      "display_name": "Python 3"
    },
    "language_info": {
      "name": "python"
    }
  },
  "cells": [
    {
      "cell_type": "markdown",
      "metadata": {
        "id": "view-in-github",
        "colab_type": "text"
      },
      "source": [
        "<a href=\"https://colab.research.google.com/github/forouzanfallah/Fault-Tolerant-Control-Systems-TA-Class-Material/blob/main/Homework_1.ipynb\" target=\"_parent\"><img src=\"https://colab.research.google.com/assets/colab-badge.svg\" alt=\"Open In Colab\"/></a>"
      ]
    },
    {
      "cell_type": "markdown",
      "metadata": {
        "id": "XNVJbioFRPAc"
      },
      "source": [
        "#DATA"
      ]
    },
    {
      "cell_type": "markdown",
      "metadata": {
        "id": "xd8K40ol0OVC"
      },
      "source": [
        "upload the data in the colab or link to the google drive"
      ]
    },
    {
      "cell_type": "code",
      "metadata": {
        "id": "pGd8WgHO0mcT"
      },
      "source": [
        "from google.colab import drive\n",
        "drive.mount('/content/gdrive')"
      ],
      "execution_count": null,
      "outputs": []
    },
    {
      "cell_type": "code",
      "metadata": {
        "id": "MlllOlVlRR9z"
      },
      "source": [
        "import pandas as pd\n",
        "X = pd.read_excel(\"/content/myfile.xlsx\")\n",
        "X = pd.read_csv(\"/content/myfile.csv\")\n",
        "X = pd.read_table(\"/content/myfile.dat\")"
      ],
      "execution_count": null,
      "outputs": []
    },
    {
      "cell_type": "markdown",
      "metadata": {
        "id": "yDvXfqSLRB8E"
      },
      "source": [
        "#Preprocessing"
      ]
    },
    {
      "cell_type": "markdown",
      "metadata": {
        "id": "Ba02U0G10zCC"
      },
      "source": [
        "need for dropping any columns?"
      ]
    },
    {
      "cell_type": "code",
      "metadata": {
        "id": "Cq1b_dfcRTTq"
      },
      "source": [
        ""
      ],
      "execution_count": null,
      "outputs": []
    },
    {
      "cell_type": "markdown",
      "metadata": {
        "id": "RpXuLywKRGlk"
      },
      "source": [
        "#PCA"
      ]
    },
    {
      "cell_type": "code",
      "metadata": {
        "id": "dImTSUqYRT76"
      },
      "source": [
        "from sklearn.decomposition import PCA"
      ],
      "execution_count": null,
      "outputs": []
    },
    {
      "cell_type": "code",
      "metadata": {
        "id": "z6zBSCJoweUM"
      },
      "source": [
        "n_components = #choose the number of n-components for PCA"
      ],
      "execution_count": null,
      "outputs": []
    },
    {
      "cell_type": "code",
      "metadata": {
        "id": "pjr7h1n2wan0"
      },
      "source": [
        "pca = PCA(n_components=n_components)"
      ],
      "execution_count": null,
      "outputs": []
    },
    {
      "cell_type": "code",
      "metadata": {
        "id": "1Z4HpMBowbc0"
      },
      "source": [
        "pca.fit(x)"
      ],
      "execution_count": null,
      "outputs": []
    },
    {
      "cell_type": "code",
      "metadata": {
        "id": "zB81w30cwqF0"
      },
      "source": [
        "b = pca.fit_transform(x)"
      ],
      "execution_count": null,
      "outputs": []
    },
    {
      "cell_type": "code",
      "metadata": {
        "id": "UHGzXhVzw2sM"
      },
      "source": [
        "b.shape"
      ],
      "execution_count": null,
      "outputs": []
    },
    {
      "cell_type": "code",
      "metadata": {
        "id": "oSamgARnwsIL"
      },
      "source": [
        "print(pca.explained_variance_ratio_)"
      ],
      "execution_count": null,
      "outputs": []
    },
    {
      "cell_type": "code",
      "metadata": {
        "id": "uHlZc5YOwuAj"
      },
      "source": [
        "print(pca.singular_values_)"
      ],
      "execution_count": null,
      "outputs": []
    },
    {
      "cell_type": "code",
      "metadata": {
        "id": "6hd8ohAiwwaE"
      },
      "source": [
        "a = pca.components_"
      ],
      "execution_count": null,
      "outputs": []
    },
    {
      "cell_type": "code",
      "metadata": {
        "id": "YfqgfUECw42o"
      },
      "source": [
        "print(pca.components_)"
      ],
      "execution_count": null,
      "outputs": []
    },
    {
      "cell_type": "code",
      "metadata": {
        "id": "QrqQlsFOw41F"
      },
      "source": [
        ""
      ],
      "execution_count": null,
      "outputs": []
    },
    {
      "cell_type": "code",
      "metadata": {
        "id": "iL-X04tewx3L"
      },
      "source": [
        "np.shape(a)"
      ],
      "execution_count": null,
      "outputs": []
    },
    {
      "cell_type": "markdown",
      "metadata": {
        "id": "Hc0WWzWjRIOc"
      },
      "source": [
        "#ICA"
      ]
    },
    {
      "cell_type": "code",
      "metadata": {
        "id": "ZA6rCzrIw880"
      },
      "source": [
        "from sklearn.datasets import load_digits\n",
        "from sklearn.decomposition import FastICA"
      ],
      "execution_count": null,
      "outputs": []
    },
    {
      "cell_type": "code",
      "metadata": {
        "id": "yxZyf-ajxAFD"
      },
      "source": [
        "n_components = #choose the number of n-components for ICA"
      ],
      "execution_count": null,
      "outputs": []
    },
    {
      "cell_type": "code",
      "metadata": {
        "id": "NcFu5K7Ow-ZE"
      },
      "source": [
        "transformer = FastICA(n_components=n_components,random_state=0)"
      ],
      "execution_count": null,
      "outputs": []
    },
    {
      "cell_type": "code",
      "metadata": {
        "id": "IaGegwmiRUYq"
      },
      "source": [
        "X_transformed = transformer.fit_transform(x)"
      ],
      "execution_count": null,
      "outputs": []
    },
    {
      "cell_type": "markdown",
      "metadata": {
        "id": "29Q1lVj5RKBC"
      },
      "source": [
        "#PLS"
      ]
    },
    {
      "cell_type": "code",
      "metadata": {
        "id": "WMawrRaoRUyK"
      },
      "source": [
        ""
      ],
      "execution_count": null,
      "outputs": []
    },
    {
      "cell_type": "markdown",
      "metadata": {
        "id": "s8NSZQG4RL5D"
      },
      "source": [
        "#FDA"
      ]
    },
    {
      "cell_type": "code",
      "metadata": {
        "id": "5FV_RnyCnjTt"
      },
      "source": [
        ""
      ],
      "execution_count": null,
      "outputs": []
    }
  ]
}