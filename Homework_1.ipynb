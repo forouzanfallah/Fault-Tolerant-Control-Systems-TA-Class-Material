{
  "nbformat": 4,
  "nbformat_minor": 0,
  "metadata": {
    "colab": {
      "name": "Homework#1.ipynb",
      "provenance": [],
      "collapsed_sections": [
        "XNVJbioFRPAc",
        "yDvXfqSLRB8E",
        "RpXuLywKRGlk",
        "Hc0WWzWjRIOc"
      ],
      "include_colab_link": true
    },
    "kernelspec": {
      "name": "python3",
      "display_name": "Python 3"
    },
    "language_info": {
      "name": "python"
    }
  },
  "cells": [
    {
      "cell_type": "markdown",
      "metadata": {
        "id": "view-in-github",
        "colab_type": "text"
      },
      "source": [
        "<a href=\"https://colab.research.google.com/github/forouzanfallah/Fault-Tolerant-Control-Systems-TA-Class-Material/blob/main/Homework_1.ipynb\" target=\"_parent\"><img src=\"https://colab.research.google.com/assets/colab-badge.svg\" alt=\"Open In Colab\"/></a>"
      ]
    },
    {
      "cell_type": "markdown",
      "metadata": {
        "id": "QkevrK5T5-jv"
      },
      "source": [
        "#Libraries"
      ]
    },
    {
      "cell_type": "code",
      "metadata": {
        "id": "RESeqbWe6Chu"
      },
      "source": [
        "from google.colab import drive\n",
        "import pandas as pd\n",
        "import numpy as np\n",
        "import matplotlib.pyplot as plt\n",
        "from sklearn.decomposition import PCA\n",
        "from sklearn.preprocessing import MinMaxScaler\n",
        "from sklearn.datasets import load_digits\n",
        "from sklearn.decomposition import FastICA\n",
        "from sklearn.cross_decomposition import PLSRegression\n",
        "from sklearn.discriminant_analysis import LinearDiscriminantAnalysis"
      ],
      "execution_count": null,
      "outputs": []
    },
    {
      "cell_type": "markdown",
      "metadata": {
        "id": "XNVJbioFRPAc"
      },
      "source": [
        "#DATA"
      ]
    },
    {
      "cell_type": "markdown",
      "metadata": {
        "id": "xd8K40ol0OVC"
      },
      "source": [
        "upload the data in the colab or link to the google drive"
      ]
    },
    {
      "cell_type": "code",
      "metadata": {
        "id": "pGd8WgHO0mcT"
      },
      "source": [
        "drive.mount('/content/gdrive')"
      ],
      "execution_count": null,
      "outputs": []
    },
    {
      "cell_type": "code",
      "metadata": {
        "id": "MlllOlVlRR9z"
      },
      "source": [
        "X = pd.read_excel(\"/content/myfile.xlsx\")\n",
        "X = pd.read_csv(\"/content/myfile.csv\")\n",
        "X = pd.read_table(\"/content/myfile.dat\")"
      ],
      "execution_count": null,
      "outputs": []
    },
    {
      "cell_type": "markdown",
      "metadata": {
        "id": "yDvXfqSLRB8E"
      },
      "source": [
        "#Preprocessing"
      ]
    },
    {
      "cell_type": "code",
      "metadata": {
        "id": "N5X3zJMg2BsJ"
      },
      "source": [
        "X.head()"
      ],
      "execution_count": null,
      "outputs": []
    },
    {
      "cell_type": "code",
      "metadata": {
        "id": "SeN7xAhV2VnC"
      },
      "source": [
        "X.describe()"
      ],
      "execution_count": null,
      "outputs": []
    },
    {
      "cell_type": "markdown",
      "metadata": {
        "id": "Ba02U0G10zCC"
      },
      "source": [
        "need for dropping any columns?"
      ]
    },
    {
      "cell_type": "code",
      "metadata": {
        "id": "Cq1b_dfcRTTq"
      },
      "source": [
        "X.drop('continent', axis=1).head() \n"
      ],
      "execution_count": null,
      "outputs": []
    },
    {
      "cell_type": "code",
      "metadata": {
        "id": "o73-8bqY24H_"
      },
      "source": [
        "x = X.iloc[:,:]"
      ],
      "execution_count": null,
      "outputs": []
    },
    {
      "cell_type": "markdown",
      "metadata": {
        "id": "_WJDxNaM2-25"
      },
      "source": [
        "need for plot?"
      ]
    },
    {
      "cell_type": "code",
      "metadata": {
        "id": "Y9EHZQHk2lsw"
      },
      "source": [
        "a= x['xmeas_1'].values\n",
        "mean = np.mean(a)\n",
        "std = np.std(a)\n",
        "print(mean)\n",
        "print(std)"
      ],
      "execution_count": null,
      "outputs": []
    },
    {
      "cell_type": "code",
      "metadata": {
        "id": "kkEDLCb_2vMA"
      },
      "source": [
        "plt.plot(a, 'g-', markersize = 3)\n",
        "plt.plot(mean*np.ones(500000), 'm-', linewidth = 2)\n",
        "plt.plot((mean+3*std)*np.ones(500000))\n",
        "plt.plot((mean-3*std)*np.ones(500000))"
      ],
      "execution_count": null,
      "outputs": []
    },
    {
      "cell_type": "markdown",
      "metadata": {
        "id": "-ed7Ahhk2aVS"
      },
      "source": [
        "need for scaling?"
      ]
    },
    {
      "cell_type": "code",
      "metadata": {
        "id": "yFYAUXnwHkFG"
      },
      "source": [
        "fault_free.drop(['faultNumber','Unnamed: 0','simulationRun','sample'],axis=1,inplace=True)\n",
        "ff = fault_free.iloc[:1000,:3]\n",
        "df_max_scaled = ff.copy()\n",
        "from sklearn.preprocessing import StandardScaler\n",
        "scaler = StandardScaler()\n",
        "scaler.fit(ff)\n",
        "tr_s = scaler.transform(ff)"
      ],
      "execution_count": null,
      "outputs": []
    },
    {
      "cell_type": "code",
      "metadata": {
        "id": "4Y2wFenqIFp1"
      },
      "source": [
        "pd.DataFrame(data=tr_s)"
      ],
      "execution_count": null,
      "outputs": []
    },
    {
      "cell_type": "code",
      "metadata": {
        "id": "y1SzRUC0yfTu"
      },
      "source": [
        "# copy the data\n",
        "df_max_scaled = tr.copy()\n",
        "\n",
        "# apply normalization techniques\n",
        "for column in df_max_scaled.columns:\n",
        "\tdf_max_scaled[column] = df_max_scaled[column] / df_max_scaled[column].abs().max()\n",
        "\t\n",
        "# view normalized data\n",
        "display(df_max_scaled)\n"
      ],
      "execution_count": null,
      "outputs": []
    },
    {
      "cell_type": "code",
      "metadata": {
        "id": "RkZroMsSJ88l"
      },
      "source": [
        "hist, bins = np.histogram(fault_free['xmeas_10'], bins=100, normed=True)\n",
        "bin_centers = (bins[1:]+bins[:-1])*0.5\n",
        "plt.plot(bin_centers, hist)"
      ],
      "execution_count": null,
      "outputs": []
    },
    {
      "cell_type": "code",
      "metadata": {
        "id": "m3nOAQv7xm0m"
      },
      "source": [
        "hist, bins = np.histogram(faulty['xmeas_10'], bins=100, normed=True)\n",
        "bin_centers = (bins[1:]+bins[:-1])*0.5\n",
        "plt.plot(bin_centers, hist)"
      ],
      "execution_count": null,
      "outputs": []
    },
    {
      "cell_type": "markdown",
      "metadata": {
        "id": "RpXuLywKRGlk"
      },
      "source": [
        "#PCA"
      ]
    },
    {
      "cell_type": "markdown",
      "metadata": {
        "id": "FTL-OU9zg3NI"
      },
      "source": [
        "how to find n_components?"
      ]
    },
    {
      "cell_type": "code",
      "metadata": {
        "id": "z6zBSCJoweUM"
      },
      "source": [
        "n_components = #choose the number of n-components for PCA"
      ],
      "execution_count": null,
      "outputs": []
    },
    {
      "cell_type": "code",
      "metadata": {
        "id": "pjr7h1n2wan0"
      },
      "source": [
        "pca = PCA(n_components=n_components)"
      ],
      "execution_count": null,
      "outputs": []
    },
    {
      "cell_type": "markdown",
      "metadata": {
        "id": "W0EUX2LGgtgA"
      },
      "source": [
        "need for loading vector?"
      ]
    },
    {
      "cell_type": "code",
      "metadata": {
        "id": "1Z4HpMBowbc0"
      },
      "source": [
        " a = pca.fit(x)"
      ],
      "execution_count": null,
      "outputs": []
    },
    {
      "cell_type": "code",
      "metadata": {
        "id": "ySPMHv1Ygsu7"
      },
      "source": [
        "a"
      ],
      "execution_count": null,
      "outputs": []
    },
    {
      "cell_type": "code",
      "metadata": {
        "id": "zB81w30cwqF0"
      },
      "source": [
        "b = pca.fit_transform(x)"
      ],
      "execution_count": null,
      "outputs": []
    },
    {
      "cell_type": "code",
      "metadata": {
        "id": "UHGzXhVzw2sM"
      },
      "source": [
        "b.shape"
      ],
      "execution_count": null,
      "outputs": []
    },
    {
      "cell_type": "code",
      "metadata": {
        "id": "oSamgARnwsIL"
      },
      "source": [
        "pca.explained_variance_ratio_"
      ],
      "execution_count": null,
      "outputs": []
    },
    {
      "cell_type": "markdown",
      "metadata": {
        "id": "Klr-ugadgduS"
      },
      "source": [
        "need Singular Values?"
      ]
    },
    {
      "cell_type": "code",
      "metadata": {
        "id": "uHlZc5YOwuAj"
      },
      "source": [
        "pca.singular_values_"
      ],
      "execution_count": null,
      "outputs": []
    },
    {
      "cell_type": "code",
      "metadata": {
        "id": "6hd8ohAiwwaE"
      },
      "source": [
        "a = pca.components_"
      ],
      "execution_count": null,
      "outputs": []
    },
    {
      "cell_type": "code",
      "metadata": {
        "id": "YfqgfUECw42o"
      },
      "source": [
        "print(pca.components_)"
      ],
      "execution_count": null,
      "outputs": []
    },
    {
      "cell_type": "code",
      "metadata": {
        "id": "iL-X04tewx3L"
      },
      "source": [
        "np.shape(a)"
      ],
      "execution_count": null,
      "outputs": []
    },
    {
      "cell_type": "markdown",
      "metadata": {
        "id": "g2Hg8WAi50Z2"
      },
      "source": [
        "need for find n_component from variance plot?"
      ]
    },
    {
      "cell_type": "code",
      "metadata": {
        "id": "V_CsrJDJ5eDF"
      },
      "source": [
        "df = pd.read_csv('/content/myfile.csv')\n",
        "X = df.iloc[:, :-1].values\n",
        "y = df.iloc[:, -1].values\n",
        "scaler = MinMaxScaler()\n",
        "data_rescaled = scaler.fit_transform(X)\n",
        "\n",
        "pca = PCA().fit(data_rescaled)\n",
        "\n",
        "fig, ax = plt.subplots()\n",
        "y = np.cumsum(pca.explained_variance_ratio_)\n",
        "xi = np.arange(1, y, step=1)\n",
        "f = plt.figure(figsize=(10, 10))\n",
        "plt.ylim(0.0,1.1)\n",
        "plt.plot(xi, y, marker='o', linestyle='--', color='b')\n",
        "\n",
        "plt.axhline(y=0.95, color='r', linestyle='-')\n",
        "plt.show()\n",
        "f.savefig('component_PCA.pdf')"
      ],
      "execution_count": null,
      "outputs": []
    },
    {
      "cell_type": "markdown",
      "metadata": {
        "id": "1O5N9O4BhDBH"
      },
      "source": [
        "how to detect faults?"
      ]
    },
    {
      "cell_type": "markdown",
      "metadata": {
        "id": "Hc0WWzWjRIOc"
      },
      "source": [
        "#ICA"
      ]
    },
    {
      "cell_type": "markdown",
      "metadata": {
        "id": "XuugJT_ohKkC"
      },
      "source": [
        "how to find n_components?"
      ]
    },
    {
      "cell_type": "code",
      "metadata": {
        "id": "yxZyf-ajxAFD"
      },
      "source": [
        "n_components = #choose the number of n-components for ICA"
      ],
      "execution_count": null,
      "outputs": []
    },
    {
      "cell_type": "code",
      "metadata": {
        "id": "NcFu5K7Ow-ZE"
      },
      "source": [
        "transformer = FastICA(n_components=n_components,random_state=0)"
      ],
      "execution_count": null,
      "outputs": []
    },
    {
      "cell_type": "code",
      "metadata": {
        "id": "IaGegwmiRUYq"
      },
      "source": [
        "X_transformed = transformer.fit_transform(x)"
      ],
      "execution_count": null,
      "outputs": []
    },
    {
      "cell_type": "markdown",
      "metadata": {
        "id": "Q5R0R0iCh5TH"
      },
      "source": [
        "how to detect faults?"
      ]
    },
    {
      "cell_type": "markdown",
      "metadata": {
        "id": "29Q1lVj5RKBC"
      },
      "source": [
        "#PLS"
      ]
    },
    {
      "cell_type": "markdown",
      "metadata": {
        "id": "0ki7iBdXes0q"
      },
      "source": [
        "Create Matrix X"
      ]
    },
    {
      "cell_type": "code",
      "metadata": {
        "id": "rbtr_MdFevYD"
      },
      "source": [
        "X = "
      ],
      "execution_count": null,
      "outputs": []
    },
    {
      "cell_type": "markdown",
      "metadata": {
        "id": "PBh7lKolev0q"
      },
      "source": [
        "Create Matrix Y"
      ]
    },
    {
      "cell_type": "code",
      "metadata": {
        "id": "vo5R81SBe0ex"
      },
      "source": [
        "Y  = "
      ],
      "execution_count": null,
      "outputs": []
    },
    {
      "cell_type": "code",
      "metadata": {
        "id": "fe0CwJhp7Q2m"
      },
      "source": [
        "n_components = #choose the number of n-components for PLS"
      ],
      "execution_count": null,
      "outputs": []
    },
    {
      "cell_type": "code",
      "metadata": {
        "id": "WMawrRaoRUyK"
      },
      "source": [
        "pls2 = PLSRegression(n_components=n_components)"
      ],
      "execution_count": null,
      "outputs": []
    },
    {
      "cell_type": "code",
      "metadata": {
        "id": "G83yeYgE7eDd"
      },
      "source": [
        "pls2.fit(X, Y)"
      ],
      "execution_count": null,
      "outputs": []
    },
    {
      "cell_type": "markdown",
      "metadata": {
        "id": "gs31zGbQe7AJ"
      },
      "source": [
        " how to select the fault type from Y_pred? \n",
        " \n",
        " overstimate or understimate ? \n",
        " \n",
        " how to prevent?"
      ]
    },
    {
      "cell_type": "code",
      "metadata": {
        "id": "I63H94E37hXV"
      },
      "source": [
        "Y_pred = pls2.predict(X)"
      ],
      "execution_count": null,
      "outputs": []
    },
    {
      "cell_type": "markdown",
      "metadata": {
        "id": "s8NSZQG4RL5D"
      },
      "source": [
        "#FDA"
      ]
    },
    {
      "cell_type": "code",
      "metadata": {
        "id": "5FV_RnyCnjTt"
      },
      "source": [
        "clf = LinearDiscriminantAnalysis()"
      ],
      "execution_count": null,
      "outputs": []
    },
    {
      "cell_type": "code",
      "metadata": {
        "id": "vjS_jAs9AUYT"
      },
      "source": [
        "clf.fit(X, y)"
      ],
      "execution_count": null,
      "outputs": []
    },
    {
      "cell_type": "code",
      "metadata": {
        "id": "x3ePmC2qiEFo"
      },
      "source": [
        "clf.predict(X_test)"
      ],
      "execution_count": null,
      "outputs": []
    },
    {
      "cell_type": "markdown",
      "metadata": {
        "id": "x3WEQr7sicxd"
      },
      "source": [
        "how to detect faults?"
      ]
    },
    {
      "cell_type": "markdown",
      "metadata": {
        "id": "TVqH6U2KAcqL"
      },
      "source": [
        "#Tutorial"
      ]
    },
    {
      "cell_type": "markdown",
      "metadata": {
        "id": "-Q6WntqzBNeh"
      },
      "source": [
        "##Scikit-Learn Library"
      ]
    },
    {
      "cell_type": "markdown",
      "metadata": {
        "id": "16kiNyKyAq6b"
      },
      "source": [
        "[PCA](https://scikit-learn.org/stable/modules/generated/sklearn.decomposition.PCA.html)\n",
        "\n",
        "[ICA](https://scikit-learn.org/stable/modules/generated/sklearn.decomposition.FastICA.html)\n",
        "\n",
        "[PLS](https://scikit-learn.org/stable/modules/generated/sklearn.cross_decomposition.PLSRegression.html)\n",
        "\n",
        "[FDA](https://scikit-learn.org/stable/modules/generated/sklearn.discriminant_analysis.LinearDiscriminantAnalysis.html)"
      ]
    },
    {
      "cell_type": "markdown",
      "metadata": {
        "id": "r2IXQOvXBStZ"
      },
      "source": [
        "## Theory"
      ]
    },
    {
      "cell_type": "markdown",
      "metadata": {
        "id": "qRp1Agz_BWKp"
      },
      "source": [
        "Related class powerpoints"
      ]
    }
  ]
}